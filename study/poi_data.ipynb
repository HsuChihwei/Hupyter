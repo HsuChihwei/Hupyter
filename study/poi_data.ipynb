{
 "cells": [
  {
   "cell_type": "code",
   "execution_count": 12,
   "metadata": {},
   "outputs": [],
   "source": [
    "import json\n",
    "import codecs\n",
    "import os\n",
    "import requests\n",
    "# import sys\n",
    "import time\n",
    "# reload(sys)\n",
    "# sys.setdefaultencoding('utf8')\n",
    "\n",
    "BAIDU_AK = \"duzy3ZKbuSARjof2clCzz3m1SAAKOaDe\"\n",
    "\n",
    "class BaiduPOI(object):\n",
    "    def __init__(self, tag, loc):\n",
    "        self.tag = tag\n",
    "        self.loc = loc\n",
    "        self.ak = BAIDU_AK\n",
    "        self.urls = self._urls()\n",
    "\n",
    "    def _urls(self):\n",
    "        urls = []\n",
    "        for page in range(0, 20):\n",
    "            url = f\"http://api.map.baidu.com/place/v2/search?query={self.tag}&bounds={self.loc}&page_size=20&page_num={page}&output=json&ak={self.ak}\"\n",
    "            urls.append(url)\n",
    "        return urls\n",
    "\n",
    "    def search(self):\n",
    "        json_sel = []\n",
    "        for url in self.urls:\n",
    "            resp = requests.get(url)\n",
    "            data = resp.json()\n",
    "            result = data.get('results', [])\n",
    "            if not data:\n",
    "                break\n",
    "            for item in data['results']:\n",
    "                import pdb\n",
    "                jname = item[\"name\"]\n",
    "                jlat = item[\"location\"][\"lat\"]\n",
    "                jlng = item[\"location\"][\"lng\"]\n",
    "                js_sel = jname + ',' + str(jlat) + ',' + str(jlng)\n",
    "                json_sel.append(js_sel)\n",
    "        return json_sel"
   ]
  },
  {
   "cell_type": "code",
   "execution_count": 13,
   "metadata": {},
   "outputs": [],
   "source": [
    "class LocaDiv(object):\n",
    "    def __init__(self, loc_all):\n",
    "        self.loc_all = loc_all\n",
    "\n",
    "    def lat_all(self):\n",
    "        lat_sw = float(self.loc_all.split(',')[0])\n",
    "        lat_ne = float(self.loc_all.split(',')[2])\n",
    "        lat_list = []\n",
    "        for i in range(0, int((lat_ne - lat_sw + 0.0001) / 0.1)):  # 0.1为网格大小，可更改\n",
    "            lat_list.append(lat_sw + 0.1 * i)  # 0.05\n",
    "        lat_list.append(lat_ne)\n",
    "        return lat_list\n",
    "\n",
    "    def lng_all(self):\n",
    "        lng_sw = float(self.loc_all.split(',')[1])\n",
    "        lng_ne = float(self.loc_all.split(',')[3])\n",
    "        lng_list = []\n",
    "        for i in range(0, int((lng_ne - lng_sw + 0.0001) / 0.1)):  # 0.1为网格大小，可更改\n",
    "            lng_list.append(lng_sw + 0.1 * i)  # 0.1为网格大小，可更改\n",
    "        lng_list.append(lng_ne)\n",
    "        return lng_list\n",
    "\n",
    "    def ls_com(self):\n",
    "        l1 = self.lat_all()\n",
    "        l2 = self.lng_all()\n",
    "        ab_list = []\n",
    "        for i in range(0, len(l1)):\n",
    "            a = str(l1[i])\n",
    "            for i2 in range(0, len(l2)):\n",
    "                b = str(l2[i2])\n",
    "                ab = a + ',' + b\n",
    "                ab_list.append(ab)\n",
    "        return ab_list\n",
    "\n",
    "    def ls_row(self):\n",
    "        l1 = self.lat_all()\n",
    "        l2 = self.lng_all()\n",
    "        ls_com_v = self.ls_com()\n",
    "        ls = []\n",
    "        for n in range(0, len(l1) - 1):\n",
    "            for i in range(0 + len(l1) * n, len(l2) + (len(l2)) * n - 1):\n",
    "                a = ls_com_v[i]\n",
    "                b = ls_com_v[i + len(l2) + 1]\n",
    "                ab = a + ',' + b\n",
    "                ls.append(ab)\n",
    "        return ls\n"
   ]
  },
  {
   "cell_type": "code",
   "execution_count": 1,
   "metadata": {},
   "outputs": [],
   "source": [
    "# ak\n",
    "# ak =\"duzy3ZKbuSARjof2clCzz3m1SAAKOaDe\"   # 这里填入你的百度API的ak\n",
    "# print(\"开始爬取数据，请稍等...\")\n",
    "# start_time = time.time()\n",
    "# loc = LocaDiv('29.8255, 115.367400, 30.2194, 115.8287')\n",
    "# locs_to_use = loc.ls_row()\n",
    "\n",
    "# for loc_to_use in locs_to_use:\n",
    "#     par = BaiduPOI(u'美食', loc_to_use)  # 请修改爬取的类别\n",
    "#     a = par.search()\n",
    "#     doc = open('test.csv', 'a+')\n",
    "# #     doc.write(codecs.BOM_UTF8)\n",
    "#     for ax in a:\n",
    "#         print(ax)\n",
    "#         doc.write(ax)\n",
    "#         doc.write('\\n')\n",
    "#     doc.close()\n",
    "# end_time = time.time()\n",
    "# print(\"购物爬取完毕，用时%.2f秒\" % (end_time - start_time))\n"
   ]
  },
  {
   "cell_type": "code",
   "execution_count": 6,
   "metadata": {},
   "outputs": [
    {
     "data": {
      "text/plain": [
       "True"
      ]
     },
     "execution_count": 6,
     "metadata": {},
     "output_type": "execute_result"
    }
   ],
   "source": [
    "a = {1:11,2:22}\n",
    "11 in a.values()"
   ]
  },
  {
   "cell_type": "code",
   "execution_count": 8,
   "metadata": {},
   "outputs": [
    {
     "data": {
      "text/plain": [
       "['12', '23', '13', '24']"
      ]
     },
     "execution_count": 8,
     "metadata": {},
     "output_type": "execute_result"
    }
   ],
   "source": [
    "\"12,23;13,24\".replace(\";\",\",\").split(\",\")"
   ]
  },
  {
   "cell_type": "code",
   "execution_count": 74,
   "metadata": {},
   "outputs": [
    {
     "name": "stdout",
     "output_type": "stream",
     "text": [
      "网格总数：1826.1037万\n",
      "\n",
      "网格获取citycode时间预估:\n",
      "单天处理：406.22844444444445万\n",
      "预计总耗时：4.495263010194592天\n",
      "\n",
      "获取POI时间预估:\n",
      "预计总请求：4.656564435亿（网格数1826万*页数取中值1.5*分类数17）\n",
      "单机单天处理：349.7142857142857万（单机17进程）\n",
      "单台服务器总耗时：55.63919739583333天\n",
      "三台服务器总耗时：37.09279826388889天\n"
     ]
    }
   ],
   "source": [
    "# 网格数\n",
    "print(f\"网格总数：{(236040+1828028+542136+293724+765700+504885+589248+1159275+522655+6775852+1047476+3017812+100440+113832+361054+124020+278860)/10**4}万\")\n",
    "# 网格获取citycode时间预估\n",
    "print(\"\\n网格获取citycode时间预估:\")\n",
    "print(f\"单天处理：{(1828028/648)*60*24/10**4}万\")\n",
    "print(f\"预计总耗时：{18261037/((1828028/648)*60*24)}天\")\n",
    "# 获取POI时间预估\n",
    "print(\"\\n获取POI时间预估:\")\n",
    "# 单机17进程每天调用量 约 350万\n",
    "print(f\"预计总请求：{18261037*1.5*17/10**8}亿（网格数1826万*页数取中值1.5*分类数17）\")  # 网格数*页数（取中间值）*分类数\n",
    "print(f\"单机单天处理：{1000/420*86400*17/10**4}万（单机17进程）\")  # 17进程\n",
    "print(f\"单台服务器总耗时：{(15261037*1.5*17)/(1000/420*86400*17*2)}天\")\n",
    "print(f\"三台服务器总耗时：{(15261037*1.5*17)/(1000/420*86400*17)/3}天\")"
   ]
  },
  {
   "cell_type": "code",
   "execution_count": 26,
   "metadata": {},
   "outputs": [
    {
     "data": {
      "text/plain": [
       "18261037"
      ]
     },
     "execution_count": 26,
     "metadata": {},
     "output_type": "execute_result"
    }
   ],
   "source": [
    "236040+1828028+542136+293724+765700+504885+589248+1159275+522655+6775852+1047476+3017812+100440+113832+361054+124020+278860"
   ]
  },
  {
   "cell_type": "code",
   "execution_count": 22,
   "metadata": {},
   "outputs": [
    {
     "data": {
      "text/plain": [
       "648"
      ]
     },
     "execution_count": 22,
     "metadata": {},
     "output_type": "execute_result"
    }
   ],
   "source": [
    "# 1828028/\n",
    "10*60+48"
   ]
  },
  {
   "cell_type": "code",
   "execution_count": 24,
   "metadata": {},
   "outputs": [
    {
     "data": {
      "text/plain": [
       "4062284.4444444445"
      ]
     },
     "execution_count": 24,
     "metadata": {},
     "output_type": "execute_result"
    }
   ],
   "source": [
    "(1828028/648)*60*24"
   ]
  },
  {
   "cell_type": "code",
   "execution_count": 85,
   "metadata": {},
   "outputs": [
    {
     "name": "stdout",
     "output_type": "stream",
     "text": [
      "('ss',) <class 'tuple'>\n"
     ]
    }
   ],
   "source": [
    "import random\n",
    "block_weights = [\n",
    "        (100, 'dirt'),\n",
    "        (30, 'stone'),\n",
    "]\n",
    "\n",
    "cells = {}\n",
    "\n",
    "ground = []\n",
    "\n",
    "width, height = 32, 16\n",
    "\n",
    "for x in range(width):\n",
    "    for y in range(height):\n",
    "        if x < 22:\n",
    "            if y <= 8:\n",
    "                continue\n",
    "        else:\n",
    "            if x + y < 30:\n",
    "                continue\n",
    "\n",
    "        ground.append((x, y)) \n",
    "weights, blocks = zip(*block_weights)\n",
    "kinds = random.choices(blocks, weights=weights, k=len(ground)) \n",
    "kinds\n",
    "ground\n",
    "list(zip(ground, kinds))\n",
    "a = 'ss'\n",
    "def aa(*a):\n",
    "    print(a,type(a))\n",
    "aa(a)"
   ]
  },
  {
   "cell_type": "code",
   "execution_count": 114,
   "metadata": {},
   "outputs": [
    {
     "name": "stdout",
     "output_type": "stream",
     "text": [
      "网格总数：1826.1037万\n",
      "国内网格：1541.856万\n",
      "\n",
      "网格获取citycode时间预估:\n",
      "单天处理：1788.9347368421052万\n",
      "预计总耗时：0.8618849912444219天\n",
      "\n",
      "获取POI时间预估:\n",
      "预计总请求：3.9317328亿（国内网格数*页数取中值1.5*分类数17）\n",
      "单机单天处理：1827.6923076923076万（单机33进程）\n",
      "单台服务器总耗时：21.512006060606062天\n",
      "三台服务器总耗时：7.170668686868687天\n"
     ]
    }
   ],
   "source": [
    "# 网格数\n",
    "print(f\"网格总数：{(236040+1828028+542136+293724+765700+504885+589248+1159275+522655+6775852+1047476+3017812+100440+113832+361054+124020+278860)/10**4}万\")\n",
    "grid = 15418560\n",
    "print(f\"国内网格：{grid/10**4}万\")\n",
    "# 网格获取citycode时间预估\n",
    "print(\"\\n网格获取citycode时间预估:\")\n",
    "print(f\"单天处理：{(236040/1140)*60*60*24/10**4}万\")\n",
    "print(f\"预计总耗时：{grid/((236040/1140)*60*60*24)}天\")\n",
    "# 获取POI时间预估\n",
    "print(\"\\n获取POI时间预估:\")\n",
    "total = grid*1.5*17\n",
    "print(f\"预计总请求：{total/10**8}亿（国内网格数*页数取中值1.5*分类数17）\")  # 网格数*页数（取中间值）*分类数\n",
    "per_day = 49.5*5*10000/195/60*86400\n",
    "print(f\"单机单天处理：{per_day/10**4}万（单机33进程）\")  # 33进程\n",
    "print(f\"单台服务器总耗时：{total/(per_day)}天\")  # \n",
    "print(f\"三台服务器总耗时：{total/(per_day)/3}天\")"
   ]
  },
  {
   "cell_type": "code",
   "execution_count": 100,
   "metadata": {},
   "outputs": [
    {
     "data": {
      "text/plain": [
       "14914287"
      ]
     },
     "execution_count": 100,
     "metadata": {},
     "output_type": "execute_result"
    }
   ],
   "source": [
    "\n",
    "135555+1666882+388313+154297+601067+227502+342685+979909+9469+6698447+641213+2560208+56629+44574+190711+73294+143532"
   ]
  },
  {
   "cell_type": "code",
   "execution_count": 101,
   "metadata": {},
   "outputs": [
    {
     "data": {
      "text/plain": [
       "207.05263157894737"
      ]
     },
     "execution_count": 101,
     "metadata": {},
     "output_type": "execute_result"
    }
   ],
   "source": [
    "236040/1140"
   ]
  },
  {
   "cell_type": "code",
   "execution_count": 121,
   "metadata": {},
   "outputs": [
    {
     "data": {
      "text/plain": [
       "2"
      ]
     },
     "execution_count": 121,
     "metadata": {},
     "output_type": "execute_result"
    }
   ],
   "source": [
    "(4 + 1) % len([1,2,3])"
   ]
  },
  {
   "cell_type": "code",
   "execution_count": 122,
   "metadata": {},
   "outputs": [
    {
     "data": {
      "text/plain": [
       "4496210"
      ]
     },
     "execution_count": 122,
     "metadata": {},
     "output_type": "execute_result"
    }
   ],
   "source": [
    "135555+1666882+388313+154297+601067+227502+342685+979909"
   ]
  },
  {
   "cell_type": "code",
   "execution_count": 124,
   "metadata": {},
   "outputs": [
    {
     "data": {
      "text/plain": [
       "15200520"
      ]
     },
     "execution_count": 124,
     "metadata": {},
     "output_type": "execute_result"
    }
   ],
   "source": [
    "135555+1666882+388313+154297+601067+227502+342685+979909+295702+6698447+641213+2560208+56629+44574+190711+73294+143532"
   ]
  },
  {
   "cell_type": "code",
   "execution_count": 125,
   "metadata": {},
   "outputs": [
    {
     "data": {
      "text/plain": [
       "15200886"
      ]
     },
     "execution_count": 125,
     "metadata": {},
     "output_type": "execute_result"
    }
   ],
   "source": [
    "135555+1666904+388313+154297+601067+227507+342688+980226+295702+6698466+641213+2560208+56629+44574+190711+73294+143532"
   ]
  },
  {
   "cell_type": "code",
   "execution_count": 126,
   "metadata": {},
   "outputs": [
    {
     "data": {
      "text/plain": [
       "4792259"
      ]
     },
     "execution_count": 126,
     "metadata": {},
     "output_type": "execute_result"
    }
   ],
   "source": [
    "135555+1666904+388313+154297+601067+227507+342688+980226+295702"
   ]
  },
  {
   "cell_type": "code",
   "execution_count": 127,
   "metadata": {},
   "outputs": [
    {
     "data": {
      "text/plain": [
       "5555"
      ]
     },
     "execution_count": 127,
     "metadata": {},
     "output_type": "execute_result"
    }
   ],
   "source": [
    "2753+705+839+1258"
   ]
  },
  {
   "cell_type": "code",
   "execution_count": 134,
   "metadata": {},
   "outputs": [
    {
     "data": {
      "text/plain": [
       "15944210.52631579"
      ]
     },
     "execution_count": 134,
     "metadata": {},
     "output_type": "execute_result"
    }
   ],
   "source": [
    "49.5*17*10**4/(12*60+40)/60*86400"
   ]
  },
  {
   "cell_type": "code",
   "execution_count": 168,
   "metadata": {},
   "outputs": [
    {
     "data": {
      "text/plain": [
       "5"
      ]
     },
     "execution_count": 168,
     "metadata": {},
     "output_type": "execute_result"
    }
   ],
   "source": [
    "import random\n",
    "random.randint(3,5)"
   ]
  },
  {
   "cell_type": "code",
   "execution_count": null,
   "metadata": {},
   "outputs": [],
   "source": []
  }
 ],
 "metadata": {
  "kernelspec": {
   "display_name": "py37",
   "language": "python",
   "name": "py37"
  },
  "language_info": {
   "codemirror_mode": {
    "name": "ipython",
    "version": 3
   },
   "file_extension": ".py",
   "mimetype": "text/x-python",
   "name": "python",
   "nbconvert_exporter": "python",
   "pygments_lexer": "ipython3",
   "version": "3.7.3"
  }
 },
 "nbformat": 4,
 "nbformat_minor": 2
}
