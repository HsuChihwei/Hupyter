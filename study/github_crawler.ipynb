{
 "cells": [
  {
   "cell_type": "markdown",
   "metadata": {},
   "source": [
    "### 安装pygal"
   ]
  },
  {
   "cell_type": "code",
   "execution_count": null,
   "metadata": {},
   "outputs": [],
   "source": [
    "# !pip install pygal"
   ]
  },
  {
   "cell_type": "code",
   "execution_count": 17,
   "metadata": {},
   "outputs": [
    {
     "name": "stdout",
     "output_type": "stream",
     "text": [
      "Status code: 200\n",
      "Total repositories: 1058136\n",
      "Repositories returned: 30\n",
      "\n",
      "Selected information about each repository:\n",
      "\n",
      "Name: tensorflow\n",
      "Owner: tensorflow\n",
      "Stars: 129724\n",
      "Repository: https://github.com/tensorflow/tensorflow\n",
      "Description: An Open Source Machine Learning Framework for Everyone\n",
      "\n",
      "Name: oh-my-zsh\n",
      "Owner: robbyrussell\n",
      "Stars: 90646\n",
      "Repository: https://github.com/robbyrussell/oh-my-zsh\n",
      "Description: 🙃 A delightful community-driven (with 1,300+ contributors) framework for managing your zsh configuration. Includes 200+ optional plugins (rails, git, OSX, hub, capistrano, brew, ant, php, python, etc), over 140 themes to spice up your morning, and an auto-update tool so that makes it easy to keep up with the latest updates from the community.\n",
      "\n",
      "Name: awesome-python\n",
      "Owner: vinta\n",
      "Stars: 68978\n",
      "Repository: https://github.com/vinta/awesome-python\n",
      "Description: A curated list of awesome Python frameworks, libraries, software and resources\n",
      "\n",
      "Name: CS-Notes\n",
      "Owner: CyC2018\n",
      "Stars: 67833\n",
      "Repository: https://github.com/CyC2018/CS-Notes\n",
      "Description: :books: Tech Interview Guide 技术面试必备基础知识、Leetcode 题解、Java、C++、Python、后端面试、操作系统、计算机网络、系统设计\n",
      "\n",
      "Name: system-design-primer\n",
      "Owner: donnemartin\n",
      "Stars: 67012\n",
      "Repository: https://github.com/donnemartin/system-design-primer\n",
      "Description: Learn how to design large-scale systems. Prep for the system design interview.  Includes Anki flashcards.\n",
      "\n",
      "Name: free-programming-books-zh_CN\n",
      "Owner: justjavac\n",
      "Stars: 51441\n",
      "Repository: https://github.com/justjavac/free-programming-books-zh_CN\n",
      "Description: :books: 免费的计算机编程类中文书籍，欢迎投稿\n",
      "\n",
      "Name: Python\n",
      "Owner: TheAlgorithms\n",
      "Stars: 46836\n",
      "Repository: https://github.com/TheAlgorithms/Python\n",
      "Description: All Algorithms implemented in Python\n",
      "\n",
      "Name: flask\n",
      "Owner: pallets\n",
      "Stars: 44853\n",
      "Repository: https://github.com/pallets/flask\n",
      "Description: The Python micro framework for building web applications.\n",
      "\n",
      "Name: thefuck\n",
      "Owner: nvbn\n",
      "Stars: 44361\n",
      "Repository: https://github.com/nvbn/thefuck\n",
      "Description: Magnificent app which corrects your previous console command.\n",
      "\n",
      "Name: Python-100-Days\n",
      "Owner: jackfrued\n",
      "Stars: 43697\n",
      "Repository: https://github.com/jackfrued/Python-100-Days\n",
      "Description: Python - 100天从新手到大师\n",
      "\n",
      "Name: django\n",
      "Owner: django\n",
      "Stars: 42310\n",
      "Repository: https://github.com/django/django\n",
      "Description: The Web framework for perfectionists with deadlines.\n",
      "\n",
      "Name: keras\n",
      "Owner: keras-team\n",
      "Stars: 42099\n",
      "Repository: https://github.com/keras-team/keras\n",
      "Description: Deep Learning for humans\n",
      "\n",
      "Name: httpie\n",
      "Owner: jakubroztocil\n",
      "Stars: 41996\n",
      "Repository: https://github.com/jakubroztocil/httpie\n",
      "Description: As easy as httpie /aitch-tee-tee-pie/ 🥧 Modern command line HTTP client – user-friendly curl alternative with intuitive UI, JSON support, syntax highlighting, wget-like downloads, extensions, etc.  https://twitter.com/clihttp\n",
      "\n",
      "Name: requests\n",
      "Owner: kennethreitz\n",
      "Stars: 39055\n",
      "Repository: https://github.com/kennethreitz/requests\n",
      "Description: Python HTTP Requests for Humans™ ✨🍰✨\n",
      "\n",
      "Name: ansible\n",
      "Owner: ansible\n",
      "Stars: 37834\n",
      "Repository: https://github.com/ansible/ansible\n",
      "Description: Ansible is a radically simple IT automation platform that makes your applications and systems easier to deploy. Avoid writing scripts or custom code to deploy and update your applications — automate in a language that approaches plain English, using SSH, with no agents to install on remote systems. https://docs.ansible.com/ansible/\n",
      "\n",
      "Name: scikit-learn\n",
      "Owner: scikit-learn\n",
      "Stars: 35728\n",
      "Repository: https://github.com/scikit-learn/scikit-learn\n",
      "Description: scikit-learn: machine learning in Python\n",
      "\n",
      "Name: scrapy\n",
      "Owner: scrapy\n",
      "Stars: 33285\n",
      "Repository: https://github.com/scrapy/scrapy\n",
      "Description: Scrapy, a fast high-level web crawling & scraping framework for Python.\n",
      "\n",
      "Name: TensorFlow-Examples\n",
      "Owner: aymericdamien\n",
      "Stars: 32231\n",
      "Repository: https://github.com/aymericdamien/TensorFlow-Examples\n",
      "Description: TensorFlow Tutorial and Examples for Beginners (support TF v1 & v2)\n",
      "\n",
      "Name: jQuery-File-Upload\n",
      "Owner: blueimp\n",
      "Stars: 30054\n",
      "Repository: https://github.com/blueimp/jQuery-File-Upload\n",
      "Description: File Upload widget with multiple file selection, drag&drop support, progress bar, validation and preview images, audio and video for jQuery. Supports cross-domain, chunked and resumable file uploads. Works with any server-side platform (Google App Engine, PHP, Python, Ruby on Rails, Java, etc.) that supports standard HTML form file uploads.\n",
      "\n",
      "Name: pytorch\n",
      "Owner: pytorch\n",
      "Stars: 29195\n",
      "Repository: https://github.com/pytorch/pytorch\n",
      "Description: Tensors and Dynamic neural networks in Python  with strong GPU acceleration\n",
      "\n",
      "Name: certbot\n",
      "Owner: certbot\n",
      "Stars: 25244\n",
      "Repository: https://github.com/certbot/certbot\n",
      "Description: Certbot is EFF's tool to obtain certs from Let's Encrypt and (optionally) auto-enable HTTPS on your server.  It can also act as a client for any other CA that uses the ACME protocol.\n",
      "\n",
      "Name: cpython\n",
      "Owner: python\n",
      "Stars: 25005\n",
      "Repository: https://github.com/python/cpython\n",
      "Description: The Python programming language\n",
      "\n",
      "Name: face_recognition\n",
      "Owner: ageitgey\n",
      "Stars: 24937\n",
      "Repository: https://github.com/ageitgey/face_recognition\n",
      "Description: The world's simplest facial recognition api for Python and the command line\n",
      "\n",
      "Name: home-assistant\n",
      "Owner: home-assistant\n",
      "Stars: 24351\n",
      "Repository: https://github.com/home-assistant/home-assistant\n",
      "Description: :house_with_garden: Open source home automation that puts local control and privacy first\n",
      "\n",
      "Name: Algorithm_Interview_Notes-Chinese\n",
      "Owner: imhuay\n",
      "Stars: 24005\n",
      "Repository: https://github.com/imhuay/Algorithm_Interview_Notes-Chinese\n",
      "Description: 2018/2019/校招/春招/秋招/算法/机器学习(Machine Learning)/深度学习(Deep Learning)/自然语言处理(NLP)/C/C++/Python/面试笔记\n",
      "\n",
      "Name: 100-Days-Of-ML-Code\n",
      "Owner: Avik-Jain\n",
      "Stars: 23700\n",
      "Repository: https://github.com/Avik-Jain/100-Days-Of-ML-Code\n",
      "Description: 100 Days of ML Coding\n",
      "\n",
      "Name: project-based-learning\n",
      "Owner: tuvtran\n",
      "Stars: 22021\n",
      "Repository: https://github.com/tuvtran/project-based-learning\n",
      "Description: Curated list of project-based tutorials\n",
      "\n",
      "Name: grpc\n",
      "Owner: grpc\n",
      "Stars: 21705\n",
      "Repository: https://github.com/grpc/grpc\n",
      "Description: The C based gRPC (C++, Python, Ruby, Objective-C, PHP, C#)\n",
      "\n",
      "Name: python-patterns\n",
      "Owner: faif\n",
      "Stars: 20954\n",
      "Repository: https://github.com/faif/python-patterns\n",
      "Description: A collection of design patterns/idioms in Python\n",
      "\n",
      "Name: pandas\n",
      "Owner: pandas-dev\n",
      "Stars: 20017\n",
      "Repository: https://github.com/pandas-dev/pandas\n",
      "Description: Flexible and powerful data analysis / manipulation library for Python, providing labeled data structures similar to R data.frame objects, statistical functions, and much more\n"
     ]
    },
    {
     "data": {
      "image/svg+xml": [
       "<svg class=\"pygal-chart\" id=\"chart-1c6e9872-6154-4eb8-9ad4-4d844336414c\" viewBox=\"0 0 800 600\" xmlns=\"http://www.w3.org/2000/svg\" xmlns:xlink=\"http://www.w3.org/1999/xlink\"><!--Generated with pygal 2.4.0 (lxml) ©Kozea 2012-2016 on 2019-06-21--><!--http://pygal.org--><!--http://github.com/Kozea/pygal--><defs><style type=\"text/css\">#chart-1c6e9872-6154-4eb8-9ad4-4d844336414c{-webkit-user-select:none;-webkit-font-smoothing:antialiased;font-family:Consolas,&quot;Liberation Mono&quot;,Menlo,Courier,monospace}#chart-1c6e9872-6154-4eb8-9ad4-4d844336414c .title{font-family:Consolas,&quot;Liberation Mono&quot;,Menlo,Courier,monospace;font-size:16px}#chart-1c6e9872-6154-4eb8-9ad4-4d844336414c .legends .legend text{font-family:Consolas,&quot;Liberation Mono&quot;,Menlo,Courier,monospace;font-size:14px}#chart-1c6e9872-6154-4eb8-9ad4-4d844336414c .axis text{font-family:Consolas,&quot;Liberation Mono&quot;,Menlo,Courier,monospace;font-size:10px}#chart-1c6e9872-6154-4eb8-9ad4-4d844336414c .axis text.major{font-family:Consolas,&quot;Liberation Mono&quot;,Menlo,Courier,monospace;font-size:10px}#chart-1c6e9872-6154-4eb8-9ad4-4d844336414c .text-overlay text.value{font-family:Consolas,&quot;Liberation Mono&quot;,Menlo,Courier,monospace;font-size:16px}#chart-1c6e9872-6154-4eb8-9ad4-4d844336414c .text-overlay text.label{font-family:Consolas,&quot;Liberation Mono&quot;,Menlo,Courier,monospace;font-size:10px}#chart-1c6e9872-6154-4eb8-9ad4-4d844336414c .tooltip{font-family:Consolas,&quot;Liberation Mono&quot;,Menlo,Courier,monospace;font-size:14px}#chart-1c6e9872-6154-4eb8-9ad4-4d844336414c text.no_data{font-family:Consolas,&quot;Liberation Mono&quot;,Menlo,Courier,monospace;font-size:64px}\n",
       "#chart-1c6e9872-6154-4eb8-9ad4-4d844336414c{background-color:#f8f8f8}#chart-1c6e9872-6154-4eb8-9ad4-4d844336414c path,#chart-1c6e9872-6154-4eb8-9ad4-4d844336414c line,#chart-1c6e9872-6154-4eb8-9ad4-4d844336414c rect,#chart-1c6e9872-6154-4eb8-9ad4-4d844336414c circle{-webkit-transition:250ms ease-in;-moz-transition:250ms ease-in;transition:250ms ease-in}#chart-1c6e9872-6154-4eb8-9ad4-4d844336414c .graph &gt; .background{fill:#f8f8f8}#chart-1c6e9872-6154-4eb8-9ad4-4d844336414c .plot &gt; .background{fill:#ffffff}#chart-1c6e9872-6154-4eb8-9ad4-4d844336414c .graph{fill:#333}#chart-1c6e9872-6154-4eb8-9ad4-4d844336414c text.no_data{fill:#666}#chart-1c6e9872-6154-4eb8-9ad4-4d844336414c .title{fill:#666}#chart-1c6e9872-6154-4eb8-9ad4-4d844336414c .legends .legend text{fill:#333}#chart-1c6e9872-6154-4eb8-9ad4-4d844336414c .legends .legend:hover text{fill:#666}#chart-1c6e9872-6154-4eb8-9ad4-4d844336414c .axis .line{stroke:#666}#chart-1c6e9872-6154-4eb8-9ad4-4d844336414c .axis .guide.line{stroke:rgba(0,0,0,0.5)}#chart-1c6e9872-6154-4eb8-9ad4-4d844336414c .axis .major.line{stroke:#333}#chart-1c6e9872-6154-4eb8-9ad4-4d844336414c .axis text.major{fill:#666}#chart-1c6e9872-6154-4eb8-9ad4-4d844336414c .axis.y .guides:hover .guide.line,#chart-1c6e9872-6154-4eb8-9ad4-4d844336414c .line-graph .axis.x .guides:hover .guide.line,#chart-1c6e9872-6154-4eb8-9ad4-4d844336414c .stackedline-graph .axis.x .guides:hover .guide.line,#chart-1c6e9872-6154-4eb8-9ad4-4d844336414c .xy-graph .axis.x .guides:hover .guide.line{stroke:#666}#chart-1c6e9872-6154-4eb8-9ad4-4d844336414c .axis .guides:hover text{fill:#666}#chart-1c6e9872-6154-4eb8-9ad4-4d844336414c .reactive{fill-opacity:.5;stroke-opacity:.8}#chart-1c6e9872-6154-4eb8-9ad4-4d844336414c .ci{stroke:#333}#chart-1c6e9872-6154-4eb8-9ad4-4d844336414c .reactive.active,#chart-1c6e9872-6154-4eb8-9ad4-4d844336414c .active .reactive{fill-opacity:.9;stroke-opacity:.9;stroke-width:4}#chart-1c6e9872-6154-4eb8-9ad4-4d844336414c .ci .reactive.active{stroke-width:1.5}#chart-1c6e9872-6154-4eb8-9ad4-4d844336414c .series text{fill:#666}#chart-1c6e9872-6154-4eb8-9ad4-4d844336414c .tooltip rect{fill:#ffffff;stroke:#666;-webkit-transition:opacity 250ms ease-in;-moz-transition:opacity 250ms ease-in;transition:opacity 250ms ease-in}#chart-1c6e9872-6154-4eb8-9ad4-4d844336414c .tooltip .label{fill:#333}#chart-1c6e9872-6154-4eb8-9ad4-4d844336414c .tooltip .label{fill:#333}#chart-1c6e9872-6154-4eb8-9ad4-4d844336414c .tooltip .legend{font-size:.8em;fill:rgba(0,0,0,0.5)}#chart-1c6e9872-6154-4eb8-9ad4-4d844336414c .tooltip .x_label{font-size:.6em;fill:#666}#chart-1c6e9872-6154-4eb8-9ad4-4d844336414c .tooltip .xlink{font-size:.5em;text-decoration:underline}#chart-1c6e9872-6154-4eb8-9ad4-4d844336414c .tooltip .value{font-size:1.5em}#chart-1c6e9872-6154-4eb8-9ad4-4d844336414c .bound{font-size:.5em}#chart-1c6e9872-6154-4eb8-9ad4-4d844336414c .max-value{font-size:.75em;fill:rgba(0,0,0,0.5)}#chart-1c6e9872-6154-4eb8-9ad4-4d844336414c .map-element{fill:#ffffff;stroke:rgba(0,0,0,0.5) !important}#chart-1c6e9872-6154-4eb8-9ad4-4d844336414c .map-element .reactive{fill-opacity:inherit;stroke-opacity:inherit}#chart-1c6e9872-6154-4eb8-9ad4-4d844336414c .color-0,#chart-1c6e9872-6154-4eb8-9ad4-4d844336414c .color-0 a:visited{stroke:#333366;fill:#333366}#chart-1c6e9872-6154-4eb8-9ad4-4d844336414c .text-overlay .color-0 text{fill:black}\n",
       "#chart-1c6e9872-6154-4eb8-9ad4-4d844336414c text.no_data{text-anchor:middle}#chart-1c6e9872-6154-4eb8-9ad4-4d844336414c .guide.line{fill:none}#chart-1c6e9872-6154-4eb8-9ad4-4d844336414c .centered{text-anchor:middle}#chart-1c6e9872-6154-4eb8-9ad4-4d844336414c .title{text-anchor:middle}#chart-1c6e9872-6154-4eb8-9ad4-4d844336414c .legends .legend text{fill-opacity:1}#chart-1c6e9872-6154-4eb8-9ad4-4d844336414c .axis.x text{text-anchor:middle}#chart-1c6e9872-6154-4eb8-9ad4-4d844336414c .axis.x:not(.web) text[transform]{text-anchor:start}#chart-1c6e9872-6154-4eb8-9ad4-4d844336414c .axis.x:not(.web) text[transform].backwards{text-anchor:end}#chart-1c6e9872-6154-4eb8-9ad4-4d844336414c .axis.y text{text-anchor:end}#chart-1c6e9872-6154-4eb8-9ad4-4d844336414c .axis.y text[transform].backwards{text-anchor:start}#chart-1c6e9872-6154-4eb8-9ad4-4d844336414c .axis.y2 text{text-anchor:start}#chart-1c6e9872-6154-4eb8-9ad4-4d844336414c .axis.y2 text[transform].backwards{text-anchor:end}#chart-1c6e9872-6154-4eb8-9ad4-4d844336414c .axis .guide.line{stroke-dasharray:4,4}#chart-1c6e9872-6154-4eb8-9ad4-4d844336414c .axis .major.guide.line{stroke-dasharray:6,6}#chart-1c6e9872-6154-4eb8-9ad4-4d844336414c .horizontal .axis.y .guide.line,#chart-1c6e9872-6154-4eb8-9ad4-4d844336414c .horizontal .axis.y2 .guide.line,#chart-1c6e9872-6154-4eb8-9ad4-4d844336414c .vertical .axis.x .guide.line{opacity:0}#chart-1c6e9872-6154-4eb8-9ad4-4d844336414c .horizontal .axis.always_show .guide.line,#chart-1c6e9872-6154-4eb8-9ad4-4d844336414c .vertical .axis.always_show .guide.line{opacity:1 !important}#chart-1c6e9872-6154-4eb8-9ad4-4d844336414c .axis.y .guides:hover .guide.line,#chart-1c6e9872-6154-4eb8-9ad4-4d844336414c .axis.y2 .guides:hover .guide.line,#chart-1c6e9872-6154-4eb8-9ad4-4d844336414c .axis.x .guides:hover .guide.line{opacity:1}#chart-1c6e9872-6154-4eb8-9ad4-4d844336414c .axis .guides:hover text{opacity:1}#chart-1c6e9872-6154-4eb8-9ad4-4d844336414c .nofill{fill:none}#chart-1c6e9872-6154-4eb8-9ad4-4d844336414c .subtle-fill{fill-opacity:.2}#chart-1c6e9872-6154-4eb8-9ad4-4d844336414c .dot{stroke-width:1px;fill-opacity:1}#chart-1c6e9872-6154-4eb8-9ad4-4d844336414c .dot.active{stroke-width:5px}#chart-1c6e9872-6154-4eb8-9ad4-4d844336414c .dot.negative{fill:transparent}#chart-1c6e9872-6154-4eb8-9ad4-4d844336414c text,#chart-1c6e9872-6154-4eb8-9ad4-4d844336414c tspan{stroke:none !important}#chart-1c6e9872-6154-4eb8-9ad4-4d844336414c .series text.active{opacity:1}#chart-1c6e9872-6154-4eb8-9ad4-4d844336414c .tooltip rect{fill-opacity:.95;stroke-width:.5}#chart-1c6e9872-6154-4eb8-9ad4-4d844336414c .tooltip text{fill-opacity:1}#chart-1c6e9872-6154-4eb8-9ad4-4d844336414c .showable{visibility:hidden}#chart-1c6e9872-6154-4eb8-9ad4-4d844336414c .showable.shown{visibility:visible}#chart-1c6e9872-6154-4eb8-9ad4-4d844336414c .gauge-background{fill:rgba(229,229,229,1);stroke:none}#chart-1c6e9872-6154-4eb8-9ad4-4d844336414c .bg-lines{stroke:#f8f8f8;stroke-width:2px}</style><script type=\"text/javascript\">window.pygal = window.pygal || {};window.pygal.config = window.pygal.config || {};window.pygal.config['1c6e9872-6154-4eb8-9ad4-4d844336414c'] = {&quot;allow_interruptions&quot;: false, &quot;box_mode&quot;: &quot;extremes&quot;, &quot;classes&quot;: [&quot;pygal-chart&quot;], &quot;css&quot;: [&quot;file://style.css&quot;, &quot;file://graph.css&quot;], &quot;defs&quot;: [], &quot;disable_xml_declaration&quot;: true, &quot;dots_size&quot;: 2.5, &quot;dynamic_print_values&quot;: false, &quot;explicit_size&quot;: false, &quot;fill&quot;: false, &quot;force_uri_protocol&quot;: &quot;https&quot;, &quot;formatter&quot;: null, &quot;half_pie&quot;: false, &quot;height&quot;: 600, &quot;include_x_axis&quot;: false, &quot;inner_radius&quot;: 0, &quot;interpolate&quot;: null, &quot;interpolation_parameters&quot;: {}, &quot;interpolation_precision&quot;: 250, &quot;inverse_y_axis&quot;: false, &quot;js&quot;: [&quot;//kozea.github.io/pygal.js/2.0.x/pygal-tooltips.min.js&quot;], &quot;legend_at_bottom&quot;: false, &quot;legend_at_bottom_columns&quot;: null, &quot;legend_box_size&quot;: 12, &quot;logarithmic&quot;: false, &quot;margin&quot;: 20, &quot;margin_bottom&quot;: null, &quot;margin_left&quot;: null, &quot;margin_right&quot;: null, &quot;margin_top&quot;: null, &quot;max_scale&quot;: 16, &quot;min_scale&quot;: 4, &quot;missing_value_fill_truncation&quot;: &quot;x&quot;, &quot;no_data_text&quot;: &quot;No data&quot;, &quot;no_prefix&quot;: false, &quot;order_min&quot;: null, &quot;pretty_print&quot;: false, &quot;print_labels&quot;: false, &quot;print_values&quot;: false, &quot;print_values_position&quot;: &quot;center&quot;, &quot;print_zeroes&quot;: true, &quot;range&quot;: null, &quot;rounded_bars&quot;: null, &quot;secondary_range&quot;: null, &quot;show_dots&quot;: true, &quot;show_legend&quot;: false, &quot;show_minor_x_labels&quot;: true, &quot;show_minor_y_labels&quot;: true, &quot;show_only_major_dots&quot;: false, &quot;show_x_guides&quot;: false, &quot;show_x_labels&quot;: true, &quot;show_y_guides&quot;: true, &quot;show_y_labels&quot;: true, &quot;spacing&quot;: 10, &quot;stack_from_top&quot;: false, &quot;strict&quot;: false, &quot;stroke&quot;: true, &quot;stroke_style&quot;: null, &quot;style&quot;: {&quot;background&quot;: &quot;#f8f8f8&quot;, &quot;ci_colors&quot;: [], &quot;colors&quot;: [&quot;#333366&quot;, &quot;#3c3c79&quot;, &quot;#46468c&quot;, &quot;#4f4f9f&quot;, &quot;#5d5dae&quot;, &quot;#6f6fb7&quot;, &quot;#8282c1&quot;, &quot;#9595ca&quot;, &quot;#a8a8d4&quot;, &quot;#bbbbdd&quot;], &quot;font_family&quot;: &quot;Consolas, \\&quot;Liberation Mono\\&quot;, Menlo, Courier, monospace&quot;, &quot;foreground&quot;: &quot;#333&quot;, &quot;foreground_strong&quot;: &quot;#666&quot;, &quot;foreground_subtle&quot;: &quot;rgba(0, 0 , 0, 0.5)&quot;, &quot;guide_stroke_dasharray&quot;: &quot;4,4&quot;, &quot;label_font_family&quot;: &quot;Consolas, \\&quot;Liberation Mono\\&quot;, Menlo, Courier, monospace&quot;, &quot;label_font_size&quot;: 10, &quot;legend_font_family&quot;: &quot;Consolas, \\&quot;Liberation Mono\\&quot;, Menlo, Courier, monospace&quot;, &quot;legend_font_size&quot;: 14, &quot;major_guide_stroke_dasharray&quot;: &quot;6,6&quot;, &quot;major_label_font_family&quot;: &quot;Consolas, \\&quot;Liberation Mono\\&quot;, Menlo, Courier, monospace&quot;, &quot;major_label_font_size&quot;: 10, &quot;no_data_font_family&quot;: &quot;Consolas, \\&quot;Liberation Mono\\&quot;, Menlo, Courier, monospace&quot;, &quot;no_data_font_size&quot;: 64, &quot;opacity&quot;: &quot;.5&quot;, &quot;opacity_hover&quot;: &quot;.9&quot;, &quot;plot_background&quot;: &quot;#ffffff&quot;, &quot;stroke_opacity&quot;: &quot;.8&quot;, &quot;stroke_opacity_hover&quot;: &quot;.9&quot;, &quot;title_font_family&quot;: &quot;Consolas, \\&quot;Liberation Mono\\&quot;, Menlo, Courier, monospace&quot;, &quot;title_font_size&quot;: 16, &quot;tooltip_font_family&quot;: &quot;Consolas, \\&quot;Liberation Mono\\&quot;, Menlo, Courier, monospace&quot;, &quot;tooltip_font_size&quot;: 14, &quot;transition&quot;: &quot;250ms ease-in&quot;, &quot;value_background&quot;: &quot;rgba(229, 229, 229, 1)&quot;, &quot;value_colors&quot;: [], &quot;value_font_family&quot;: &quot;Consolas, \\&quot;Liberation Mono\\&quot;, Menlo, Courier, monospace&quot;, &quot;value_font_size&quot;: 16, &quot;value_label_font_family&quot;: &quot;Consolas, \\&quot;Liberation Mono\\&quot;, Menlo, Courier, monospace&quot;, &quot;value_label_font_size&quot;: 10}, &quot;title&quot;: &quot;Most-Starred Python Projects on Github&quot;, &quot;tooltip_border_radius&quot;: 0, &quot;tooltip_fancy_mode&quot;: true, &quot;truncate_label&quot;: null, &quot;truncate_legend&quot;: null, &quot;width&quot;: 800, &quot;x_label_rotation&quot;: 45, &quot;x_labels&quot;: [&quot;tensorflow&quot;, &quot;oh-my-zsh&quot;, &quot;awesome-python&quot;, &quot;CS-Notes&quot;, &quot;system-design-primer&quot;, &quot;free-programming-books-zh_CN&quot;, &quot;Python&quot;, &quot;flask&quot;, &quot;thefuck&quot;, &quot;Python-100-Days&quot;, &quot;django&quot;, &quot;keras&quot;, &quot;httpie&quot;, &quot;requests&quot;, &quot;ansible&quot;, &quot;scikit-learn&quot;, &quot;scrapy&quot;, &quot;TensorFlow-Examples&quot;, &quot;jQuery-File-Upload&quot;, &quot;pytorch&quot;, &quot;certbot&quot;, &quot;cpython&quot;, &quot;face_recognition&quot;, &quot;home-assistant&quot;, &quot;Algorithm_Interview_Notes-Chinese&quot;, &quot;100-Days-Of-ML-Code&quot;, &quot;project-based-learning&quot;, &quot;grpc&quot;, &quot;python-patterns&quot;, &quot;pandas&quot;], &quot;x_labels_major&quot;: null, &quot;x_labels_major_count&quot;: null, &quot;x_labels_major_every&quot;: null, &quot;x_title&quot;: null, &quot;xrange&quot;: null, &quot;y_label_rotation&quot;: 0, &quot;y_labels&quot;: null, &quot;y_labels_major&quot;: null, &quot;y_labels_major_count&quot;: null, &quot;y_labels_major_every&quot;: null, &quot;y_title&quot;: null, &quot;zero&quot;: 0, &quot;legends&quot;: [&quot;&quot;]}</script><script type=\"text/javascript\" xlink:href=\"https://kozea.github.io/pygal.js/2.0.x/pygal-tooltips.min.js\"/></defs><title>Most-Starred Python Projects on Github</title><g class=\"graph bar-graph vertical\"><rect class=\"background\" height=\"600\" width=\"800\" x=\"0\" y=\"0\"/><g class=\"plot\" transform=\"translate(66, 46)\"><rect class=\"background\" height=\"417.93398282201787\" width=\"627.9339828220179\" x=\"0\" y=\"0\"/><g class=\"axis y always_show\"><g class=\"guides\"><path class=\"axis major line\" d=\"M0.000000 409.896791 h627.933983\"/><text class=\"major\" x=\"-5\" y=\"413.3967908446714\">0</text><title>0</title></g><g class=\"guides\"><path class=\"guide line\" d=\"M0.000000 378.918745 h627.933983\"/><text class=\"\" x=\"-5\" y=\"382.41874523496733\">10000</text><title>10000</title></g><g class=\"guides\"><path class=\"guide line\" d=\"M0.000000 347.940700 h627.933983\"/><text class=\"\" x=\"-5\" y=\"351.4406996252633\">20000</text><title>20000</title></g><g class=\"guides\"><path class=\"guide line\" d=\"M0.000000 316.962654 h627.933983\"/><text class=\"\" x=\"-5\" y=\"320.4626540155592\">30000</text><title>30000</title></g><g class=\"guides\"><path class=\"guide line\" d=\"M0.000000 285.984608 h627.933983\"/><text class=\"\" x=\"-5\" y=\"289.48460840585517\">40000</text><title>40000</title></g><g class=\"guides\"><path class=\"major guide line\" d=\"M0.000000 255.006563 h627.933983\"/><text class=\"major\" x=\"-5\" y=\"258.5065627961511\">50000</text><title>50000</title></g><g class=\"guides\"><path class=\"guide line\" d=\"M0.000000 224.028517 h627.933983\"/><text class=\"\" x=\"-5\" y=\"227.52851718644706\">60000</text><title>60000</title></g><g class=\"guides\"><path class=\"guide line\" d=\"M0.000000 193.050472 h627.933983\"/><text class=\"\" x=\"-5\" y=\"196.55047157674304\">70000</text><title>70000</title></g><g class=\"guides\"><path class=\"guide line\" d=\"M0.000000 162.072426 h627.933983\"/><text class=\"\" x=\"-5\" y=\"165.572425967039\">80000</text><title>80000</title></g><g class=\"guides\"><path class=\"guide line\" d=\"M0.000000 131.094380 h627.933983\"/><text class=\"\" x=\"-5\" y=\"134.59438035733496\">90000</text><title>90000</title></g><g class=\"guides\"><path class=\"major guide line\" d=\"M0.000000 100.116335 h627.933983\"/><text class=\"major\" x=\"-5\" y=\"103.6163347476309\">100000</text><title>100000</title></g><g class=\"guides\"><path class=\"guide line\" d=\"M0.000000 69.138289 h627.933983\"/><text class=\"\" x=\"-5\" y=\"72.63828913792685\">110000</text><title>110000</title></g><g class=\"guides\"><path class=\"guide line\" d=\"M0.000000 38.160244 h627.933983\"/><text class=\"\" x=\"-5\" y=\"41.66024352822279\">120000</text><title>120000</title></g></g><g class=\"axis x\"><path class=\"line\" d=\"M0.000000 0.000000 v417.933983\"/><g class=\"guides\"><path class=\"guide line\" d=\"M22.138698 0.000000 v417.933983\"/><text class=\"\" transform=\"rotate(45 22.138698 432.933983)\" x=\"22.13869811231473\" y=\"432.93398282201787\">tensorflow</text></g><g class=\"guides\"><path class=\"guide line\" d=\"M42.264787 0.000000 v417.933983\"/><text class=\"\" transform=\"rotate(45 42.264787 432.933983)\" x=\"42.26478730532813\" y=\"432.93398282201787\">oh-my-zsh</text></g><g class=\"guides\"><path class=\"guide line\" d=\"M62.390876 0.000000 v417.933983\"/><text class=\"\" transform=\"rotate(45 62.390876 432.933983)\" x=\"62.39087649834153\" y=\"432.93398282201787\">awesome-python</text></g><g class=\"guides\"><path class=\"guide line\" d=\"M82.516966 0.000000 v417.933983\"/><text class=\"\" transform=\"rotate(45 82.516966 432.933983)\" x=\"82.51696569135491\" y=\"432.93398282201787\">CS-Notes</text></g><g class=\"guides\"><path class=\"guide line\" d=\"M102.643055 0.000000 v417.933983\"/><text class=\"\" transform=\"rotate(45 102.643055 432.933983)\" x=\"102.6430548843683\" y=\"432.93398282201787\">system-design-primer</text></g><g class=\"guides\"><path class=\"guide line\" d=\"M122.769144 0.000000 v417.933983\"/><text class=\"\" transform=\"rotate(45 122.769144 432.933983)\" x=\"122.7691440773817\" y=\"432.93398282201787\">free-programming-books-z…</text><title>free-programming-books-zh_CN</title></g><g class=\"guides\"><path class=\"guide line\" d=\"M142.895233 0.000000 v417.933983\"/><text class=\"\" transform=\"rotate(45 142.895233 432.933983)\" x=\"142.8952332703951\" y=\"432.93398282201787\">Python</text></g><g class=\"guides\"><path class=\"guide line\" d=\"M163.021322 0.000000 v417.933983\"/><text class=\"\" transform=\"rotate(45 163.021322 432.933983)\" x=\"163.02132246340852\" y=\"432.93398282201787\">flask</text></g><g class=\"guides\"><path class=\"guide line\" d=\"M183.147412 0.000000 v417.933983\"/><text class=\"\" transform=\"rotate(45 183.147412 432.933983)\" x=\"183.1474116564219\" y=\"432.93398282201787\">thefuck</text></g><g class=\"guides\"><path class=\"guide line\" d=\"M203.273501 0.000000 v417.933983\"/><text class=\"\" transform=\"rotate(45 203.273501 432.933983)\" x=\"203.27350084943527\" y=\"432.93398282201787\">Python-100-Days</text></g><g class=\"guides\"><path class=\"guide line\" d=\"M223.399590 0.000000 v417.933983\"/><text class=\"\" transform=\"rotate(45 223.399590 432.933983)\" x=\"223.39959004244866\" y=\"432.93398282201787\">django</text></g><g class=\"guides\"><path class=\"guide line\" d=\"M243.525679 0.000000 v417.933983\"/><text class=\"\" transform=\"rotate(45 243.525679 432.933983)\" x=\"243.5256792354621\" y=\"432.93398282201787\">keras</text></g><g class=\"guides\"><path class=\"guide line\" d=\"M263.651768 0.000000 v417.933983\"/><text class=\"\" transform=\"rotate(45 263.651768 432.933983)\" x=\"263.6517684284755\" y=\"432.93398282201787\">httpie</text></g><g class=\"guides\"><path class=\"guide line\" d=\"M283.777858 0.000000 v417.933983\"/><text class=\"\" transform=\"rotate(45 283.777858 432.933983)\" x=\"283.7778576214889\" y=\"432.93398282201787\">requests</text></g><g class=\"guides\"><path class=\"guide line\" d=\"M303.903947 0.000000 v417.933983\"/><text class=\"\" transform=\"rotate(45 303.903947 432.933983)\" x=\"303.90394681450226\" y=\"432.93398282201787\">ansible</text></g><g class=\"guides\"><path class=\"guide line\" d=\"M324.030036 0.000000 v417.933983\"/><text class=\"\" transform=\"rotate(45 324.030036 432.933983)\" x=\"324.0300360075157\" y=\"432.93398282201787\">scikit-learn</text></g><g class=\"guides\"><path class=\"guide line\" d=\"M344.156125 0.000000 v417.933983\"/><text class=\"\" transform=\"rotate(45 344.156125 432.933983)\" x=\"344.15612520052906\" y=\"432.93398282201787\">scrapy</text></g><g class=\"guides\"><path class=\"guide line\" d=\"M364.282214 0.000000 v417.933983\"/><text class=\"\" transform=\"rotate(45 364.282214 432.933983)\" x=\"364.28221439354246\" y=\"432.93398282201787\">TensorFlow-Examples</text></g><g class=\"guides\"><path class=\"guide line\" d=\"M384.408304 0.000000 v417.933983\"/><text class=\"\" transform=\"rotate(45 384.408304 432.933983)\" x=\"384.40830358655586\" y=\"432.93398282201787\">jQuery-File-Upload</text></g><g class=\"guides\"><path class=\"guide line\" d=\"M404.534393 0.000000 v417.933983\"/><text class=\"\" transform=\"rotate(45 404.534393 432.933983)\" x=\"404.53439277956926\" y=\"432.93398282201787\">pytorch</text></g><g class=\"guides\"><path class=\"guide line\" d=\"M424.660482 0.000000 v417.933983\"/><text class=\"\" transform=\"rotate(45 424.660482 432.933983)\" x=\"424.66048197258266\" y=\"432.93398282201787\">certbot</text></g><g class=\"guides\"><path class=\"guide line\" d=\"M444.786571 0.000000 v417.933983\"/><text class=\"\" transform=\"rotate(45 444.786571 432.933983)\" x=\"444.786571165596\" y=\"432.93398282201787\">cpython</text></g><g class=\"guides\"><path class=\"guide line\" d=\"M464.912660 0.000000 v417.933983\"/><text class=\"\" transform=\"rotate(45 464.912660 432.933983)\" x=\"464.9126603586094\" y=\"432.93398282201787\">face_recognition</text></g><g class=\"guides\"><path class=\"guide line\" d=\"M485.038750 0.000000 v417.933983\"/><text class=\"\" transform=\"rotate(45 485.038750 432.933983)\" x=\"485.0387495516228\" y=\"432.93398282201787\">home-assistant</text></g><g class=\"guides\"><path class=\"guide line\" d=\"M505.164839 0.000000 v417.933983\"/><text class=\"\" transform=\"rotate(45 505.164839 432.933983)\" x=\"505.1648387446362\" y=\"432.93398282201787\">Algorithm_Interview_Note…</text><title>Algorithm_Interview_Notes-Chinese</title></g><g class=\"guides\"><path class=\"guide line\" d=\"M525.290928 0.000000 v417.933983\"/><text class=\"\" transform=\"rotate(45 525.290928 432.933983)\" x=\"525.2909279376496\" y=\"432.93398282201787\">100-Days-Of-ML-Code</text></g><g class=\"guides\"><path class=\"guide line\" d=\"M545.417017 0.000000 v417.933983\"/><text class=\"\" transform=\"rotate(45 545.417017 432.933983)\" x=\"545.417017130663\" y=\"432.93398282201787\">project-based-learning</text></g><g class=\"guides\"><path class=\"guide line\" d=\"M565.543106 0.000000 v417.933983\"/><text class=\"\" transform=\"rotate(45 565.543106 432.933983)\" x=\"565.5431063236764\" y=\"432.93398282201787\">grpc</text></g><g class=\"guides\"><path class=\"guide line\" d=\"M585.669196 0.000000 v417.933983\"/><text class=\"\" transform=\"rotate(45 585.669196 432.933983)\" x=\"585.6691955166898\" y=\"432.93398282201787\">python-patterns</text></g><g class=\"guides\"><path class=\"guide line\" d=\"M605.795285 0.000000 v417.933983\"/><text class=\"\" transform=\"rotate(45 605.795285 432.933983)\" x=\"605.7952847097031\" y=\"432.93398282201787\">pandas</text></g></g><g class=\"series serie-0 color-0\"><g class=\"bars\"><g class=\"bar\"><rect class=\"rect reactive tooltip-trigger\" height=\"401.8595988673249\" rx=\"0\" ry=\"0\" width=\"15.585643471069574\" x=\"14.345876376779948\" y=\"8.037191977346481\"/><desc class=\"value\">129724</desc><desc class=\"x centered\">22.138698112314735</desc><desc class=\"y centered\">208.96699141100893</desc><desc class=\"x_label\">tensorflow</desc></g><g class=\"bar\"><rect class=\"rect reactive tooltip-trigger\" height=\"280.80359223372335\" rx=\"0\" ry=\"0\" width=\"15.585643471069574\" x=\"34.47196556979334\" y=\"129.09319861094804\"/><desc class=\"value\">90646</desc><desc class=\"x centered\">42.26478730532813</desc><desc class=\"y centered\">269.49499472780974</desc><desc class=\"x_label\">oh-my-zsh</desc></g><g class=\"bar\"><rect class=\"rect reactive tooltip-trigger\" height=\"213.6803630066166\" rx=\"0\" ry=\"0\" width=\"15.585643471069574\" x=\"54.59805476280674\" y=\"196.21642783805478\"/><desc class=\"value\">68978</desc><desc class=\"x centered\">62.39087649834153</desc><desc class=\"y centered\">303.05660934136307</desc><desc class=\"x_label\">awesome-python</desc></g><g class=\"bar\"><rect class=\"rect reactive tooltip-trigger\" height=\"210.13337678430545\" rx=\"0\" ry=\"0\" width=\"15.585643471069574\" x=\"74.72414395582013\" y=\"199.76341406036593\"/><desc class=\"value\">67833</desc><desc class=\"x centered\">82.51696569135491</desc><desc class=\"y centered\">304.83010245251864</desc><desc class=\"x_label\">CS-Notes</desc></g><g class=\"bar\"><rect class=\"rect reactive tooltip-trigger\" height=\"207.59007923974877\" rx=\"0\" ry=\"0\" width=\"15.585643471069574\" x=\"94.8502331488335\" y=\"202.3067116049226\"/><desc class=\"value\">67012</desc><desc class=\"x centered\">102.64305488436828</desc><desc class=\"y centered\">306.101751224797</desc><desc class=\"x_label\">system-design-primer</desc></g><g class=\"bar\"><rect class=\"rect reactive tooltip-trigger\" height=\"159.35416442087865\" rx=\"0\" ry=\"0\" width=\"15.585643471069574\" x=\"114.9763223418469\" y=\"250.54262642379274\"/><desc class=\"value\">51441</desc><desc class=\"x centered\">122.76914407738168</desc><desc class=\"y centered\">330.21970863423206</desc><desc class=\"x_label\">free-programming-books-zh_CN</desc></g><g class=\"bar\"><rect class=\"rect reactive tooltip-trigger\" height=\"145.0887744176099\" rx=\"0\" ry=\"0\" width=\"15.585643471069574\" x=\"135.1024115348603\" y=\"264.8080164270615\"/><desc class=\"value\">46836</desc><desc class=\"x centered\">142.89523327039507</desc><desc class=\"y centered\">337.35240363586644</desc><desc class=\"x_label\">Python</desc></g><g class=\"bar\"><rect class=\"rect reactive tooltip-trigger\" height=\"138.9458279732056\" rx=\"0\" ry=\"0\" width=\"15.585643471069574\" x=\"155.22850072787372\" y=\"270.9509628714658\"/><desc class=\"value\">44853</desc><desc class=\"x centered\">163.02132246340852</desc><desc class=\"y centered\">340.4238768580686</desc><desc class=\"x_label\">flask</desc></g><g class=\"bar\"><rect class=\"rect reactive tooltip-trigger\" height=\"137.42170812920813\" rx=\"0\" ry=\"0\" width=\"15.585643471069574\" x=\"175.3545899208871\" y=\"272.47508271546326\"/><desc class=\"value\">44361</desc><desc class=\"x centered\">183.14741165642187</desc><desc class=\"y centered\">341.1859367800673</desc><desc class=\"x_label\">thefuck</desc></g><g class=\"bar\"><rect class=\"rect reactive tooltip-trigger\" height=\"135.3647659007238\" rx=\"0\" ry=\"0\" width=\"15.585643471069574\" x=\"195.4806791139005\" y=\"274.5320249439476\"/><desc class=\"value\">43697</desc><desc class=\"x centered\">203.27350084943527</desc><desc class=\"y centered\">342.2144078943095</desc><desc class=\"x_label\">Python-100-Days</desc></g><g class=\"bar\"><rect class=\"rect reactive tooltip-trigger\" height=\"131.06811097465788\" rx=\"0\" ry=\"0\" width=\"15.585643471069574\" x=\"215.60676830691386\" y=\"278.8286798700135\"/><desc class=\"value\">42310</desc><desc class=\"x centered\">223.39959004244866</desc><desc class=\"y centered\">344.36273535734244</desc><desc class=\"x_label\">django</desc></g><g class=\"bar\"><rect class=\"rect reactive tooltip-trigger\" height=\"130.4144742122931\" rx=\"0\" ry=\"0\" width=\"15.585643471069574\" x=\"235.73285749992726\" y=\"279.4823166323783\"/><desc class=\"value\">42099</desc><desc class=\"x centered\">243.52567923546206</desc><desc class=\"y centered\">344.68955373852486</desc><desc class=\"x_label\">keras</desc></g><g class=\"bar\"><rect class=\"rect reactive tooltip-trigger\" height=\"130.09540034251313\" rx=\"0\" ry=\"0\" width=\"15.585643471069574\" x=\"255.85894669294072\" y=\"279.80139050215826\"/><desc class=\"value\">41996</desc><desc class=\"x centered\">263.6517684284755</desc><desc class=\"y centered\">344.8490906734148</desc><desc class=\"x_label\">httpie</desc></g><g class=\"bar\"><rect class=\"rect reactive tooltip-trigger\" height=\"120.98475712869919\" rx=\"0\" ry=\"0\" width=\"15.585643471069574\" x=\"275.9850358859541\" y=\"288.9120337159722\"/><desc class=\"value\">39055</desc><desc class=\"x centered\">283.7778576214889</desc><desc class=\"y centered\">349.4044122803218</desc><desc class=\"x_label\">requests</desc></g><g class=\"bar\"><rect class=\"rect reactive tooltip-trigger\" height=\"117.2023377597543\" rx=\"0\" ry=\"0\" width=\"15.585643471069574\" x=\"296.11112507896746\" y=\"292.6944530849171\"/><desc class=\"value\">37834</desc><desc class=\"x centered\">303.90394681450226</desc><desc class=\"y centered\">351.29562196479424</desc><desc class=\"x_label\">ansible</desc></g><g class=\"bar\"><rect class=\"rect reactive tooltip-trigger\" height=\"110.67836135435061\" rx=\"0\" ry=\"0\" width=\"15.585643471069574\" x=\"316.23721427198086\" y=\"299.2184294903208\"/><desc class=\"value\">35728</desc><desc class=\"x centered\">324.03003600751566</desc><desc class=\"y centered\">354.5576101674961</desc><desc class=\"x_label\">scikit-learn</desc></g><g class=\"bar\"><rect class=\"rect reactive tooltip-trigger\" height=\"103.11042481189997\" rx=\"0\" ry=\"0\" width=\"15.585643471069574\" x=\"336.36330346499426\" y=\"306.7863660327714\"/><desc class=\"value\">33285</desc><desc class=\"x centered\">344.15612520052906</desc><desc class=\"y centered\">358.3415784387214</desc><desc class=\"x_label\">scrapy</desc></g><g class=\"bar\"><rect class=\"rect reactive tooltip-trigger\" height=\"99.84533880463715\" rx=\"0\" ry=\"0\" width=\"15.585643471069574\" x=\"356.4893926580076\" y=\"310.05145204003423\"/><desc class=\"value\">32231</desc><desc class=\"x centered\">364.2822143935424</desc><desc class=\"y centered\">359.97412144235284</desc><desc class=\"x_label\">TensorFlow-Examples</desc></g><g class=\"bar\"><rect class=\"rect reactive tooltip-trigger\" height=\"93.10141827540457\" rx=\"0\" ry=\"0\" width=\"15.585643471069574\" x=\"376.615481851021\" y=\"316.7953725692668\"/><desc class=\"value\">30054</desc><desc class=\"x centered\">384.4083035865558</desc><desc class=\"y centered\">363.34608170696913</desc><desc class=\"x_label\">jQuery-File-Upload</desc></g><g class=\"bar\"><rect class=\"rect reactive tooltip-trigger\" height=\"90.44040415753102\" rx=\"0\" ry=\"0\" width=\"15.585643471069574\" x=\"396.7415710440344\" y=\"319.45638668714037\"/><desc class=\"value\">29195</desc><desc class=\"x centered\">404.5343927795692</desc><desc class=\"y centered\">364.6765887659059</desc><desc class=\"x_label\">pytorch</desc></g><g class=\"bar\"><rect class=\"rect reactive tooltip-trigger\" height=\"78.20097833713692\" rx=\"0\" ry=\"0\" width=\"15.585643471069574\" x=\"416.8676602370478\" y=\"331.69581250753447\"/><desc class=\"value\">25244</desc><desc class=\"x centered\">424.6604819725826</desc><desc class=\"y centered\">370.7963016761029</desc><desc class=\"x_label\">certbot</desc></g><g class=\"bar\"><rect class=\"rect reactive tooltip-trigger\" height=\"77.46060304706498\" rx=\"0\" ry=\"0\" width=\"15.585643471069574\" x=\"436.9937494300612\" y=\"332.4361877976064\"/><desc class=\"value\">25005</desc><desc class=\"x centered\">444.786571165596</desc><desc class=\"y centered\">371.1664893211389</desc><desc class=\"x_label\">cpython</desc></g><g class=\"bar\"><rect class=\"rect reactive tooltip-trigger\" height=\"77.24995233691902\" rx=\"0\" ry=\"0\" width=\"15.585643471069574\" x=\"457.1198386230746\" y=\"332.64683850775236\"/><desc class=\"value\">24937</desc><desc class=\"x centered\">464.9126603586094</desc><desc class=\"y centered\">371.2718146762119</desc><desc class=\"x_label\">face_recognition</desc></g><g class=\"bar\"><rect class=\"rect reactive tooltip-trigger\" height=\"75.43463886419033\" rx=\"0\" ry=\"0\" width=\"15.585643471069574\" x=\"477.24592781608806\" y=\"334.46215198048105\"/><desc class=\"value\">24351</desc><desc class=\"x centered\">485.03874955162286</desc><desc class=\"y centered\">372.1794714125762</desc><desc class=\"x_label\">home-assistant</desc></g><g class=\"bar\"><rect class=\"rect reactive tooltip-trigger\" height=\"74.36279848609456\" rx=\"0\" ry=\"0\" width=\"15.585643471069574\" x=\"497.37201700910146\" y=\"335.5339923585768\"/><desc class=\"value\">24005</desc><desc class=\"x centered\">505.16483874463626</desc><desc class=\"y centered\">372.7153916016241</desc><desc class=\"x_label\">Algorithm_Interview_Notes-Chinese</desc></g><g class=\"bar\"><rect class=\"rect reactive tooltip-trigger\" height=\"73.41796809499863\" rx=\"0\" ry=\"0\" width=\"15.585643471069574\" x=\"517.4981062021149\" y=\"336.47882274967276\"/><desc class=\"value\">23700</desc><desc class=\"x centered\">525.2909279376496</desc><desc class=\"y centered\">373.1878067971721</desc><desc class=\"x_label\">100-Days-Of-ML-Code</desc></g><g class=\"bar\"><rect class=\"rect reactive tooltip-trigger\" height=\"68.2167542371293\" rx=\"0\" ry=\"0\" width=\"15.585643471069574\" x=\"537.6241953951283\" y=\"341.6800366075421\"/><desc class=\"value\">22021</desc><desc class=\"x centered\">545.417017130663</desc><desc class=\"y centered\">375.78841372610674</desc><desc class=\"x_label\">project-based-learning</desc></g><g class=\"bar\"><rect class=\"rect reactive tooltip-trigger\" height=\"67.23784799586264\" rx=\"0\" ry=\"0\" width=\"15.585643471069574\" x=\"557.7502845881417\" y=\"342.65894284880875\"/><desc class=\"value\">21705</desc><desc class=\"x centered\">565.5431063236764</desc><desc class=\"y centered\">376.27786684674004</desc><desc class=\"x_label\">grpc</desc></g><g class=\"bar\"><rect class=\"rect reactive tooltip-trigger\" height=\"64.9113967705739\" rx=\"0\" ry=\"0\" width=\"15.585643471069574\" x=\"577.876373781155\" y=\"344.9853940740975\"/><desc class=\"value\">20954</desc><desc class=\"x centered\">585.6691955166898</desc><desc class=\"y centered\">377.44109245938444</desc><desc class=\"x_label\">python-patterns</desc></g><g class=\"bar\"><rect class=\"rect reactive tooltip-trigger\" height=\"62.0087538969446\" rx=\"0\" ry=\"0\" width=\"15.585643471069574\" x=\"598.0024629741685\" y=\"347.8880369477268\"/><desc class=\"value\">20017</desc><desc class=\"x centered\">605.7952847097032</desc><desc class=\"y centered\">378.89241389619906</desc><desc class=\"x_label\">pandas</desc></g></g></g></g><g class=\"titles\"><text class=\"title plot_title\" x=\"400.0\" y=\"26\">Most-Starred Python Projects on Github</text></g><g class=\"plot overlay\" transform=\"translate(66, 46)\"><g class=\"series serie-0 color-0\"/></g><g class=\"plot text-overlay\" transform=\"translate(66, 46)\"><g class=\"series serie-0 color-0\"/></g><g class=\"plot tooltip-overlay\" transform=\"translate(66, 46)\"><g class=\"tooltip\" style=\"opacity: 0\" transform=\"translate(0 0)\"><rect class=\"tooltip-box\" height=\"0\" rx=\"0\" ry=\"0\" width=\"0\"/><g class=\"text\"/></g></g></g></svg>"
      ],
      "text/plain": [
       "<IPython.core.display.SVG object>"
      ]
     },
     "metadata": {},
     "output_type": "display_data"
    }
   ],
   "source": [
    "import  requests\n",
    "import pygal\n",
    "from pygal.style import LightColorizedStyle as LCS,LightenStyle as LS\n",
    "from IPython.display import SVG, display  # 为了在jupyter中显示图片\n",
    "# 调用接口获取star信息\n",
    "# URL = 'https://api.github.com/search/repositories?q=language:python&sort=stars'  \n",
    "# URL = 'https://api.github.com/search/repositories?q=python&sort=stars&page=1'  # 按仓库计算\n",
    "URL = 'https://api.github.com/search/repositories?q=python&sort=stars'  # 按仓库计算\n",
    "r = requests.get(URL)\n",
    "print(\"Status code:\",r.status_code)\n",
    "response_dict = r.json()\n",
    "print(\"Total repositories:\",response_dict['total_count'])\n",
    "repo_dicts = response_dict['items']\n",
    "print(\"Repositories returned:\",len(repo_dicts))\n",
    "print(\"\\nSelected information about each repository:\")\n",
    "for repo_dict in repo_dicts:\n",
    "    print(\"\\nName:\",repo_dict['name'])\n",
    "    print(\"Owner:\",repo_dict['owner']['login'])\n",
    "    print(\"Stars:\",repo_dict['stargazers_count'])\n",
    "    print(\"Repository:\",repo_dict['html_url'])\n",
    "    print(\"Description:\",repo_dict['description'])\n",
    "names,stars = [],[]\n",
    "for repo_dict in repo_dicts:\n",
    "    names.append(repo_dict['name'])\n",
    "    stars.append(repo_dict['stargazers_count'])\n",
    "my_style = LS('#333366',base_style=LCS)\n",
    "chart = pygal.Bar(style=my_style,x_label_rotation=45,show_legend=False)\n",
    "chart.title = 'Most-Starred Python Projects on Github'\n",
    "chart.x_labels = names\n",
    "chart.add('',stars)\n",
    "# chart.render()\n",
    "display(SVG(chart.render(disable_xml_declaration=True)))\n",
    "# chart.render_to_file('python_repos.svg')"
   ]
  },
  {
   "cell_type": "code",
   "execution_count": 21,
   "metadata": {},
   "outputs": [
    {
     "data": {
      "text/plain": [
       "54385107"
      ]
     },
     "execution_count": 21,
     "metadata": {},
     "output_type": "execute_result"
    }
   ],
   "source": [
    "2201627+52183480"
   ]
  },
  {
   "cell_type": "code",
   "execution_count": 20,
   "metadata": {},
   "outputs": [
    {
     "data": {
      "text/plain": [
       "64687405"
      ]
     },
     "execution_count": 20,
     "metadata": {},
     "output_type": "execute_result"
    }
   ],
   "source": [
    "2235764+62451641"
   ]
  },
  {
   "cell_type": "code",
   "execution_count": 19,
   "metadata": {},
   "outputs": [
    {
     "data": {
      "text/plain": [
       "62809247"
      ]
     },
     "execution_count": 19,
     "metadata": {},
     "output_type": "execute_result"
    }
   ],
   "source": [
    "2159094+60650153"
   ]
  },
  {
   "cell_type": "code",
   "execution_count": 22,
   "metadata": {},
   "outputs": [
    {
     "data": {
      "text/plain": [
       "181881759"
      ]
     },
     "execution_count": 22,
     "metadata": {},
     "output_type": "execute_result"
    }
   ],
   "source": [
    "62809247+64687405+54385107"
   ]
  },
  {
   "cell_type": "code",
   "execution_count": 23,
   "metadata": {},
   "outputs": [
    {
     "data": {
      "text/plain": [
       "6596485"
      ]
     },
     "execution_count": 23,
     "metadata": {},
     "output_type": "execute_result"
    }
   ],
   "source": [
    "2201627+2235764+2159094"
   ]
  },
  {
   "cell_type": "code",
   "execution_count": 24,
   "metadata": {},
   "outputs": [
    {
     "data": {
      "text/plain": [
       "182104"
      ]
     },
     "execution_count": 24,
     "metadata": {},
     "output_type": "execute_result"
    }
   ],
   "source": [
    "5523457-5341353"
   ]
  },
  {
   "cell_type": "code",
   "execution_count": 25,
   "metadata": {},
   "outputs": [
    {
     "data": {
      "text/plain": [
       "4510557"
      ]
     },
     "execution_count": 25,
     "metadata": {},
     "output_type": "execute_result"
    }
   ],
   "source": [
    "4328453+182104"
   ]
  },
  {
   "cell_type": "code",
   "execution_count": null,
   "metadata": {},
   "outputs": [],
   "source": []
  }
 ],
 "metadata": {
  "kernelspec": {
   "display_name": "py37",
   "language": "python",
   "name": "py37"
  },
  "language_info": {
   "codemirror_mode": {
    "name": "ipython",
    "version": 3
   },
   "file_extension": ".py",
   "mimetype": "text/x-python",
   "name": "python",
   "nbconvert_exporter": "python",
   "pygments_lexer": "ipython3",
   "version": "3.7.3"
  }
 },
 "nbformat": 4,
 "nbformat_minor": 2
}
