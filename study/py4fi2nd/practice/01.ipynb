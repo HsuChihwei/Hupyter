{
 "cells": [
  {
   "cell_type": "markdown",
   "metadata": {},
   "source": [
    "### 蒙特卡罗估计BSM模型"
   ]
  },
  {
   "cell_type": "code",
   "execution_count": 4,
   "metadata": {},
   "outputs": [
    {
     "name": "stdout",
     "output_type": "stream",
     "text": [
      "Value of the European call option 8.037.\n"
     ]
    }
   ],
   "source": [
    "# \n",
    "# Monte Carlo valuation of European call option\n",
    "# in Black-Scholes-Merton model\n",
    "# bsm_mcs_euro.py\n",
    "#\n",
    "# Python for Finance, 2nd ed.\n",
    "# (c) Dr. Yves J. Hilpisch\n",
    "#\n",
    "import math\n",
    "import numpy as np\n",
    "\n",
    "# Parameter Values\n",
    "S0 = 100.  # initial index level\n",
    "K = 105.  # strike price\n",
    "T = 1.0  # time-to-maturity\n",
    "r = 0.05  # riskless short rate\n",
    "sigma = 0.2  # volatility\n",
    "\n",
    "I = 100000  # number of simulations\n",
    "\n",
    "# Valuation Algorithm\n",
    "z = np.random.standard_normal(I)  # pseudo-random numbers\n",
    "# index values at maturity\n",
    "ST = S0 * np.exp((r - 0.5 * sigma ** 2) * T + sigma * math.sqrt(T) * z)\n",
    "hT = np.maximum(ST - K, 0)  # payoff at maturity\n",
    "C0 = math.exp(-r * T) * np.mean(hT)  # Monte Carlo estimator\n",
    "\n",
    "# Result Output\n",
    "print('Value of the European call option %5.3f.' % C0)"
   ]
  },
  {
   "cell_type": "code",
   "execution_count": 7,
   "metadata": {},
   "outputs": [
    {
     "name": "stdout",
     "output_type": "stream",
     "text": [
      "Looking in indexes: http://mirrors.aliyun.com/pypi/simple/\n",
      "Requirement already satisfied: pandas in /root/anaconda3/envs/py37/lib/python3.7/site-packages (0.24.2)\n",
      "Requirement already satisfied: pytz>=2011k in /root/anaconda3/envs/py37/lib/python3.7/site-packages (from pandas) (2019.1)\n",
      "Requirement already satisfied: numpy>=1.12.0 in /root/anaconda3/envs/py37/lib/python3.7/site-packages (from pandas) (1.16.3)\n",
      "Requirement already satisfied: python-dateutil>=2.5.0 in /root/anaconda3/envs/py37/lib/python3.7/site-packages (from pandas) (2.8.0)\n",
      "Requirement already satisfied: six>=1.5 in /root/anaconda3/envs/py37/lib/python3.7/site-packages (from python-dateutil>=2.5.0->pandas) (1.12.0)\n"
     ]
    }
   ],
   "source": [
    "!pip install pandas"
   ]
  },
  {
   "cell_type": "code",
   "execution_count": null,
   "metadata": {},
   "outputs": [],
   "source": []
  }
 ],
 "metadata": {
  "kernelspec": {
   "display_name": "py37",
   "language": "python",
   "name": "py37"
  },
  "language_info": {
   "codemirror_mode": {
    "name": "ipython",
    "version": 3
   },
   "file_extension": ".py",
   "mimetype": "text/x-python",
   "name": "python",
   "nbconvert_exporter": "python",
   "pygments_lexer": "ipython3",
   "version": "3.7.3"
  }
 },
 "nbformat": 4,
 "nbformat_minor": 2
}
