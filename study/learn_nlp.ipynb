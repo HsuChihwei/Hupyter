{
 "cells": [
  {
   "cell_type": "markdown",
   "metadata": {},
   "source": [
    "### 安装nltk，下载book数据并导入"
   ]
  },
  {
   "cell_type": "code",
   "execution_count": 1,
   "metadata": {},
   "outputs": [
    {
     "name": "stdout",
     "output_type": "stream",
     "text": [
      "*** Introductory Examples for the NLTK Book ***\n",
      "Loading text1, ..., text9 and sent1, ..., sent9\n",
      "Type the name of the text or sentence to view it.\n",
      "Type: 'texts()' or 'sents()' to list the materials.\n",
      "text1: Moby Dick by Herman Melville 1851\n",
      "text2: Sense and Sensibility by Jane Austen 1811\n",
      "text3: The Book of Genesis\n",
      "text4: Inaugural Address Corpus\n",
      "text5: Chat Corpus\n",
      "text6: Monty Python and the Holy Grail\n",
      "text7: Wall Street Journal\n",
      "text8: Personals Corpus\n",
      "text9: The Man Who Was Thursday by G . K . Chesterton 1908\n"
     ]
    }
   ],
   "source": [
    "import nltk\n",
    "# nltk.download('book')\n",
    "from nltk.book import *"
   ]
  },
  {
   "cell_type": "markdown",
   "metadata": {},
   "source": [
    "### 搜索文本"
   ]
  },
  {
   "cell_type": "code",
   "execution_count": 2,
   "metadata": {},
   "outputs": [
    {
     "name": "stdout",
     "output_type": "stream",
     "text": [
      "Displaying 11 of 11 matches:\n",
      "ong the former , one was of a most monstrous size . ... This came towards us , \n",
      "ON OF THE PSALMS . \" Touching that monstrous bulk of the whale or ork we have r\n",
      "ll over with a heathenish array of monstrous clubs and spears . Some were thick\n",
      "d as you gazed , and wondered what monstrous cannibal and savage could ever hav\n",
      "that has survived the flood ; most monstrous and most mountainous ! That Himmal\n",
      "they might scout at Moby Dick as a monstrous fable , or still worse and more de\n",
      "th of Radney .'\" CHAPTER 55 Of the Monstrous Pictures of Whales . I shall ere l\n",
      "ing Scenes . In connexion with the monstrous pictures of whales , I am strongly\n",
      "ere to enter upon those still more monstrous stories of them which are to be fo\n",
      "ght have been rummaged out of this monstrous cabinet there is no telling . But \n",
      "of Whale - Bones ; for Whales of a monstrous size are oftentimes cast up dead u\n"
     ]
    }
   ],
   "source": [
    "text1.concordance('monstrous')\n",
    "# text2.concordance('affection')\n",
    "# text3.concordance('lived')\n",
    "# text4.concordance('god')  # nation,terror,god\n",
    "# text5.concordance('lol') # im,ur,lol"
   ]
  },
  {
   "cell_type": "markdown",
   "metadata": {},
   "source": [
    "### 查找和某个词的有类似上下文的词"
   ]
  },
  {
   "cell_type": "code",
   "execution_count": 3,
   "metadata": {},
   "outputs": [
    {
     "name": "stdout",
     "output_type": "stream",
     "text": [
      "true contemptible christian abundant few part mean careful puzzled\n",
      "mystifying passing curious loving wise doleful gamesome singular\n",
      "delightfully perilous fearless\n"
     ]
    }
   ],
   "source": [
    "text1.similar('monstrous')"
   ]
  },
  {
   "cell_type": "code",
   "execution_count": 4,
   "metadata": {},
   "outputs": [
    {
     "name": "stdout",
     "output_type": "stream",
     "text": [
      "very so exceedingly heartily a as good great extremely remarkably\n",
      "sweet vast amazingly\n"
     ]
    }
   ],
   "source": [
    "text2.similar('monstrous')"
   ]
  },
  {
   "cell_type": "markdown",
   "metadata": {},
   "source": [
    "### 查找两个或多个词的共同上下文"
   ]
  },
  {
   "cell_type": "code",
   "execution_count": 5,
   "metadata": {},
   "outputs": [
    {
     "name": "stdout",
     "output_type": "stream",
     "text": [
      "a_pretty am_glad a_lucky is_pretty be_glad\n"
     ]
    }
   ],
   "source": [
    "text2.common_contexts(['monstrous', 'very'])"
   ]
  },
  {
   "cell_type": "code",
   "execution_count": 6,
   "metadata": {},
   "outputs": [
    {
     "name": "stdout",
     "output_type": "stream",
     "text": [
      "house name brother cattle blood son fowls money thigh god heaven it\n",
      "good land fruit fowl beast lord sight knowledge\n"
     ]
    }
   ],
   "source": [
    "text3.similar('life')"
   ]
  },
  {
   "cell_type": "code",
   "execution_count": 7,
   "metadata": {},
   "outputs": [
    {
     "name": "stdout",
     "output_type": "stream",
     "text": [
      "government power congress freedom peace all liberty war which duty\n",
      "them america country progress man it nations men security justice\n"
     ]
    }
   ],
   "source": [
    "text4.similar('life')"
   ]
  },
  {
   "cell_type": "code",
   "execution_count": 8,
   "metadata": {},
   "outputs": [
    {
     "name": "stdout",
     "output_type": "stream",
     "text": [
      "s_in the_of my_and s_which my_is\n"
     ]
    }
   ],
   "source": [
    "text3.common_contexts(['life', 'house'])"
   ]
  },
  {
   "cell_type": "code",
   "execution_count": 9,
   "metadata": {},
   "outputs": [
    {
     "name": "stdout",
     "output_type": "stream",
     "text": [
      "No common contexts were found\n"
     ]
    }
   ],
   "source": [
    "text4.common_contexts(['lived', 'house'])"
   ]
  },
  {
   "cell_type": "markdown",
   "metadata": {},
   "source": [
    "### 展示词在文本中的位置分布"
   ]
  },
  {
   "cell_type": "code",
   "execution_count": 10,
   "metadata": {},
   "outputs": [
    {
     "data": {
      "image/png": "[encoded data removed]",
      "text/plain": [
       "<Figure size 432x288 with 1 Axes>"
      ]
     },
     "metadata": {
      "needs_background": "light"
     },
     "output_type": "display_data"
    }
   ],
   "source": [
    "%matplotlib inline  \n",
    "text4.dispersion_plot([\"citizens\", \"democracy\", \"freedom\", \"duties\", \"America\", \"no\", \"yes\"])"
   ]
  },
  {
   "cell_type": "markdown",
   "metadata": {},
   "source": [
    "### 生成类似风格的随机文本\n",
    "- NLTK3中暂不支持"
   ]
  },
  {
   "cell_type": "code",
   "execution_count": 11,
   "metadata": {},
   "outputs": [],
   "source": [
    "# text4.generate()"
   ]
  },
  {
   "cell_type": "markdown",
   "metadata": {},
   "source": [
    "### 词汇计数"
   ]
  },
  {
   "cell_type": "markdown",
   "metadata": {},
   "source": [
    "#### 总词汇量"
   ]
  },
  {
   "cell_type": "code",
   "execution_count": 12,
   "metadata": {},
   "outputs": [
    {
     "data": {
      "text/plain": [
       "145735"
      ]
     },
     "execution_count": 12,
     "metadata": {},
     "output_type": "execute_result"
    }
   ],
   "source": [
    "len(text4)"
   ]
  },
  {
   "cell_type": "markdown",
   "metadata": {},
   "source": [
    "#### 不同词汇量"
   ]
  },
  {
   "cell_type": "code",
   "execution_count": 13,
   "metadata": {},
   "outputs": [
    {
     "name": "stdout",
     "output_type": "stream",
     "text": [
      "['!', '\"', '\";', '\"?', '$', \"'\", '(', ')', '),', ',', ',\"', '-', '--', '.', '.\"', '.)', '...', '....', '.¡¨', '000', '1', '100', '120', '125', '13', '14th', '15th', '16', '1774', '1776', '1778', '1780', '1787', '1789', '1790', '1800', '1801', '1812', '1815', '1816', '1817', '1818', '1826', '1850', '1861', '1868', '1873', '1880', '1886', '1890', '1893', '1896', '1897', '1898', '1899', '18th', '1907', '1917', '1933', '1941', '1945', '1963', '1972', '1980', '1984', '19th', '2', '20', '200', '200th', '20th', '21st', '225', '25', '3', '30', '30th', '3d', '4', '41', '48', '4th', '5', '50', '50th', '6', '60', '67', '6th', '7', '8', '9', ':', ';', '?', '?\"', 'A', 'AIDS', 'ALL', 'AMENDMENT']\n"
     ]
    },
    {
     "data": {
      "text/plain": [
       "9754"
      ]
     },
     "execution_count": 13,
     "metadata": {},
     "output_type": "execute_result"
    }
   ],
   "source": [
    "print(sorted(set(text4))[:100])  ## 排序查看前100个词汇，以各种标点符号开始，然后是以A开头的词汇，大写单词排在小写单词前面\n",
    "len(set(text4))"
   ]
  },
  {
   "cell_type": "markdown",
   "metadata": {},
   "source": [
    "#### 每个词汇平均使用次数"
   ]
  },
  {
   "cell_type": "code",
   "execution_count": 14,
   "metadata": {},
   "outputs": [
    {
     "data": {
      "text/plain": [
       "14.941049825712529"
      ]
     },
     "execution_count": 14,
     "metadata": {},
     "output_type": "execute_result"
    }
   ],
   "source": [
    "len(text4)/len(set(text4))"
   ]
  },
  {
   "cell_type": "markdown",
   "metadata": {},
   "source": [
    "#### 某个词汇出现次数及占比"
   ]
  },
  {
   "cell_type": "code",
   "execution_count": 15,
   "metadata": {},
   "outputs": [
    {
     "name": "stdout",
     "output_type": "stream",
     "text": [
      "174\n",
      "0.11939479191683536\n",
      "704\n",
      "1.5640968673628082\n"
     ]
    }
   ],
   "source": [
    "print(text4.count('freedom'))\n",
    "print(100*text4.count('freedom')/len(text4))\n",
    "print(text5.count('lol'))\n",
    "print(100*text5.count('lol')/len(text5))"
   ]
  },
  {
   "cell_type": "markdown",
   "metadata": {},
   "source": [
    "#### 函数\n",
    "- 多次重复计算"
   ]
  },
  {
   "cell_type": "code",
   "execution_count": 16,
   "metadata": {},
   "outputs": [
    {
     "name": "stdout",
     "output_type": "stream",
     "text": [
      "0.06692970116993173\n",
      "0.13477005109975562\n",
      "80.0\n",
      "0.11939479191683536\n",
      "1.5640968673628082\n"
     ]
    }
   ],
   "source": [
    "def lecical_diversity(text):\n",
    "    return len(set(text)) / len(text)\n",
    "def percentage(count, total):\n",
    "    return 100 * count / total\n",
    "\n",
    "print(lecical_diversity(text4))\n",
    "print(lecical_diversity(text5))\n",
    "print(percentage(4,5))\n",
    "print(percentage(text4.count('freedom'),len(text4)))\n",
    "print(percentage(text5.count('lol'),len(text5)))"
   ]
  },
  {
   "cell_type": "markdown",
   "metadata": {},
   "source": [
    "#### 列表\n",
    "- 多个不同数据的相同的计算"
   ]
  },
  {
   "cell_type": "code",
   "execution_count": 17,
   "metadata": {},
   "outputs": [
    {
     "name": "stdout",
     "output_type": "stream",
     "text": [
      "['Call', 'me', 'Ishmael', '.']\n",
      "4\n",
      "['.', 'Call', 'Ishmael', 'me']\n",
      "1\n",
      "1.0\n",
      "['Fellow', '-', 'Citizens', 'of', 'the', 'Senate', 'and', 'of', 'the', 'House', 'of', 'Representatives', ':', 'Call', 'me', 'Ishmael', '.']\n",
      "['Call', 'me', 'Ishmael', '.', 'some'] ['Call', 'me'] Call 1\n",
      "word1 word10\n",
      "['word6', 'word7', 'word8']\n",
      "['word1', 'word2', 'word3'] ['word8', 'word9', 'word10']\n",
      "['First', 'word2', 'word3', 'word4', 'word5', 'word6', 'word7', 'word8', 'word9', 'Last']\n",
      "['First', 'second', 'Third', 'Last']\n"
     ]
    }
   ],
   "source": [
    "sent1 = ['Call', 'me', 'Ishmael', '.']\n",
    "print(sent1)  # 查看、调用列表\n",
    "print(len(sent1))  # 查询列表长度\n",
    "print(sorted(sent1[:10]))  # 列表排序\n",
    "print(sent1.count('me'))  # 列表词频查询\n",
    "print(lecical_diversity(sent1))  # 列表调用函数\n",
    "print(sent4 + sent1)  # 列表拼接\n",
    "sent1.append('some')  # 列表追加\n",
    "print(sent1[:], sent1[:2],sent1[0],sent1.index('me'))  # 列表索引，切片\n",
    "sent = ['word1', 'word2', 'word3', 'word4', 'word5', 'word6', 'word7', 'word8', 'word9', 'word10']\n",
    "print(sent[0],sent[9])  # 索引从0开始\n",
    "print(sent[5:8])  # 索引前闭后开\n",
    "print(sent[:3],sent[7:])  # 索引省略代表第一个或者最后一个\n",
    "sent[0] = 'First'\n",
    "sent[9] = 'Last'  # 列表值修改\n",
    "print(sent)\n",
    "sent[1:9] = ['second', 'Third'] # 列表裁剪\n",
    "print(sent)"
   ]
  },
  {
   "cell_type": "markdown",
   "metadata": {},
   "source": [
    "#### 变量"
   ]
  },
  {
   "cell_type": "code",
   "execution_count": 18,
   "metadata": {},
   "outputs": [
    {
     "name": "stdout",
     "output_type": "stream",
     "text": [
      "['bold', 'Sir', 'Robin']\n",
      "['Robin', 'Sir', 'bold']\n"
     ]
    }
   ],
   "source": [
    "sent1 = ['Call', 'me', 'Ishmael', '.']\n",
    "my_sent = ['Bravely', 'bold', 'Sir', 'Robin', ',', 'rode', 'forth', 'from', 'Camelot', '.']\n",
    "noun_phrase = my_sent[1:4]\n",
    "print(noun_phrase)\n",
    "wOrDs = sorted(noun_phrase)\n",
    "print(wOrDs)"
   ]
  },
  {
   "cell_type": "markdown",
   "metadata": {},
   "source": [
    "#### 字符串"
   ]
  },
  {
   "cell_type": "code",
   "execution_count": 19,
   "metadata": {},
   "outputs": [
    {
     "name": "stdout",
     "output_type": "stream",
     "text": [
      "H\n",
      "Hs\n",
      "HsuHsu\n",
      "Hsu!\n",
      "Hsu Python\n",
      "['Hsu', 'Python']\n"
     ]
    }
   ],
   "source": [
    "name = 'Hsu'\n",
    "print(name[0])\n",
    "print(name[:2])\n",
    "print(name*2)\n",
    "print(name + '!')\n",
    "print(' '.join(['Hsu', 'Python']))\n",
    "print('Hsu Python'.split())"
   ]
  },
  {
   "cell_type": "markdown",
   "metadata": {},
   "source": [
    "### 词频分布\n",
    "- 高频词和低频词都没能很好的体现文本的独特性"
   ]
  },
  {
   "cell_type": "code",
   "execution_count": 20,
   "metadata": {},
   "outputs": [
    {
     "name": "stdout",
     "output_type": "stream",
     "text": [
      "<FreqDist with 9754 samples and 145735 outcomes>\n",
      "[('the', 9281), ('of', 6970), (',', 6840), ('and', 4991), ('.', 4676), ('to', 4311), ('in', 2527), ('a', 2134), ('our', 1905), ('that', 1688), ('be', 1460), ('is', 1403), ('we', 1141), ('for', 1075), ('by', 1036), ('it', 1011), ('which', 1002), ('have', 994), ('not', 916), ('as', 888), ('with', 886), ('will', 846), ('I', 831), ('are', 774), ('all', 758), ('their', 719), ('this', 700), ('The', 619), ('has', 611), ('people', 559), ('its', 554), (';', 544), ('or', 537), ('from', 521), ('on', 496), ('We', 483), ('been', 482), ('but', 479), ('can', 457), ('us', 455), ('my', 449), ('no', 406), ('an', 377), ('--', 363), ('upon', 363), ('who', 356), ('It', 356), ('so', 354), ('must', 345), ('they', 341)]\n",
      "4122 ['notification', '14th', 'fondest', 'predilection', 'flattering', 'asylum', 'interruptions', 'awaken', 'distrustful', 'despondence', 'inheriting', 'endowments', 'unpracticed', 'aver', 'thence', 'consulted', 'disinclination', 'untried', 'cares', 'palliated', 'mislead', 'repaired', 'improper', 'omit', 'tendering', 'homage', 'adore', 'Invisible', 'conducts', 'token', 'pious', 'reflections', 'auspiciously', 'acquit', 'designates', 'congenial', 'actuate', 'rectitude', 'adorn', 'behold', 'misdirect', 'preeminence', 'indissoluble', 'disregards', 'fifth', 'juncture', 'inquietude', 'discernment', 'characteristic', 'impregnably']\n",
      "174\n"
     ]
    }
   ],
   "source": [
    "fdist4 = FreqDist(text4)\n",
    "print(fdist4)\n",
    "print(fdist4.most_common(50))  # top50，高频词\n",
    "print(len(fdist4.hapaxes()),fdist4.hapaxes()[:50])  # 单次出现的词，低频词\n",
    "print(fdist4['freedom'])  # 某个词汇的词频"
   ]
  },
  {
   "cell_type": "markdown",
   "metadata": {},
   "source": [
    "### 累积词频图"
   ]
  },
  {
   "cell_type": "code",
   "execution_count": 21,
   "metadata": {},
   "outputs": [
    {
     "name": "stdout",
     "output_type": "stream",
     "text": [
      "145735\n"
     ]
    },
    {
     "data": {
      "image/png": "[encoded data removed]",
      "text/plain": [
       "<Figure size 432x288 with 1 Axes>"
      ]
     },
     "metadata": {
      "needs_background": "light"
     },
     "output_type": "display_data"
    }
   ],
   "source": [
    "print(len(text4))\n",
    "fdist4.plot(50, cumulative=True)"
   ]
  },
  {
   "cell_type": "markdown",
   "metadata": {},
   "source": [
    "### 长词统计（字符大于15）\n",
    "- {w | w ∈ V & P(w)}\n",
    "- [w for w in V if p(w)]\n",
    "- 长词能反映文本特征"
   ]
  },
  {
   "cell_type": "code",
   "execution_count": 22,
   "metadata": {},
   "outputs": [
    {
     "name": "stdout",
     "output_type": "stream",
     "text": [
      "['RESPONSIBILITIES', 'antiphilosophists', 'constitutionally', 'contradistinction', 'discountenancing', 'disqualification', 'enthusiastically', 'instrumentalities', 'internationality', 'irresponsibility', 'misappropriation', 'misrepresentation', 'misunderstanding', 'responsibilities', 'sentimentalizing', 'transcontinental', 'uncharitableness', 'unconstitutional']\n"
     ]
    }
   ],
   "source": [
    "V=set(text4)\n",
    "long_words = [w for w in V if len(w) > 15]\n",
    "print(sorted(long_words))"
   ]
  },
  {
   "cell_type": "markdown",
   "metadata": {},
   "source": [
    "### 提取文本特征词汇\n",
    "- 频繁出现的长词（长高频词），忽略短高频词、长低频词"
   ]
  },
  {
   "cell_type": "code",
   "execution_count": 23,
   "metadata": {},
   "outputs": [
    {
     "name": "stdout",
     "output_type": "stream",
     "text": [
      "['#14-19teens', '#talkcity_adults', '((((((((((', '........', 'Question', 'actually', 'anything', 'computer', 'cute.-ass', 'everyone', 'football', 'innocent', 'listening', 'remember', 'seriously', 'something', 'together', 'tomorrow', 'watching']\n",
      "['responsibilities']\n"
     ]
    }
   ],
   "source": [
    "fdist5 = FreqDist(text5)\n",
    "print(sorted(w for w in fdist5 if len(w) > 7 and fdist5[w] > 7))\n",
    "print(sorted(w for w in fdist4 if len(w) > 15 and fdist4[w] > 15))"
   ]
  },
  {
   "cell_type": "markdown",
   "metadata": {},
   "source": [
    "### 词语搭配及双连词\n",
    "- 搭配：一起出现的词序列是不常见的，比如：red wine是搭配，而the wine不是搭配\n",
    "- 特点：搭配的词不能被类似的词替换，比如：green wine就很奇怪"
   ]
  },
  {
   "cell_type": "code",
   "execution_count": 24,
   "metadata": {},
   "outputs": [
    {
     "name": "stdout",
     "output_type": "stream",
     "text": [
      "[('more', 'is'), ('is', 'said'), ('said', 'than'), ('than', 'done')]\n",
      "['United States', 'fellow citizens', 'four years', 'years ago', 'Federal Government', 'General Government', 'American people', 'Vice President', 'Old World', 'Almighty God', 'Fellow citizens', 'Chief Magistrate', 'Chief Justice', 'God bless', 'every citizen', 'Indian tribes', 'public debt', 'one another', 'foreign nations', 'political parties']\n",
      "['would like', 'medium build', 'social drinker', 'quiet nights', 'non smoker', 'long term', 'age open', 'Would like', 'easy going', 'financially secure', 'fun times', 'similar interests', 'Age open', 'weekends away', 'poss rship', 'well presented', 'never married', 'single mum', 'permanent relationship', 'slim build']\n"
     ]
    }
   ],
   "source": [
    "print(list(bigrams(['more', 'is', 'said', 'than', 'done'])))  # 获取双联词\n",
    "print(text4.collocation_list())  # 获取高频双连词，即搭配\n",
    "print(text8.collocation_list())"
   ]
  },
  {
   "cell_type": "markdown",
   "metadata": {},
   "source": [
    "### 词长统计"
   ]
  },
  {
   "cell_type": "code",
   "execution_count": 25,
   "metadata": {},
   "outputs": [
    {
     "name": "stdout",
     "output_type": "stream",
     "text": [
      "{6: 10604, 1: 16269, 8: 7168, 2: 27111, 3: 28426, 5: 12885, 15: 79, 12: 1411, 4: 18158, 7: 9827, 9: 5591, 11: 2442, 10: 4690, 13: 615, 14: 399, 17: 10, 16: 50}\n",
      "[(3, 28426), (2, 27111), (4, 18158), (1, 16269), (5, 12885), (6, 10604), (7, 9827), (8, 7168), (9, 5591), (10, 4690), (11, 2442), (12, 1411), (13, 615), (14, 399), (15, 79), (16, 50), (17, 10)]\n",
      "3\n",
      "0.19505266408206676\n"
     ]
    }
   ],
   "source": [
    "fdist = FreqDist(len(w) for w in text4)\n",
    "print(dict(fdist)) \n",
    "print(fdist.most_common())  # 按词频排列，找出高频词\n",
    "print(fdist.max())  # 取出最高频词\n",
    "print(fdist.freq(3))  # 某个词的频率"
   ]
  },
  {
   "cell_type": "markdown",
   "metadata": {},
   "source": [
    "### 词频分布function"
   ]
  },
  {
   "cell_type": "code",
   "execution_count": 36,
   "metadata": {},
   "outputs": [
    {
     "name": "stdout",
     "output_type": "stream",
     "text": [
      "['B', 'N', 'Nr', '_N', '__add__', '__and__', '__class__', '__contains__', '__delattr__', '__delitem__', '__dict__', '__dir__', '__doc__', '__eq__', '__format__', '__ge__', '__getattribute__', '__getitem__', '__gt__', '__hash__', '__iadd__', '__iand__', '__init__', '__init_subclass__', '__ior__', '__isub__', '__iter__', '__le__', '__len__', '__lt__', '__missing__', '__module__', '__ne__', '__neg__', '__new__', '__or__', '__pos__', '__reduce__', '__reduce_ex__', '__repr__', '__setattr__', '__setitem__', '__sizeof__', '__str__', '__sub__', '__subclasshook__', '__unicode__', '__weakref__', '_cumulative_frequencies', '_keep_positive', 'clear', 'copy', 'elements', 'freq', 'fromkeys', 'get', 'hapaxes', 'items', 'keys', 'max', 'most_common', 'pformat', 'plot', 'pop', 'popitem', 'pprint', 'r_Nr', 'setdefault', 'subtract', 'tabulate', 'unicode_repr', 'update', 'values']\n",
      "145735\n",
      "174\n",
      "175\n",
      "0.001200801449195806\n",
      "145736\n",
      "9754\n",
      "9754\n",
      "[('the', 9281), ('of', 6970), (',', 6840), ('and', 4991), ('.', 4676), ('to', 4311), ('in', 2527), ('a', 2134), ('our', 1905), ('that', 1688)]\n",
      "the\n"
     ]
    },
    {
     "data": {
      "image/png": "[encoded data removed]",
      "text/plain": [
       "<Figure size 432x288 with 1 Axes>"
      ]
     },
     "metadata": {
      "needs_background": "light"
     },
     "output_type": "display_data"
    },
    {
     "data": {
      "image/png": "[encoded data removed]",
      "text/plain": [
       "<Figure size 432x288 with 1 Axes>"
      ]
     },
     "metadata": {
      "needs_background": "light"
     },
     "output_type": "display_data"
    }
   ],
   "source": [
    "# %matplotlib inline  \n",
    "samples = text4\n",
    "sample = 'freedom'\n",
    "n = 10\n",
    "fdist = FreqDist(samples)  # create a frequency distribution containing the given samples\n",
    "print(dir(fdist))\n",
    "print(len(text4))\n",
    "print(fdist[sample])  # count of the number of times a given sample occurred\n",
    "fdist[sample] += 1  # increment the count for this sample\n",
    "print(fdist[sample])\n",
    "print(fdist.freq(sample))  # frequency of a given sample\n",
    "print(fdist.N())  # total number of samples\n",
    "print(fdist.B())  # the total number of sample values\n",
    "print(len(fdist.keys()))  # the number of keys\n",
    "print(fdist.most_common(n))  # the n most common samples and their frequencies\n",
    "for sample in fdist:  # iterate over the samples\n",
    "    pass\n",
    "print(fdist.max())  # sample with the greatest count\n",
    "# fdist.tabulate()  # tabulate the frequency distribution\n",
    "fdist.plot(50)  # graphical plot of the frequency distribution\n",
    "fdist.plot(50, cumulative=True)  # cumulative plot of the frequency distribution"
   ]
  },
  {
   "cell_type": "markdown",
   "metadata": {},
   "source": [
    "### 比较运算符\n",
    "- 数值比较运算符：<、<=、==、!=、>、>=\n",
    "- 词比较运算符：startswith、endswith、islower……"
   ]
  },
  {
   "cell_type": "code",
   "execution_count": 56,
   "metadata": {},
   "outputs": [
    {
     "name": "stdout",
     "output_type": "stream",
     "text": [
      "['Pierre', 'Vinken', ',', '61', 'years', 'old', ',', 'will', 'join', 'the', 'board', 'as', 'a', 'nonexecutive', 'director', 'Nov.', '29', '.']\n",
      "[',', '61', 'old', ',', 'the', 'as', 'a', '29', '.']\n",
      "[',', '61', 'old', ',', 'will', 'join', 'the', 'as', 'a', 'Nov.', '29', '.']\n",
      "['will', 'join', 'Nov.']\n",
      "['Pierre', 'Vinken', ',', '61', 'years', 'old', ',', 'the', 'board', 'as', 'a', 'nonexecutive', 'director', '29', '.']\n",
      "['Pierre', 'Vinken', 'years', 'will', 'join', 'board', 'nonexecutive', 'director', 'Nov.']\n",
      "['Pierre', 'Vinken', 'years', 'board', 'nonexecutive', 'director']\n",
      "****************************************\n",
      "['comfortableness', 'honourableness', 'immutableness', 'indispensableness', 'indomitableness', 'intolerableness', 'palpableness', 'reasonableness', 'uncomfortableness']\n",
      "['Sovereignty', 'sovereignties', 'sovereignty']\n",
      "['A', 'AIDS', 'ALL', 'AMENDMENT', 'AS', 'BUSINESS', 'BY', 'CONCLUSION', 'CONGRESS', 'COOPERATION']\n",
      "['A', 'Aaaaaaaaah', 'Aaaaaaaah', 'Aaaaaah', 'Aaaah', 'Aaaaugh', 'Aaagh', 'Aaah', 'Aaauggh', 'Aaaugh']\n",
      "['29', '61']\n",
      "['Stock-index', 'index-arbitrage', 'index-fund', 'index-options', 'index-related', 'stock-index']\n",
      "['Abelmizraim', 'Allonbachuth', 'Beerlahairoi', 'Canaanitish', 'Chedorlaomer', 'EleloheIsrael', 'Girgashites', 'Hazarmaveth', 'Hazezontamar', 'Ishmeelites']\n",
      "[',', '.', '29', '61', 'Nov.', 'Pierre', 'Vinken']\n",
      "['ancient', 'ceiling', 'conceit', 'conceited', 'conceive', 'conscience', 'conscientious', 'conscientiously', 'deceitful', 'deceive']\n"
     ]
    }
   ],
   "source": [
    "\"\"\"\n",
    "<   # less than\n",
    "<=  # less than or equal to\n",
    "==  # equal to (note this is two \"=\" signs, not one)\n",
    "!=  # not equal to\n",
    ">   # greater than\n",
    ">=  # greater than or equal to\n",
    "\"\"\"\n",
    "print(sent7)\n",
    "print([w for w in sent7 if len(w) < 4])\n",
    "print([w for w in sent7 if len(w) <= 4])\n",
    "print([w for w in sent7 if len(w) == 4])\n",
    "print([w for w in sent7 if len(w) != 4])\n",
    "print([w for w in sent7 if len(w) >= 4])\n",
    "print([w for w in sent7 if len(w) > 4])\n",
    "\n",
    "\"\"\"\n",
    "s.startswith(t)  # test if s starts with t\n",
    "s.endswith(t)  # test if s ends with t\n",
    "t in s  # test if t is a substring of s\n",
    "s.islower()  # test if s contains cased characters and all are lowercase\n",
    "s.isupper()  # test if s contains cased characters and all are uppercase\n",
    "s.isalpha()  # test if s is non-empty and all characters in s are alphabetic\n",
    "s.isalnum()  # test if s is non-empty and all characters in s are alphanumeric\n",
    "s.isdigit()  # test if s is non-empty and all characters in s are digits\n",
    "s.istitle()  # test if s contains cased characters and is titlecased (i.e. all words in s have initial capitals)\n",
    "\"\"\"\n",
    "print('*'*40)\n",
    "print(sorted(w for w in set(text1) if w.endswith('ableness')))\n",
    "print(sorted(w for w in set(text4) if 'gnt' in w))\n",
    "print(sorted(w for w in set(text4) if w.isupper())[:10])\n",
    "print(sorted(w for w in set(text6) if w.istitle())[:10])\n",
    "print(sorted(w for w in set(sent7) if w.isdigit()))\n",
    "print(sorted(w for w in set(text7) if '-' in w and 'index' in w))\n",
    "print(sorted(w for w in set(text3) if w.isalnum() and len(w) > 10)[:10])\n",
    "print(sorted(w for w in set(sent7) if not w.islower()))\n",
    "print(sorted(w for w in set(text2) if 'cie' in w or 'cei' in w)[:10])"
   ]
  },
  {
   "cell_type": "markdown",
   "metadata": {},
   "source": [
    "### 对每个元素进行操作\n",
    "- 清洗及挑选数据"
   ]
  },
  {
   "cell_type": "code",
   "execution_count": 59,
   "metadata": {},
   "outputs": [
    {
     "name": "stdout",
     "output_type": "stream",
     "text": [
      "260819\n",
      "19317\n",
      "17231\n",
      "16948\n"
     ]
    }
   ],
   "source": [
    "print(len(text1))  # 样本\n",
    "print(len(set(text1)))  # 去重\n",
    "print(len(set(word.lower() for word in text1)))  # 消除大小写\n",
    "print(len(set(word.lower() for word in text1 if word.isalpha())))  # 消除数字及标点符号"
   ]
  },
  {
   "cell_type": "code",
   "execution_count": 64,
   "metadata": {},
   "outputs": [
    {
     "data": {
      "text/plain": [
       "192427"
      ]
     },
     "execution_count": 64,
     "metadata": {},
     "output_type": "execute_result"
    }
   ],
   "source": [
    "nltk.corpus.gutenberg.fileids()\n",
    "emma = nltk.corpus.gutenberg.words('austen-emma.txt')\n",
    "len(emma)"
   ]
  },
  {
   "cell_type": "code",
   "execution_count": 65,
   "metadata": {},
   "outputs": [
    {
     "name": "stdout",
     "output_type": "stream",
     "text": [
      "The Zen of Python, by Tim Peters\n",
      "\n",
      "Beautiful is better than ugly.\n",
      "Explicit is better than implicit.\n",
      "Simple is better than complex.\n",
      "Complex is better than complicated.\n",
      "Flat is better than nested.\n",
      "Sparse is better than dense.\n",
      "Readability counts.\n",
      "Special cases aren't special enough to break the rules.\n",
      "Although practicality beats purity.\n",
      "Errors should never pass silently.\n",
      "Unless explicitly silenced.\n",
      "In the face of ambiguity, refuse the temptation to guess.\n",
      "There should be one-- and preferably only one --obvious way to do it.\n",
      "Although that way may not be obvious at first unless you're Dutch.\n",
      "Now is better than never.\n",
      "Although never is often better than *right* now.\n",
      "If the implementation is hard to explain, it's a bad idea.\n",
      "If the implementation is easy to explain, it may be a good idea.\n",
      "Namespaces are one honking great idea -- let's do more of those!\n"
     ]
    }
   ],
   "source": [
    "import this"
   ]
  },
  {
   "cell_type": "code",
   "execution_count": 68,
   "metadata": {},
   "outputs": [
    {
     "data": {
      "text/plain": [
       "\u001b[0;31mDocstring:\u001b[0m\n",
       "log(x[, base])\n",
       "\n",
       "Return the logarithm of x to the given base.\n",
       "If the base not specified, returns the natural logarithm (base e) of x.\n",
       "\u001b[0;31mType:\u001b[0m      builtin_function_or_method\n"
      ]
     },
     "metadata": {},
     "output_type": "display_data"
    }
   ],
   "source": [
    "import math\n",
    "math.log??"
   ]
  },
  {
   "cell_type": "code",
   "execution_count": null,
   "metadata": {},
   "outputs": [],
   "source": []
  }
 ],
 "metadata": {
  "kernelspec": {
   "display_name": "Python 3",
   "language": "python",
   "name": "python3"
  },
  "language_info": {
   "codemirror_mode": {
    "name": "ipython",
    "version": 3
   },
   "file_extension": ".py",
   "mimetype": "text/x-python",
   "name": "python",
   "nbconvert_exporter": "python",
   "pygments_lexer": "ipython3",
   "version": "3.6.8"
  }
 },
 "nbformat": 4,
 "nbformat_minor": 2
}
