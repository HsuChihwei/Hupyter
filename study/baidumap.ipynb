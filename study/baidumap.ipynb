{
 "cells": [
  {
   "cell_type": "code",
   "execution_count": 11,
   "metadata": {},
   "outputs": [
    {
     "name": "stdout",
     "output_type": "stream",
     "text": [
      "24\n",
      "31\n",
      "690\n"
     ]
    }
   ],
   "source": [
    "# !/usr/bin/env python3\n",
    "# -*- coding: utf-8 -*-\n",
    "'''\n",
    "@Author: zhiwei.xu\n",
    "@LastEditors: zhiwei.xu\n",
    "@Date: 2019-05-13 16:22:47\n",
    "@LastEditTime: 2019-05-13 17:37:56\n",
    "'''\n",
    "import requests\n",
    "\n",
    "BAIDU_AK = \"duzy3ZKbuSARjof2clCzz3m1SAAKOaDe\"\n",
    "\n",
    "\n",
    "class BaiduPOI(object):\n",
    "    def __init__(self, tag, loc):\n",
    "        self.tag = tag\n",
    "        self.loc = loc\n",
    "        self.ak = BAIDU_AK\n",
    "        self.urls = self._urls()\n",
    "\n",
    "    def _urls(self):\n",
    "        urls = []\n",
    "        for page in range(0, 20):\n",
    "            url = f\"http://api.map.baidu.com/place/v2/search?query={self.tag}&bounds={self.loc}&page_size=20&page_num={page}&output=json&ak={self.ak}\"\n",
    "            urls.append(url)\n",
    "        return urls\n",
    "\n",
    "    def search(self):\n",
    "        json_sel = []\n",
    "        for url in self.urls:\n",
    "            resp = requests.get(url)\n",
    "            data = resp.json()\n",
    "            result = data.get('results', [])\n",
    "            if not data:\n",
    "                break\n",
    "            for item in data['results']:\n",
    "                # import pdb; pdb.set_trace()\n",
    "                jname = item[\"name\"]\n",
    "                jlat = item[\"location\"][\"lat\"]\n",
    "                jlng = item[\"location\"][\"lng\"]\n",
    "                address = item[\"address\"]\n",
    "                tel = item.get(\"telephone\", \"\")\n",
    "                js_sel = jname + ',' + str(jlat) + ',' + str(jlng) + ',' + str(tel) + ',' + str(address)\n",
    "                json_sel.append(js_sel)\n",
    "        return json_sel\n",
    "\n",
    "\n",
    "class LocaDiv(object):\n",
    "    \"\"\"\n",
    "    在纬度相等的情况下：\n",
    "        经度每隔0.00001度，距离相差约1米；\n",
    "        经度每隔0.0001度，距离相差约10米；\n",
    "        经度每隔0.001度，距离相差约100米；\n",
    "        经度每隔0.01度，距离相差约1000米；\n",
    "        经度每隔0.1度，距离相差约10000米。\n",
    "    在经度相等的情况下：\n",
    "        纬度每隔0.00001度，距离相差约1.1米；\n",
    "        纬度每隔0.0001度，距离相差约11米；\n",
    "        纬度每隔0.001度，距离相差约111米；\n",
    "        纬度每隔0.01度，距离相差约1113米；\n",
    "        纬度每隔0.1度，距离相差约11132米。\n",
    "    \"\"\"\n",
    "    def __init__(self, loc_all):\n",
    "        self.loc_all = loc_all.split(',')\n",
    "        self.lat_all = self._lat_all()\n",
    "        self.lng_all = self._lng_all()\n",
    "\n",
    "    def _lat_all(self,size=0.02):\n",
    "        \"\"\"size为0.02 约2.2km\"\"\"\n",
    "        lat_sw = float(self.loc_all[0])\n",
    "        lat_ne = float(self.loc_all[2])\n",
    "        lat_list = []\n",
    "        for i in range(0, int((lat_ne - lat_sw + size) / size)):  # 网格\n",
    "            lat_list.append(lat_sw + size * i)\n",
    "        lat_list.append(lat_ne)\n",
    "        print(len(lat_list),lat_list)\n",
    "        return lat_list\n",
    "\n",
    "    def _lng_all(self,size=0.02):\n",
    "        \"\"\"size为0.02 约2km\"\"\"\n",
    "        lng_sw = float(self.loc_all[1])\n",
    "        lng_ne = float(self.loc_all[3])\n",
    "        lng_list = []\n",
    "        for i in range(0, int((lng_ne - lng_sw + size) / size)):  # 网格\n",
    "            lng_list.append(lng_sw + size * i)\n",
    "        lng_list.append(lng_ne)\n",
    "        print(len(lng_list))\n",
    "        return lng_list\n",
    "\n",
    "    def ls_dot(self):\n",
    "        row = []\n",
    "        for lat in self.lat_all:\n",
    "            tmp_row = []\n",
    "            for lng in self.lng_all:\n",
    "                tmp_row.append(f\"{lat},{lng}\")\n",
    "            row.append(tmp_row)\n",
    "        return row\n",
    "\n",
    "    def ls_row(self):\n",
    "        l2 = self.lng_all\n",
    "        dots = self.ls_dot()\n",
    "#         print(dots)\n",
    "        loc = []\n",
    "        for i in range(0, len(self.lat_all) - 1):\n",
    "            for j in range(0, len(self.lng_all) - 1):\n",
    "                loc.append(f\"{dots[i][j]},{dots[i+1][j+1]}\")\n",
    "        print(len(loc))\n",
    "        return loc\n",
    "a = LocaDiv('39.7022901558,116.1115072963,40.1489353260,116.6978758455').ls_row()\n",
    "\"39.7040730000,116.1003230000,40.1830090000,116.6980920000\""
   ]
  },
  {
   "cell_type": "code",
   "execution_count": 13,
   "metadata": {},
   "outputs": [
    {
     "data": {
      "text/plain": [
       "70474.61402861307"
      ]
     },
     "execution_count": 13,
     "metadata": {},
     "output_type": "execute_result"
    }
   ],
   "source": [
    "# 计算经纬度距离\n",
    "\n",
    "from math import radians, cos, sin, asin, sqrt\n",
    " \n",
    "def haversine(lat1, lon1, lat2, lon2): # 维度1，经度1，维度2，经度2 （十进制度数）\n",
    "    \"\"\"\n",
    "    Calculate the great circle distance between two points \n",
    "    on the earth (specified in decimal degrees)\n",
    "    \"\"\"\n",
    "    # 将十进制度数转化为弧度\n",
    "    lon1, lat1, lon2, lat2 = map(radians, [lon1, lat1, lon2, lat2])\n",
    " \n",
    "    # haversine公式\n",
    "    dlon = lon2 - lon1 \n",
    "    dlat = lat2 - lat1 \n",
    "    a = sin(dlat/2)**2 + cos(lat1) * cos(lat2) * sin(dlon/2)**2\n",
    "    c = 2 * asin(sqrt(a)) \n",
    "    r = 6371 # 地球平均半径，单位为公里\n",
    "    return c * r * 1000\n",
    "\n",
    "haversine(39.7022901558,116.1115072963,40.1489353260,116.6978758455)"
   ]
  },
  {
   "cell_type": "code",
   "execution_count": 31,
   "metadata": {},
   "outputs": [
    {
     "name": "stdout",
     "output_type": "stream",
     "text": [
      "690 aver:4.397101449275362\n"
     ]
    },
    {
     "data": {
      "text/plain": [
       "{1: 80,\n",
       " 2: 265,\n",
       " 3: 95,\n",
       " 4: 52,\n",
       " 5: 30,\n",
       " 6: 26,\n",
       " 7: 31,\n",
       " 8: 16,\n",
       " 9: 11,\n",
       " 10: 14,\n",
       " 11: 12,\n",
       " 12: 8,\n",
       " 13: 12,\n",
       " 14: 8,\n",
       " 15: 5,\n",
       " 16: 3,\n",
       " 17: 3,\n",
       " 18: 3,\n",
       " 19: 3,\n",
       " 20: 13}"
      ]
     },
     "execution_count": 31,
     "metadata": {},
     "output_type": "execute_result"
    }
   ],
   "source": [
    "import numpy as np\n",
    "\n",
    "lst = [2, 2, 2, 1, 2, 2, 1, 2, 2, 3, 2, 3, 3, 4, 2, 2, 2, 2, 3, 2, 1, 1, 1, 2, 2, 2, 1, 1, 1, 2, 6, 13, 6, 6, 2, 2, 2, 2, 3, 2, 2, 13, 5, 2, 2, 2, 3, 3, 2, 1, 1, 2, 4, 3, 1, 2, 1, 1, 2, 1, 2, 6, 5, 3, 2, 4, 1, 2, 2, 5, 5, 13, 4, 3, 2, 2, 3, 2, 1, 2, 2, 4, 5, 2, 2, 2, 2, 3, 1, 1, 2, 2, 4, 3, 4, 4, 2, 2, 2, 2, 4, 10, 4, 4, 2, 3, 2, 2, 2, 3, 2, 5, 9, 2, 2, 3, 1, 1, 1, 2, 2, 1, 2, 2, 2, 1, 1, 1, 2, 6, 4, 11, 3, 3, 2, 3, 2, 2, 2, 7, 5, 2, 2, 2, 1, 1, 1, 2, 2, 1, 1, 2, 6, 3, 3, 2, 1, 1, 2, 3, 1, 5, 3, 5, 4, 5, 6, 10, 2, 5, 3, 4, 3, 6, 2, 1, 1, 2, 2, 1, 1, 2, 2, 2, 2, 3, 2, 2, 3, 6, 4, 5, 2, 3, 3, 3, 4, 4, 3, 4, 7, 2, 2, 2, 3, 2, 2, 2, 2, 1, 2, 2, 2, 2, 2, 2, 3, 2, 4, 8, 9, 6, 5, 12, 13, 10, 9, 7, 12, 4, 8, 7, 3, 3, 3, 2, 2, 1, 2, 1, 2, 1, 2, 2, 2, 2, 2, 5, 6, 9, 7,3, 7, 9, 2, 11, 12, 18, 12, 7, 6, 8, 3, 1, 2, 2, 2, 4, 4, 2, 2, 2, 1, 2, 2, 2, 5, 9, 10, 6, 14, 15, 13, 12, 16, 8, 10, 19, 19, 8, 3, 3, 2, 2, 3, 2, 7, 10, 11, 4, 4, 3, 2, 4, 7, 9, 7, 8, 10, 8, 10, 10, 14, 20, 10, 20, 16, 20, 20, 19, 9, 8, 10, 8, 7, 3, 13, 7, 5, 3, 7, 2, 4, 6, 10, 4, 3, 7, 1, 8, 7, 8, 14, 14, 8, 15, 20, 20, 13, 12, 20, 5, 4, 6, 12, 7, 5, 3, 4, 3, 4, 2, 2, 2, 3, 2, 5, 3, 6, 7, 13, 11, 15, 14, 20, 20, 17, 20, 11, 3, 4, 2, 6, 2, 2, 2, 2, 2, 2, 2, 3, 2, 1, 2, 1, 2, 2, 3, 4, 11, 18, 17, 13, 13, 10, 16, 13, 14, 7, 14, 2, 4, 3, 3, 2, 2, 2, 2, 2, 2, 1, 1, 1,2, 4, 3, 2, 2, 2, 5, 20, 20, 11, 15, 7, 18, 7, 6, 20, 13, 2, 2, 2, 2, 2, 2, 5, 2, 2, 2, 2, 1, 1, 1, 2, 2, 2, 2, 4, 4, 4, 6, 11, 7, 7, 11, 3, 6, 17, 9, 3, 5, 3, 8, 2, 3, 1, 2, 2, 1, 1, 1, 2, 2, 1, 2, 2, 2, 6, 4, 9, 6, 7, 3, 2, 7, 6, 4, 4, 3, 3, 2, 3, 2, 2, 2, 4, 1, 3, 1, 2, 2, 2, 3, 3, 2, 2, 2, 3, 8, 7, 11, 4, 3, 3, 11, 7, 2, 3, 3, 3, 2, 2, 2, 7, 3, 2, 2, 3, 2, 2, 2, 2, 2, 1, 3, 2, 2, 2, 2, 8, 9, 10, 3, 2, 14, 7, 2, 1, 2, 2, 2, 4, 4, 2, 2, 2, 2, 2, 1, 2, 2, 2, 2, 2, 2, 1, 2, 2, 6, 7, 11, 6, 5, 4, 8, 7, 3, 2, 2, 2, 5, 2, 3, 3, 2, 1, 3, 2, 2, 3, 2, 2, 2, 2, 3, 2, 2, 5,7, 3, 2, 3, 12, 5, 4, 2, 2, 1, 3, 3, 5, 4, 3, 1, 3, 2, 6, 3, 2, 1, 2, 2, 2, 2, 2, 2, 4, 5, 2, 1, 3, 2, 2, 3, 5, 4, 2, 2, 2, 2, 2, 4, 2, 2, 3, 5, 15, 3, 2, 1, 4, 2, 1, 2, 2, 2, 2, 2, 2, 2, 1,1, 1, 1, 2, 2, 1, 1, 2, 1, 2, 2, 2, 1, 3, 3, 4, 1, 1]\n",
    "print(len(lst), f'aver:{sum(lst)/len(lst)}')\n",
    "\n",
    "dict(zip(*np.unique(lst, return_counts=True)))"
   ]
  },
  {
   "cell_type": "markdown",
   "metadata": {},
   "source": [
    "### 计算坐标是否在多边形内部（后续用来判定坐标点是否在国内）"
   ]
  },
  {
   "cell_type": "code",
   "execution_count": 93,
   "metadata": {},
   "outputs": [
    {
     "name": "stdout",
     "output_type": "stream",
     "text": [
      "False\n"
     ]
    }
   ],
   "source": [
    "def is_point_in_polygon(point, poly_list):\n",
    "    '''\n",
    "    :param point: tuple (lon, lat) 经纬度坐标\n",
    "    :param poly_list: list [(lon, lat)...] 多边形点的顺序需根据顺时针或逆时针，不能乱\n",
    "    '''\n",
    "    # 多边形变数少于3，直接返回False\n",
    "    p_cnt = len(poly_list)\n",
    "    if(p_cnt < 3):\n",
    "        return False\n",
    "    \n",
    "    # 判断是否在外包矩形内，如果不在，直接返回False\n",
    "    alon = point[0]\n",
    "    alat = point[1]\n",
    "    lon_list = [] # 经度\n",
    "    lat_list = [] # 纬度\n",
    "    for poi in poly_list:\n",
    "        lon_list.append(poi[0])\n",
    "        lat_list.append(poi[1])\n",
    "    lon_max = max(lon_list)\n",
    "    lon_min = min(lon_list)\n",
    "    lat_max = max(lat_list)\n",
    "    lat_min = min(lat_list)\n",
    "    if (alon > lon_max or alon < lon_min or alon > lat_max or alat < lat_min):\n",
    "        return False\n",
    "    \n",
    "    # 判断点在多边形内\n",
    "    count = 0\n",
    "    for i in range(p_cnt):\n",
    "        # 边第一点\n",
    "        plon1 = poly_list[i][0]\n",
    "        plat1 = poly_list[i][1]\n",
    "        # 边第二点\n",
    "        if(i == p_cnt - 1):\n",
    "            plon2 = poly_list[0][0]\n",
    "            plat2 = poly_list[0][1]\n",
    "        else:\n",
    "            plon2 = poly_list[i + 1][0]\n",
    "            plat2 = poly_list[i + 1][1]\n",
    "        \n",
    "        # 点与多边形顶点重合,在顶点上\n",
    "        if (alon == plon1 and alat == plat1) or (alon == plon2 and alat == plat2):\n",
    "            return False\n",
    "        \n",
    "        # 判断线段两端点是否在判断点射线两侧，不在不相交，射线（-∞，lat）（lon, lat）\n",
    "        if (plat1 <= alat and alat < plat2) or (plat2 <= alat and alat < plat1):\n",
    "            # 求线段与射线交点的经度 再和判断点经度比较\n",
    "            plon = plon2 - ((plat2 - alat) * (plon2 - plon1))/(plat2 - plat1)\n",
    "            # 点在多边形边上\n",
    "            if plon == alon:\n",
    "                return False\n",
    "            if (plon < alon):\n",
    "                count += 1\n",
    "\n",
    "    if count%2 == 0:\n",
    "        return False\n",
    "    else:\n",
    "        return True\n",
    "\n",
    "print(is_point_in_polygon([1.1,1], [[0,0],[1,0],[1,1],[0,1]]))"
   ]
  },
  {
   "cell_type": "markdown",
   "metadata": {},
   "source": [
    "### 将中国分为几大块\n",
    "- 纬度3.86~53.55,经度73.66~135.05\n",
    "- "
   ]
  },
  {
   "cell_type": "code",
   "execution_count": null,
   "metadata": {},
   "outputs": [],
   "source": [
    "#\n",
    "\n",
    "[\n",
    "(49.220400,079.446200,42.889900,096.330000),\n",
    "(54.141500,109.687200,39.374200,135.000200),\n",
    "(42.889900,073.124600,29.529700,124.143255),\n",
    "(29.529700,082.968400,26.718600,097.035200),\n",
    "(29.529700,097.025300,20.414096,124.367395),\n",
    "(20.414096,107.975793,17.871542,111.744104),\n",
    "]"
   ]
  },
  {
   "cell_type": "code",
   "execution_count": 130,
   "metadata": {},
   "outputs": [
    {
     "name": "stdout",
     "output_type": "stream",
     "text": [
      "25 25\n"
     ]
    },
    {
     "data": {
      "text/plain": [
       "8"
      ]
     },
     "execution_count": 130,
     "metadata": {},
     "output_type": "execute_result"
    }
   ],
   "source": [
    "def n(n):\n",
    "    a=0                     # 1\n",
    "    b=1                     # 1\n",
    "    for i in range(n):      # n\n",
    "        s=a+b               # n \n",
    "        b=a                 # n\n",
    "        a=s                 # n\n",
    "    return a,b              # 1\n",
    "\n",
    "def demo1(n):\n",
    "    sum=0                   # 1\n",
    "    for i in range(n):      # n\n",
    "        for j in range(n):  # n^2\n",
    "            sum += 1        # n^2\n",
    "    return sum              # 1\n",
    "\n",
    "def demo2(n):\n",
    "    x=y=0                           # 1\n",
    "    for i in range(1, n):           # n-1\n",
    "        y = y+1                     # n-1\n",
    "        for j in range(0, 2*n+1):   # (n-1)*(2*n+1)\n",
    "            x += 1                  # (n-1)*(2*n+1)\n",
    "    return x,y                      # 1\n",
    "print(demo0(5),demo1(5))\n",
    "# 25 (44, 4)\n",
    "\n",
    "def demo3(n):\n",
    "    i=1             # 1\n",
    "    while (i<=n):   # 由循环体决定\n",
    "        i=i*2       # 设频度是f(n),则：2^f(n)<=n;f(n)<=log2n\n",
    "    return i        # 1\n",
    "\n",
    "def demo4(n):\n",
    "    x = 0                          # 1\n",
    "    for i in range(n):             # n\n",
    "        for j in range(0, i):      # (n-1)*n/2 >> n^2/2 \n",
    "            for k in range(0, j):  # (1+(1+n)*n/2)*/2/2\n",
    "                x += 2\n",
    "    return x\n",
    "demo4(4)"
   ]
  },
  {
   "cell_type": "code",
   "execution_count": 131,
   "metadata": {},
   "outputs": [],
   "source": [
    "class Node(object) :\n",
    "    \"\"\"A node in a binary search tree.\"\"\"\n",
    "    \n",
    "    def __init__(self, value) :\n",
    "        \"\"\"A new Node in a Binary Search Tree\n",
    "\n",
    "        Parameters:\n",
    "        value: Element to be stored in this Node.\n",
    "        Must be comparable by ==, > and <.\n",
    "        \"\"\"\n",
    "        self._value = value\n",
    "        self._left = None\n",
    "        self._right = None\n",
    "\n",
    "    def insert(self, value) :\n",
    "        \"\"\"Add 'value' into this Node in the search tree.\n",
    "\n",
    "        Parameters:\n",
    "        value: Element to be stored in this Node.\n",
    "        Must be comparable by ==, > and <.\n",
    "        \"\"\"\n",
    "        if value < self._value :\n",
    "            if self._left is None :\n",
    "                self._left = Node(value)\n",
    "            else :\n",
    "                self._left.insert(value)\n",
    "        else :\n",
    "            if self._right is None :\n",
    "                self._right = Node(value)\n",
    "            else :\n",
    "                self._right.insert(value)\n",
    "    \n",
    "    def to_list(self) :\n",
    "        \"\"\"Return a sorted list of the values of this Node's children.\"\"\"\n",
    "        result = []\n",
    "        if self._left is not None :\n",
    "            result.extend(self._left.to_list())\n",
    "        result.append(self._value)\n",
    "        if self._right is not None :\n",
    "            result.extend(self._right.to_list())\n",
    "        return result\n",
    "    \n",
    "    def __contains__(self, value) :\n",
    "        if value == self._value :\n",
    "            return True\n",
    "        elif value < self._value and self._left is not None :\n",
    "            return value in self._left\n",
    "        elif value > self._value and self._right is not None :\n",
    "            return value in self._right\n",
    "        else :\n",
    "            return False\n",
    "\n",
    "    def __str__(self) :\n",
    "        return \"({0}, {1}, {2})\".format(self._left, self._value, self._right)\n"
   ]
  },
  {
   "cell_type": "code",
   "execution_count": 138,
   "metadata": {},
   "outputs": [],
   "source": [
    "class BinarySearchTree(object) :\n",
    "    \"\"\"A binary search tree.\"\"\"\n",
    "    \n",
    "    def __init__(self) :\n",
    "        \"\"\"A new empty binary search tree.\"\"\"\n",
    "        self._root = None\n",
    "    \n",
    "    def insert(self, value) :\n",
    "        \"\"\"Add 'value' into the tree.\n",
    "\n",
    "        Preconditions:\n",
    "        'value' is comparable by at least the ==, > and < operators.\n",
    "        \"\"\"\n",
    "        if self._root is None :\n",
    "            self._root = Node(value)\n",
    "        else :\n",
    "            self._root.insert(value)\n",
    "            \n",
    "    def to_list(self) :\n",
    "        \"\"\"Return a sorted list of the values in this tree.\"\"\"\n",
    "        if self._root is None :\n",
    "            return []\n",
    "        return self._root.to_list()\n",
    "        \n",
    "    def __contains__(self, value) :\n",
    "        return self._root is not None and value in self._root\n",
    "        \n",
    "    def __str__(self) :\n",
    "        if self._root is None :\n",
    "            return \"()\"\n",
    "        return str(self._root)\n",
    "\n",
    "def tree_sort(lst) :\n",
    "    \"\"\"A sort implementation using a tree.\n",
    "\n",
    "    Parameters:\n",
    "    lst: List of elements to be sorted.\n",
    "    Return:\n",
    "    Sorted list of elements.\n",
    "    Preconditions:\n",
    "    All elements of 'lst' are comparable by\n",
    "    at least the ==, >, and < operators.\n",
    "    \"\"\"\n",
    "    tree = BinarySearchTree()\n",
    "    for element in lst :\n",
    "        tree.insert(element)\n",
    "    return tree.to_list()"
   ]
  },
  {
   "cell_type": "code",
   "execution_count": 139,
   "metadata": {},
   "outputs": [
    {
     "name": "stdout",
     "output_type": "stream",
     "text": [
      "[2, 3, 4, 5, 6, 7, 8]\n",
      "True\n",
      "False\n",
      "(((None, 2, None), 3, (None, 4, None)), 5, ((None, 6, None), 7, (None, 8, None)))\n",
      "[2, 3, 4, 5, 6, 7, 8]\n"
     ]
    }
   ],
   "source": [
    "tree = BinarySearchTree()\n",
    "lst = [5, 3, 2, 4, 7, 6, 8]\n",
    "for v in lst:\n",
    "    tree.insert(v)\n",
    "print(tree.to_list())  # 打印树里面的元素，可使用二叉树实现排序\n",
    "print(7 in tree)       # 判断值是否在树内\n",
    "print(7.5 in tree)     # 判断值是否在树内\n",
    "print(tree)            # 打印数\n",
    "print(tree_sort(lst))  # 利用二叉树进行排序\n",
    "# [2, 3, 4, 5, 6, 7, 8]\n",
    "# True\n",
    "# False\n",
    "# (((None, 2, None), 3, (None, 4, None)), 5, ((None, 6, None), 7, (None, 8, None)))\n",
    "# [2, 3, 4, 5, 6, 7, 8]"
   ]
  },
  {
   "cell_type": "code",
   "execution_count": 142,
   "metadata": {},
   "outputs": [
    {
     "name": "stdout",
     "output_type": "stream",
     "text": [
      "3432\n",
      "2\n"
     ]
    }
   ],
   "source": [
    "def num_paths(x, y) :\n",
    "    \"\"\"Calculate the number of paths to point (x,y)\n",
    "\n",
    "    Parameters:\n",
    "    x (int): x coordinate of the point.\n",
    "    y (int): y coordinate of the point.\n",
    "    Return:\n",
    "    int: Number of paths from (0,0) to (x,y).\n",
    "    \"\"\"\n",
    "    if x == 0 or y == 0 :\n",
    "        return 1\n",
    "    else :\n",
    "        return num_paths(x, y-1) + num_paths(x-1, y)\n",
    "\n",
    "print(num_paths(7,7))\n",
    "print(num_paths(1,1))\n",
    "# 3432\n",
    "# 2"
   ]
  },
  {
   "cell_type": "code",
   "execution_count": 136,
   "metadata": {},
   "outputs": [
    {
     "name": "stdout",
     "output_type": "stream",
     "text": [
      "[2, 3, 4, 5, 6, 7, 8]\n"
     ]
    }
   ],
   "source": [
    "def factorial(n) :\n",
    "    \"\"\"Calculate the factorial of the given number 'n'.\n",
    "\n",
    "    Parameters:\n",
    "    n (int): Number for which the factorial is to be calculated.\n",
    "    Return:\n",
    "    int: Factorial of 'n'.\n",
    "    \"\"\"\n",
    "    if n == 0 :\n",
    "        return 1\n",
    "    else :\n",
    "        return factorial(n-1) * n\n",
    "fa"
   ]
  },
  {
   "cell_type": "code",
   "execution_count": 145,
   "metadata": {},
   "outputs": [
    {
     "ename": "TclError",
     "evalue": "no display name and no $DISPLAY environment variable",
     "output_type": "error",
     "traceback": [
      "\u001b[0;31m--------------------------------------------------\u001b[0m",
      "\u001b[0;31mTclError\u001b[0m         Traceback (most recent call last)",
      "\u001b[0;32m<ipython-input-145-df402fba67f2>\u001b[0m in \u001b[0;36m<module>\u001b[0;34m\u001b[0m\n\u001b[1;32m      1\u001b[0m \u001b[0;32mimport\u001b[0m \u001b[0mtkinter\u001b[0m \u001b[0;32mas\u001b[0m \u001b[0mtk\u001b[0m\u001b[0;34m\u001b[0m\u001b[0;34m\u001b[0m\u001b[0m\n\u001b[0;32m----> 2\u001b[0;31m \u001b[0mroot\u001b[0m \u001b[0;34m=\u001b[0m \u001b[0mtk\u001b[0m\u001b[0;34m.\u001b[0m\u001b[0mTk\u001b[0m\u001b[0;34m(\u001b[0m\u001b[0;34m)\u001b[0m\u001b[0;34m\u001b[0m\u001b[0;34m\u001b[0m\u001b[0m\n\u001b[0m\u001b[1;32m      3\u001b[0m \u001b[0mroot\u001b[0m\u001b[0;34m.\u001b[0m\u001b[0mtitle\u001b[0m\u001b[0;34m(\u001b[0m\u001b[0;34m'HelloWorld Example'\u001b[0m\u001b[0;34m)\u001b[0m\u001b[0;34m\u001b[0m\u001b[0;34m\u001b[0m\u001b[0m\n\u001b[1;32m      4\u001b[0m \u001b[0mhw\u001b[0m \u001b[0;34m=\u001b[0m \u001b[0mtk\u001b[0m\u001b[0;34m.\u001b[0m\u001b[0mLabel\u001b[0m\u001b[0;34m(\u001b[0m\u001b[0mroot\u001b[0m\u001b[0;34m,\u001b[0m \u001b[0mtext\u001b[0m\u001b[0;34m=\u001b[0m\u001b[0;34m'Hello World!'\u001b[0m\u001b[0;34m)\u001b[0m\u001b[0;34m\u001b[0m\u001b[0;34m\u001b[0m\u001b[0m\n\u001b[1;32m      5\u001b[0m \u001b[0mhw\u001b[0m\u001b[0;34m.\u001b[0m\u001b[0mpack\u001b[0m\u001b[0;34m(\u001b[0m\u001b[0;34m)\u001b[0m\u001b[0;34m\u001b[0m\u001b[0;34m\u001b[0m\u001b[0m\n",
      "\u001b[0;32m~/anaconda3/envs/py37/lib/python3.7/tkinter/__init__.py\u001b[0m in \u001b[0;36m__init__\u001b[0;34m(self, screenName, baseName, className, useTk, sync, use)\u001b[0m\n\u001b[1;32m   2021\u001b[0m                 \u001b[0mbaseName\u001b[0m \u001b[0;34m=\u001b[0m \u001b[0mbaseName\u001b[0m \u001b[0;34m+\u001b[0m \u001b[0mext\u001b[0m\u001b[0;34m\u001b[0m\u001b[0;34m\u001b[0m\u001b[0m\n\u001b[1;32m   2022\u001b[0m         \u001b[0minteractive\u001b[0m \u001b[0;34m=\u001b[0m \u001b[0;36m0\u001b[0m\u001b[0;34m\u001b[0m\u001b[0;34m\u001b[0m\u001b[0m\n\u001b[0;32m-> 2023\u001b[0;31m         \u001b[0mself\u001b[0m\u001b[0;34m.\u001b[0m\u001b[0mtk\u001b[0m \u001b[0;34m=\u001b[0m \u001b[0m_tkinter\u001b[0m\u001b[0;34m.\u001b[0m\u001b[0mcreate\u001b[0m\u001b[0;34m(\u001b[0m\u001b[0mscreenName\u001b[0m\u001b[0;34m,\u001b[0m \u001b[0mbaseName\u001b[0m\u001b[0;34m,\u001b[0m \u001b[0mclassName\u001b[0m\u001b[0;34m,\u001b[0m \u001b[0minteractive\u001b[0m\u001b[0;34m,\u001b[0m \u001b[0mwantobjects\u001b[0m\u001b[0;34m,\u001b[0m \u001b[0museTk\u001b[0m\u001b[0;34m,\u001b[0m \u001b[0msync\u001b[0m\u001b[0;34m,\u001b[0m \u001b[0muse\u001b[0m\u001b[0;34m)\u001b[0m\u001b[0;34m\u001b[0m\u001b[0;34m\u001b[0m\u001b[0m\n\u001b[0m\u001b[1;32m   2024\u001b[0m         \u001b[0;32mif\u001b[0m \u001b[0museTk\u001b[0m\u001b[0;34m:\u001b[0m\u001b[0;34m\u001b[0m\u001b[0;34m\u001b[0m\u001b[0m\n\u001b[1;32m   2025\u001b[0m             \u001b[0mself\u001b[0m\u001b[0;34m.\u001b[0m\u001b[0m_loadtk\u001b[0m\u001b[0;34m(\u001b[0m\u001b[0;34m)\u001b[0m\u001b[0;34m\u001b[0m\u001b[0;34m\u001b[0m\u001b[0m\n",
      "\u001b[0;31mTclError\u001b[0m: no display name and no $DISPLAY environment variable"
     ]
    }
   ],
   "source": [
    "import tkinter as tk\n",
    "root = tk.Tk()\n",
    "root.title('HelloWorld Example')\n",
    "hw = tk.Label(root, text='Hello World!')\n",
    "hw.pack()\n",
    "root.mainloop()\n",
    "\n"
   ]
  },
  {
   "cell_type": "code",
   "execution_count": null,
   "metadata": {},
   "outputs": [],
   "source": [
    "import tkinter as tk\n",
    "class EvalApp(object):\n",
    "    \"\"\"A simple application to allow a user to enter an and evaluate it.\n",
    "    \"\"\"\n",
    "    def __init__(self, master):\n",
    "        \"\"\"Initialise the expression evaluator's application window.\n",
    "        Parameters:\n",
    "        master (Tk): Main window for application.\n",
    "        \"\"\"\n",
    "        self._master = master\n",
    "        master.title('Expression Evaluator')\n",
    "        self._num = 0.0\n",
    "        expressionLbl = tk.Label(master, text='Enter Expression: ')\n",
    "        expressionLbl.pack(side=tk.LEFT)\n",
    "        self._entry = tk.Entry(master, width=20)\n",
    "        self._entry.pack(side=tk.LEFT)\n",
    "        self._entry.insert(tk.END, str(self.num))\n",
    "        evalBtn = tk.Button(master, text=\"Evaluate\", command=self.evaluate)\n",
    "        evalBtn.pack(side=tk.LEFT)\n",
    "        self._result = tk.Label(master, text=\"\", bg=\"grey\")\n",
    "        self._result.pack(side=tk.LEFT, padx=20)\n",
    "\n",
    "    def evaluate(self):\n",
    "        \"\"\"Evaluates the expression in the Entry widget and\n",
    "        displays the result in the result Label.\n",
    "        \"\"\"\n",
    "        try:\n",
    "            self._num = eval(self._entry.get())\n",
    "            self._result.config(text=\"The Result is: {0}\".format(self._num),\n",
    "            bg=\"grey\")\n",
    "        except Exception as e:\n",
    "            self._result.config(text=\"An error occurred: {0}\".format(e), bg=\"red\")\n",
    "root = tk.Tk()\n",
    "app = EvalApp(root)\n",
    "root.mainloop()"
   ]
  },
  {
   "cell_type": "code",
   "execution_count": 150,
   "metadata": {},
   "outputs": [
    {
     "data": {
      "text/plain": [
       "<function __main__.<lambda>.<locals>.<lambda>(e)>"
      ]
     },
     "execution_count": 150,
     "metadata": {},
     "output_type": "execute_result"
    }
   ],
   "source": [
    "(lambda x : lambda e : x+1)(1)"
   ]
  },
  {
   "cell_type": "code",
   "execution_count": null,
   "metadata": {},
   "outputs": [],
   "source": [
    "(lambda x: lambda e: self._activate_item(x))(i)"
   ]
  },
  {
   "cell_type": "code",
   "execution_count": 151,
   "metadata": {},
   "outputs": [
    {
     "data": {
      "text/plain": [
       "4496557"
      ]
     },
     "execution_count": 151,
     "metadata": {},
     "output_type": "execute_result"
    }
   ],
   "source": [
    "135555+1666904+388313+154297+601067+227507+342688+980226"
   ]
  },
  {
   "cell_type": "code",
   "execution_count": 152,
   "metadata": {},
   "outputs": [
    {
     "data": {
      "text/plain": [
       "4792259"
      ]
     },
     "execution_count": 152,
     "metadata": {},
     "output_type": "execute_result"
    }
   ],
   "source": [
    "135555+1666904+388313+154297+601067+227507+342688+980226+295702"
   ]
  },
  {
   "cell_type": "code",
   "execution_count": 153,
   "metadata": {},
   "outputs": [
    {
     "data": {
      "text/plain": [
       "7339679"
      ]
     },
     "execution_count": 153,
     "metadata": {},
     "output_type": "execute_result"
    }
   ],
   "source": [
    "6698466+641213"
   ]
  },
  {
   "cell_type": "code",
   "execution_count": 154,
   "metadata": {},
   "outputs": [
    {
     "data": {
      "text/plain": [
       "3068951"
      ]
     },
     "execution_count": 154,
     "metadata": {},
     "output_type": "execute_result"
    }
   ],
   "source": [
    "2560208+56629+44574+190711+73297+143532"
   ]
  },
  {
   "cell_type": "code",
   "execution_count": 155,
   "metadata": {},
   "outputs": [
    {
     "data": {
      "text/plain": [
       "time.struct_time(tm_year=2019, tm_mon=5, tm_mday=27, tm_hour=2, tm_min=44, tm_sec=2, tm_wday=0, tm_yday=147, tm_isdst=0)"
      ]
     },
     "execution_count": 155,
     "metadata": {},
     "output_type": "execute_result"
    }
   ],
   "source": [
    "import time\n",
    "time.gmtime()"
   ]
  },
  {
   "cell_type": "code",
   "execution_count": 160,
   "metadata": {},
   "outputs": [
    {
     "name": "stdout",
     "output_type": "stream",
     "text": [
      "3.98 µs ± 808 ns per loop (mean ± std. dev. of 7 runs, 100000 loops each)\n",
      "2.09 µs ± 192 ns per loop (mean ± std. dev. of 7 runs, 1000000 loops each)\n"
     ]
    }
   ],
   "source": [
    "import datetime\n",
    "import time\n",
    "%timeit datetime.datetime.now().strftime(\"%Y%m%d%H%M%S\")\n",
    "%timeit time.strftime('%Y%m%d%H%M%S', time.localtime(time.time()))"
   ]
  },
  {
   "cell_type": "code",
   "execution_count": 161,
   "metadata": {},
   "outputs": [
    {
     "name": "stdout",
     "output_type": "stream",
     "text": [
      "网格总数：1826.1037万\n",
      "国内网格：1541.856万\n",
      "\n",
      "网格获取citycode时间预估:\n",
      "单天处理：1788.9347368421052万\n",
      "预计总耗时：0.8618849912444219天\n",
      "\n",
      "获取POI时间预估:\n",
      "预计总请求：3.9317328亿（国内网格数*页数取中值1.5*分类数17）\n",
      "单机单天处理：1827.6923076923076万（单机33进程）\n",
      "单台服务器总耗时：21.512006060606062天\n",
      "三台服务器总耗时：7.170668686868687天\n"
     ]
    }
   ],
   "source": [
    "# 网格数\n",
    "print(f\"网格总数：{(236040+1828028+542136+293724+765700+504885+589248+1159275+522655+6775852+1047476+3017812+100440+113832+361054+124020+278860)/10**4}万\")\n",
    "grid = 15418560\n",
    "print(f\"国内网格：{grid/10**4}万\")\n",
    "# 网格获取citycode时间预估\n",
    "print(\"\\n网格获取citycode时间预估:\")\n",
    "print(f\"单天处理：{(236040/1140)*60*60*24/10**4}万\")\n",
    "print(f\"预计总耗时：{grid/((236040/1140)*60*60*24)}天\")\n",
    "# 获取POI时间预估\n",
    "print(\"\\n获取POI时间预估:\")\n",
    "total = grid*1.5*17\n",
    "print(f\"预计总请求：{total/10**8}亿（国内网格数*页数取中值1.5*分类数17）\")  # 网格数*页数（取中间值）*分类数\n",
    "per_day = 49.5*5*10000/195/60*86400\n",
    "print(f\"单机单天处理：{per_day/10**4}万（单机33进程）\")  # 33进程\n",
    "print(f\"单台服务器总耗时：{total/(per_day)}天\")  # \n",
    "print(f\"三台服务器总耗时：{total/(per_day)/3}天\")"
   ]
  },
  {
   "cell_type": "code",
   "execution_count": 164,
   "metadata": {},
   "outputs": [
    {
     "data": {
      "text/plain": [
       "5.0"
      ]
     },
     "execution_count": 164,
     "metadata": {},
     "output_type": "execute_result"
    }
   ],
   "source": [
    "网格总数：15205179\n",
    "已处理：3465000\n",
    "效率：约300万/天\n",
    "目前POI数：6922018（只保留有手机号poi，按号码&名称去重）\n"
   ]
  },
  {
   "cell_type": "code",
   "execution_count": 173,
   "metadata": {},
   "outputs": [],
   "source": [
    "a = list(range(1,10))"
   ]
  },
  {
   "cell_type": "code",
   "execution_count": 174,
   "metadata": {},
   "outputs": [
    {
     "data": {
      "text/plain": [
       "[1, 2, 3, 4, 5, 6, 7, 8, 9]"
      ]
     },
     "execution_count": 174,
     "metadata": {},
     "output_type": "execute_result"
    }
   ],
   "source": [
    "a"
   ]
  },
  {
   "cell_type": "code",
   "execution_count": 175,
   "metadata": {},
   "outputs": [
    {
     "data": {
      "text/plain": [
       "[2, 4, 6, 8]"
      ]
     },
     "execution_count": 175,
     "metadata": {},
     "output_type": "execute_result"
    }
   ],
   "source": [
    "a[1::2]"
   ]
  },
  {
   "cell_type": "code",
   "execution_count": 176,
   "metadata": {},
   "outputs": [
    {
     "data": {
      "text/plain": [
       "[1, 3, 5, 7, 9]"
      ]
     },
     "execution_count": 176,
     "metadata": {},
     "output_type": "execute_result"
    }
   ],
   "source": [
    "a[::2]"
   ]
  },
  {
   "cell_type": "code",
   "execution_count": 183,
   "metadata": {},
   "outputs": [
    {
     "data": {
      "text/plain": [
       "[(13090040.000204807,\n",
       "  4119455.9797931877,\n",
       "  13090540.000204807,\n",
       "  4119955.9797931877),\n",
       " (13090540.000204807,\n",
       "  4119455.9797931877,\n",
       "  13091040.000204807,\n",
       "  4119955.9797931877),\n",
       " (13090040.000204807,\n",
       "  4119955.9797931877,\n",
       "  13090540.000204807,\n",
       "  4120455.9797931877),\n",
       " (13090540.000204807,\n",
       "  4119955.9797931877,\n",
       "  13091040.000204807,\n",
       "  4120455.9797931877)]"
      ]
     },
     "execution_count": 183,
     "metadata": {},
     "output_type": "execute_result"
    }
   ],
   "source": [
    "grid = [13090040.000204807,4119455.9797931877,13091040.000204807,4120455.9797931877]\n",
    "def _cut_grid(grid):\n",
    "        lon = grid[::2]\n",
    "        lat = grid[1::2]\n",
    "        lon_half = sum(lon) / 2\n",
    "        lat_half = sum(lat) / 2\n",
    "        grids = [\n",
    "            (lon[0], lat[0], lon_half, lat_half),\n",
    "            (lon_half, lat[0], lon[1], lat_half),\n",
    "            (lon[0], lat_half, lon_half, lat[1]),\n",
    "            (lon_half, lat_half, lon[1], lat[1])]\n",
    "        return grids\n",
    "_cut_grid(grid)"
   ]
  },
  {
   "cell_type": "code",
   "execution_count": 179,
   "metadata": {},
   "outputs": [
    {
     "data": {
      "text/plain": [
       "116.4733495"
      ]
     },
     "execution_count": 179,
     "metadata": {},
     "output_type": "execute_result"
    }
   ],
   "source": [
    "sum(lon)/2"
   ]
  },
  {
   "cell_type": "code",
   "execution_count": 186,
   "metadata": {},
   "outputs": [
    {
     "data": {
      "text/plain": [
       "3711955.9797931877"
      ]
     },
     "execution_count": 186,
     "metadata": {},
     "output_type": "execute_result"
    }
   ],
   "source": [
    "(3711455.9797931877+3712455.9797931877)/2"
   ]
  },
  {
   "cell_type": "code",
   "execution_count": 191,
   "metadata": {},
   "outputs": [
    {
     "data": {
      "text/plain": [
       "{1: 2, 2: 3}"
      ]
     },
     "execution_count": 191,
     "metadata": {},
     "output_type": "execute_result"
    }
   ],
   "source": [
    "a ={1:2}\n",
    "{**a, **{2:3}}"
   ]
  },
  {
   "cell_type": "code",
   "execution_count": 194,
   "metadata": {},
   "outputs": [
    {
     "data": {
      "text/plain": [
       "[('购物',\n",
       "  '265',\n",
       "  '13152040.000204807,4810455.979793187;13153040.000204807,4811455.979793187')]"
      ]
     },
     "execution_count": 194,
     "metadata": {},
     "output_type": "execute_result"
    }
   ],
   "source": [
    "a = '2019-05-24 13:53:14,014 [WARNING] __main__: data_over_url:https://map.baidu.com/?qt=spot&wd=购物&c=265&on_gel=1&b=(13152040.000204807,4810455.979793187;13153040.000204807,4811455.979793187)&rn=50&pn=0&t=1558677193784'\n",
    "import re\n",
    "pt = 'wd=(.*?)&c=(.*?)&on_gel=1&b=\\((.*?)\\)&rn'\n",
    "re.findall(pt, a)"
   ]
  },
  {
   "cell_type": "code",
   "execution_count": 199,
   "metadata": {},
   "outputs": [
    {
     "data": {
      "text/plain": [
       "188.40528634361237"
      ]
     },
     "execution_count": 199,
     "metadata": {},
     "output_type": "execute_result"
    }
   ],
   "source": [
    "19.8/(7*60+34)*60*24*3"
   ]
  },
  {
   "cell_type": "code",
   "execution_count": 198,
   "metadata": {},
   "outputs": [
    {
     "data": {
      "text/plain": [
       "79.19999999999999"
      ]
     },
     "execution_count": 198,
     "metadata": {},
     "output_type": "execute_result"
    }
   ],
   "source": [
    "1.65*24*2"
   ]
  },
  {
   "cell_type": "code",
   "execution_count": null,
   "metadata": {},
   "outputs": [],
   "source": []
  }
 ],
 "metadata": {
  "kernelspec": {
   "display_name": "py37",
   "language": "python",
   "name": "py37"
  },
  "language_info": {
   "codemirror_mode": {
    "name": "ipython",
    "version": 3
   },
   "file_extension": ".py",
   "mimetype": "text/x-python",
   "name": "python",
   "nbconvert_exporter": "python",
   "pygments_lexer": "ipython3",
   "version": "3.7.3"
  }
 },
 "nbformat": 4,
 "nbformat_minor": 2
}
