{
 "cells": [
  {
   "cell_type": "code",
   "execution_count": null,
   "metadata": {},
   "outputs": [],
   "source": [
    "from pyhanlp import *"
   ]
  },
  {
   "cell_type": "code",
   "execution_count": null,
   "metadata": {},
   "outputs": [],
   "source": [
    "print(HanLP.segment('你好，欢迎在Python中调用HanLP的API'))"
   ]
  },
  {
   "cell_type": "code",
   "execution_count": 5,
   "metadata": {},
   "outputs": [
    {
     "data": {
      "text/plain": [
       "'E4790712154A2924740781F7006C515ACF875B1C'"
      ]
     },
     "execution_count": 5,
     "metadata": {},
     "output_type": "execute_result"
    }
   ],
   "source": [
    "import hashlib\n",
    "\n",
    "def phone_encode(string, method=\"md5_sha1\"):\n",
    "    \"\"\"\n",
    "    先MD5，再sha1加密\n",
    "    \"\"\"\n",
    "    try:\n",
    "        if 'md5' in method:\n",
    "            m = hashlib.md5()\n",
    "            m.update(string.encode(encoding='utf-8'))\n",
    "            string = m.hexdigest()\n",
    "            string = string[0:32]\n",
    "        if 'sha1' in method:\n",
    "            s = hashlib.sha1()\n",
    "            s.update(string.encode(encoding='utf-8').upper())\n",
    "            string = s.hexdigest().upper()\n",
    "        return string\n",
    "    except Exception as e:\n",
    "        print(e)\n",
    "        return None\n",
    "\n",
    "a='河南许昌巨龙游乐设备有限责任公司'\n",
    "phone_encode(a, method='md5_sha1')"
   ]
  },
  {
   "cell_type": "code",
   "execution_count": 4,
   "metadata": {},
   "outputs": [
    {
     "data": {
      "text/plain": [
       "'82be70f5200d4825ac41eceac12aaa54'"
      ]
     },
     "execution_count": 4,
     "metadata": {},
     "output_type": "execute_result"
    }
   ],
   "source": [
    "import uuid\n",
    "uuid.uuid4().hex\n"
   ]
  },
  {
   "cell_type": "code",
   "execution_count": 6,
   "metadata": {},
   "outputs": [
    {
     "data": {
      "text/plain": [
       "0.1606524497337788"
      ]
     },
     "execution_count": 6,
     "metadata": {},
     "output_type": "execute_result"
    }
   ],
   "source": [
    "28996/180489"
   ]
  },
  {
   "cell_type": "code",
   "execution_count": 50,
   "metadata": {},
   "outputs": [
    {
     "name": "stdout",
     "output_type": "stream",
     "text": [
      "秒贷网 秒贷金融\n",
      "312342343 321542534 253434 312342343 321542534 34112431 1251254312251214\n"
     ]
    }
   ],
   "source": [
    "def read_dict():\n",
    "    DIC_PATH = \"ChineseStrokes.dat\"\n",
    "    data = open(DIC_PATH)\n",
    "    data = [e.strip() for e in data]\n",
    "    data = [e.split(u\"\\t\") for e in data]\n",
    "    return dict(data)\n",
    "\n",
    "WORD_DICT = read_dict()\n",
    "\n",
    "def word2strokes(ustring):\n",
    "    return WORD_DICT.get(ustring, \"\")\n",
    "\n",
    "\n",
    "def words2strokes(ustrings):\n",
    "    res = []\n",
    "    for w in ustrings:\n",
    "        res.append(word2strokes(w))\n",
    "    return \" \".join(res)\n",
    "\n",
    "\n",
    "def levenshtein_distance(first, second):\n",
    "    '''\n",
    "    计算两个字符串之间的L氏编辑距离\n",
    "    :输入参数 first: 第一个字符串\n",
    "    :输入参数 second: 第二个字符串\n",
    "    :返回值: L氏编辑距离\n",
    "    '''\n",
    "    if len(first) == 0 or len(second) == 0:\n",
    "        return len(first) + len(second)\n",
    "    first_length = len(first) + 1\n",
    "    second_length = len(second) + 1\n",
    "    distance_matrix = [[j for j in range(second_length)] for i in range(first_length)]  # 初始化矩阵\n",
    "    for i in range(1, first_length):\n",
    "        for j in range(1, second_length):\n",
    "            deletion = distance_matrix[i - 1][j] + 1\n",
    "            insertion = distance_matrix[i][j - 1] + 1\n",
    "            substitution = distance_matrix[i - 1][j - 1]\n",
    "            if first[i - 1] != second[j - 1]:\n",
    "                substitution += 1\n",
    "            distance_matrix[i][j] = min(insertion, deletion, substitution)\n",
    "    return distance_matrix[first_length - 1][second_length - 1]\n",
    "\n",
    "\n",
    "def find_n_words(s1, li):\n",
    "    T = []\n",
    "    for e in li:\n",
    "        dis = levenshtein_distance(s1, e)\n",
    "        if dis < 3 and dis > 0:\n",
    "            T.append(li[e] + \"_\" + str(dis))\n",
    "    return \",\".join(T)\n",
    "\n",
    "\n",
    "s1 = u\"秒贷网\"\n",
    "s2 = u\"秒贷金融\"\n",
    "print(s1,s2)\n",
    "s1 = words2strokes(s1)\n",
    "s2 = words2strokes(s2)\n",
    "print(s1,s2)\n",
    "# levenshtein_distance(s1, s2)"
   ]
  },
  {
   "cell_type": "code",
   "execution_count": 49,
   "metadata": {},
   "outputs": [
    {
     "name": "stdout",
     "output_type": "stream",
     "text": [
      "1\n",
      "5\n",
      "4\n",
      "3\n",
      "1\n",
      "34\n",
      "3\n"
     ]
    }
   ],
   "source": [
    "def is_form_same(words1, words2, return_number=False):\n",
    "    \"\"\" 判断两个词语是否形近\n",
    "    :param words1: 词语 1，unicode 编码\n",
    "    :param words2: 词语 2，unicode 编码\n",
    "    :param return_number: 返回结果是否为 编辑距离数值，默认为 False\n",
    "    :return: 是否形近，布尔型 （笔顺的编辑距离小于 3 则认为形近，否则为不形近）。\n",
    "            当 return_number = True 时，返回结果为两个字符串笔顺的编辑距离取值，int 型\n",
    "    example: >> is_form_same(u'习大大', u\"习夶\", return_number=True)\n",
    "                1\n",
    "             >> is_form_same(u'习大大', u\"习夶\")\n",
    "                True\n",
    "    \"\"\"\n",
    "#     words1 = zh_hans(words1)\n",
    "#     words2 = zh_hans(words2)\n",
    "    form1 = words2strokes(words1)\n",
    "    form2 = words2strokes(words2)\n",
    "    distance = levenshtein_distance(form1, form2)\n",
    "    if return_number:\n",
    "        return distance\n",
    "    if distance < 3:\n",
    "        return True\n",
    "    else:\n",
    "        return False\n",
    "\n",
    "print(is_form_same(\"晴彩眼镜\",\"睛彩眼镜\", return_number=True))\n",
    "print(is_form_same(\"青彩眼镜\",\"睛彩眼镜\", return_number=True))\n",
    "print(is_form_same(\"清彩眼镜\",\"睛彩眼镜\", return_number=True))\n",
    "print(is_form_same(\"睛采眼镜\",\"睛彩眼镜\", return_number=True))\n",
    "print(is_form_same(\"壹染造型\",\"壹柒造型\", return_number=True))\n",
    "print(is_form_same(\"海容袜业\",\"睛彩眼镜\", return_number=True))\n",
    "print(is_form_same(\"多哆基\",\"哆哆基\", return_number=True))"
   ]
  },
  {
   "cell_type": "code",
   "execution_count": 53,
   "metadata": {},
   "outputs": [],
   "source": [
    "class C1():\n",
    "    def f(self):\n",
    "        print('C1.f')\n",
    "        return 2*self.g()\n",
    "\n",
    "    def g(self):\n",
    "        print('C1.g')\n",
    "        return 2\n",
    "\n",
    "class C2(C1):\n",
    "    def f(self):\n",
    "        print('C2.f')\n",
    "        return 3*self.g()\n",
    "\n",
    "\n",
    "class C3(C1):\n",
    "    def g(self):\n",
    "        print('C3.g')\n",
    "        return 5\n",
    "\n",
    "class C4(C3):\n",
    "    def f(self):\n",
    "        print('C4.f')\n",
    "        return 7*self.g()\n",
    "\n",
    "obj1 = C1()\n",
    "obj2 = C2()\n",
    "obj3 = C3()\n",
    "obj4 = C4()"
   ]
  },
  {
   "cell_type": "code",
   "execution_count": 55,
   "metadata": {},
   "outputs": [
    {
     "name": "stdout",
     "output_type": "stream",
     "text": [
      "C1.f\n",
      "C1.g\n",
      "obj1: 4\n",
      "C2.f\n",
      "C1.g\n",
      "obj2: 6\n",
      "C1.f\n",
      "C3.g\n",
      "obj3: 10\n",
      "C4.f\n",
      "C3.g\n",
      "obj4: 35\n"
     ]
    }
   ],
   "source": [
    "print('obj1:',obj1.f())\n",
    "print('obj2:',obj2.f())\n",
    "print('obj3:',obj3.f())\n",
    "print('obj4:',obj4.f())"
   ]
  },
  {
   "cell_type": "code",
   "execution_count": 56,
   "metadata": {},
   "outputs": [
    {
     "data": {
      "text/plain": [
       "20387"
      ]
     },
     "execution_count": 56,
     "metadata": {},
     "output_type": "execute_result"
    }
   ],
   "source": [
    "3030 + 2007 + 3381 + 1910 + 2610 + 489 + 723 + 726 + 1449 + 1407 + 167 + 511 + 163 + 813 + 247 + 254 + 500"
   ]
  },
  {
   "cell_type": "code",
   "execution_count": 57,
   "metadata": {},
   "outputs": [
    {
     "ename": "NameError",
     "evalue": "name 'python' is not defined",
     "output_type": "error",
     "traceback": [
      "\u001b[0;31m---------------------------------------------------------------------------\u001b[0m",
      "\u001b[0;31mNameError\u001b[0m                                 Traceback (most recent call last)",
      "\u001b[0;32m<ipython-input-57-4c1899a86226>\u001b[0m in \u001b[0;36m<module>\u001b[0;34m\u001b[0m\n\u001b[0;32m----> 1\u001b[0;31m \u001b[0mpython\u001b[0m \u001b[0;34m-\u001b[0m\u001b[0mv\u001b[0m\u001b[0;34m\u001b[0m\u001b[0;34m\u001b[0m\u001b[0m\n\u001b[0m",
      "\u001b[0;31mNameError\u001b[0m: name 'python' is not defined"
     ]
    }
   ],
   "source": []
  },
  {
   "cell_type": "code",
   "execution_count": 58,
   "metadata": {},
   "outputs": [
    {
     "data": {
      "text/plain": [
       "'3.7.3 (default, Mar 27 2019, 22:11:17) \\n[GCC 7.3.0]'"
      ]
     },
     "execution_count": 58,
     "metadata": {},
     "output_type": "execute_result"
    }
   ],
   "source": [
    "import sys\n",
    "sys.version"
   ]
  },
  {
   "cell_type": "code",
   "execution_count": null,
   "metadata": {},
   "outputs": [],
   "source": []
  }
 ],
 "metadata": {
  "kernelspec": {
   "display_name": "Python 3",
   "language": "python",
   "name": "python3"
  },
  "language_info": {
   "codemirror_mode": {
    "name": "ipython",
    "version": 3
   },
   "file_extension": ".py",
   "mimetype": "text/x-python",
   "name": "python",
   "nbconvert_exporter": "python",
   "pygments_lexer": "ipython3",
   "version": "3.7.3"
  }
 },
 "nbformat": 4,
 "nbformat_minor": 2
}
