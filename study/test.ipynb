{
 "cells": [
  {
   "cell_type": "code",
   "execution_count": null,
   "metadata": {},
   "outputs": [],
   "source": [
    " curl -XPOST 'localhost:9200/ik_v2/test/_update_by_query?pretty' -H \"Content-Type: application/json\" -d '{ \n",
    "  \"query\": { \n",
    ">         \"bool\": { \n",
    ">             \"should\": { \n",
    ">                 \"match\": { \n",
    ">                     \"username\": \"高铁\" \n",
    ">                 } \n",
    ">             } \n",
    ">         } \n",
    ">     }, \n",
    ">     \"script\" : { \n",
    ">         \"inline\" : \"ctx._source.username = \\\"666666\\\"\" \n",
    ">     } \n",
    "> }'  \n"
   ]
  },
  {
   "cell_type": "code",
   "execution_count": null,
   "metadata": {},
   "outputs": [],
   "source": [
    "{\"sid\" : \"xb9f01af7bc924c221026f23ba06b41f2f\", \"name\" : \"莆美镇广播电视站\",\"tels\" : [\"05968556122\"], \"address\" : \"\", \"source\" : \"xiaobang\", \"time\" : \"20190415022730\", \"ranking\" : \"\"}"
   ]
  },
  {
   "cell_type": "code",
   "execution_count": 2,
   "metadata": {},
   "outputs": [
    {
     "data": {
      "text/plain": [
       "'9f01af7bc924c221026f23ba06b41f2f'"
      ]
     },
     "execution_count": 2,
     "metadata": {},
     "output_type": "execute_result"
    }
   ],
   "source": [
    "import hashlib\n",
    "def str_encode(string, method=\"md5\"):\n",
    "    \"\"\"\n",
    "    先MD5，再sha1加密\n",
    "    \"\"\"\n",
    "    try:\n",
    "        if 'md5' in method:\n",
    "            m = hashlib.md5()\n",
    "            m.update(string.encode(encoding='utf-8'))\n",
    "            string = m.hexdigest()\n",
    "            string = string[0:32]\n",
    "        if 'sha1' in method:\n",
    "            s = hashlib.sha1()\n",
    "            s.update(string.encode(encoding='utf-8').upper())\n",
    "            string = s.hexdigest().upper()\n",
    "        return string\n",
    "    except Exception as e:\n",
    "        print(e)\n",
    "        return None\n",
    "str_encode('莆美镇广播电视站')"
   ]
  },
  {
   "cell_type": "code",
   "execution_count": 3,
   "metadata": {},
   "outputs": [
    {
     "name": "stdout",
     "output_type": "stream",
     "text": [
      "Looking in indexes: http://mirrors.aliyun.com/pypi/simple/\n",
      "Requirement already satisfied: attrs in /root/anaconda3/envs/py37/lib/python3.7/site-packages (19.1.0)\n"
     ]
    }
   ],
   "source": [
    "!pip install attrs"
   ]
  },
  {
   "cell_type": "code",
   "execution_count": 4,
   "metadata": {},
   "outputs": [],
   "source": [
    "from attr import attrs,attrib"
   ]
  },
  {
   "cell_type": "code",
   "execution_count": 6,
   "metadata": {},
   "outputs": [
    {
     "data": {
      "text/plain": [
       "Color(r=225, b=225, c=225)"
      ]
     },
     "execution_count": 6,
     "metadata": {},
     "output_type": "execute_result"
    }
   ],
   "source": [
    "@attrs\n",
    "class Color(object):\n",
    "    r=attrib(type=int, default=0)\n",
    "    b=attrib(type=int, default=0)\n",
    "    c=attrib(type=int, default=0)\n",
    "Color(225,225,225)"
   ]
  },
  {
   "cell_type": "code",
   "execution_count": 7,
   "metadata": {},
   "outputs": [
    {
     "name": "stdout",
     "output_type": "stream",
     "text": [
      "bingo\n"
     ]
    }
   ],
   "source": [
    "def test():\n",
    "    print('bingo')\n",
    "    \n",
    "def main(func=None):\n",
    "    return func()\n",
    "\n",
    "main(test)\n",
    "    "
   ]
  },
  {
   "cell_type": "code",
   "execution_count": 9,
   "metadata": {},
   "outputs": [
    {
     "name": "stdout",
     "output_type": "stream",
     "text": [
      "squidsz132.dianhua.cn:8080\n",
      "squidsz133.dianhua.cn:8080\n",
      "squidsz134.dianhua.cn:8080\n",
      "squidsz135.dianhua.cn:8080\n",
      "squidsz136.dianhua.cn:8080\n",
      "squidsz137.dianhua.cn:8080\n",
      "squidsz138.dianhua.cn:8080\n",
      "squidsz139.dianhua.cn:8080\n",
      "squidsz140.dianhua.cn:8080\n",
      "squidsz141.dianhua.cn:8080\n",
      "squidsz142.dianhua.cn:8080\n",
      "squidsz143.dianhua.cn:8080\n",
      "squidsz144.dianhua.cn:8080\n",
      "squidsz145.dianhua.cn:8080\n",
      "squidsz146.dianhua.cn:8080\n",
      "squidsz147.dianhua.cn:8080\n",
      "squidsz148.dianhua.cn:8080\n",
      "squidsz149.dianhua.cn:8080\n",
      "squidsz150.dianhua.cn:8080\n",
      "squidsz151.dianhua.cn:8080\n",
      "squidsz152.dianhua.cn:8080\n",
      "squidsz153.dianhua.cn:8080\n",
      "squidsz154.dianhua.cn:8080\n",
      "squidsz155.dianhua.cn:8080\n",
      "squidsz156.dianhua.cn:8080\n",
      "squidsz157.dianhua.cn:8080\n",
      "squidsz158.dianhua.cn:8080\n",
      "squidsz159.dianhua.cn:8080\n",
      "squidsz160.dianhua.cn:8080\n",
      "squidsz161.dianhua.cn:8080\n",
      "squidsz162.dianhua.cn:8080\n",
      "squidsz163.dianhua.cn:8080\n",
      "squidsz164.dianhua.cn:8080\n",
      "squidsz165.dianhua.cn:8080\n",
      "squidsz166.dianhua.cn:8080\n",
      "squidsz167.dianhua.cn:8080\n",
      "squidsz168.dianhua.cn:8080\n",
      "squidsz169.dianhua.cn:8080\n",
      "squidsz170.dianhua.cn:8080\n",
      "squidsz171.dianhua.cn:8080\n"
     ]
    }
   ],
   "source": [
    "for i in range(132, 172):\n",
    "    print(f'squidsz{i}.dianhua.cn:8080')"
   ]
  },
  {
   "cell_type": "code",
   "execution_count": 10,
   "metadata": {},
   "outputs": [
    {
     "data": {
      "text/plain": [
       "39"
      ]
     },
     "execution_count": 10,
     "metadata": {},
     "output_type": "execute_result"
    }
   ],
   "source": [
    "107-68"
   ]
  },
  {
   "cell_type": "code",
   "execution_count": 45,
   "metadata": {},
   "outputs": [
    {
     "data": {
      "text/plain": [
       "'addr1 addr1'"
      ]
     },
     "execution_count": 45,
     "metadata": {},
     "output_type": "execute_result"
    }
   ],
   "source": [
    "name = 'name2'\n",
    "addr = \"addr1\"\n",
    "method = \"addr|addr\"\n",
    "\n",
    "\" \".join([*map(eval,method.split(\"|\"))])\n",
    "# print(f'{\" \".join(map(eval,name))}')"
   ]
  },
  {
   "cell_type": "code",
   "execution_count": 50,
   "metadata": {},
   "outputs": [
    {
     "data": {
      "text/plain": [
       "-1"
      ]
     },
     "execution_count": 50,
     "metadata": {},
     "output_type": "execute_result"
    }
   ],
   "source": [
    "min(10,-1)"
   ]
  },
  {
   "cell_type": "code",
   "execution_count": 52,
   "metadata": {},
   "outputs": [
    {
     "name": "stderr",
     "output_type": "stream",
     "text": [
      "Error occurred during loading data. Trying to use cache server https://fake-useragent.herokuapp.com/browsers/0.1.11\n",
      "Traceback (most recent call last):\n",
      "  File \"/root/anaconda3/envs/py37/lib/python3.7/urllib/request.py\", line 1317, in do_open\n",
      "    encode_chunked=req.has_header('Transfer-encoding'))\n",
      "  File \"/root/anaconda3/envs/py37/lib/python3.7/http/client.py\", line 1229, in request\n",
      "    self._send_request(method, url, body, headers, encode_chunked)\n",
      "  File \"/root/anaconda3/envs/py37/lib/python3.7/http/client.py\", line 1275, in _send_request\n",
      "    self.endheaders(body, encode_chunked=encode_chunked)\n",
      "  File \"/root/anaconda3/envs/py37/lib/python3.7/http/client.py\", line 1224, in endheaders\n",
      "    self._send_output(message_body, encode_chunked=encode_chunked)\n",
      "  File \"/root/anaconda3/envs/py37/lib/python3.7/http/client.py\", line 1016, in _send_output\n",
      "    self.send(msg)\n",
      "  File \"/root/anaconda3/envs/py37/lib/python3.7/http/client.py\", line 956, in send\n",
      "    self.connect()\n",
      "  File \"/root/anaconda3/envs/py37/lib/python3.7/http/client.py\", line 1384, in connect\n",
      "    super().connect()\n",
      "  File \"/root/anaconda3/envs/py37/lib/python3.7/http/client.py\", line 928, in connect\n",
      "    (self.host,self.port), self.timeout, self.source_address)\n",
      "  File \"/root/anaconda3/envs/py37/lib/python3.7/socket.py\", line 727, in create_connection\n",
      "    raise err\n",
      "  File \"/root/anaconda3/envs/py37/lib/python3.7/socket.py\", line 716, in create_connection\n",
      "    sock.connect(sa)\n",
      "socket.timeout: timed out\n",
      "\n",
      "During handling of the above exception, another exception occurred:\n",
      "\n",
      "Traceback (most recent call last):\n",
      "  File \"/root/anaconda3/envs/py37/lib/python3.7/site-packages/fake_useragent/utils.py\", line 67, in get\n",
      "    context=context,\n",
      "  File \"/root/anaconda3/envs/py37/lib/python3.7/urllib/request.py\", line 222, in urlopen\n",
      "    return opener.open(url, data, timeout)\n",
      "  File \"/root/anaconda3/envs/py37/lib/python3.7/urllib/request.py\", line 525, in open\n",
      "    response = self._open(req, data)\n",
      "  File \"/root/anaconda3/envs/py37/lib/python3.7/urllib/request.py\", line 543, in _open\n",
      "    '_open', req)\n",
      "  File \"/root/anaconda3/envs/py37/lib/python3.7/urllib/request.py\", line 503, in _call_chain\n",
      "    result = func(*args)\n",
      "  File \"/root/anaconda3/envs/py37/lib/python3.7/urllib/request.py\", line 1360, in https_open\n",
      "    context=self._context, check_hostname=self._check_hostname)\n",
      "  File \"/root/anaconda3/envs/py37/lib/python3.7/urllib/request.py\", line 1319, in do_open\n",
      "    raise URLError(err)\n",
      "urllib.error.URLError: <urlopen error timed out>\n",
      "\n",
      "During handling of the above exception, another exception occurred:\n",
      "\n",
      "Traceback (most recent call last):\n",
      "  File \"/root/anaconda3/envs/py37/lib/python3.7/site-packages/fake_useragent/utils.py\", line 154, in load\n",
      "    for item in get_browsers(verify_ssl=verify_ssl):\n",
      "  File \"/root/anaconda3/envs/py37/lib/python3.7/site-packages/fake_useragent/utils.py\", line 97, in get_browsers\n",
      "    html = get(settings.BROWSERS_STATS_PAGE, verify_ssl=verify_ssl)\n",
      "  File \"/root/anaconda3/envs/py37/lib/python3.7/site-packages/fake_useragent/utils.py\", line 84, in get\n",
      "    raise FakeUserAgentError('Maximum amount of retries reached')\n",
      "fake_useragent.errors.FakeUserAgentError: Maximum amount of retries reached\n"
     ]
    },
    {
     "data": {
      "text/plain": [
       "'Mozilla/5.0 (X11; CrOS i686 3912.101.0) AppleWebKit/537.36 (KHTML, like Gecko) Chrome/27.0.1453.116 Safari/537.36'"
      ]
     },
     "execution_count": 52,
     "metadata": {},
     "output_type": "execute_result"
    }
   ],
   "source": [
    "from fake_useragent import UserAgent\n",
    "UserAgent().chrome"
   ]
  },
  {
   "cell_type": "code",
   "execution_count": 56,
   "metadata": {},
   "outputs": [
    {
     "data": {
      "text/plain": [
       "['__add__',\n",
       " '__class__',\n",
       " '__contains__',\n",
       " '__delattr__',\n",
       " '__dir__',\n",
       " '__doc__',\n",
       " '__eq__',\n",
       " '__format__',\n",
       " '__ge__',\n",
       " '__getattribute__',\n",
       " '__getitem__',\n",
       " '__getnewargs__',\n",
       " '__gt__',\n",
       " '__hash__',\n",
       " '__init__',\n",
       " '__init_subclass__',\n",
       " '__iter__',\n",
       " '__le__',\n",
       " '__len__',\n",
       " '__lt__',\n",
       " '__mod__',\n",
       " '__mul__',\n",
       " '__ne__',\n",
       " '__new__',\n",
       " '__reduce__',\n",
       " '__reduce_ex__',\n",
       " '__repr__',\n",
       " '__rmod__',\n",
       " '__rmul__',\n",
       " '__setattr__',\n",
       " '__sizeof__',\n",
       " '__str__',\n",
       " '__subclasshook__',\n",
       " 'capitalize',\n",
       " 'casefold',\n",
       " 'center',\n",
       " 'count',\n",
       " 'encode',\n",
       " 'endswith',\n",
       " 'expandtabs',\n",
       " 'find',\n",
       " 'format',\n",
       " 'format_map',\n",
       " 'index',\n",
       " 'isalnum',\n",
       " 'isalpha',\n",
       " 'isascii',\n",
       " 'isdecimal',\n",
       " 'isdigit',\n",
       " 'isidentifier',\n",
       " 'islower',\n",
       " 'isnumeric',\n",
       " 'isprintable',\n",
       " 'isspace',\n",
       " 'istitle',\n",
       " 'isupper',\n",
       " 'join',\n",
       " 'ljust',\n",
       " 'lower',\n",
       " 'lstrip',\n",
       " 'maketrans',\n",
       " 'partition',\n",
       " 'replace',\n",
       " 'rfind',\n",
       " 'rindex',\n",
       " 'rjust',\n",
       " 'rpartition',\n",
       " 'rsplit',\n",
       " 'rstrip',\n",
       " 'split',\n",
       " 'splitlines',\n",
       " 'startswith',\n",
       " 'strip',\n",
       " 'swapcase',\n",
       " 'title',\n",
       " 'translate',\n",
       " 'upper',\n",
       " 'zfill']"
      ]
     },
     "execution_count": 56,
     "metadata": {},
     "output_type": "execute_result"
    }
   ],
   "source": [
    "dir(UserAgent().chrome)"
   ]
  },
  {
   "cell_type": "code",
   "execution_count": 85,
   "metadata": {},
   "outputs": [],
   "source": [
    "lists = []\n",
    "for i in range(100):\n",
    "    lists.append(UserAgent().firefox)"
   ]
  },
  {
   "cell_type": "code",
   "execution_count": 86,
   "metadata": {},
   "outputs": [],
   "source": [
    "ss.update(set(lists))"
   ]
  },
  {
   "cell_type": "code",
   "execution_count": 87,
   "metadata": {},
   "outputs": [
    {
     "data": {
      "text/plain": [
       "136"
      ]
     },
     "execution_count": 87,
     "metadata": {},
     "output_type": "execute_result"
    }
   ],
   "source": [
    "len(ss)"
   ]
  },
  {
   "cell_type": "code",
   "execution_count": 92,
   "metadata": {},
   "outputs": [
    {
     "data": {
      "text/plain": [
       "'Mozilla/5.0 (Windows; U; Windows NT 5.1; en-US) AppleWebKit/533.20.25 (KHTML, like Gecko) Version/5.0.3 Safari/533.19.4'"
      ]
     },
     "execution_count": 92,
     "metadata": {},
     "output_type": "execute_result"
    }
   ],
   "source": [
    "import random \n",
    "random.choice(list(ss))\n"
   ]
  },
  {
   "cell_type": "code",
   "execution_count": 97,
   "metadata": {},
   "outputs": [
    {
     "name": "stdout",
     "output_type": "stream",
     "text": [
      "Item('11')\n"
     ]
    }
   ],
   "source": [
    "class Item:\n",
    "    def __init__(self, id_, max_stack=64, attack_range=10):\n",
    "        self._id = id_\n",
    "        self._max_stack_size = max_stack\n",
    "        self._range = attack_range\n",
    "\n",
    "    def get_id(self):\n",
    "        return self._id\n",
    "\n",
    "    def __repr__(self):\n",
    "        return f\"{self.__class__.__name__}({self._id!r})\"\n",
    "\n",
    "    def can_attack(self):\n",
    "        raise NotImplementedError(\"An Item subclass must implement a can_attack method\")\n",
    "\n",
    "    def attack(self, successful):\n",
    "        raise NotImplementedError(\"An Item subclass must implement an attack method\")\n",
    "\n",
    "    def place(self):\n",
    "        raise NotImplementedError(\"An Item subclass must implement a place method\")\n",
    "\n",
    "    def get_max_stack_size(self):\n",
    "        return self._max_stack_size\n",
    "\n",
    "    def is_stackable(self):\n",
    "        return self._max_stack_size != 1\n",
    "\n",
    "    def get_attack_range(self):\n",
    "        return self._range\n",
    "print(Item('11'))"
   ]
  },
  {
   "cell_type": "code",
   "execution_count": 98,
   "metadata": {},
   "outputs": [
    {
     "name": "stdout",
     "output_type": "stream",
     "text": [
      "1\n",
      "2\n",
      "3\n",
      "4\n"
     ]
    }
   ],
   "source": [
    "for i in range(1,5):\n",
    "    print(i)"
   ]
  },
  {
   "cell_type": "code",
   "execution_count": 105,
   "metadata": {},
   "outputs": [
    {
     "data": {
      "text/plain": [
       "1"
      ]
     },
     "execution_count": 105,
     "metadata": {},
     "output_type": "execute_result"
    }
   ],
   "source": [
    "import math\n",
    "math.ceil(19/20)"
   ]
  },
  {
   "cell_type": "code",
   "execution_count": 108,
   "metadata": {},
   "outputs": [
    {
     "data": {
      "text/plain": [
       "['11', '11']"
      ]
     },
     "execution_count": 108,
     "metadata": {},
     "output_type": "execute_result"
    }
   ],
   "source": [
    "'11,11'.split(',')"
   ]
  },
  {
   "cell_type": "code",
   "execution_count": 111,
   "metadata": {},
   "outputs": [
    {
     "name": "stdout",
     "output_type": "stream",
     "text": [
      "0.44559216327782536\n"
     ]
    },
    {
     "data": {
      "text/plain": [
       "0.2519126662603521"
      ]
     },
     "execution_count": 111,
     "metadata": {},
     "output_type": "execute_result"
    }
   ],
   "source": [
    "print(139465/312988)\n",
    "35133/139465"
   ]
  },
  {
   "cell_type": "code",
   "execution_count": 117,
   "metadata": {},
   "outputs": [
    {
     "data": {
      "text/plain": [
       "'41216266264296871333'"
      ]
     },
     "execution_count": 117,
     "metadata": {},
     "output_type": "execute_result"
    }
   ],
   "source": [
    "import random\n",
    "''.join(str(i) for i in random.sample(range(0,9),8))\n",
    "''.join([\"%s\" % random.randint(0, 9) for num in range(0, 20)])"
   ]
  },
  {
   "cell_type": "code",
   "execution_count": 118,
   "metadata": {},
   "outputs": [
    {
     "data": {
      "text/plain": [
       "'93667550676123910394'"
      ]
     },
     "execution_count": 118,
     "metadata": {},
     "output_type": "execute_result"
    }
   ],
   "source": [
    "''.join([f\"{random.randint(0, 9)}\" for _ in range(0, 20)])"
   ]
  },
  {
   "cell_type": "code",
   "execution_count": 206,
   "metadata": {},
   "outputs": [
    {
     "data": {
      "text/plain": [
       "[('ynwucang@163.com', '', '', '')]"
      ]
     },
     "execution_count": 206,
     "metadata": {},
     "output_type": "execute_result"
    }
   ],
   "source": [
    "import re\n",
    "re_email = \"([0-9a-zA-Z_]+([-+.][0-9a-zA-Z_]+)*@[0-9a-zA-Z_]+([-.][0-9a-zA-Z_]+)*\\.[0-9a-zA-Z_]+([-.][0-9a-zA-Z_]+)*)\"\n",
    "re_tel = \".*?((13[0-9]|14[5|7]|15[0|1|2|3|5|6|7|8|9]|18[0|1|2|3|5|6|7|8|9])\\d{8}).*?\"\n",
    "re_phone = \".*?(((\\(\\d{3,4}-)|\\d{3,4}-)?\\d{7,8})|(\\d{3}-\\d{8})|(\\d{4}-\\d{7})).*?\"\n",
    "re_phone = \"\\D((\\d{8}|0\\d{9,11}|0\\d{2,3}-\\d{7,8}))\\D\"\n",
    "re_id = \"(\\d{15})|(\\d{18})\"\n",
    "content = \"五仓杯云南民族风包装设计大赛征集令白酒包装与云南民族文化的完美融合，让白酒包装承载美酒更承载云南民族文化的情怀。由云南五仓大河食品股份有限公司和天琥教育联合举办的 “五仓杯云南民族风包装设计大赛”，正式开始线上征集。当创意与云南民族文化的激情碰撞，这将成为一场包装设计和民族风情的视觉盛宴。比赛怎么会少奖励呢？本次比赛的 一、二、三等奖将分别获得5000-1000元的奖金，以及对应奖项的奖品、后续设计合同、产品分红等奖励。进入复选的作品都将获得比赛荣誉证书。（详情参见海报）一、征集内容从云南的民族文化中选取主题或元素，选择5000ML、500ML、100ML其中一种酒瓶规格，设计酒瓶瓶身的效果图。二、参赛方式将作品文件发送至活动邮箱ynwucang@163.com即可参与比赛投稿。需注意参赛包括3-5张瓶身设计效果图，同时要附带包括作品设计理念、材质、尺寸及制造工艺等信息的设计说明，设计说明为PDF格式。还须包括个人信息、联系电话、居住地址、邮政地址等信息方便我们与您取得联系。参赛文件体积大小不超过50M。三、投稿截止日期截止日期为9月25日。投稿日期截止后，我们将通过微信公众号：五仓健康酒，进行后续公开投票与评选活动。记得关注公众号，了解更多比赛进程哦！四、评选流程征集活动结束后，将在微信公众号平台开启公众投票，选出初选作品（50名）进入复赛，在通过公众投票选出20名复赛作品，复赛作品最终将由公众与专家共同评选得出最终参赛作品，最终参赛作品将由民族文化、设计行业专家共同评选出名次。五、参赛说明：1、投稿人保证所投稿件没有侵犯他人知识产权；2、本次活动获奖作品一经采用，相关知识产权和使用权归云南五仓大河食品股份有限公司所有3、产品包装设计相同者，以先投稿者为准4、本活动解释权属云南五仓大河食品股份有限公司所有云南五仓酒包装设计大赛期待你的参与！\"\n",
    "re.findall(re_email, content)"
   ]
  },
  {
   "cell_type": "code",
   "execution_count": 201,
   "metadata": {},
   "outputs": [
    {
     "data": {
      "text/plain": [
       "'22512750726@163.com'"
      ]
     },
     "execution_count": 201,
     "metadata": {},
     "output_type": "execute_result"
    }
   ],
   "source": [
    "i = \"13800138000@163.com\"\n",
    "rand=''.join([f\"{random.randint(0, 9)}\" for _ in range(0, len(i[:i.index('@')])) ])\n",
    "f\"{rand}{i[i.index('@'):]}\""
   ]
  },
  {
   "cell_type": "code",
   "execution_count": 207,
   "metadata": {},
   "outputs": [
    {
     "name": "stdout",
     "output_type": "stream",
     "text": [
      "Looking in indexes: http://mirrors.aliyun.com/pypi/simple/\n",
      "Collecting json2html\n",
      "  Downloading http://mirrors.aliyun.com/pypi/packages/23/33/e6367858c5da6795d3277e9ea4e58a70a7fd55f97f4bcc90b1ecec1c1410/json2html-1.2.1.tar.gz\n",
      "Building wheels for collected packages: json2html\n",
      "  Building wheel for json2html (setup.py) ... \u001b[?25ldone\n",
      "\u001b[?25h  Stored in directory: /root/.cache/pip/wheels/07/a9/00/30c0648167306cd2d0f51f62038c3ded41723ff18e79e4326b\n",
      "Successfully built json2html\n",
      "Installing collected packages: json2html\n",
      "Successfully installed json2html-1.2.1\n"
     ]
    }
   ],
   "source": [
    "!pip install json2html"
   ]
  },
  {
   "cell_type": "code",
   "execution_count": 219,
   "metadata": {},
   "outputs": [],
   "source": [
    "import json\n",
    "from json2html import *\n",
    "jsonfile = [{\n",
    "    \"_id\" : \"5d0869de8677097efb78d588\",\n",
    "    \"id\" : \"5b893634869ad078f18853a4\",\n",
    "    \"source\" : \"tianya\",\n",
    "    \"content\" : \"此游戏是盛大旗下的一集团打造的纯绿色无商城赏金传奇，现唯一一款正版手游打金传奇，无商城，买元宝买入卖家获得积分用于直接提现。交易行全服通此游戏异常火爆 凌晨三点依旧有人守boss，每一个boss和精英怪和玩家都是行走的rmb，QQ 1114613564   V 15219948210\",\n",
    "    \"find\" : [ \n",
    "        \"15219948210\"\n",
    "    ],\n",
    "    \"replace\" : [ \n",
    "        \"85329400679\"\n",
    "    ],\n",
    "    \"new\" : \"此游戏是盛大旗下的一集团打造的纯绿色无商城赏金传奇，现唯一一款正版手游打金传奇，无商城，买元宝买入卖家获得积分用于直接提现。交易行全服通此游戏异常火爆 凌晨三点依旧有人守boss，每一个boss和精英怪和玩家都是行走的rmb，QQ 1114613564   V 85329400679\"\n",
    "},\n",
    "{\n",
    "    \"_id\" : \"5d086d32867709044fe5576b\",\n",
    "    \"id\" : \"5b89363c869ad078f1885567\",\n",
    "    \"source\" : \"tianya\",\n",
    "    \"content\" : \"据长江日报报道，2018年湖北普通高校招生录取工作已经开始。不少高考成绩不理想的学生意欲复读，准备来年再战。不过，复读学校亦非来者不拒。武汉一所复读学校今年出台一项新规：所有入学学生需要签“拒绝王者荣耀、吃鸡等成瘾性网络游戏协议”，甚至因此拒绝了一所985高校在读生的复读申请。12日，在武汉国华学校门口，醒目的大幅海报张贴在大门上。记者看到，这则发布于7月9日的《武汉国华学校针对游戏成瘾学生从严招录的通知》称，该校2018年高复招生将对游戏沉迷学生不录和从严招录。在校期间禁用手机，对于在校学生沉迷王者荣耀、吃鸡等成瘾性、暴力性网络游戏，一经发现砸机并做劝退处理。武汉国华是一所专门针对高考复读提分的培训学校。校长刘邵阳介绍，学校往年每年招生都会遇到一些严重沉迷网络游戏的学生，学校在家长各种求情下尽量接纳，但入校后，这类学生的管理和教育给学校带来很大困难，甚至带坏了学风。刘邵阳介绍，就在这两天，西北农林科技大学一位学生多次找到学校，想复读重新参加高考。这是一所985高校，这位学生也很聪明，但刘校长仔细一了解，这个孩子严重沉迷网络游戏。刘校长问他，这么荒废学业有没有想过父母，答“没有”，复读有什么样的目标？答“没有”。再问，以后有打算工作吗？答“没有”。刘校长最后问，想过以后要结婚生子吗，答“没有”。“王者荣耀太厉害了，那些家长都叫它王者‘农药’，还有那个‘吃鸡’游戏，很暴力，防范不及时就毁了孩子”，刘校长说，作为校方，非常看重学校声誉，更看重那些下决心复读的孩子在这一年里分数能提高，还能养成好的学习习惯，好的生活习惯。所以，学校从今年决定，和每个入校学生都签署“拒绝网游协议”。记者看到，这份协议一式两份，学校、学生和家长全部签字，学校和家长各执一份。对于此项新规，家长多持支持意见。新闻地址：http://games.ifeng.com/a/20180714/45063665_0.shtml\",\n",
    "    \"find\" : [ \n",
    "        \"20180714\"\n",
    "    ],\n",
    "    \"replace\" : [ \n",
    "        \"28543320\"\n",
    "    ],\n",
    "    \"new\" : \"据长江日报报道，2018年湖北普通高校招生录取工作已经开始。不少高考成绩不理想的学生意欲复读，准备来年再战。不过，复读学校亦非来者不拒。武汉一所复读学校今年出台一项新规：所有入学学生需要签“拒绝王者荣耀、吃鸡等成瘾性网络游戏协议”，甚至因此拒绝了一所985高校在读生的复读申请。12日，在武汉国华学校门口，醒目的大幅海报张贴在大门上。记者看到，这则发布于7月9日的《武汉国华学校针对游戏成瘾学生从严招录的通知》称，该校2018年高复招生将对游戏沉迷学生不录和从严招录。在校期间禁用手机，对于在校学生沉迷王者荣耀、吃鸡等成瘾性、暴力性网络游戏，一经发现砸机并做劝退处理。武汉国华是一所专门针对高考复读提分的培训学校。校长刘邵阳介绍，学校往年每年招生都会遇到一些严重沉迷网络游戏的学生，学校在家长各种求情下尽量接纳，但入校后，这类学生的管理和教育给学校带来很大困难，甚至带坏了学风。刘邵阳介绍，就在这两天，西北农林科技大学一位学生多次找到学校，想复读重新参加高考。这是一所985高校，这位学生也很聪明，但刘校长仔细一了解，这个孩子严重沉迷网络游戏。刘校长问他，这么荒废学业有没有想过父母，答“没有”，复读有什么样的目标？答“没有”。再问，以后有打算工作吗？答“没有”。刘校长最后问，想过以后要结婚生子吗，答“没有”。“王者荣耀太厉害了，那些家长都叫它王者‘农药’，还有那个‘吃鸡’游戏，很暴力，防范不及时就毁了孩子”，刘校长说，作为校方，非常看重学校声誉，更看重那些下决心复读的孩子在这一年里分数能提高，还能养成好的学习习惯，好的生活习惯。所以，学校从今年决定，和每个入校学生都签署“拒绝网游协议”。记者看到，这份协议一式两份，学校、学生和家长全部签字，学校和家长各执一份。对于此项新规，家长多持支持意见。新闻地址：http://games.ifeng.com/a/28543320/45063665_0.shtml\"\n",
    "}]\n",
    "# infoFromJson = json.loads(jsonfile)\n",
    "a = json2html.convert(json = jsonfile)\n",
    "with open('test.html', 'w') as wp:\n",
    "    wp.write(a)"
   ]
  },
  {
   "cell_type": "code",
   "execution_count": 239,
   "metadata": {},
   "outputs": [
    {
     "data": {
      "text/plain": [
       "dict_keys(['零', '壹', '贰', '叁', '肆', '伍', '陆', '柒', '捌', '玖', '貮', '两'])"
      ]
     },
     "execution_count": 239,
     "metadata": {},
     "output_type": "execute_result"
    }
   ],
   "source": [
    "num1 = {\n",
    "    '〇' : 0, '一' : 1, '二' : 2, '三' : 3, '四' : 4, '五' : 5, '六' : 6, '七' : 7, '八' : 8, '九' : 9\n",
    "}\n",
    "num2 = {\n",
    "    '零' : 0, '壹' : 1, '贰' : 2, '叁' : 3, '肆' : 4, '伍' : 5, '陆' : 6, '柒' : 7, '捌' : 8, '玖' : 9, '貮' : 2, '两' : 2,\n",
    "}\n",
    "\n",
    "num2.keys()"
   ]
  },
  {
   "cell_type": "code",
   "execution_count": 440,
   "metadata": {},
   "outputs": [
    {
     "name": "stdout",
     "output_type": "stream",
     "text": [
      "[('ynwucang@163.com', '', '', '')]\n"
     ]
    },
    {
     "data": {
      "text/plain": [
       "[(('ynwucang@163.com', None, None, None), 335, 351)]"
      ]
     },
     "execution_count": 440,
     "metadata": {},
     "output_type": "execute_result"
    }
   ],
   "source": [
    "# data = \"据长江日报报道，2018年湖北普通高校招生录取工作已经开始。不少高考成绩不理想的学生意欲复读，准备来年再战。不过，复读学校亦非来者不拒。武汉一所复读学校今年出台一项新规：所有入学学生需要签“拒绝王者荣耀、吃鸡等成瘾性网络游戏协议”，甚至因此拒绝了一所985高校在读生的复读申请。12日，在武汉国华学校门口，醒目的大幅海报张贴在大门上。记者看到，这则发布于7月9日的《武汉国华学校针对游戏成瘾学生从严招录的通知》称，该校2018年高复招生将对游戏沉迷学生不录和从严招录。在校期间禁用手机，对于在校学生沉迷王者荣耀、吃鸡等成瘾性、暴力性网络游戏，一经发现砸机并做劝退处理。武汉国华是一所专门针对高考复读提分的培训学校。校长刘邵阳介绍，学校往年每年招生都会遇到一些严重沉迷网络游戏的学生，学校在家长各种求情下尽量接纳，但入校后，这类学生的管理和教育给学校带来很大困难，甚至带坏了学风。刘邵阳介绍，就在这两天，西北农林科技大学一位学生多次找到学校，想复读重新参加高考。这是一所985高校，这位学生也很聪明，但刘校长仔细一了解，这个孩子严重沉迷网络游戏。刘校长问他，这么荒废学业有没有想过父母，答“没有”，复读有什么样的目标？答“没有”。再问，以后有打算工作吗？答“没有”。刘校长最后问，想过以后要结婚生子吗，答“没有”。“王者荣耀太厉害了，那些家长都叫它王者‘农药’，还有那个‘吃鸡’游戏，很暴力，防范不及时就毁了孩子”，刘校长说，作为校方，非常看重学校声誉，更看重那些下决心复读的孩子在这一年里分数能提高，还能养成好的学习习惯，好的生活习惯。所以，学校从今年决定，和每个入校学生都签署“拒绝网游协议”。记者看到，这份协议一式两份，学校、学生和家长全部签字，学校和家长各执一份。对于此项新规，家长多持支持意见\"\n",
    "import re\n",
    "re_email = \"([0-9a-zA-Z_]+([-+.][0-9a-zA-Z_]+)*@[0-9a-zA-Z_]+([-.][0-9a-zA-Z_]+)*\\.[0-9a-zA-Z_]+([-.][0-9a-zA-Z_]+)*)\"\n",
    "re_tel = \".*?((13[0-9]|14[5|7]|15[0|1|2|3|5|6|7|8|9]|18[0|1|2|3|5|6|7|8|9])\\d{8}).*?\"\n",
    "re_phone = \".*?(((\\(\\d{3,4}-)|\\d{3,4}-)?\\d{7,8})|(\\d{3}-\\d{8})|(\\d{4}-\\d{7})).*?\"\n",
    "re_phone = \"\\D((\\d{8}|0\\d{9,11}|0\\d{2,3}-\\d{7,8}))\\D\"\n",
    "re_id = \"(\\d{15})|(\\d{18})\"\n",
    "re_cn = \"(([零壹贰叁肆伍陆柒捌玖貮两]{2,19}))\"\n",
    "re_cn2 = \"(([〇一二三四五六七八九]{2,19}))\"\n",
    "re_email = \"([0-9a-zA-Z_]+([-+.][0-9a-zA-Z_]+)*@[0-9a-zA-Z_]+([-.][0-9a-zA-Z_]+)*\\.[0-9a-zA-Z_]+([-.][0-9a-zA-Z_]+)*)\"\n",
    "content = \"五仓杯云南民族风包装设〇一二三六七八九计大赛征集令白酒零壹陆柒捌玖貮两包装与云南民族文化的完美融合，让白酒包装承载美酒更承载云南民族文化的情怀。由云南五仓大河食品股份有限公司和天琥教育联合举办的 “五仓杯云南民族风包装设计大赛”，正式开始线上征集。当创意与云南民族文化的激情碰撞，这将成为一场包装设计和民族风情的视觉盛宴。比赛怎么会少奖励呢？本次比赛的 一、二、三等奖将分别获得5000-1000元的奖金，以及对应奖项的奖品、后续设计合同、产品分红等奖励。进入复选的作品都将获得比赛荣誉证书。（详情参见海报）一、征集内容从云南的民族文化中选取主题或元素，选择5000ML、500ML、100ML其中一种酒瓶规格，设计酒瓶瓶身的效果图。二、参赛方式将作品文件发送至活动邮箱ynwucang@163.com即可参与比赛投稿。需注意参赛包括3-5张瓶身设计效果图，同时要附带包括作品设计理念、材质、尺寸及制造工艺等信息的设计说明，设计说明为PDF格式。还须包括个人信息、联系电话、居住地址、邮政地址等信息方便我们与您取得联系。参赛文件体积大小不超过50M。三、投稿截止日期截止日期为9月25日。投稿日期截止后，我们将通过微信公众号：五仓健康酒，进行后续公开投票与评选活动。记得关注公众号，了解更多比赛进程哦！四、评选流程征集活动结束后，将在微信公众号平台开启公众投票，选出初选作品（50名）进入复赛，在通过公众投票选出20名复赛作品，复赛作品最终将由公众与专家共同评选得出最终参赛作品，最终参赛作品将由民族文化、设计行业专家共同评选出名次。五、参赛说明：1、投稿人保证所投稿件没有侵犯他人知识产权；2、本次活动获奖作品一经采用，相关知识产权和使用权归云南五仓大河食品股份有限公司所有3、产品包装设计相同者，以先投稿者为准4、本活动解释权属云南五仓大河食品股份有限公司所有云南五仓酒包装设计大赛期待你的参与！\"\n",
    "print(re.findall(re_email, content))\n",
    "[(m.groups(), m.start(0), m.end(0)) for m in re.finditer(re_email, content)]"
   ]
  },
  {
   "cell_type": "code",
   "execution_count": 430,
   "metadata": {},
   "outputs": [
    {
     "name": "stdout",
     "output_type": "stream",
     "text": [
      "[('街12栋', '12', '栋'), ('街162单元', '162', '单元')]\n"
     ]
    },
    {
     "data": {
      "text/plain": [
       "[(('街12栋', '12', '栋'), 7, 11), (('街162单元', '162', '单元'), 14, 20)]"
      ]
     },
     "execution_count": 430,
     "metadata": {},
     "output_type": "execute_result"
    }
   ],
   "source": [
    "re_area = \"([区路街楼栋巷幢号座院室层房]+(\\d{1,5})([区路楼栋巷幢号座院室层房]+|单元))\"\n",
    "content = \"佳木斯市抚远市街12栋嵩山1街162单元附近\"\n",
    "print(re.findall(re_area, content))\n",
    "[(m.groups(), m.start(0), m.end(0)) for m in re.finditer(re_area, content)]"
   ]
  },
  {
   "cell_type": "code",
   "execution_count": 416,
   "metadata": {},
   "outputs": [
    {
     "name": "stdout",
     "output_type": "stream",
     "text": [
      "[('', '', '', '', '', '京A12312', '1231'), ('京A12312D', '12312D', '12312D', '', '', '', '')]\n",
      "['1231', '12312D']\n"
     ]
    },
    {
     "data": {
      "text/plain": [
       "[((None, None, None, None, None, '京A12312', '1231'), 0, 7),\n",
       " (('京A12312D', '12312D', '12312D', None, None, None, None), 11, 19)]"
      ]
     },
     "execution_count": 416,
     "metadata": {},
     "output_type": "execute_result"
    }
   ],
   "source": [
    "re_car = \"([京津沪渝冀豫云辽黑湘皖鲁新苏浙赣鄂桂甘晋蒙陕吉闽贵粤青藏川宁琼使领]{1}[A-Z]{1}(([0-9]{5}[DF])|([DF]([A-HJ-NP-Z0-9])[0-9]{4})))|([京津沪渝冀豫云辽黑湘皖鲁新苏浙赣鄂桂甘晋蒙陕吉闽贵粤青藏川宁琼使领]{1}[A-Z]{1}([A-HJ-NP-Z0-9]{4})[A-HJ-NP-Z0-9挂学警港澳]{1})\"\n",
    "# re_car = \"[京津沪渝冀豫云辽黑湘皖鲁新苏浙赣鄂桂甘晋蒙陕吉闽贵粤青藏川宁琼使领A-Z]{1}[A-Z]{1}[A-HJ-NP-Z0-9]{4}[A-HJ-NP-Z0-9挂学警港澳]{1}\"\n",
    "re_car = \"([京津沪渝冀豫云辽黑湘皖鲁新苏浙赣鄂桂甘晋蒙陕吉闽贵粤青藏川宁琼使领]{1}[A-Z]{1}(([0-9]{5}[DF])|([DF]([A-HJ-NP-Z0-9])[0-9]{4})))|([京津沪渝冀豫云辽黑湘皖鲁新苏浙赣鄂桂甘晋蒙陕吉闽贵粤青藏川宁琼使领]{1}[A-Z]{1}([A-HJ-NP-Z0-9]{4})[A-HJ-NP-Z0-9挂学警港澳]{1})\"\n",
    "content = \"京A12312388 京A12312D388\"\n",
    "# print(re.search(re_car, content).groups())\n",
    "tmp = re.findall(re_car, content)\n",
    "print(tmp)\n",
    "tmp = [i[6] for i in tmp if i[6]] + [i[1] for i in tmp if i[1]]\n",
    "print(tmp)\n",
    "[(m.groups(), m.start(0), m.end(0)) for m in re.finditer(re_car, content)]"
   ]
  },
  {
   "cell_type": "code",
   "execution_count": 432,
   "metadata": {},
   "outputs": [
    {
     "data": {
      "text/plain": [
       "[(('12312388',), 2, 10), (('12312888388',), 15, 26), (('      ',), 28, 34)]"
      ]
     },
     "execution_count": 432,
     "metadata": {},
     "output_type": "execute_result"
    }
   ],
   "source": [
    "re_num = \"([0-9 ,，]{6,25})\"\n",
    "content = \"京A12312388aa 京A12312888388aa      \"\n",
    "# print(re.search(re_car, content).groups())\n",
    "re.findall(re_num, content)\n",
    "[(m.groups(), m.start(0), m.end(0)) for m in re.finditer(re_num, content)]"
   ]
  },
  {
   "cell_type": "code",
   "execution_count": 435,
   "metadata": {},
   "outputs": [
    {
     "name": "stdout",
     "output_type": "stream",
     "text": [
      "['壹叁壹捌叁零壹肆贰伍陆', '肆贰贰玖寺山岭伍壹', '叁壹捌叁叁壹捌叁', '壹伍零肆二伍柒肆三', '扒四三零六扒三七五']\n"
     ]
    },
    {
     "data": {
      "text/plain": [
       "[(('壹叁壹捌叁零壹肆贰伍陆',), 11, 22),\n",
       " (('肆贰贰玖寺山岭伍壹',), 30, 39),\n",
       " (('叁壹捌叁叁壹捌叁',), 40, 48),\n",
       " (('壹伍零肆二伍柒肆三',), 49, 58),\n",
       " (('扒四三零六扒三七五',), 76, 85)]"
      ]
     },
     "execution_count": 435,
     "metadata": {},
     "output_type": "execute_result"
    }
   ],
   "source": [
    "re_cn = \"[〇一二三四五六七八九零]{6,25}\"\n",
    "re_cn2 = \"([〇一二三四五六七八九零壹贰叁肆伍陆柒捌玖貮两扒寺山岭]{6,25})\"\n",
    "content = \"叁壹捌叁扣扣 adfa壹叁壹捌叁零壹肆贰伍陆adjfad  肆贰贰玖寺山岭伍壹 叁壹捌叁叁壹捌叁 壹伍零肆二伍柒肆三 一五零七  九二六五   四零二 扒四三零六扒三七五\"\n",
    "# print(re.search(re_car, content).groups())\n",
    "print(re.findall(re_cn2, content))\n",
    "[(m.groups(), m.start(0), m.end(0)) for m in re.finditer(re_cn2, content)]"
   ]
  },
  {
   "cell_type": "code",
   "execution_count": 439,
   "metadata": {},
   "outputs": [
    {
     "data": {
      "text/plain": [
       "'叁壹捌叁扣扣 adfa壹叁壹捌叁零壹肆贰伍陆adjfad  肆贰贰玖寺山岭伍壹 叁壹捌叁叁壹捌叁 壹伍零肆二伍柒肆三 一五零七  九二六五   四零二 扒四三零六扒三七五'"
      ]
     },
     "execution_count": 439,
     "metadata": {},
     "output_type": "execute_result"
    }
   ],
   "source": [
    "def replace_idx(oris, st=0, end=0, news=''):\n",
    "    return oris[:st] + news + oris[end:]\n",
    "replace_idx(content)"
   ]
  },
  {
   "cell_type": "code",
   "execution_count": null,
   "metadata": {},
   "outputs": [],
   "source": [
    "'end',\n",
    "   'endpos',\n",
    "   'expand',\n",
    "   'group',\n",
    "   'groupdict',\n",
    "   'groups',\n",
    "   'lastgroup',\n",
    "   'lastindex',\n",
    "   'pos',\n",
    "   're',\n",
    "   'regs',\n",
    "   'span',\n",
    "   'start',\n",
    "   'string'"
   ]
  },
  {
   "cell_type": "code",
   "execution_count": 318,
   "metadata": {},
   "outputs": [],
   "source": [
    "from itertools import groupby\n",
    "def continues(item):\n",
    "    fun = lambda z: int(z[1]) - (z[0])\n",
    "    for _, g in groupby(enumerate(list(item)), fun):\n",
    "        if 10 >= len([v for i, v in g]) >= 6: \n",
    "            return True\n",
    "    return False\n",
    "l='3451678989'\n",
    "continues(l)"
   ]
  },
  {
   "cell_type": "code",
   "execution_count": 300,
   "metadata": {},
   "outputs": [
    {
     "data": {
      "text/plain": [
       "[(0, '3'),\n",
       " (1, '4'),\n",
       " (2, '5'),\n",
       " (3, '6'),\n",
       " (4, '7'),\n",
       " (5, '8'),\n",
       " (6, '9'),\n",
       " (7, '2'),\n",
       " (8, '4'),\n",
       " (9, '6'),\n",
       " (10, '8')]"
      ]
     },
     "execution_count": 300,
     "metadata": {},
     "output_type": "execute_result"
    }
   ],
   "source": [
    "list(enumerate(list(l)))"
   ]
  },
  {
   "cell_type": "code",
   "execution_count": 326,
   "metadata": {},
   "outputs": [
    {
     "data": {
      "text/plain": [
       "[1, 2]"
      ]
     },
     "execution_count": 326,
     "metadata": {},
     "output_type": "execute_result"
    }
   ],
   "source": [
    "a = [1]\n",
    "a += [2]\n",
    "a"
   ]
  },
  {
   "cell_type": "code",
   "execution_count": 367,
   "metadata": {},
   "outputs": [
    {
     "data": {
      "text/plain": [
       "1"
      ]
     },
     "execution_count": 367,
     "metadata": {},
     "output_type": "execute_result"
    }
   ],
   "source": [
    "len(set('11111111111111'))\n"
   ]
  },
  {
   "cell_type": "code",
   "execution_count": 378,
   "metadata": {},
   "outputs": [
    {
     "data": {
      "text/plain": [
       "['ss']"
      ]
     },
     "execution_count": 378,
     "metadata": {},
     "output_type": "execute_result"
    }
   ],
   "source": [
    "list(filter(lambda x: x.replace(' ', ''), ['', ' ', '   ', 'ss']))"
   ]
  },
  {
   "cell_type": "code",
   "execution_count": 381,
   "metadata": {},
   "outputs": [
    {
     "data": {
      "text/plain": [
       "['0755', '8376', '5566']"
      ]
     },
     "execution_count": 381,
     "metadata": {},
     "output_type": "execute_result"
    }
   ],
   "source": [
    "list(filter(None, re.split(\"[， ]+\", \"，0755 8376 5566 \")))"
   ]
  },
  {
   "cell_type": "code",
   "execution_count": null,
   "metadata": {},
   "outputs": [],
   "source": [
    "[(m.start(0), m.end(0)) for m in re.finditer(pattern, string)]"
   ]
  },
  {
   "cell_type": "code",
   "execution_count": 458,
   "metadata": {},
   "outputs": [
    {
     "data": {
      "text/plain": [
       "[(('1,2,5,11,23,47,95,191,383',), 3, 28),\n",
       " ((',767,1534,3069',), 28, 42),\n",
       " (('10000035',), 50, 58),\n",
       " (('111111',), 69, 75)]"
      ]
     },
     "execution_count": 458,
     "metadata": {},
     "output_type": "execute_result"
    }
   ],
   "source": [
    "\n",
    "re_num = \"([0-9 ,，]{6,25})(?<![@])\"\n",
    "content = \"我们用1,2,5,11,23,47,95,191,383,767,1534,3069怎么样?是否0x10000035_C0 感觉1111a111111@到了有意思！\"\n",
    "# print(re.search(re_car, content).groups())\n",
    "re.findall(re_num, content)\n",
    "[(m.groups(), m.start(0), m.end(0)) for m in re.finditer(re_num, content)]"
   ]
  },
  {
   "cell_type": "code",
   "execution_count": 445,
   "metadata": {},
   "outputs": [
    {
     "data": {
      "text/plain": [
       "'我们用m$$k4,2,7,27,53,25,62,715,826m$$km$$k,595,2428,8792m$$k怎么样?是否感觉到了有意思！'"
      ]
     },
     "execution_count": 445,
     "metadata": {},
     "output_type": "execute_result"
    }
   ],
   "source": [
    "content = \"我们用1,2,5,11,23,47,95,191,383,767,1534,3069怎么样?是否感觉到了有意思！\"\n",
    "content = replace_idx(content, 3, 28, \"m$$k\" + '1,2,5,11,23,47,95,191,383'.replace('1,2,5,11,23,47,95,191,383', '4,2,7,27,53,25,62,715,826') + \"m$$k\")\n",
    "replace_idx(content, 36, 50, \"m$$k\" + ',767,1534,3069'.replace(',767,1534,3069', ',595,2428,8792') + \"m$$k\")"
   ]
  },
  {
   "cell_type": "code",
   "execution_count": 446,
   "metadata": {},
   "outputs": [
    {
     "data": {
      "text/plain": [
       "['我们用', '4,2,7,27,53,25,62,715,826', '', ',595,2428,8792', '怎么样?是否感觉到了有意思！']"
      ]
     },
     "execution_count": 446,
     "metadata": {},
     "output_type": "execute_result"
    }
   ],
   "source": [
    "'我们用m$$k4,2,7,27,53,25,62,715,826m$$km$$k,595,2428,8792m$$k怎么样?是否感觉到了有意思！'.split('m$$k')"
   ]
  },
  {
   "cell_type": "code",
   "execution_count": 452,
   "metadata": {},
   "outputs": [
    {
     "name": "stdout",
     "output_type": "stream",
     "text": [
      "['1 2 5 11 23 47 95 191 383', ',767,1534,3069']\n"
     ]
    },
    {
     "data": {
      "text/plain": [
       "[(('1 2 5 11 23 47 95 191 383',), 5, 30), ((',767,1534,3069',), 30, 44)]"
      ]
     },
     "execution_count": 452,
     "metadata": {},
     "output_type": "execute_result"
    }
   ],
   "source": [
    "\n",
    "re_tels = \"(?<![A-z])([+\\d\\-() －]{5,})\"\n",
    "content = \"我们用aa1 2 5 11 23 47 95 191 383,767,1534,3069怎么样?是否感觉到了有意思！\"\n",
    "print(re.findall(re_num, content))\n",
    "[(m.groups(), m.start(0), m.end(0)) for m in re.finditer(re_num, content)]"
   ]
  },
  {
   "cell_type": "code",
   "execution_count": 457,
   "metadata": {},
   "outputs": [
    {
     "name": "stdout",
     "output_type": "stream",
     "text": [
      "['192.16.0.1']\n"
     ]
    },
    {
     "data": {
      "text/plain": [
       "[(('192.16.0.1',), 0, 10)]"
      ]
     },
     "execution_count": 457,
     "metadata": {},
     "output_type": "execute_result"
    }
   ],
   "source": [
    "re_ip = \"(\\d+\\.\\d+\\.\\d+\\.\\d+)\"\n",
    "content = \"192.16.0.1\"\n",
    "print(re.findall(re_ip, content))\n",
    "[(m.groups(), m.start(0), m.end(0)) for m in re.finditer(re_ip, content)]"
   ]
  },
  {
   "cell_type": "code",
   "execution_count": 461,
   "metadata": {},
   "outputs": [
    {
     "name": "stdout",
     "output_type": "stream",
     "text": [
      "OK\n"
     ]
    }
   ],
   "source": [
    "# -*- coding: utf-8 -*-\n",
    "\n",
    "import re\n",
    "\n",
    "_Code86_rex = re.compile('^(00|\\+)86')\n",
    "_Start0_rex = re.compile('^0')\n",
    "_Start01_rex = re.compile('^0((10)|2[\\d])([2-8][\\d]{7}|96[\\d]{3,11})$')\n",
    "_Start03_rex = re.compile('^0[3-9][\\d]{2}([2-8][\\d]{6,7}|96[\\d]{3,10})$')\n",
    "_Start095_rex = re.compile('^095[\\d]{3,13}$')\n",
    "_Start2_rex = re.compile('^[2-8]')\n",
    "_Start480_rex = re.compile('^[4|8]00[\\d]{7}$')\n",
    "_Start1_rex = re.compile('^1')\n",
    "_phone_rex = re.compile('^1[3-9][\\d]{9}$')\n",
    "_Start106_rex = re.compile('^106[\\d]{5,17}$')\n",
    "_Start125_rex = re.compile('^125[\\d]{5,17}$')\n",
    "_Start1010_rex = re.compile('^1010\\d{4,8}$')\n",
    "_Start100_rex = re.compile('^100\\d{2}$')\n",
    "_Start95_rex = re.compile('^95[\\d]{5,14}')\n",
    "_special10_rex = re.compile('^((10)|2[\\d])([2-8][\\d]{7}|96[\\d]{3,11})$')\n",
    "_special39_rex = re.compile('^[3-9][\\d]{2}([2-8][\\d]{6,7}|96[\\d]{3,10})$')\n",
    "\n",
    "def re_find(data, rex):\n",
    "    c = re.findall(rex, data)\n",
    "    if c:\n",
    "        return True\n",
    "    return False\n",
    "\n",
    "\n",
    "def check_tel(tel):\n",
    "    tel = tel.replace('-', '')\n",
    "    if_check = 0\n",
    "    mark     = 0\n",
    "    if re_find(tel, _Code86_rex):\n",
    "        tel  = _Code86_rex.sub('', tel)\n",
    "        mark = 1\n",
    "    if re_find(tel, _Start0_rex):\n",
    "        if re_find(tel, _Start01_rex) or re_find(tel, _Start03_rex) or re_find(tel, _Start095_rex):\n",
    "            return tel\n",
    "    elif re_find(tel, _Start2_rex):\n",
    "        if re_find(tel, _Start480_rex):\n",
    "            return tel\n",
    "    elif re_find(tel, _Start1_rex):\n",
    "        if re_find(tel, _phone_rex) or re_find(tel, _Start106_rex) or re_find(tel, _Start125_rex) or re_find(tel, _Start1010_rex) or re_find(tel, _Start100_rex):\n",
    "            return tel\n",
    "    elif re_find(tel, _Start95_rex):\n",
    "        return tel\n",
    "    if mark == 1:\n",
    "        if re_find(tel, _special10_rex) or re_find(tel, _special10_rex):\n",
    "            return tel\n",
    "\n",
    "\n",
    "if __name__ == '__main__':\n",
    "    tel = '13694578371'\n",
    "    if check_tel(tel):\n",
    "        print ('OK')\n",
    "    else:\n",
    "        print ('ERROR')"
   ]
  },
  {
   "cell_type": "code",
   "execution_count": 462,
   "metadata": {},
   "outputs": [
    {
     "data": {
      "text/plain": [
       "27874"
      ]
     },
     "execution_count": 462,
     "metadata": {},
     "output_type": "execute_result"
    }
   ],
   "source": [
    "()"
   ]
  },
  {
   "cell_type": "code",
   "execution_count": 465,
   "metadata": {},
   "outputs": [
    {
     "data": {
      "text/plain": [
       "0.44543581171606844"
      ]
     },
     "execution_count": 465,
     "metadata": {},
     "output_type": "execute_result"
    }
   ],
   "source": [
    "139637/313484\n"
   ]
  },
  {
   "cell_type": "code",
   "execution_count": 468,
   "metadata": {},
   "outputs": [
    {
     "data": {
      "text/plain": [
       "63378586.596599996"
      ]
     },
     "execution_count": 468,
     "metadata": {},
     "output_type": "execute_result"
    }
   ],
   "source": [
    "15200889/5000*20847\n",
    "\n"
   ]
  },
  {
   "cell_type": "code",
   "execution_count": 470,
   "metadata": {},
   "outputs": [
    {
     "data": {
      "text/plain": [
       "27723381.3582"
      ]
     },
     "execution_count": 470,
     "metadata": {},
     "output_type": "execute_result"
    }
   ],
   "source": [
    "9119/20847*63378586.596599996"
   ]
  },
  {
   "cell_type": "code",
   "execution_count": 473,
   "metadata": {},
   "outputs": [
    {
     "data": {
      "text/plain": [
       "956.9312424607962"
      ]
     },
     "execution_count": 473,
     "metadata": {},
     "output_type": "execute_result"
    }
   ],
   "source": [
    "2772*(1-5971/9119)"
   ]
  },
  {
   "cell_type": "code",
   "execution_count": 474,
   "metadata": {},
   "outputs": [
    {
     "data": {
      "text/plain": [
       "0.07670168369549575"
      ]
     },
     "execution_count": 474,
     "metadata": {},
     "output_type": "execute_result"
    }
   ],
   "source": [
    "1599/20847"
   ]
  },
  {
   "cell_type": "code",
   "execution_count": 477,
   "metadata": {},
   "outputs": [
    {
     "data": {
      "text/plain": [
       "212.6124"
      ]
     },
     "execution_count": 477,
     "metadata": {},
     "output_type": "execute_result"
    }
   ],
   "source": [
    "2772*0.0767"
   ]
  },
  {
   "cell_type": "code",
   "execution_count": 478,
   "metadata": {},
   "outputs": [
    {
     "data": {
      "text/plain": [
       "238.88888888888889"
      ]
     },
     "execution_count": 478,
     "metadata": {},
     "output_type": "execute_result"
    }
   ],
   "source": [
    "21500/90"
   ]
  },
  {
   "cell_type": "code",
   "execution_count": 479,
   "metadata": {},
   "outputs": [
    {
     "data": {
      "text/plain": [
       "0.49053296277986014"
      ]
     },
     "execution_count": 479,
     "metadata": {},
     "output_type": "execute_result"
    }
   ],
   "source": [
    "747144/1523127"
   ]
  },
  {
   "cell_type": "code",
   "execution_count": 481,
   "metadata": {},
   "outputs": [
    {
     "data": {
      "text/plain": [
       "0.5658534365530608"
      ]
     },
     "execution_count": 481,
     "metadata": {},
     "output_type": "execute_result"
    }
   ],
   "source": [
    "1-324370/747144"
   ]
  },
  {
   "cell_type": "code",
   "execution_count": 483,
   "metadata": {},
   "outputs": [
    {
     "data": {
      "text/plain": [
       "115237.14991227679"
      ]
     },
     "execution_count": 483,
     "metadata": {},
     "output_type": "execute_result"
    }
   ],
   "source": [
    "44072/582514*1523127"
   ]
  },
  {
   "cell_type": "code",
   "execution_count": 484,
   "metadata": {},
   "outputs": [
    {
     "data": {
      "text/plain": [
       "0.1628235294117647"
      ]
     },
     "execution_count": 484,
     "metadata": {},
     "output_type": "execute_result"
    }
   ],
   "source": [
    "2768/17000"
   ]
  },
  {
   "cell_type": "code",
   "execution_count": 487,
   "metadata": {},
   "outputs": [
    {
     "data": {
      "text/plain": [
       "0.1753481741419015"
      ]
     },
     "execution_count": 487,
     "metadata": {},
     "output_type": "execute_result"
    }
   ],
   "source": [
    "1599/9119"
   ]
  },
  {
   "cell_type": "code",
   "execution_count": 489,
   "metadata": {},
   "outputs": [
    {
     "data": {
      "text/plain": [
       "829.0101599999999"
      ]
     },
     "execution_count": 489,
     "metadata": {},
     "output_type": "execute_result"
    }
   ],
   "source": [
    "9000*0.1628*0.5658"
   ]
  },
  {
   "cell_type": "code",
   "execution_count": 493,
   "metadata": {},
   "outputs": [
    {
     "name": "stdout",
     "output_type": "stream",
     "text": [
      "20170103122348 ddd 20170103122348\n"
     ]
    }
   ],
   "source": [
    "oritime = utime = ctime = 20170103122348\n",
    "utime = \"ddd\"\n",
    "print(oritime,utime,ctime)"
   ]
  },
  {
   "cell_type": "code",
   "execution_count": 495,
   "metadata": {},
   "outputs": [
    {
     "data": {
      "text/plain": [
       "3.7433155080213902"
      ]
     },
     "execution_count": 495,
     "metadata": {},
     "output_type": "execute_result"
    }
   ],
   "source": [
    "700/18700*100"
   ]
  },
  {
   "cell_type": "code",
   "execution_count": null,
   "metadata": {},
   "outputs": [],
   "source": []
  }
 ],
 "metadata": {
  "kernelspec": {
   "display_name": "py37",
   "language": "python",
   "name": "py37"
  },
  "language_info": {
   "codemirror_mode": {
    "name": "ipython",
    "version": 3
   },
   "file_extension": ".py",
   "mimetype": "text/x-python",
   "name": "python",
   "nbconvert_exporter": "python",
   "pygments_lexer": "ipython3",
   "version": "3.7.3"
  }
 },
 "nbformat": 4,
 "nbformat_minor": 2
}
