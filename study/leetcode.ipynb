{
 "cells": [
  {
   "cell_type": "markdown",
   "metadata": {},
   "source": [
    "### 两数之和\n",
    ">给定一个整数数组 nums 和一个目标值 target，请你在该数组中找出和为目标值的那 两个 整数，并返回他们的数组下标。你可以假设每种输入只会对应一个答案。但是，你不能重复利用这个数组中同样的元素。"
   ]
  },
  {
   "cell_type": "code",
   "execution_count": null,
   "metadata": {},
   "outputs": [],
   "source": [
    "class Solution(object):\n",
    "    def twoSum(self, nums, target):\n",
    "        \"\"\"\n",
    "        :type nums: List[int]\n",
    "        :type target: int\n",
    "        :rtype: List[int]\n",
    "        \"\"\"\n",
    "        # num = []\n",
    "        # for i in range(len(nums)):\n",
    "        #     val = nums.pop(0)\n",
    "        #     tmp = target-val\n",
    "        #     if tmp in num: \n",
    "        #         return [num.index(tmp), i]\n",
    "        #     num.append(val)\n",
    "        \n",
    "        # dic = {}\n",
    "        # for i, num in enumerate(nums):\n",
    "        #     if num in dic:\n",
    "        #         return [dic[num], i]\n",
    "        #     else:\n",
    "        #         dic[target - num] = i\n",
    "        \n",
    "        # n = len(nums)\n",
    "        # d = {}\n",
    "        # for x in range(n):\n",
    "        #     tmp = nums[x]\n",
    "        #     if tmp in d:\n",
    "        #         return d[tmp], x\n",
    "        #     else:\n",
    "        #         d[target - tmp] = x\n",
    "        \n",
    "        numDict = {}\n",
    "        for i in range(len(nums)):\n",
    "            tmp = nums[i]\n",
    "            if target - tmp in numDict:\n",
    "                return [numDict[target-tmp], i]\n",
    "            else:\n",
    "                numDict[tmp] = i"
   ]
  },
  {
   "cell_type": "code",
   "execution_count": 12,
   "metadata": {},
   "outputs": [
    {
     "name": "stdout",
     "output_type": "stream",
     "text": [
      "1.52 µs ± 74.4 ns per loop (mean ± std. dev. of 7 runs, 1000000 loops each)\n",
      "742 ns ± 80.1 ns per loop (mean ± std. dev. of 7 runs, 1000000 loops each)\n",
      "1.34 µs ± 89.5 ns per loop (mean ± std. dev. of 7 runs, 1000000 loops each)\n"
     ]
    }
   ],
   "source": [
    "class Solution(object):\n",
    "    def twoSum0(self, nums, target):\n",
    "        \"\"\"\n",
    "        :type nums: List[int]\n",
    "        :type target: int\n",
    "        :rtype: List[int]\n",
    "        \"\"\"\n",
    "        for k in range(len(nums)):\n",
    "            for i in range(len(nums) - 1, -1, -1):\n",
    "                if nums[k] + nums[i] == target and k!=i:\n",
    "                    a = [k, i]\n",
    "                    return a\n",
    "                    break\n",
    "\n",
    "    def twoSum1(self, nums, target):\n",
    "        \"\"\"\n",
    "        :type nums: List[int]\n",
    "        :type target: int\n",
    "        :rtype: List[int]\n",
    "        \"\"\"\n",
    "        dic = {}\n",
    "        for i, num in enumerate(nums):\n",
    "            if num in dic:\n",
    "                return [dic[num], i]\n",
    "            else:\n",
    "                dic[target - num] = i\n",
    "                \n",
    "    def twoSum2(self, nums, target):\n",
    "        \"\"\"\n",
    "        :type nums: List[int]\n",
    "        :type target: int\n",
    "        :rtype: List[int]\n",
    "        \"\"\"\n",
    "        num = []\n",
    "        for i in range(len(nums)):\n",
    "            val = nums.pop(0)\n",
    "            tmp = target-val\n",
    "            if tmp in num: \n",
    "                return [num.index(tmp), i]\n",
    "            num.append(val)\n",
    "            \n",
    "        n = len(nums)\n",
    "        d = {}\n",
    "        for x in range(n):\n",
    "            tmp = nums[x]\n",
    "            if tmp in d:\n",
    "                return d[tmp], x\n",
    "            else:\n",
    "                d[target - tmp] = x\n",
    "                \n",
    "        numDict = {}\n",
    "        for i in range(len(nums)):\n",
    "            tmp = nums[i]\n",
    "            if target - tmp in numDict:\n",
    "                return [numDict[target-tmp], i]\n",
    "            else:\n",
    "                numDict[tmp] = i\n",
    "\n",
    "s = Solution()\n",
    "%timeit s.twoSum0([3,2,4],6)        \n",
    "%timeit s.twoSum1([3,2,4],6)        \n",
    "%timeit s.twoSum2([3,2,4],6)        "
   ]
  },
  {
   "cell_type": "code",
   "execution_count": null,
   "metadata": {},
   "outputs": [],
   "source": []
  }
 ],
 "metadata": {
  "kernelspec": {
   "display_name": "Python 3",
   "language": "python",
   "name": "python3"
  },
  "language_info": {
   "codemirror_mode": {
    "name": "ipython",
    "version": 3
   },
   "file_extension": ".py",
   "mimetype": "text/x-python",
   "name": "python",
   "nbconvert_exporter": "python",
   "pygments_lexer": "ipython3",
   "version": "3.7.0"
  }
 },
 "nbformat": 4,
 "nbformat_minor": 2
}
