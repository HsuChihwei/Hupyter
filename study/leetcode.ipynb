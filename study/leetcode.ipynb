{
 "cells": [
  {
   "cell_type": "markdown",
   "metadata": {},
   "source": [
    "### 两数之和\n",
    ">给定一个整数数组 nums 和一个目标值 target，请你在该数组中找出和为目标值的那 两个 整数，并返回他们的数组下标。你可以假设每种输入只会对应一个答案。但是，你不能重复利用这个数组中同样的元素。"
   ]
  },
  {
   "cell_type": "code",
   "execution_count": null,
   "metadata": {},
   "outputs": [],
   "source": [
    "class Solution(object):\n",
    "    def twoSum(self, nums, target):\n",
    "        \"\"\"\n",
    "        :type nums: List[int]\n",
    "        :type target: int\n",
    "        :rtype: List[int]\n",
    "        \"\"\"\n",
    "        # num = []\n",
    "        # for i in range(len(nums)):\n",
    "        #     val = nums.pop(0)\n",
    "        #     tmp = target-val\n",
    "        #     if tmp in num: \n",
    "        #         return [num.index(tmp), i]\n",
    "        #     num.append(val)\n",
    "        \n",
    "        # dic = {}\n",
    "        # for i, num in enumerate(nums):\n",
    "        #     if num in dic:\n",
    "        #         return [dic[num], i]\n",
    "        #     else:\n",
    "        #         dic[target - num] = i\n",
    "        \n",
    "        # n = len(nums)\n",
    "        # d = {}\n",
    "        # for x in range(n):\n",
    "        #     tmp = nums[x]\n",
    "        #     if tmp in d:\n",
    "        #         return d[tmp], x\n",
    "        #     else:\n",
    "        #         d[target - tmp] = x\n",
    "        \n",
    "        numDict = {}\n",
    "        for i in range(len(nums)):\n",
    "            tmp = nums[i]\n",
    "            if target - tmp in numDict:\n",
    "                return [numDict[target-tmp], i]\n",
    "            else:\n",
    "                numDict[tmp] = i"
   ]
  },
  {
   "cell_type": "code",
   "execution_count": 4,
   "metadata": {
    "ExecuteTime": {
     "end_time": "2019-01-18T02:34:19.061761Z",
     "start_time": "2019-01-18T02:33:58.836625Z"
    }
   },
   "outputs": [
    {
     "name": "stdout",
     "output_type": "stream",
     "text": [
      "741 ns ± 77.1 ns per loop (mean ± std. dev. of 7 runs, 1000000 loops each)\n",
      "878 ns ± 104 ns per loop (mean ± std. dev. of 7 runs, 1000000 loops each)\n",
      "888 ns ± 102 ns per loop (mean ± std. dev. of 7 runs, 1000000 loops each)\n"
     ]
    }
   ],
   "source": [
    "class Solution(object):\n",
    "    def twoSum0(self, nums, target):\n",
    "        \"\"\"\n",
    "        :type nums: List[int]\n",
    "        :type target: int\n",
    "        :rtype: List[int]\n",
    "        \"\"\"\n",
    "        for k in range(len(nums)):\n",
    "            for i in range(len(nums) - 1, -1, -1):\n",
    "                if nums[k] + nums[i] == target and k!=i:\n",
    "                    a = [k, i]\n",
    "                    return a\n",
    "                    break\n",
    "\n",
    "    def twoSum1(self, nums, target):\n",
    "        \"\"\"\n",
    "        :type nums: List[int]\n",
    "        :type target: int\n",
    "        :rtype: List[int]\n",
    "        \"\"\"\n",
    "        dic = {}\n",
    "        for i, num in enumerate(nums):\n",
    "            if num in dic:\n",
    "                return [dic[num], i]\n",
    "            else:\n",
    "                dic[target - num] = i\n",
    "    \n",
    "    def twoSum2(self, nums, target):\n",
    "        \"\"\"\n",
    "        :type nums: List[int]\n",
    "        :type target: int\n",
    "        :rtype: List[int]\n",
    "        \"\"\"\n",
    "        n = len(nums)\n",
    "        dd = {nums[i]:i for i in range(n)}\n",
    "        for i in range(n-1):\n",
    "            cha = target - nums[i]\n",
    "            if cha in dd and i != dd[cha]:\n",
    "                return [i, dd[cha]]\n",
    "        return 'null'\n",
    "                \n",
    "    def twoSum3(self, nums, target):\n",
    "        \"\"\"\n",
    "        :type nums: List[int]\n",
    "        :type target: int\n",
    "        :rtype: List[int]\n",
    "        \"\"\"\n",
    "        num = []\n",
    "        for i in range(len(nums)):\n",
    "            val = nums.pop(0)\n",
    "            tmp = target-val\n",
    "            if tmp in num: \n",
    "                return [num.index(tmp), i]\n",
    "            num.append(val)\n",
    "    \n",
    "    def twoSum4(self, nums, target):\n",
    "        \"\"\"\n",
    "        :type nums: List[int]\n",
    "        :type target: int\n",
    "        :rtype: List[int]\n",
    "        \"\"\"         \n",
    "        n = len(nums)\n",
    "        d = {}\n",
    "        for x in range(n):\n",
    "            tmp = nums[x]\n",
    "            if tmp in d:\n",
    "                return d[tmp], x\n",
    "            else:\n",
    "                d[target - tmp] = x\n",
    "    \n",
    "    def twoSum5(self, nums, target):\n",
    "        \"\"\"\n",
    "        :type nums: List[int]\n",
    "        :type target: int\n",
    "        :rtype: List[int]\n",
    "        \"\"\"\n",
    "        numDict = {}\n",
    "        for i in range(len(nums)):\n",
    "            tmp = nums[i]\n",
    "            if target - tmp in numDict:\n",
    "                return [numDict[target-tmp], i]\n",
    "            else:\n",
    "                numDict[tmp] = i\n",
    "\n",
    "s = Solution()\n",
    "# %timeit s.twoSum0([3,2,4],6)        \n",
    "%timeit s.twoSum1([3,2,4],6)        \n",
    "# %timeit s.twoSum2([3,2,4],6)        \n",
    "# %timeit s.twoSum3([3,2,4],6)     \n",
    "%timeit s.twoSum4([3,2,4],6) \n",
    "%timeit s.twoSum5([3,2,4],6) "
   ]
  },
  {
   "cell_type": "code",
   "execution_count": null,
   "metadata": {},
   "outputs": [],
   "source": []
  }
 ],
 "metadata": {
  "kernelspec": {
   "display_name": "Python 3",
   "language": "python",
   "name": "python3"
  },
  "language_info": {
   "codemirror_mode": {
    "name": "ipython",
    "version": 3
   },
   "file_extension": ".py",
   "mimetype": "text/x-python",
   "name": "python",
   "nbconvert_exporter": "python",
   "pygments_lexer": "ipython3",
   "version": "3.7.0"
  },
  "toc": {
   "base_numbering": 1,
   "nav_menu": {},
   "number_sections": true,
   "sideBar": true,
   "skip_h1_title": false,
   "title_cell": "Table of Contents",
   "title_sidebar": "Contents",
   "toc_cell": false,
   "toc_position": {},
   "toc_section_display": true,
   "toc_window_display": false
  },
  "varInspector": {
   "cols": {
    "lenName": 16,
    "lenType": 16,
    "lenVar": 40
   },
   "kernels_config": {
    "python": {
     "delete_cmd_postfix": "",
     "delete_cmd_prefix": "del ",
     "library": "var_list.py",
     "varRefreshCmd": "print(var_dic_list())"
    },
    "r": {
     "delete_cmd_postfix": ") ",
     "delete_cmd_prefix": "rm(",
     "library": "var_list.r",
     "varRefreshCmd": "cat(var_dic_list()) "
    }
   },
   "types_to_exclude": [
    "module",
    "function",
    "builtin_function_or_method",
    "instance",
    "_Feature"
   ],
   "window_display": true
  }
 },
 "nbformat": 4,
 "nbformat_minor": 2
}
