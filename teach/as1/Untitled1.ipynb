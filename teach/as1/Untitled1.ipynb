{
 "cells": [
  {
   "cell_type": "markdown",
   "metadata": {},
   "source": [
    "- Core\n",
    "  1. Questions & Inputs\n",
    "  2. First Exact Match\n",
    "  3. Climate & Season Factor\n",
    "  4. Interests\n",
    "- Advanced\n",
    "  5. Input Validation\n",
    "  6. Multiple Inputs"
   ]
  },
  {
   "cell_type": "markdown",
   "metadata": {},
   "source": [
    "> work_flow\n",
    "* list of questions (1) (str, float, int, bool, None, list, tuple, dict, set)\n",
    "* print/input (1) (print, raw_input, impport, function, if...else, for, while, continue, break, yield, range)\n",
    "* check, deal, and store input to input_dict (1,5,6)  (class, comprehension(list,set,dict), map,reduce,filter,join,split,replace,strip,sorted,lambda,decorator)\n",
    "* get db (2)\n",
    "* select result (2,3,4)\n",
    "* return or output (2)"
   ]
  }
 ],
 "metadata": {
  "kernelspec": {
   "display_name": "Python 3",
   "language": "python",
   "name": "python3"
  },
  "language_info": {
   "codemirror_mode": {
    "name": "ipython",
    "version": 3
   },
   "file_extension": ".py",
   "mimetype": "text/x-python",
   "name": "python",
   "nbconvert_exporter": "python",
   "pygments_lexer": "ipython3",
   "version": "3.7.3"
  }
 },
 "nbformat": 4,
 "nbformat_minor": 2
}
