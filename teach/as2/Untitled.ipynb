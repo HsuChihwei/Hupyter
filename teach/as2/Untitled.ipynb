{
 "cells": [
  {
   "cell_type": "code",
   "execution_count": 1,
   "metadata": {},
   "outputs": [
    {
     "name": "stdout",
     "output_type": "stream",
     "text": [
      "hello\n"
     ]
    }
   ],
   "source": [
    "print('hello')"
   ]
  },
  {
   "cell_type": "code",
   "execution_count": 4,
   "metadata": {},
   "outputs": [
    {
     "data": {
      "text/plain": [
       "'2fe00ac1ae241b27044246615c2ac4e7'"
      ]
     },
     "execution_count": 4,
     "metadata": {},
     "output_type": "execute_result"
    }
   ],
   "source": [
    "import hashlib\n",
    "def str_encode(string, method=\"md5\"):\n",
    "    \"\"\"\n",
    "    先MD5，再sha1加密\n",
    "    \"\"\"\n",
    "    try:\n",
    "        if 'md5' in method:\n",
    "            m = hashlib.md5()\n",
    "            m.update(string.encode(encoding='utf-8'))\n",
    "            string = m.hexdigest()\n",
    "            string = string[0:32]\n",
    "        if 'sha1' in method:\n",
    "            s = hashlib.sha1()\n",
    "            s.update(string.encode(encoding='utf-8').upper())\n",
    "            string = s.hexdigest().upper()\n",
    "        return string\n",
    "    except Exception as e:\n",
    "        print(e)\n",
    "        return None\n",
    "    \n",
    "str_encode('中国邮政储蓄银行金宝镇支行')"
   ]
  },
  {
   "cell_type": "code",
   "execution_count": null,
   "metadata": {},
   "outputs": [],
   "source": []
  }
 ],
 "metadata": {
  "kernelspec": {
   "display_name": "Python 3",
   "language": "python",
   "name": "python3"
  },
  "language_info": {
   "codemirror_mode": {
    "name": "ipython",
    "version": 3
   },
   "file_extension": ".py",
   "mimetype": "text/x-python",
   "name": "python",
   "nbconvert_exporter": "python",
   "pygments_lexer": "ipython3",
   "version": "3.7.3"
  }
 },
 "nbformat": 4,
 "nbformat_minor": 2
}
