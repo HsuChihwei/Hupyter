{
 "cells": [
  {
   "cell_type": "code",
   "execution_count": 2,
   "metadata": {},
   "outputs": [],
   "source": [
    "import findspark\n",
    "findspark.init()"
   ]
  },
  {
   "cell_type": "code",
   "execution_count": 3,
   "metadata": {},
   "outputs": [],
   "source": [
    "from pyspark import SparkContext, SparkConf\n",
    "from pyspark.sql import HiveContext, Row\n",
    "conf = SparkConf().setAppName(\"chihweihsu\").setMaster(\"local[*]\")\n",
    "sc = SparkContext(conf=conf)\n",
    "sqlContext = HiveContext(sc)"
   ]
  },
  {
   "cell_type": "code",
   "execution_count": null,
   "metadata": {},
   "outputs": [],
   "source": [
    "rdd = sc.textFile(\"wordcount.txt\", minPartitions=4)"
   ]
  },
  {
   "cell_type": "code",
   "execution_count": null,
   "metadata": {},
   "outputs": [],
   "source": [
    "result = rdd.flatMap(lambda x: x.split()).map(lambda x : (x, 1)).reduceByKey(lambda x,y: x+y)"
   ]
  },
  {
   "cell_type": "code",
   "execution_count": null,
   "metadata": {},
   "outputs": [],
   "source": [
    "sorted_result = result.sortBy(lambda x:x[1],ascending=False)"
   ]
  },
  {
   "cell_type": "code",
   "execution_count": null,
   "metadata": {},
   "outputs": [],
   "source": [
    "result.map(lambda x:(x[1],x[0])).sortByKey(ascending=False).map(lambda x:(x[1],x[0])).top(10, lambda x: x[1])"
   ]
  },
  {
   "cell_type": "code",
   "execution_count": null,
   "metadata": {},
   "outputs": [],
   "source": [
    "# 生成几个文件对应几个task任务，就是用几个线程在跑，就是有几个partitions（sc生成rdd时确定），并行度\n",
    "# 重名报错，写不进去\n",
    "sorted_result.saveAsTextFile(\"sort_count\")"
   ]
  },
  {
   "cell_type": "code",
   "execution_count": null,
   "metadata": {},
   "outputs": [],
   "source": [
    "sorted_result.top(10, lambda x: x[1])"
   ]
  },
  {
   "cell_type": "code",
   "execution_count": null,
   "metadata": {},
   "outputs": [],
   "source": [
    "# 默认倒序（descending）\n",
    "result.top(10, lambda x: x[1])"
   ]
  },
  {
   "cell_type": "code",
   "execution_count": null,
   "metadata": {},
   "outputs": [],
   "source": [
    "# 默认正序（ascending）\n",
    "result.takeOrdered(10, key=lambda x: -x[1])"
   ]
  },
  {
   "cell_type": "code",
   "execution_count": 7,
   "metadata": {},
   "outputs": [],
   "source": [
    "import pandas as pd\n",
    "import numpy as np"
   ]
  },
  {
   "cell_type": "code",
   "execution_count": 56,
   "metadata": {},
   "outputs": [
    {
     "data": {
      "text/html": [
       "<div>\n",
       "<style scoped>\n",
       "    .dataframe tbody tr th:only-of-type {\n",
       "        vertical-align: middle;\n",
       "    }\n",
       "\n",
       "    .dataframe tbody tr th {\n",
       "        vertical-align: top;\n",
       "    }\n",
       "\n",
       "    .dataframe thead th {\n",
       "        text-align: right;\n",
       "    }\n",
       "</style>\n",
       "<table border=\"1\" class=\"dataframe\">\n",
       "  <thead>\n",
       "    <tr style=\"text-align: right;\">\n",
       "      <th></th>\n",
       "      <th>A</th>\n",
       "      <th>B</th>\n",
       "    </tr>\n",
       "  </thead>\n",
       "  <tbody>\n",
       "    <tr>\n",
       "      <th>0</th>\n",
       "      <td>a1</td>\n",
       "      <td>2</td>\n",
       "    </tr>\n",
       "    <tr>\n",
       "      <th>1</th>\n",
       "      <td>a2</td>\n",
       "      <td>0</td>\n",
       "    </tr>\n",
       "    <tr>\n",
       "      <th>2</th>\n",
       "      <td>a3</td>\n",
       "      <td>5</td>\n",
       "    </tr>\n",
       "  </tbody>\n",
       "</table>\n",
       "</div>"
      ],
      "text/plain": [
       "    A  B\n",
       "0  a1  2\n",
       "1  a2  0\n",
       "2  a3  5"
      ]
     },
     "execution_count": 56,
     "metadata": {},
     "output_type": "execute_result"
    }
   ],
   "source": [
    "df = pd.DataFrame({\"A\":['a1','a2','a3'], \"B\":[2,0,5]}, columns=list('AB'))\n",
    "df"
   ]
  },
  {
   "cell_type": "code",
   "execution_count": 57,
   "metadata": {},
   "outputs": [
    {
     "data": {
      "text/html": [
       "<div>\n",
       "<style scoped>\n",
       "    .dataframe tbody tr th:only-of-type {\n",
       "        vertical-align: middle;\n",
       "    }\n",
       "\n",
       "    .dataframe tbody tr th {\n",
       "        vertical-align: top;\n",
       "    }\n",
       "\n",
       "    .dataframe thead th {\n",
       "        text-align: right;\n",
       "    }\n",
       "</style>\n",
       "<table border=\"1\" class=\"dataframe\">\n",
       "  <thead>\n",
       "    <tr style=\"text-align: right;\">\n",
       "      <th></th>\n",
       "      <th>A</th>\n",
       "      <th>B</th>\n",
       "      <th>country</th>\n",
       "      <th>code</th>\n",
       "    </tr>\n",
       "  </thead>\n",
       "  <tbody>\n",
       "    <tr>\n",
       "      <th>0</th>\n",
       "      <td>a1</td>\n",
       "      <td>2</td>\n",
       "      <td>b1</td>\n",
       "      <td>c1</td>\n",
       "    </tr>\n",
       "    <tr>\n",
       "      <th>1</th>\n",
       "      <td>a2</td>\n",
       "      <td>0</td>\n",
       "      <td>b2</td>\n",
       "      <td>c2</td>\n",
       "    </tr>\n",
       "    <tr>\n",
       "      <th>2</th>\n",
       "      <td>a3</td>\n",
       "      <td>5</td>\n",
       "      <td>b3</td>\n",
       "      <td>c3</td>\n",
       "    </tr>\n",
       "  </tbody>\n",
       "</table>\n",
       "</div>"
      ],
      "text/plain": [
       "    A  B country code\n",
       "0  a1  2      b1   c1\n",
       "1  a2  0      b2   c2\n",
       "2  a3  5      b3   c3"
      ]
     },
     "execution_count": 57,
     "metadata": {},
     "output_type": "execute_result"
    }
   ],
   "source": [
    "s = {'a1':('b1', 'c1'),'a2':('b2', 'c2'),'a3':('b3', 'c3')}\n",
    "def cal(x):\n",
    "    return s.get(x)[0], s.get(x)[1]\n",
    "df['country'],df['code'] = zip(*df['A'].map(cal))\n",
    "df\n",
    "# df['country'],df['code'] = df.A.apply(lambda x: [x + 1, x+2])\n",
    "# df"
   ]
  },
  {
   "cell_type": "code",
   "execution_count": 55,
   "metadata": {},
   "outputs": [
    {
     "data": {
      "text/plain": [
       "[(2006, 'White Pony', 3490349),\n",
       " (2006, 'Red Pony', 3490349),\n",
       " (2006, 'White Swan', 9492423)]"
      ]
     },
     "execution_count": 55,
     "metadata": {},
     "output_type": "execute_result"
    }
   ],
   "source": [
    "my_list = [(2006, \"White Pony\", 3490349),(2006, \"White Pony\", 9492423),(2009, \"White Pony\", 4342342),\n",
    "           (2006, \"Red Pony\", 3490349),(2006, \"White Swan\", 9492423),(2009, \"White Swan\", 4342342)]\n",
    "seen = set() #< keep track of what we have seen as we go\n",
    "unique_list = [x for x in my_list if not (x[1] in seen or seen.add(x[1]))]\n",
    "unique_list"
   ]
  },
  {
   "cell_type": "code",
   "execution_count": 36,
   "metadata": {},
   "outputs": [
    {
     "name": "stdout",
     "output_type": "stream",
     "text": [
      "[('18679196770', (0, 1, 45.3, 4, '3:12')), ('18679196771', (3, 2, 45.3, 14, '5:18')), ('18679196772', (5, 0, 45.3, 34, '3:22')), ('18679196773', (6, 4, 45.3, 44, '7:12')), ('18679196774', (8, 8, 45.3, 54, '0:11')), ('18679196775', (9, 9, 45.3, 64, '1:13')), ('18679196776', (2, 2, 45.3, 74, '2:19')), ('18679196777', (1, 5, 45.3, 84, '6:27')), ('18679196778', (5, 3, 45.3, 94, '2:18'))]\n",
      "[('18679196776', (2, 2, 45.3, 74, '2:19')), ('18679196777', (1, 5, 45.3, 84, '6:27')), ('18679196770', (0, 1, 45.3, 4, '3:12')), ('18679196778', (5, 3, 45.3, 94, '2:18')), ('18679196771', (3, 2, 45.3, 14, '5:18')), ('18679196772', (5, 0, 45.3, 34, '3:22')), ('18679196773', (6, 4, 45.3, 44, '7:12')), ('18679196774', (8, 8, 45.3, 54, '0:11')), ('18679196775', (9, 9, 45.3, 64, '1:13'))]\n",
      "['18679196776', '18679196777', '18679196770', '18679196778', '18679196771', '18679196772', '18679196773', '18679196774', '18679196775']\n",
      "[[('18679196776', (2, 2, 45.3, 74, '2:19'))], [('18679196777', (1, 5, 45.3, 84, '6:27'))], [('18679196770', (0, 1, 45.3, 4, '3:12')), ('18679196778', (5, 3, 45.3, 94, '2:18'))], [('18679196771', (3, 2, 45.3, 14, '5:18'))], [('18679196772', (5, 0, 45.3, 34, '3:22'))], [('18679196773', (6, 4, 45.3, 44, '7:12'))], [('18679196774', (8, 8, 45.3, 54, '0:11'))], [('18679196775', (9, 9, 45.3, 64, '1:13'))]]\n"
     ]
    }
   ],
   "source": []
  },
  {
   "cell_type": "code",
   "execution_count": 35,
   "metadata": {},
   "outputs": [
    {
     "data": {
      "text/plain": [
       "2L"
      ]
     },
     "execution_count": 35,
     "metadata": {},
     "output_type": "execute_result"
    }
   ],
   "source": [
    "18679196778%8\n"
   ]
  },
  {
   "cell_type": "code",
   "execution_count": null,
   "metadata": {},
   "outputs": [],
   "source": []
  }
 ],
 "metadata": {
  "kernelspec": {
   "display_name": "py27",
   "language": "python",
   "name": "py27"
  },
  "language_info": {
   "codemirror_mode": {
    "name": "ipython",
    "version": 2
   },
   "file_extension": ".py",
   "mimetype": "text/x-python",
   "name": "python",
   "nbconvert_exporter": "python",
   "pygments_lexer": "ipython2",
   "version": "2.7.14"
  }
 },
 "nbformat": 4,
 "nbformat_minor": 2
}
