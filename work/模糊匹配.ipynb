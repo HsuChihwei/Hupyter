{
 "cells": [
  {
   "cell_type": "code",
   "execution_count": null,
   "metadata": {},
   "outputs": [],
   "source": [
    "# -*- coding:utf-8 -*-\n",
    "import sys\n",
    "# reload(sys)\n",
    "# sys.setdefaultencoding('utf8')\n",
    "from mongo_cli import db,MODE\n",
    "sid_info = db[\"sid_info\"]\n",
    "res = sid_info.find({'status':0}).sort(\"_id\",-1).limit(300)\n",
    "sid_list = [x.get('sid') for x in res]\n",
    "print sid_list\n",
    "\n",
    "\n",
    "import re\n",
    "def judge_name(data, judge_data):\n",
    "    pat = u\"([\\u4e00-\\u9fff]+)\"\n",
    "    if not data or data == u'运营商未透露' or not judge_data:\n",
    "        return 0\n",
    "    # if len(data) != len(judge_data):\n",
    "    #     return 2\n",
    "    pattern = re.compile(pat)\n",
    "    results = pattern.findall(data)\n",
    "    if not results:\n",
    "        return 0\n",
    "    ret = [len(filter(None, data.split(i))) == len(\n",
    "        filter(None, judge_data.split(i))) for i in results]\n",
    "    if False in ret:\n",
    "        return 2\n",
    "    if '*' in data or 'x' in data:\n",
    "        return 3\n",
    "    return 1\n",
    "\n",
    "# a = []\n",
    "# b = []\n",
    "# for i in sid_list:\n",
    "#     tmp = sid_info.find_one({'sid':i}).get('user_info')\n",
    "#     a = tmp.get('user_name') if tmp else None\n",
    "#     b = db['phone'].find_one({'sid':i}).get('info').get('full_name')\n",
    "#     if a:\n",
    "#         print a,b\n",
    "#         print judge_name(b,a)\n"
   ]
  },
  {
   "cell_type": "code",
   "execution_count": null,
   "metadata": {},
   "outputs": [],
   "source": [
    "import json\n",
    "tel_list=[]\n",
    "\n",
    "for sid in sid_list:\n",
    "    data = db['report'].find_one({'sid':sid})\n",
    "    tel_list += [i.get('format_tel') for i in data.get('call_log_group_by_tel')]\n",
    "with open('tel_list.json', 'w') as wp:\n",
    "    json.dump(tel_list, wp, indent=4, sort_keys=True)"
   ]
  },
  {
   "cell_type": "code",
   "execution_count": null,
   "metadata": {},
   "outputs": [],
   "source": [
    "\n",
    "tmp = db['user_info'].find({},{'full_name':1,'_id':0}).sort('_id',-1).limit(10)\n",
    "list_ = [str(i.get('full_name')) for i in tmp]\n",
    "print list_"
   ]
  },
  {
   "cell_type": "code",
   "execution_count": 26,
   "metadata": {},
   "outputs": [
    {
     "name": "stdout",
     "output_type": "stream",
     "text": [
      "赵*斌 赵紫斌\n",
      "3\n",
      "李** 李方雪\n",
      "3\n",
      "罗* 罗进\n",
      "3\n",
      "何** 何林波\n",
      "3\n",
      "周** 周星\n",
      "3\n",
      "凌** 凌超\n",
      "3\n",
      "*国平 吴俊杰\n",
      "2\n",
      "*浩 蔡业浩\n",
      "3\n",
      "*立* 王立军\n",
      "3\n",
      "倪** 倪钦钦\n",
      "3\n",
      "**官 黄旭官\n",
      "3\n",
      "xx燕 李小燕\n",
      "3\n",
      "xx长 贺长\n",
      "3\n",
      "瞿xx 瞿宏平\n",
      "3\n",
      "x俊 吴俊\n",
      "3\n",
      "x贤** 魏贤刚\n",
      "3\n",
      "**昌 程文昌\n",
      "3\n",
      "蔺刚龙 蔺刚龙\n",
      "1\n",
      "王保林 王保林\n",
      "1\n",
      "伍贤军 伍贤军\n",
      "1\n",
      "陈孝顺 陈孝顺\n",
      "1\n",
      "赵丹 赵丹\n",
      "1\n",
      "石才 石义才\n",
      "2\n",
      "傅海良 刘海良\n",
      "2\n",
      "伊希 希锋\n",
      "2\n",
      "彭百凌 陈碧婷\n",
      "2\n",
      "杨勇 郝华丽\n",
      "2\n",
      "*雪* 杨雪\n",
      "2\n",
      "*戴** 戴森杰\n",
      "2\n",
      "赵斌* 赵紫斌\n",
      "2\n",
      "*志* 王志刚\n",
      "3\n",
      "** 邓君\n",
      "0\n",
      " 刘学智\n",
      "0\n"
     ]
    }
   ],
   "source": [
    "list_ = [(\"赵紫斌\", \"赵*斌\"), (\"李方雪\", \"李**\"), (\"罗进\", \"罗*\"), (\"何林波\", \"何**\"), (\"周星\", \"周**\"), (\"凌超\", \"凌**\"),\n",
    "         (\"吴俊杰\", \"*国平\"), (\"蔡业浩\", \"*浩\"), (\"王立军\", \"*立*\"), (\"倪钦钦\", \"倪**\"), (\"黄旭官\", \"**官\"), \n",
    "         (\"李小燕\", \"xx燕\"), (\"贺长\", \"xx长\"), (\"瞿宏平\", \"瞿xx\"), (\"吴俊\", \"x俊\"), (\"魏贤刚\", \"x贤**\"), (\"程文昌\", \"**昌\"), \n",
    "         (\"蔺刚龙\", \"蔺刚龙\"), (\"王保林\", \"王保林\"), (\"伍贤军\", \"伍贤军\"), (\"陈孝顺\", \"陈孝顺\"), (\"赵丹\", \"赵丹\"), \n",
    "         (\"石义才\", \"石才\"), (\"刘海良\", \"傅海良\"), (\"希锋\", \"伊希\"), (\"陈碧婷\", \"彭百凌\"), (\"郝华丽\", \"杨勇\"),\n",
    "         (\"杨雪\", \"*雪*\"), (\"戴森杰\", \"*戴**\"), (\"赵紫斌\", \"赵斌*\"), (\"王志刚\", \"*志*\"), \n",
    "         (\"邓君\", \"**\"), (\"刘学智\", \"\")]\n",
    "import re\n",
    "def judge_name(data, judge_data):\n",
    "    pat = u\"([\\u4e00-\\u9fff]+)\"\n",
    "    if not data or data == u'运营商未透露' or not judge_data:\n",
    "        return 0\n",
    "    # if len(data) != len(judge_data):\n",
    "    #     return 2\n",
    "    pattern = re.compile(pat)\n",
    "    results = pattern.findall(data)\n",
    "    if not results:\n",
    "        return 0\n",
    "    ret = [len(filter(None, data.split(i))) == len(\n",
    "        filter(None, judge_data.split(i))) for i in results if (i in judge_data)]\n",
    "    if not ret or False in ret:\n",
    "        return 2\n",
    "    if '*' in data or 'x' in data:\n",
    "        return 3\n",
    "    return 1\n",
    "\n",
    "for i in list_:\n",
    "    print i[1],i[0]\n",
    "    print judge_name(i[1].decode('utf-8'), i[0].decode('utf-8'))\n"
   ]
  },
  {
   "cell_type": "markdown",
   "metadata": {},
   "source": [
    "### 模糊匹配姓名\n",
    "> 关键点：split"
   ]
  },
  {
   "cell_type": "code",
   "execution_count": 25,
   "metadata": {},
   "outputs": [
    {
     "data": {
      "text/plain": [
       "2"
      ]
     },
     "execution_count": 25,
     "metadata": {},
     "output_type": "execute_result"
    }
   ],
   "source": [
    "import re\n",
    "def judge_name(data, judge_data):\n",
    "    pat = u\"([\\u4e00-\\u9fff]+)\"\n",
    "    if not data or data == u'运营商未透露' or not judge_data:\n",
    "        return 0\n",
    "    # if len(data) != len(judge_data):\n",
    "    #     return 2\n",
    "    pattern = re.compile(pat)\n",
    "    results = pattern.findall(data)\n",
    "    if not results:\n",
    "        return 0\n",
    "    ret = [len(filter(None, data.split(i))) == len(\n",
    "        filter(None, judge_data.split(i))) for i in results if (i in judge_data)]\n",
    "    if not ret or False in ret:\n",
    "        return 2\n",
    "    if '*' in data or 'x' in data:\n",
    "        return 3\n",
    "    return 1\n",
    "judge_name(u\"吴**俊*杰*\",u\"吴俊杰\")\n"
   ]
  }
 ],
 "metadata": {
  "kernelspec": {
   "display_name": "py27",
   "language": "python",
   "name": "py27"
  },
  "language_info": {
   "codemirror_mode": {
    "name": "ipython",
    "version": 2
   },
   "file_extension": ".py",
   "mimetype": "text/x-python",
   "name": "python",
   "nbconvert_exporter": "python",
   "pygments_lexer": "ipython2",
   "version": "2.7.14"
  }
 },
 "nbformat": 4,
 "nbformat_minor": 2
}
