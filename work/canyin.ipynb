{
 "cells": [
  {
   "cell_type": "code",
   "execution_count": 33,
   "metadata": {},
   "outputs": [],
   "source": [
    "import hashlib\n",
    "def format_tel(tel):\n",
    "    \"\"\"\n",
    "    电话号码，格式化处理（只保留数字）\n",
    "    \"\"\"\n",
    "    if isinstance(tel, (str)):\n",
    "        return ''.join(i for i in tel if i.isdigit())\n",
    "    else:\n",
    "        return None\n",
    "\n",
    "def phone_encode(string, method=\"md5_sha1\"):\n",
    "    \"\"\"\n",
    "    先MD5，再sha1加密\n",
    "    \"\"\"\n",
    "    try:\n",
    "        if 'md5' in method:\n",
    "            m = hashlib.md5()\n",
    "            m.update(string.encode(encoding='utf-8'))\n",
    "            string = m.hexdigest()\n",
    "            string = string[0:32]\n",
    "        if 'sha1' in method:\n",
    "            s = hashlib.sha1()\n",
    "            s.update(string.encode(encoding='utf-8').upper())\n",
    "            string = s.hexdigest().upper()\n",
    "        return string\n",
    "    except Exception as e:\n",
    "        return None"
   ]
  },
  {
   "cell_type": "code",
   "execution_count": 34,
   "metadata": {},
   "outputs": [
    {
     "data": {
      "text/html": [
       "<div>\n",
       "<style scoped>\n",
       "    .dataframe tbody tr th:only-of-type {\n",
       "        vertical-align: middle;\n",
       "    }\n",
       "\n",
       "    .dataframe tbody tr th {\n",
       "        vertical-align: top;\n",
       "    }\n",
       "\n",
       "    .dataframe thead th {\n",
       "        text-align: right;\n",
       "    }\n",
       "</style>\n",
       "<table border=\"1\" class=\"dataframe\">\n",
       "  <thead>\n",
       "    <tr style=\"text-align: right;\">\n",
       "      <th></th>\n",
       "      <th>tel</th>\n",
       "    </tr>\n",
       "  </thead>\n",
       "  <tbody>\n",
       "    <tr>\n",
       "      <th>0</th>\n",
       "      <td>4C8BD6C0D70253160252F419A562B6BF2211780B</td>\n",
       "    </tr>\n",
       "    <tr>\n",
       "      <th>1</th>\n",
       "      <td>B42EBEFD01D0C98130CFAD5D54E0B7C777B119BA</td>\n",
       "    </tr>\n",
       "    <tr>\n",
       "      <th>2</th>\n",
       "      <td>277E95050160E8917A4C2E8542E19ED56978B8EA</td>\n",
       "    </tr>\n",
       "    <tr>\n",
       "      <th>3</th>\n",
       "      <td>F0133613390BCA438870F44CD98E14540A82DEEE</td>\n",
       "    </tr>\n",
       "    <tr>\n",
       "      <th>4</th>\n",
       "      <td>ACF5B4A7050ABD8E4C6E281090E56C84BC07F234</td>\n",
       "    </tr>\n",
       "    <tr>\n",
       "      <th>5</th>\n",
       "      <td>5F59530B578EA5A76918FAB71E46511721DE8D2D</td>\n",
       "    </tr>\n",
       "    <tr>\n",
       "      <th>6</th>\n",
       "      <td>47F3BCEB0E5DCB021ACD93080CC2C725A7E49B15</td>\n",
       "    </tr>\n",
       "    <tr>\n",
       "      <th>7</th>\n",
       "      <td>6F662758AE0CC4096C0C89C748E87248C5F73701</td>\n",
       "    </tr>\n",
       "    <tr>\n",
       "      <th>8</th>\n",
       "      <td>264A2EB5ECEAB16162E2245C6B975A8CF2FA3AE8</td>\n",
       "    </tr>\n",
       "    <tr>\n",
       "      <th>9</th>\n",
       "      <td>DA9D499EFB52412F41EE24AB20F78DE6F69C090E</td>\n",
       "    </tr>\n",
       "    <tr>\n",
       "      <th>10</th>\n",
       "      <td>BC6F0B3603F11D6B604B61D1F94C83C64CA669D7</td>\n",
       "    </tr>\n",
       "    <tr>\n",
       "      <th>11</th>\n",
       "      <td>C2A063E35BDB83E7E0D517478D06AECBD09D0A3E</td>\n",
       "    </tr>\n",
       "    <tr>\n",
       "      <th>12</th>\n",
       "      <td>C952A78F9E2A64DF616F17B988C684FA821E8F44</td>\n",
       "    </tr>\n",
       "    <tr>\n",
       "      <th>13</th>\n",
       "      <td>622E28A3EFC20AF0BACA97A5C53C1FCE1FE19782</td>\n",
       "    </tr>\n",
       "  </tbody>\n",
       "</table>\n",
       "</div>"
      ],
      "text/plain": [
       "                                         tel\n",
       "0   4C8BD6C0D70253160252F419A562B6BF2211780B\n",
       "1   B42EBEFD01D0C98130CFAD5D54E0B7C777B119BA\n",
       "2   277E95050160E8917A4C2E8542E19ED56978B8EA\n",
       "3   F0133613390BCA438870F44CD98E14540A82DEEE\n",
       "4   ACF5B4A7050ABD8E4C6E281090E56C84BC07F234\n",
       "5   5F59530B578EA5A76918FAB71E46511721DE8D2D\n",
       "6   47F3BCEB0E5DCB021ACD93080CC2C725A7E49B15\n",
       "7   6F662758AE0CC4096C0C89C748E87248C5F73701\n",
       "8   264A2EB5ECEAB16162E2245C6B975A8CF2FA3AE8\n",
       "9   DA9D499EFB52412F41EE24AB20F78DE6F69C090E\n",
       "10  BC6F0B3603F11D6B604B61D1F94C83C64CA669D7\n",
       "11  C2A063E35BDB83E7E0D517478D06AECBD09D0A3E\n",
       "12  C952A78F9E2A64DF616F17B988C684FA821E8F44\n",
       "13  622E28A3EFC20AF0BACA97A5C53C1FCE1FE19782"
      ]
     },
     "execution_count": 34,
     "metadata": {},
     "output_type": "execute_result"
    }
   ],
   "source": [
    "import pandas as pd\n",
    "cuishou = pd.read_csv('cuishou_db', header=None,names=['tel', 'type'])\n",
    "cy = pd.read_csv('canyin.tel', header=None,names=['tel'])\n",
    "cy['tel'] = cy.tel.map(format_tel).map(phone_encode)\n",
    "cy.iloc[:]"
   ]
  },
  {
   "cell_type": "code",
   "execution_count": 35,
   "metadata": {},
   "outputs": [],
   "source": [
    "mapping = {\n",
    "    \"cy\": {\n",
    "#         1: (0, 187432),\n",
    "#         4: (187432,220703+187432)\n",
    "        1: (0, 7-1),\n",
    "        4: (7, 7+5-1)\n",
    "    },\n",
    "    \"cs\": {\n",
    "        2: (0,48732-1),\n",
    "        5: (48732, 48732+22389-1),\n",
    "        7: (48732+22389, 48732+22389+72084-1),\n",
    "        8: (48732+22389+72084, -1)\n",
    "    },\n",
    "    \"ys\": {\n",
    "        3: (0,193302),\n",
    "        6: (193302,-1)\n",
    "    }\n",
    "}"
   ]
  },
  {
   "cell_type": "code",
   "execution_count": 36,
   "metadata": {},
   "outputs": [],
   "source": [
    "cs = cuishou[cuishou.type==1].reset_index(drop=True)\n",
    "ys = cuishou[cuishou.type==2].reset_index(drop=True)"
   ]
  },
  {
   "cell_type": "code",
   "execution_count": 22,
   "metadata": {},
   "outputs": [
    {
     "data": {
      "text/html": [
       "<div>\n",
       "<style scoped>\n",
       "    .dataframe tbody tr th:only-of-type {\n",
       "        vertical-align: middle;\n",
       "    }\n",
       "\n",
       "    .dataframe tbody tr th {\n",
       "        vertical-align: top;\n",
       "    }\n",
       "\n",
       "    .dataframe thead th {\n",
       "        text-align: right;\n",
       "    }\n",
       "</style>\n",
       "<table border=\"1\" class=\"dataframe\">\n",
       "  <thead>\n",
       "    <tr style=\"text-align: right;\">\n",
       "      <th></th>\n",
       "      <th>tel</th>\n",
       "      <th>type</th>\n",
       "    </tr>\n",
       "  </thead>\n",
       "  <tbody>\n",
       "    <tr>\n",
       "      <th>0</th>\n",
       "      <td>DD39B0F32D1AE17B64575AF6FD1F57C4D2957A97</td>\n",
       "      <td>1</td>\n",
       "    </tr>\n",
       "    <tr>\n",
       "      <th>1</th>\n",
       "      <td>41F798A8BE2CBFEFB8F1E7D71656ADDAA5A4226E</td>\n",
       "      <td>1</td>\n",
       "    </tr>\n",
       "    <tr>\n",
       "      <th>2</th>\n",
       "      <td>EBA98CD0C282F048A12D49865E2B17FB79BDC410</td>\n",
       "      <td>1</td>\n",
       "    </tr>\n",
       "    <tr>\n",
       "      <th>3</th>\n",
       "      <td>2A5FCC03F356A895B2C06962DF5F3B659710A1CB</td>\n",
       "      <td>1</td>\n",
       "    </tr>\n",
       "    <tr>\n",
       "      <th>4</th>\n",
       "      <td>BC6264931AFD2416092734D6A84462DAD6CD4A02</td>\n",
       "      <td>1</td>\n",
       "    </tr>\n",
       "    <tr>\n",
       "      <th>5</th>\n",
       "      <td>40272DCC69040A84D63EDB8BCF1D81B72F4A211E</td>\n",
       "      <td>1</td>\n",
       "    </tr>\n",
       "    <tr>\n",
       "      <th>6</th>\n",
       "      <td>3FC82EA3C4009DFA0985EAA315C7E942F8A42217</td>\n",
       "      <td>1</td>\n",
       "    </tr>\n",
       "  </tbody>\n",
       "</table>\n",
       "</div>"
      ],
      "text/plain": [
       "                                        tel  type\n",
       "0  DD39B0F32D1AE17B64575AF6FD1F57C4D2957A97     1\n",
       "1  41F798A8BE2CBFEFB8F1E7D71656ADDAA5A4226E     1\n",
       "2  EBA98CD0C282F048A12D49865E2B17FB79BDC410     1\n",
       "3  2A5FCC03F356A895B2C06962DF5F3B659710A1CB     1\n",
       "4  BC6264931AFD2416092734D6A84462DAD6CD4A02     1\n",
       "5  40272DCC69040A84D63EDB8BCF1D81B72F4A211E     1\n",
       "6  3FC82EA3C4009DFA0985EAA315C7E942F8A42217     1"
      ]
     },
     "execution_count": 22,
     "metadata": {},
     "output_type": "execute_result"
    }
   ],
   "source": [
    "cs.loc[0:6]"
   ]
  },
  {
   "cell_type": "code",
   "execution_count": 37,
   "metadata": {},
   "outputs": [
    {
     "name": "stdout",
     "output_type": "stream",
     "text": [
      "cy 1 (0, 6)\n",
      "cy 4 (7, 11)\n",
      "cs 2 (0, 48731)\n",
      "cs 5 (48732, 71120)\n",
      "cs 7 (71121, 143204)\n",
      "cs 8 (143205, -1)\n",
      "ys 3 (0, 193302)\n",
      "ys 6 (193302, -1)\n"
     ]
    }
   ],
   "source": [
    "dic = {}\n",
    "result = pd.DataFrame()\n",
    "for types,item in mapping.items():\n",
    "    for k,v in item.items():\n",
    "        print(types,k,v)\n",
    "        if v[1] != -1:\n",
    "            eval(types).loc[v[0]:v[1], 'type'] = k\n",
    "        else:\n",
    "            eval(types).loc[v[0]:, 'type'] = k\n",
    "    if types == 'cy':\n",
    "        cy = cy.dropna()"
   ]
  },
  {
   "cell_type": "code",
   "execution_count": 38,
   "metadata": {},
   "outputs": [
    {
     "data": {
      "text/html": [
       "<div>\n",
       "<style scoped>\n",
       "    .dataframe tbody tr th:only-of-type {\n",
       "        vertical-align: middle;\n",
       "    }\n",
       "\n",
       "    .dataframe tbody tr th {\n",
       "        vertical-align: top;\n",
       "    }\n",
       "\n",
       "    .dataframe thead th {\n",
       "        text-align: right;\n",
       "    }\n",
       "</style>\n",
       "<table border=\"1\" class=\"dataframe\">\n",
       "  <thead>\n",
       "    <tr style=\"text-align: right;\">\n",
       "      <th></th>\n",
       "      <th>tel</th>\n",
       "    </tr>\n",
       "    <tr>\n",
       "      <th>type</th>\n",
       "      <th></th>\n",
       "    </tr>\n",
       "  </thead>\n",
       "  <tbody>\n",
       "    <tr>\n",
       "      <th>1</th>\n",
       "      <td>7</td>\n",
       "    </tr>\n",
       "    <tr>\n",
       "      <th>2</th>\n",
       "      <td>48732</td>\n",
       "    </tr>\n",
       "    <tr>\n",
       "      <th>3</th>\n",
       "      <td>193302</td>\n",
       "    </tr>\n",
       "    <tr>\n",
       "      <th>4</th>\n",
       "      <td>5</td>\n",
       "    </tr>\n",
       "    <tr>\n",
       "      <th>5</th>\n",
       "      <td>22389</td>\n",
       "    </tr>\n",
       "    <tr>\n",
       "      <th>6</th>\n",
       "      <td>428558</td>\n",
       "    </tr>\n",
       "    <tr>\n",
       "      <th>7</th>\n",
       "      <td>72084</td>\n",
       "    </tr>\n",
       "    <tr>\n",
       "      <th>8</th>\n",
       "      <td>14224</td>\n",
       "    </tr>\n",
       "  </tbody>\n",
       "</table>\n",
       "</div>"
      ],
      "text/plain": [
       "         tel\n",
       "type        \n",
       "1          7\n",
       "2      48732\n",
       "3     193302\n",
       "4          5\n",
       "5      22389\n",
       "6     428558\n",
       "7      72084\n",
       "8      14224"
      ]
     },
     "execution_count": 38,
     "metadata": {},
     "output_type": "execute_result"
    }
   ],
   "source": [
    "a = ys.append(cs).append(cy).sort_values('type')\n",
    "a['type'] = a.type.astype(int)\n",
    "a.to_csv('new_cuishou_db',index=False,header=False)\n",
    "a.groupby('type').count()"
   ]
  },
  {
   "cell_type": "code",
   "execution_count": 13,
   "metadata": {},
   "outputs": [
    {
     "name": "stdout",
     "output_type": "stream",
     "text": [
      "4C8BD6C0D70253160252F419A562B6BF2211780B,1\n",
      "47F3BCEB0E5DCB021ACD93080CC2C725A7E49B15,1\n",
      "5F59530B578EA5A76918FAB71E46511721DE8D2D,1\n",
      "ACF5B4A7050ABD8E4C6E281090E56C84BC07F234,1\n",
      "F0133613390BCA438870F44CD98E14540A82DEEE,1\n",
      "277E95050160E8917A4C2E8542E19ED56978B8EA,1\n",
      "B42EBEFD01D0C98130CFAD5D54E0B7C777B119BA,1\n",
      "A6DF058861EFEBE0A615EBEF9EA9D2EDDC6F17A5,2\n",
      "70692E514CD7424C7D2CFA526333D081FF01DE03,2\n",
      "AB9B128924E071AFA56FB2245014BA18EDCA4192,2\n",
      "F80633AB664A7099387FFC52C2E4F96F1B482ABB,2\n",
      "769087904730040730A28C034DE8D9950417861B,2\n",
      "7BCF01815ABB44B6F6B04F08939E6411D4408D4E,2\n",
      "4808B6C3232A48C079657751B2BC85BB4067E742,2\n",
      "CB8FD2EA2C8690AFCD5E2C0DEFA2CC5539DAAA5D,2\n",
      "041CDB6FFFCE8611B55468B8A1BA03FFD8E41DF4,2\n",
      "F0D9AEFB862A3960889F05DA3B5B80C1F1DA3199,2\n",
      "6AA87DC69D80333C24EE508D6335E547BACDC0EA,2\n",
      "C51898EA7F8DC8DEA3D0F63D7AF3E388C4635498,2\n",
      "02AD66FE613CDB3A5465E98517CF774C5F275603,2\n",
      "84CB9375666775FF83144DBE876B657EFDDB8BC3,2\n",
      "21BB11B05568EBC8D2BA79F8C1485191C6D04004,2\n",
      "4C8F8FA62D811C4BD5F9DC50973CB2C739DD6239,2\n",
      "8F1A13AEDFF\n"
     ]
    }
   ],
   "source": [
    "with open('new_cuishou_db','r') as rp:\n",
    "    data = rp.read()\n",
    "print(data[:1000])"
   ]
  },
  {
   "cell_type": "code",
   "execution_count": 29,
   "metadata": {},
   "outputs": [
    {
     "data": {
      "text/plain": [
       "array([1, 2, 3, 4, 5, 6, 7, 8])"
      ]
     },
     "execution_count": 29,
     "metadata": {},
     "output_type": "execute_result"
    }
   ],
   "source": [
    "\n",
    "b = pd.read_csv('new_cuishou_db', header=None, names=['tel', 'type'])\n",
    "b.type.unique()"
   ]
  },
  {
   "cell_type": "code",
   "execution_count": 39,
   "metadata": {},
   "outputs": [
    {
     "ename": "KeyError",
     "evalue": "'type'",
     "output_type": "error",
     "traceback": [
      "\u001b[0;31m---------------------------------------------------------------------------\u001b[0m",
      "\u001b[0;31mKeyError\u001b[0m                                  Traceback (most recent call last)",
      "\u001b[0;32m<ipython-input-39-b7ffb61b8fbf>\u001b[0m in \u001b[0;36m<module>\u001b[0;34m()\u001b[0m\n\u001b[1;32m      1\u001b[0m \u001b[0ma\u001b[0m \u001b[0;34m=\u001b[0m \u001b[0mpd\u001b[0m\u001b[0;34m.\u001b[0m\u001b[0mDataFrame\u001b[0m\u001b[0;34m(\u001b[0m\u001b[0;34m)\u001b[0m\u001b[0;34m\u001b[0m\u001b[0m\n\u001b[0;32m----> 2\u001b[0;31m \u001b[0ma\u001b[0m\u001b[0;34m.\u001b[0m\u001b[0mgroupby\u001b[0m\u001b[0;34m(\u001b[0m\u001b[0;34m'type'\u001b[0m\u001b[0;34m)\u001b[0m\u001b[0;34m.\u001b[0m\u001b[0mcount\u001b[0m\u001b[0;34m(\u001b[0m\u001b[0;34m)\u001b[0m\u001b[0;34m\u001b[0m\u001b[0m\n\u001b[0m",
      "\u001b[0;32m~/anaconda3/lib/python3.7/site-packages/pandas/core/generic.py\u001b[0m in \u001b[0;36mgroupby\u001b[0;34m(self, by, axis, level, as_index, sort, group_keys, squeeze, observed, **kwargs)\u001b[0m\n\u001b[1;32m   6663\u001b[0m         return groupby(self, by=by, axis=axis, level=level, as_index=as_index,\n\u001b[1;32m   6664\u001b[0m                        \u001b[0msort\u001b[0m\u001b[0;34m=\u001b[0m\u001b[0msort\u001b[0m\u001b[0;34m,\u001b[0m \u001b[0mgroup_keys\u001b[0m\u001b[0;34m=\u001b[0m\u001b[0mgroup_keys\u001b[0m\u001b[0;34m,\u001b[0m \u001b[0msqueeze\u001b[0m\u001b[0;34m=\u001b[0m\u001b[0msqueeze\u001b[0m\u001b[0;34m,\u001b[0m\u001b[0;34m\u001b[0m\u001b[0m\n\u001b[0;32m-> 6665\u001b[0;31m                        observed=observed, **kwargs)\n\u001b[0m\u001b[1;32m   6666\u001b[0m \u001b[0;34m\u001b[0m\u001b[0m\n\u001b[1;32m   6667\u001b[0m     def asfreq(self, freq, method=None, how=None, normalize=False,\n",
      "\u001b[0;32m~/anaconda3/lib/python3.7/site-packages/pandas/core/groupby/groupby.py\u001b[0m in \u001b[0;36mgroupby\u001b[0;34m(obj, by, **kwds)\u001b[0m\n\u001b[1;32m   2150\u001b[0m         \u001b[0;32mraise\u001b[0m \u001b[0mTypeError\u001b[0m\u001b[0;34m(\u001b[0m\u001b[0;34m'invalid type: %s'\u001b[0m \u001b[0;34m%\u001b[0m \u001b[0mtype\u001b[0m\u001b[0;34m(\u001b[0m\u001b[0mobj\u001b[0m\u001b[0;34m)\u001b[0m\u001b[0;34m)\u001b[0m\u001b[0;34m\u001b[0m\u001b[0m\n\u001b[1;32m   2151\u001b[0m \u001b[0;34m\u001b[0m\u001b[0m\n\u001b[0;32m-> 2152\u001b[0;31m     \u001b[0;32mreturn\u001b[0m \u001b[0mklass\u001b[0m\u001b[0;34m(\u001b[0m\u001b[0mobj\u001b[0m\u001b[0;34m,\u001b[0m \u001b[0mby\u001b[0m\u001b[0;34m,\u001b[0m \u001b[0;34m**\u001b[0m\u001b[0mkwds\u001b[0m\u001b[0;34m)\u001b[0m\u001b[0;34m\u001b[0m\u001b[0m\n\u001b[0m\u001b[1;32m   2153\u001b[0m \u001b[0;34m\u001b[0m\u001b[0m\n\u001b[1;32m   2154\u001b[0m \u001b[0;34m\u001b[0m\u001b[0m\n",
      "\u001b[0;32m~/anaconda3/lib/python3.7/site-packages/pandas/core/groupby/groupby.py\u001b[0m in \u001b[0;36m__init__\u001b[0;34m(self, obj, keys, axis, level, grouper, exclusions, selection, as_index, sort, group_keys, squeeze, observed, **kwargs)\u001b[0m\n\u001b[1;32m    597\u001b[0m                                                     \u001b[0msort\u001b[0m\u001b[0;34m=\u001b[0m\u001b[0msort\u001b[0m\u001b[0;34m,\u001b[0m\u001b[0;34m\u001b[0m\u001b[0m\n\u001b[1;32m    598\u001b[0m                                                     \u001b[0mobserved\u001b[0m\u001b[0;34m=\u001b[0m\u001b[0mobserved\u001b[0m\u001b[0;34m,\u001b[0m\u001b[0;34m\u001b[0m\u001b[0m\n\u001b[0;32m--> 599\u001b[0;31m                                                     mutated=self.mutated)\n\u001b[0m\u001b[1;32m    600\u001b[0m \u001b[0;34m\u001b[0m\u001b[0m\n\u001b[1;32m    601\u001b[0m         \u001b[0mself\u001b[0m\u001b[0;34m.\u001b[0m\u001b[0mobj\u001b[0m \u001b[0;34m=\u001b[0m \u001b[0mobj\u001b[0m\u001b[0;34m\u001b[0m\u001b[0m\n",
      "\u001b[0;32m~/anaconda3/lib/python3.7/site-packages/pandas/core/groupby/groupby.py\u001b[0m in \u001b[0;36m_get_grouper\u001b[0;34m(obj, key, axis, level, sort, observed, mutated, validate)\u001b[0m\n\u001b[1;32m   3289\u001b[0m                 \u001b[0min_axis\u001b[0m\u001b[0;34m,\u001b[0m \u001b[0mname\u001b[0m\u001b[0;34m,\u001b[0m \u001b[0mlevel\u001b[0m\u001b[0;34m,\u001b[0m \u001b[0mgpr\u001b[0m \u001b[0;34m=\u001b[0m \u001b[0;32mFalse\u001b[0m\u001b[0;34m,\u001b[0m \u001b[0;32mNone\u001b[0m\u001b[0;34m,\u001b[0m \u001b[0mgpr\u001b[0m\u001b[0;34m,\u001b[0m \u001b[0;32mNone\u001b[0m\u001b[0;34m\u001b[0m\u001b[0m\n\u001b[1;32m   3290\u001b[0m             \u001b[0;32melse\u001b[0m\u001b[0;34m:\u001b[0m\u001b[0;34m\u001b[0m\u001b[0m\n\u001b[0;32m-> 3291\u001b[0;31m                 \u001b[0;32mraise\u001b[0m \u001b[0mKeyError\u001b[0m\u001b[0;34m(\u001b[0m\u001b[0mgpr\u001b[0m\u001b[0;34m)\u001b[0m\u001b[0;34m\u001b[0m\u001b[0m\n\u001b[0m\u001b[1;32m   3292\u001b[0m         \u001b[0;32melif\u001b[0m \u001b[0misinstance\u001b[0m\u001b[0;34m(\u001b[0m\u001b[0mgpr\u001b[0m\u001b[0;34m,\u001b[0m \u001b[0mGrouper\u001b[0m\u001b[0;34m)\u001b[0m \u001b[0;32mand\u001b[0m \u001b[0mgpr\u001b[0m\u001b[0;34m.\u001b[0m\u001b[0mkey\u001b[0m \u001b[0;32mis\u001b[0m \u001b[0;32mnot\u001b[0m \u001b[0;32mNone\u001b[0m\u001b[0;34m:\u001b[0m\u001b[0;34m\u001b[0m\u001b[0m\n\u001b[1;32m   3293\u001b[0m             \u001b[0;31m# Add key to exclusions\u001b[0m\u001b[0;34m\u001b[0m\u001b[0;34m\u001b[0m\u001b[0m\n",
      "\u001b[0;31mKeyError\u001b[0m: 'type'"
     ]
    }
   ],
   "source": [
    "a = pd.DataFrame()\n",
    "a.groupby('type').count()"
   ]
  },
  {
   "cell_type": "code",
   "execution_count": null,
   "metadata": {},
   "outputs": [],
   "source": []
  }
 ],
 "metadata": {
  "kernelspec": {
   "display_name": "Python 3",
   "language": "python",
   "name": "python3"
  },
  "language_info": {
   "codemirror_mode": {
    "name": "ipython",
    "version": 3
   },
   "file_extension": ".py",
   "mimetype": "text/x-python",
   "name": "python",
   "nbconvert_exporter": "python",
   "pygments_lexer": "ipython3",
   "version": "3.7.0"
  },
  "toc": {
   "base_numbering": 1,
   "nav_menu": {},
   "number_sections": true,
   "sideBar": true,
   "skip_h1_title": false,
   "title_cell": "Table of Contents",
   "title_sidebar": "Contents",
   "toc_cell": false,
   "toc_position": {},
   "toc_section_display": true,
   "toc_window_display": false
  },
  "varInspector": {
   "cols": {
    "lenName": 16,
    "lenType": 16,
    "lenVar": 40
   },
   "kernels_config": {
    "python": {
     "delete_cmd_postfix": "",
     "delete_cmd_prefix": "del ",
     "library": "var_list.py",
     "varRefreshCmd": "print(var_dic_list())"
    },
    "r": {
     "delete_cmd_postfix": ") ",
     "delete_cmd_prefix": "rm(",
     "library": "var_list.r",
     "varRefreshCmd": "cat(var_dic_list()) "
    }
   },
   "types_to_exclude": [
    "module",
    "function",
    "builtin_function_or_method",
    "instance",
    "_Feature"
   ],
   "window_display": true
  }
 },
 "nbformat": 4,
 "nbformat_minor": 2
}
