{
 "cells": [
  {
   "cell_type": "code",
   "execution_count": 12,
   "metadata": {},
   "outputs": [
    {
     "data": {
      "application/vnd.jupyter.widget-view+json": {
       "model_id": "e8e5e839a10743fea78011169e8f28b6",
       "version_major": 2,
       "version_minor": 0
      },
      "text/plain": [
       "Turtle()"
      ]
     },
     "metadata": {},
     "output_type": "display_data"
    }
   ],
   "source": [
    "from mobilechelonian import Turtle\n",
    "turtle = Turtle()\n",
    "turtle.speed(10)\n",
    "for j in range(1,15):\n",
    "    for i in range(5):\n",
    "        turtle.forward(50*j)\n",
    "        turtle.right(144)"
   ]
  },
  {
   "cell_type": "code",
   "execution_count": 6,
   "metadata": {},
   "outputs": [
    {
     "name": "stdout",
     "output_type": "stream",
     "text": [
      "37.1\n"
     ]
    }
   ],
   "source": [
    "'37KB'.isdigit()\n",
    "import re\n",
    "print(re.sub(r'[^\\d\\.]', '', '37.1KB'))"
   ]
  },
  {
   "cell_type": "code",
   "execution_count": null,
   "metadata": {},
   "outputs": [],
   "source": [
    "!pip install mobilechelonian "
   ]
  },
  {
   "cell_type": "code",
   "execution_count": null,
   "metadata": {},
   "outputs": [],
   "source": [
    "print('bingo')"
   ]
  },
  {
   "cell_type": "code",
   "execution_count": 20,
   "metadata": {
    "ExecuteTime": {
     "end_time": "2019-02-21T07:37:43.782323Z",
     "start_time": "2019-02-21T07:37:43.770961Z"
    }
   },
   "outputs": [
    {
     "name": "stdout",
     "output_type": "stream",
     "text": [
      "1544134895.0\n",
      "False\n"
     ]
    },
    {
     "data": {
      "text/plain": [
       "16070400"
      ]
     },
     "execution_count": 20,
     "metadata": {},
     "output_type": "execute_result"
    }
   ],
   "source": [
    "import time\n",
    "t = time.mktime(time.strptime(max([\"20171207062135\",\"20180104025224\",\"20181207062135\", \"20180104025934\"]), \"%Y%m%d%H%M%S\"))\n",
    "print(t)\n",
    "print(int(time.time()) - t> 86400*31*6)\n",
    "86400*31*6"
   ]
  },
  {
   "cell_type": "code",
   "execution_count": 24,
   "metadata": {
    "ExecuteTime": {
     "end_time": "2019-02-21T07:58:53.931032Z",
     "start_time": "2019-02-21T07:58:48.880750Z"
    }
   },
   "outputs": [
    {
     "name": "stdout",
     "output_type": "stream",
     "text": [
      "Creating pool with 4 processes\n",
      "\n",
      "Ordered results using pool.apply_async():\n",
      "\t ForkPoolWorker-13 says that mul(0, 7) = 0\n",
      "\t ForkPoolWorker-14 says that mul(1, 7) = 7\n",
      "\t ForkPoolWorker-15 says that mul(2, 7) = 14\n",
      "\t ForkPoolWorker-16 says that mul(3, 7) = 21\n",
      "\t ForkPoolWorker-15 says that mul(4, 7) = 28\n",
      "\t ForkPoolWorker-16 says that mul(5, 7) = 35\n",
      "\t ForkPoolWorker-14 says that mul(6, 7) = 42\n",
      "\t ForkPoolWorker-13 says that mul(7, 7) = 49\n",
      "\t ForkPoolWorker-14 says that mul(8, 7) = 56\n",
      "\t ForkPoolWorker-14 says that mul(9, 7) = 63\n",
      "\t ForkPoolWorker-15 says that plus(0, 8) = 8\n",
      "\t ForkPoolWorker-15 says that plus(1, 8) = 9\n",
      "\t ForkPoolWorker-13 says that plus(2, 8) = 10\n",
      "\t ForkPoolWorker-13 says that plus(3, 8) = 11\n",
      "\t ForkPoolWorker-16 says that plus(4, 8) = 12\n",
      "\t ForkPoolWorker-13 says that plus(5, 8) = 13\n",
      "\t ForkPoolWorker-14 says that plus(6, 8) = 14\n",
      "\t ForkPoolWorker-16 says that plus(7, 8) = 15\n",
      "\t ForkPoolWorker-15 says that plus(8, 8) = 16\n",
      "\t ForkPoolWorker-13 says that plus(9, 8) = 17\n",
      "\n",
      "Ordered results using pool.imap():\n",
      "\t ForkPoolWorker-14 says that mul(0, 7) = 0\n",
      "\t ForkPoolWorker-14 says that mul(1, 7) = 7\n",
      "\t ForkPoolWorker-13 says that mul(2, 7) = 14\n",
      "\t ForkPoolWorker-16 says that mul(3, 7) = 21\n",
      "\t ForkPoolWorker-15 says that mul(4, 7) = 28\n",
      "\t ForkPoolWorker-13 says that mul(5, 7) = 35\n",
      "\t ForkPoolWorker-15 says that mul(6, 7) = 42\n",
      "\t ForkPoolWorker-16 says that mul(7, 7) = 49\n",
      "\t ForkPoolWorker-14 says that mul(8, 7) = 56\n",
      "\t ForkPoolWorker-13 says that mul(9, 7) = 63\n",
      "\t ForkPoolWorker-16 says that plus(0, 8) = 8\n",
      "\t ForkPoolWorker-16 says that plus(1, 8) = 9\n",
      "\t ForkPoolWorker-13 says that plus(2, 8) = 10\n",
      "\t ForkPoolWorker-15 says that plus(3, 8) = 11\n",
      "\t ForkPoolWorker-15 says that plus(4, 8) = 12\n",
      "\t ForkPoolWorker-15 says that plus(5, 8) = 13\n",
      "\t ForkPoolWorker-14 says that plus(6, 8) = 14\n",
      "\t ForkPoolWorker-16 says that plus(7, 8) = 15\n",
      "\t ForkPoolWorker-16 says that plus(8, 8) = 16\n",
      "\t ForkPoolWorker-15 says that plus(9, 8) = 17\n",
      "\n",
      "Unordered results using pool.imap_unordered():\n",
      "\t ForkPoolWorker-13 says that mul(0, 7) = 0\n",
      "\t ForkPoolWorker-16 says that mul(2, 7) = 14\n",
      "\t ForkPoolWorker-13 says that mul(4, 7) = 28\n",
      "\t ForkPoolWorker-15 says that mul(1, 7) = 7\n",
      "\t ForkPoolWorker-13 says that mul(6, 7) = 42\n",
      "\t ForkPoolWorker-14 says that mul(3, 7) = 21\n",
      "\t ForkPoolWorker-16 says that mul(5, 7) = 35\n",
      "\t ForkPoolWorker-15 says that mul(7, 7) = 49\n",
      "\t ForkPoolWorker-14 says that mul(9, 7) = 63\n",
      "\t ForkPoolWorker-15 says that plus(1, 8) = 9\n",
      "\t ForkPoolWorker-14 says that plus(2, 8) = 10\n",
      "\t ForkPoolWorker-13 says that mul(8, 7) = 56\n",
      "\t ForkPoolWorker-14 says that plus(4, 8) = 12\n",
      "\t ForkPoolWorker-16 says that plus(0, 8) = 8\n",
      "\t ForkPoolWorker-15 says that plus(3, 8) = 11\n",
      "\t ForkPoolWorker-13 says that plus(5, 8) = 13\n",
      "\t ForkPoolWorker-13 says that plus(9, 8) = 17\n",
      "\t ForkPoolWorker-16 says that plus(7, 8) = 15\n",
      "\t ForkPoolWorker-14 says that plus(6, 8) = 14\n",
      "\t ForkPoolWorker-15 says that plus(8, 8) = 16\n",
      "\n",
      "Ordered results using pool.map() --- will block till complete:\n",
      "\t ForkPoolWorker-13 says that mul(0, 7) = 0\n",
      "\t ForkPoolWorker-13 says that mul(1, 7) = 7\n",
      "\t ForkPoolWorker-16 says that mul(2, 7) = 14\n",
      "\t ForkPoolWorker-16 says that mul(3, 7) = 21\n",
      "\t ForkPoolWorker-14 says that mul(4, 7) = 28\n",
      "\t ForkPoolWorker-14 says that mul(5, 7) = 35\n",
      "\t ForkPoolWorker-15 says that mul(6, 7) = 42\n",
      "\t ForkPoolWorker-15 says that mul(7, 7) = 49\n",
      "\t ForkPoolWorker-13 says that mul(8, 7) = 56\n",
      "\t ForkPoolWorker-13 says that mul(9, 7) = 63\n",
      "\t ForkPoolWorker-15 says that plus(0, 8) = 8\n",
      "\t ForkPoolWorker-15 says that plus(1, 8) = 9\n",
      "\t ForkPoolWorker-16 says that plus(2, 8) = 10\n",
      "\t ForkPoolWorker-16 says that plus(3, 8) = 11\n",
      "\t ForkPoolWorker-13 says that plus(4, 8) = 12\n",
      "\t ForkPoolWorker-13 says that plus(5, 8) = 13\n",
      "\t ForkPoolWorker-15 says that plus(6, 8) = 14\n",
      "\t ForkPoolWorker-15 says that plus(7, 8) = 15\n",
      "\t ForkPoolWorker-14 says that plus(8, 8) = 16\n",
      "\t ForkPoolWorker-14 says that plus(9, 8) = 17\n",
      "\n"
     ]
    }
   ],
   "source": [
    "import multiprocessing\n",
    "import time\n",
    "import random\n",
    "import sys\n",
    "\n",
    "#\n",
    "# Functions used by test code\n",
    "#\n",
    "\n",
    "def calculate(func, args):\n",
    "    result = func(*args)\n",
    "    return '%s says that %s%s = %s' % (\n",
    "        multiprocessing.current_process().name,\n",
    "        func.__name__, args, result\n",
    "    )\n",
    "\n",
    "def calculatestar(args):\n",
    "    return calculate(*args)\n",
    "\n",
    "def mul(a, b):\n",
    "    time.sleep(0.5 * random.random())\n",
    "    return a * b\n",
    "\n",
    "def plus(a, b):\n",
    "    time.sleep(0.5 * random.random())\n",
    "    return a + b\n",
    "\n",
    "def f(x):\n",
    "    return 1.0 / (x - 5.0)\n",
    "\n",
    "def pow3(x):\n",
    "    return x ** 3\n",
    "\n",
    "def noop(x):\n",
    "    pass\n",
    "\n",
    "#\n",
    "# Test code\n",
    "#\n",
    "\n",
    "def test():\n",
    "    PROCESSES = 4\n",
    "    print('Creating pool with %d processes\\n' % PROCESSES)\n",
    "\n",
    "    with multiprocessing.Pool(PROCESSES) as pool:\n",
    "        #\n",
    "        # Tests\n",
    "        #\n",
    "\n",
    "        TASKS = [(mul, (i, 7)) for i in range(10)] + \\\n",
    "                [(plus, (i, 8)) for i in range(10)]\n",
    "\n",
    "        results = [pool.apply_async(calculate, t) for t in TASKS]\n",
    "        imap_it = pool.imap(calculatestar, TASKS)\n",
    "        imap_unordered_it = pool.imap_unordered(calculatestar, TASKS)\n",
    "\n",
    "        print('Ordered results using pool.apply_async():')\n",
    "        for r in results:\n",
    "            print('\\t', r.get())\n",
    "        print()\n",
    "\n",
    "        print('Ordered results using pool.imap():')\n",
    "        for x in imap_it:\n",
    "            print('\\t', x)\n",
    "        print()\n",
    "\n",
    "        print('Unordered results using pool.imap_unordered():')\n",
    "        for x in imap_unordered_it:\n",
    "            print('\\t', x)\n",
    "        print()\n",
    "\n",
    "        print('Ordered results using pool.map() --- will block till complete:')\n",
    "        for x in pool.map(calculatestar, TASKS):\n",
    "            print('\\t', x)\n",
    "        print()\n",
    "\n",
    "\n",
    "\n",
    "if __name__ == '__main__':\n",
    "    multiprocessing.freeze_support()\n",
    "    test()"
   ]
  },
  {
   "cell_type": "code",
   "execution_count": 43,
   "metadata": {
    "ExecuteTime": {
     "end_time": "2019-02-25T10:31:26.137086Z",
     "start_time": "2019-02-25T10:31:26.129861Z"
    }
   },
   "outputs": [
    {
     "data": {
      "text/plain": [
       "19.298203011170468"
      ]
     },
     "execution_count": 43,
     "metadata": {},
     "output_type": "execute_result"
    }
   ],
   "source": [
    "# lifestyle 54,201,246\n",
    "# 10:28:20 03:07:50 07:21:30\n",
    "((7*3600+21*60+30)/2059)*5400/3600"
   ]
  },
  {
   "cell_type": "code",
   "execution_count": 44,
   "metadata": {
    "ExecuteTime": {
     "end_time": "2019-02-25T10:31:28.745334Z",
     "start_time": "2019-02-25T10:31:28.738413Z"
    }
   },
   "outputs": [
    {
     "data": {
      "text/plain": [
       "14.160555555555556"
      ]
     },
     "execution_count": 44,
     "metadata": {},
     "output_type": "execute_result"
    }
   ],
   "source": [
    "# bkwd 46,065,625\n",
    "# 10:23:46 03:18:57 07:04:49\n",
    "((7*3600+4*60+49)/2300)*4600/3600"
   ]
  },
  {
   "cell_type": "code",
   "execution_count": 46,
   "metadata": {
    "ExecuteTime": {
     "end_time": "2019-02-26T08:59:27.840910Z",
     "start_time": "2019-02-26T08:59:27.833918Z"
    }
   },
   "outputs": [
    {
     "data": {
      "text/plain": [
       "16.457655983898434"
      ]
     },
     "execution_count": 46,
     "metadata": {},
     "output_type": "execute_result"
    }
   ],
   "source": [
    "# yellowpage  50,364,895\n",
    "# 05:29:56 03:20:47 02:09:09\n",
    "# 10:25:59 03:20:47 07:05:12\n",
    "((7*3600+5*60+12)/2153)*5000/3600"
   ]
  },
  {
   "cell_type": "code",
   "execution_count": 54,
   "metadata": {
    "ExecuteTime": {
     "end_time": "2019-02-26T09:04:37.285499Z",
     "start_time": "2019-02-26T09:04:37.274650Z"
    }
   },
   "outputs": [
    {
     "ename": "AttributeError",
     "evalue": "'str' object has no attribute 'strftime'",
     "output_type": "error",
     "traceback": [
      "\u001b[0;31m---------------------------------------------------------------------------\u001b[0m",
      "\u001b[0;31mAttributeError\u001b[0m                            Traceback (most recent call last)",
      "\u001b[0;32m<ipython-input-54-fc22c629aa29>\u001b[0m in \u001b[0;36m<module>\u001b[0;34m()\u001b[0m\n\u001b[1;32m      1\u001b[0m \u001b[0;32mimport\u001b[0m \u001b[0mtime\u001b[0m\u001b[0;34m\u001b[0m\u001b[0m\n\u001b[0;32m----> 2\u001b[0;31m \u001b[0mtime\u001b[0m\u001b[0;34m.\u001b[0m\u001b[0mctime\u001b[0m\u001b[0;34m(\u001b[0m\u001b[0;34m)\u001b[0m\u001b[0;34m.\u001b[0m\u001b[0mstrftime\u001b[0m\u001b[0;34m(\u001b[0m\u001b[0;34m\"%Y%m%d%H%M%S\"\u001b[0m\u001b[0;34m)\u001b[0m\u001b[0;34m\u001b[0m\u001b[0m\n\u001b[0m",
      "\u001b[0;31mAttributeError\u001b[0m: 'str' object has no attribute 'strftime'"
     ]
    }
   ],
   "source": [
    "import time\n",
    "time.ctime().strftime(\"%Y%m%d%H%M%S\")"
   ]
  },
  {
   "cell_type": "code",
   "execution_count": 58,
   "metadata": {
    "ExecuteTime": {
     "end_time": "2019-02-26T09:06:28.037254Z",
     "start_time": "2019-02-26T09:06:28.029751Z"
    }
   },
   "outputs": [
    {
     "data": {
      "text/plain": [
       "'20190226090628'"
      ]
     },
     "execution_count": 58,
     "metadata": {},
     "output_type": "execute_result"
    }
   ],
   "source": [
    "time.strftime(\"%Y%m%d%H%M%S\", time.gmtime())"
   ]
  },
  {
   "cell_type": "code",
   "execution_count": 61,
   "metadata": {
    "ExecuteTime": {
     "end_time": "2019-02-27T02:47:04.086472Z",
     "start_time": "2019-02-27T02:47:04.079401Z"
    }
   },
   "outputs": [
    {
     "data": {
      "text/plain": [
       "7.225243687764378"
      ]
     },
     "execution_count": 61,
     "metadata": {},
     "output_type": "execute_result"
    }
   ],
   "source": [
    "44/84580*50000000/3600"
   ]
  },
  {
   "cell_type": "code",
   "execution_count": 68,
   "metadata": {
    "ExecuteTime": {
     "end_time": "2019-02-27T02:59:45.165637Z",
     "start_time": "2019-02-27T02:59:45.157152Z"
    }
   },
   "outputs": [
    {
     "name": "stdout",
     "output_type": "stream",
     "text": [
      "0.4615984866398676\n",
      "0.4431673151750973\n",
      "\n",
      "0.4813853828383943\n",
      "0.41225382038081226\n",
      "0.5202791461412151\n"
     ]
    }
   ],
   "source": [
    "print(39042/84580)\n",
    "print(56947/(56947+71553))\n",
    "print()\n",
    "print(57514/(57514+61962))\n",
    "print(40358/(57538+40358))\n",
    "print(133077/(122703+133077))\n"
   ]
  },
  {
   "cell_type": "code",
   "execution_count": 81,
   "metadata": {
    "ExecuteTime": {
     "end_time": "2019-02-27T03:32:59.216995Z",
     "start_time": "2019-02-27T03:32:59.202992Z"
    }
   },
   "outputs": [
    {
     "name": "stdout",
     "output_type": "stream",
     "text": [
      "0.4431673151750973\n",
      "0.4813853828383943\n",
      "0.5309780735762901\n",
      "0.47323237026517356\n",
      "0.3775151637234495\n",
      "0.5202791461412151\n",
      "0.41225382038081226\n",
      "0.4601486440281452\n",
      "0.4615984866398676\n",
      "0.45322287723251137\n",
      "0.4965904561664317\n"
     ]
    },
    {
     "data": {
      "text/plain": [
       "2914829"
      ]
     },
     "execution_count": 81,
     "metadata": {},
     "output_type": "execute_result"
    }
   ],
   "source": [
    "# 62.84071707725525\n",
    "# 71553 56947 1\n",
    "# 53.004392862319946\n",
    "# 61962 57514 1\n",
    "# 83.10457825660706\n",
    "# 87103 98609 1\n",
    "# 79.49556422233582\n",
    "# 90505 81307 1\n",
    "# 71.97988486289978\n",
    "# 83436 50601 1\n",
    "# 105.72811937332153\n",
    "# 122703 133077 1\n",
    "# 48.93253970146179\n",
    "# 57538 40358 1\n",
    "# 54.52218222618103\n",
    "# 59998 51140 1\n",
    "# 49.07818007469177\n",
    "# 45538 39042 1\n",
    "# 50.32402682304382\n",
    "# 56300 46667 1\n",
    "# 46667+39042+51140\n",
    "\n",
    "print(56947/(71553+56947))\n",
    "print(57514/(61962+57514))\n",
    "print(98609/(87103+98609))\n",
    "print(81307/(90505+81307))\n",
    "print(50601/(83436+50601))\n",
    "print(133077/(122703+133077))\n",
    "print(40358/(57538+40358))\n",
    "print(51140/(59998+51140))\n",
    "print(39042/(45538+39042))\n",
    "print(46667/(56300+46667))\n",
    "print(756273/1522931)\n",
    "((56947/(71553+56947))+(57514/(61962+57514))+(98609/(87103+98609))+(81307/(90505+81307))+(50601/(83436+50601))+(133077/(122703+133077))+(40358/(57538+40358))+(51140/(59998+51140))+(39042/(45538+39042))+(46667/(56300+46667))+(756273/1522931))/11\n",
    "((71553+56947+61962+57514+87103+98609+90505+81307+83436+50601+122703+133077+57538+40358+59998+51140+45538+39042+56300+46667+1522931))\n",
    "56947+57514+98609+81307+50601+133077+40358+51140+39042+46667+756273)/"
   ]
  },
  {
   "cell_type": "code",
   "execution_count": 101,
   "metadata": {
    "ExecuteTime": {
     "end_time": "2019-02-27T05:57:08.972743Z",
     "start_time": "2019-02-27T05:57:08.965033Z"
    }
   },
   "outputs": [
    {
     "data": {
      "text/plain": [
       "0.011098113216579806"
      ]
     },
     "execution_count": 101,
     "metadata": {},
     "output_type": "execute_result"
    }
   ],
   "source": [
    "264062.47888570843 /50000000*1522931\n",
    "\n",
    "(8042.978700637817-1522931*0.0002)/697271"
   ]
  },
  {
   "cell_type": "code",
   "execution_count": 115,
   "metadata": {
    "ExecuteTime": {
     "end_time": "2019-02-27T07:54:19.571605Z",
     "start_time": "2019-02-27T07:54:19.564344Z"
    }
   },
   "outputs": [
    {
     "data": {
      "text/plain": [
       "36000.0"
      ]
     },
     "execution_count": 115,
     "metadata": {},
     "output_type": "execute_result"
    }
   ],
   "source": [
    "0.0002*50000000 + 0.001*50000000*0.52 "
   ]
  },
  {
   "cell_type": "code",
   "execution_count": 104,
   "metadata": {
    "ExecuteTime": {
     "end_time": "2019-02-27T06:00:34.022129Z",
     "start_time": "2019-02-27T06:00:34.015312Z"
    }
   },
   "outputs": [
    {
     "data": {
      "text/plain": [
       "0.0003644245764322098"
      ]
     },
     "execution_count": 104,
     "metadata": {},
     "output_type": "execute_result"
    }
   ],
   "source": [
    "18221.22882161049/50000000"
   ]
  },
  {
   "cell_type": "code",
   "execution_count": 106,
   "metadata": {
    "ExecuteTime": {
     "end_time": "2019-02-27T06:08:23.997736Z",
     "start_time": "2019-02-27T06:08:23.990462Z"
    }
   },
   "outputs": [
    {
     "data": {
      "text/plain": [
       "0.005555552220344544"
      ]
     },
     "execution_count": 106,
     "metadata": {},
     "output_type": "execute_result"
    }
   ],
   "source": [
    "55.555522203445435/10000"
   ]
  },
  {
   "cell_type": "code",
   "execution_count": 116,
   "metadata": {
    "ExecuteTime": {
     "end_time": "2019-02-28T09:34:17.555728Z",
     "start_time": "2019-02-28T09:34:17.548864Z"
    }
   },
   "outputs": [
    {
     "data": {
      "text/plain": [
       "2514379"
      ]
     },
     "execution_count": 116,
     "metadata": {},
     "output_type": "execute_result"
    }
   ],
   "source": [
    "56715625-54201246"
   ]
  },
  {
   "cell_type": "code",
   "execution_count": null,
   "metadata": {},
   "outputs": [],
   "source": [
    "# 17:32:56 10:08:27  7:24:29"
   ]
  }
 ],
 "metadata": {
  "kernelspec": {
   "display_name": "Python 3",
   "language": "python",
   "name": "python3"
  },
  "language_info": {
   "codemirror_mode": {
    "name": "ipython",
    "version": 3
   },
   "file_extension": ".py",
   "mimetype": "text/x-python",
   "name": "python",
   "nbconvert_exporter": "python",
   "pygments_lexer": "ipython3",
   "version": "3.7.0"
  },
  "toc": {
   "base_numbering": 1,
   "nav_menu": {},
   "number_sections": true,
   "sideBar": true,
   "skip_h1_title": false,
   "title_cell": "Table of Contents",
   "title_sidebar": "Contents",
   "toc_cell": false,
   "toc_position": {},
   "toc_section_display": true,
   "toc_window_display": false
  },
  "varInspector": {
   "cols": {
    "lenName": 16,
    "lenType": 16,
    "lenVar": 40
   },
   "kernels_config": {
    "python": {
     "delete_cmd_postfix": "",
     "delete_cmd_prefix": "del ",
     "library": "var_list.py",
     "varRefreshCmd": "print(var_dic_list())"
    },
    "r": {
     "delete_cmd_postfix": ") ",
     "delete_cmd_prefix": "rm(",
     "library": "var_list.r",
     "varRefreshCmd": "cat(var_dic_list()) "
    }
   },
   "types_to_exclude": [
    "module",
    "function",
    "builtin_function_or_method",
    "instance",
    "_Feature"
   ],
   "window_display": true
  }
 },
 "nbformat": 4,
 "nbformat_minor": 2
}
