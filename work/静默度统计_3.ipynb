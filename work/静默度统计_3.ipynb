{
 "cells": [
  {
   "cell_type": "code",
   "execution_count": null,
   "metadata": {},
   "outputs": [],
   "source": [
    "for x in range(101):print\"fizz\"[x%3*4::]+\"buzz\"[x%5*4::]or x"
   ]
  },
  {
   "cell_type": "code",
   "execution_count": null,
   "metadata": {},
   "outputs": [],
   "source": [
    "\"\"[15%3*4::]"
   ]
  },
  {
   "cell_type": "code",
   "execution_count": null,
   "metadata": {},
   "outputs": [],
   "source": [
    "7%3"
   ]
  },
  {
   "cell_type": "code",
   "execution_count": null,
   "metadata": {},
   "outputs": [],
   "source": [
    "i = 14\n",
    "0 < i <= 7 or i%7 == 0"
   ]
  },
  {
   "cell_type": "code",
   "execution_count": null,
   "metadata": {},
   "outputs": [],
   "source": [
    "import datetime\n",
    "from datetime import datetime as DT\n",
    "\n",
    "def get_st_time(end_time, cut_day=-1, form_in=\"%Y-%m-%d\", form_out=\"%Y%m%d%H%M%S\"):\n",
    "        \"\"\"\n",
    "         获取开始时间，默认区间98天\n",
    "        \"\"\"\n",
    "        print DT.strptime(end_time, form_in)\n",
    "        return (DT.strptime(end_time, form_in) - datetime.timedelta(days=cut_day))\n",
    "end_time = '2018-09-20'\n",
    "print get_st_time(end_time)\n",
    "print DT.strptime(end_time, \"%Y-%m-%d\") - get_st_time(end_time)\n"
   ]
  },
  {
   "cell_type": "code",
   "execution_count": null,
   "metadata": {},
   "outputs": [],
   "source": [
    "def cut_term(term, cut_day=7, format_str=\"%Y-%m-%d\"):\n",
    "         \"\"\"\n",
    "         计算周期获取，默认7天\n",
    "         \"\"\"\n",
    "         return [(DT.strptime(term, format_str) - datetime.timedelta(days=i)).strftime(format_str) for i in xrange(1, cut_day+1)]\n",
    "print cut_term('2018-09-20')"
   ]
  },
  {
   "cell_type": "code",
   "execution_count": null,
   "metadata": {},
   "outputs": [],
   "source": [
    "import pandas as pd\n",
    "import numpy as np\n",
    "a = [((1538, 6323), (0.9995334, 0.9995334)), ((7694, 7862, 8399, 9158),\n",
    "       np.array([0.99999015, 0.99997352, 0.99997993, 0.99996219]))]\n",
    "L = [(i, y[0],y[1]) for i, x in enumerate(a, 1) for y in zip(x[0], x[1])]\n",
    "print L\n",
    "df = pd.DataFrame.from_records(L, columns=['ClstId','ColInt','ColFloat'], exclude=['ClstId'])\n",
    "print df\n",
    "df.empty"
   ]
  },
  {
   "cell_type": "code",
   "execution_count": null,
   "metadata": {},
   "outputs": [],
   "source": [
    "# 获取最近几个月的列表\n",
    "import time,datetime\n",
    "import hashlib\n",
    "\n",
    "from datetime import datetime as DT\n",
    "from dateutil.relativedelta import relativedelta\n",
    "\n",
    "def get_sql_month(end_time, months=5, form_in=\"%Y%m%d\", form_out=\"%Y%m\"):\n",
    "    \"\"\"\n",
    "    获取查询月份\n",
    "    \"\"\"\n",
    "    return ((DT.strptime(end_time, form_in) - relativedelta(months=i)).strftime(form_out) for i in xrange(0, months))\n",
    "\n",
    "print list(get_sql_month('20180920'))"
   ]
  },
  {
   "cell_type": "code",
   "execution_count": null,
   "metadata": {},
   "outputs": [],
   "source": [
    "float('-inf')"
   ]
  },
  {
   "cell_type": "code",
   "execution_count": null,
   "metadata": {},
   "outputs": [],
   "source": [
    "a = [0,1,2,3,4,5,6,7,8,9,10]\n",
    "b = set(a)\n",
    "print b.update([12,14]),b.add(18),b"
   ]
  },
  {
   "cell_type": "code",
   "execution_count": null,
   "metadata": {},
   "outputs": [],
   "source": [
    "from pyspark import SparkConf, SparkContext\n",
    "from pyspark.sql import HiveContext\n",
    "\n",
    "# Spark 初始化\n",
    "conf = SparkConf()\n",
    "sc = SparkContext(conf=conf)\n",
    "sqlContext = HiveContext(sc)\n",
    "data = sc.parallelize(['1', '2', '3', ]).map(lambda x: (x,x)).collect()"
   ]
  },
  {
   "cell_type": "code",
   "execution_count": 2,
   "metadata": {},
   "outputs": [
    {
     "name": "stdout",
     "output_type": "stream",
     "text": [
      "61265\n",
      "{u'lens': [1168, 1168], u'degree': 0, u'sid': u'SID471c9ef8381b4d1f4a8db9831f422dc7'}\n",
      "{\n",
      "    \"degree_0\": 47096, \n",
      "    \"degree_1\": 10919, \n",
      "    \"degree_2\": 3238, \n",
      "    \"degree_3\": 12, \n",
      "    \"degree_all\": 61265, \n",
      "    \"pct_0\": \"76.87\", \n",
      "    \"pct_1\": \"17.82\", \n",
      "    \"pct_2\": \"5.29\", \n",
      "    \"pct_3\": \"0.02\"\n",
      "}\n"
     ]
    }
   ],
   "source": [
    "import json\n",
    "sidList = []\n",
    "with open(\"blank_result.json\", 'r') as rp:\n",
    "    sidList = json.loads(rp.read())\n",
    "\n",
    "# with open(\"blank_result_50000_tmp.json\", 'r') as rp:\n",
    "#     sidList += json.loads(rp.read())\n",
    "    \n",
    "# with open(\"blank_result_45000_tmp.json\", 'r') as rp:\n",
    "#     sidList += json.loads(rp.read())\n",
    "print len(sidList)\n",
    "print sidList[0]\n",
    "\n",
    "\n",
    "sid_list = sidList\n",
    "with open(\"blank_degree.json\", 'w') as wp:\n",
    "    data = dict()\n",
    "#     lists = [v for sid in sid_list for k,v in sid.iteritems() if k.startswith('SID') ]\n",
    "    lists = [sid.get('degree') for sid in sid_list]\n",
    "#     data['degree'] = lists\n",
    "    data['degree_0'] = lists.count(0)\n",
    "    data['degree_1'] = lists.count(1)\n",
    "    data['degree_2'] = lists.count(2)\n",
    "    data['degree_3'] = lists.count(3)\n",
    "    data['degree_all'] = len(lists)\n",
    "    data['pct_0'] = \"{:.2f}\".format(data['degree_0']*100.0/data['degree_all'])\n",
    "    data['pct_1'] = \"{:.2f}\".format(data['degree_1']*100.0/data['degree_all'])\n",
    "    data['pct_2'] = \"{:.2f}\".format(data['degree_2']*100.0/data['degree_all'])\n",
    "    data['pct_3'] = \"{:.2f}\".format(data['degree_3']*100.0/data['degree_all'])\n",
    "#     data['len_max'] = max([sid.get('lens')[0] for sid in sid_list])\n",
    "#     data['len_max_dup'] = max([sid.get('lens')[1] for sid in sid_list])\n",
    "    json.dump(data,wp, indent=4,sort_keys=True)\n",
    "    print json.dumps(data, indent=4, sort_keys=True)"
   ]
  },
  {
   "cell_type": "code",
   "execution_count": 149,
   "metadata": {},
   "outputs": [
    {
     "name": "stdout",
     "output_type": "stream",
     "text": [
      "[u'SID97dbfda8b9449dac2732f8681eda9abe', u'SID5b4c73f81de50bb93fdc7ff3dd7ee451']\n"
     ]
    }
   ],
   "source": [
    "sid_3 = [i.get('sid')for i in sid_list if i.get(\"degree\") == 3]\n",
    "print sid_3"
   ]
  },
  {
   "cell_type": "code",
   "execution_count": 151,
   "metadata": {},
   "outputs": [
    {
     "data": {
      "text/plain": [
       "{'degree': 3,\n",
       " 'lens': (289, 236),\n",
       " 'sid': u'SID5b4c73f81de50bb93fdc7ff3dd7ee451'}"
      ]
     },
     "execution_count": 151,
     "metadata": {},
     "output_type": "execute_result"
    }
   ],
   "source": [
    "from blank_cul import CulBlankTime\n",
    "CulBlankTime().deal_blank(sid_3[1])"
   ]
  },
  {
   "cell_type": "code",
   "execution_count": null,
   "metadata": {},
   "outputs": [],
   "source": [
    "from dateutil.relativedelta import relativedelta\n",
    "from datetime import datetime as DT\n",
    "def cut_months(term, nums=3, frmt=\"%Y%m\"):\n",
    "    return [(DT.strptime(term, frmt) - relativedelta(months=i)).strftime(frmt) for i in xrange(0, nums)]\n",
    "cut_months('201811')\n",
    "\n",
    "local_mon = DT.now().strftime(\"%Y%m\")\n",
    "recent_3m = cut_months(local_mon)\n",
    "print local_mon,recent_3m"
   ]
  },
  {
   "cell_type": "code",
   "execution_count": 3,
   "metadata": {},
   "outputs": [
    {
     "name": "stdout",
     "output_type": "stream",
     "text": [
      "[u'SID8448e59dd658b02e29eec9dbc48c80c7', u'SIDdbd337368f21a08acf8becf8ed2d0cbc', u'SIDca2df30cbd53468681554c80d5a137eb']\n"
     ]
    }
   ],
   "source": [
    "from mongo_cli import db,MODE\n",
    "sid_info = db[\"sid_info\"]\n",
    "res = sid_info.find({'status':0}).sort(\"_id\",-1).limit(3)\n",
    "sid_list = [x.get('sid') for x in res]\n",
    "print sid_list"
   ]
  },
  {
   "cell_type": "code",
   "execution_count": null,
   "metadata": {},
   "outputs": [],
   "source": [
    "import json\n",
    "sid_list = list(sid_info.find({\n",
    "    'status':0,\n",
    "    'end_time':{\"$gt\":1538323200,\"$lt\":1539878400},\n",
    "    'cid':{'$in':['270', '281', \"280\",\"281\",\"282\",\"283\",\\\n",
    "                  \"284\",\"285\",\"286\",\"287\",\"288\",\"289\",\"290\",\\\n",
    "                  \"291\",\"292\",\"293\",\"294\",\"295\",\"296\",\"297\",\"298\",\\\n",
    "                  \"299\",\"300\",\"301\",\"302\",\"303\",\"304\",\"305\",\"306\",\n",
    "                  \"307\",\"308\",\"309\", \"310\"]}},{'_id':0,'sid':1,'cid':1}))\n",
    "print len(sid_list)\n",
    "exit(1)\n",
    "result = {}\n",
    "with open(\"result_cid_rong.json\",'w') as wp:\n",
    "    lens = len(sid_list)\n",
    "    for n,i in enumerate(sid_list):\n",
    "        print \"{}/{}\".format(n,lens)\n",
    "        sid = i.get('sid')\n",
    "        cid = i.get('cid')\n",
    "        report = db['report'].find_one({'sid':sid})\n",
    "        if not report:\n",
    "            print 'not report'\n",
    "            continue\n",
    "        code = report.get('user_info', '').get('conclusion_of_3_elements_check','')\n",
    "        key = cid + '_' + str(code)\n",
    "        if key not in result:\n",
    "            result[key] = 0\n",
    "        result[key] += 1\n",
    "    json.dump(result, wp, indent=4, sort_keys=True)"
   ]
  },
  {
   "cell_type": "code",
   "execution_count": null,
   "metadata": {},
   "outputs": [],
   "source": []
  }
 ],
 "metadata": {
  "kernelspec": {
   "display_name": "py27",
   "language": "python",
   "name": "py27"
  },
  "language_info": {
   "codemirror_mode": {
    "name": "ipython",
    "version": 2
   },
   "file_extension": ".py",
   "mimetype": "text/x-python",
   "name": "python",
   "nbconvert_exporter": "python",
   "pygments_lexer": "ipython2",
   "version": "2.7.14"
  }
 },
 "nbformat": 4,
 "nbformat_minor": 2
}
