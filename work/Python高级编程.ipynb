{
 "cells": [
  {
   "cell_type": "code",
   "execution_count": 1,
   "metadata": {},
   "outputs": [],
   "source": [
    "class RevealingMeta(type):\n",
    "   def __new__(mcs, name, bases, namespace, **kwargs):\n",
    "       print(mcs, \"__new__ called\")\n",
    "       return super().__new__(mcs, name, bases, namespace)\n",
    "\n",
    "   @classmethod\n",
    "   def __prepare__(mcs, name, bases, **kwargs):\n",
    "       print(mcs, \"__prepare__ called\")\n",
    "       return super().__prepare__(name, bases, **kwargs)\n",
    "\n",
    "   def __init__(cls, name, bases, namespace, **kwargs):\n",
    "       print(cls, \"__init__ called\")\n",
    "       super().__init__(name, bases, namespace)\n",
    "\n",
    "   def __call__(cls, *args, **kwargs):\n",
    "       print(cls, \"__call__ called\")\n",
    "       return super().__call__(*args, **kwargs)"
   ]
  },
  {
   "cell_type": "code",
   "execution_count": 6,
   "metadata": {},
   "outputs": [
    {
     "name": "stdout",
     "output_type": "stream",
     "text": [
      "<class '__main__.RevealingMeta'> __prepare__ called\n",
      "<class '__main__.RevealingMeta'> __new__ called\n",
      "<class '__main__.RevealingClass'> __init__ called\n",
      "<class '__main__.RevealingClass'>\n",
      "bingo\n",
      "<class '__main__.RevealingClass'> __call__ called\n",
      "<class '__main__.RevealingClass'> __new__ called\n",
      "<__main__.RevealingClass object at 0x00000227F81FA358> __init__ called\n",
      "<__main__.RevealingClass object at 0x00000227F81FA358>\n",
      "bingo\n",
      "<class '__main__.RevealingClass'>\n",
      "bingo\n",
      "<class '__main__.RevealingClass'> __call__ called\n",
      "<class '__main__.RevealingClass'> __new__ called\n",
      "<__main__.RevealingClass object at 0x00000227F81FA908> __init__ called\n",
      "<__main__.RevealingClass object at 0x00000227F81FA908>\n"
     ]
    }
   ],
   "source": [
    " class RevealingClass(metaclass=RevealingMeta):\n",
    "     def __new__(cls):\n",
    "        print(cls, \"__new__ called\")\n",
    "        return super().__new__(cls)\n",
    "    \n",
    "     def __init__(self):\n",
    "        print(self, \"__init__ called\")\n",
    "        super().__init__()\n",
    "        \n",
    "print(RevealingClass)\n",
    "print('bingo')\n",
    "print (RevealingClass())\n",
    "print('bingo')\n",
    "print(RevealingClass)\n",
    "print('bingo')\n",
    "print (RevealingClass())"
   ]
  },
  {
   "cell_type": "code",
   "execution_count": null,
   "metadata": {},
   "outputs": [],
   "source": []
  },
  {
   "cell_type": "code",
   "execution_count": null,
   "metadata": {},
   "outputs": [],
   "source": []
  }
 ],
 "metadata": {
  "kernelspec": {
   "display_name": "Python 3",
   "language": "python",
   "name": "python3"
  },
  "language_info": {
   "codemirror_mode": {
    "name": "ipython",
    "version": 3
   },
   "file_extension": ".py",
   "mimetype": "text/x-python",
   "name": "python",
   "nbconvert_exporter": "python",
   "pygments_lexer": "ipython3",
   "version": "3.5.4"
  }
 },
 "nbformat": 4,
 "nbformat_minor": 2
}
