{
 "cells": [
  {
   "cell_type": "code",
   "execution_count": 250,
   "metadata": {},
   "outputs": [
    {
     "data": {
      "text/html": [
       "<div>\n",
       "<style scoped>\n",
       "    .dataframe tbody tr th:only-of-type {\n",
       "        vertical-align: middle;\n",
       "    }\n",
       "\n",
       "    .dataframe tbody tr th {\n",
       "        vertical-align: top;\n",
       "    }\n",
       "\n",
       "    .dataframe thead th {\n",
       "        text-align: right;\n",
       "    }\n",
       "</style>\n",
       "<table border=\"1\" class=\"dataframe\">\n",
       "  <thead>\n",
       "    <tr style=\"text-align: right;\">\n",
       "      <th></th>\n",
       "      <th>duration</th>\n",
       "      <th>fee</th>\n",
       "      <th>location</th>\n",
       "      <th>month</th>\n",
       "      <th>net_type</th>\n",
       "      <th>service_name</th>\n",
       "      <th>subflow</th>\n",
       "      <th>time</th>\n",
       "    </tr>\n",
       "  </thead>\n",
       "  <tbody>\n",
       "  </tbody>\n",
       "</table>\n",
       "</div>"
      ],
      "text/plain": [
       "Empty DataFrame\n",
       "Columns: [duration, fee, location, month, net_type, service_name, subflow, time]\n",
       "Index: []"
      ]
     },
     "execution_count": 250,
     "metadata": {},
     "output_type": "execute_result"
    }
   ],
   "source": [
    "import pandas as pd\n",
    "import json\n",
    "with open('nets.json', 'r') as rp:\n",
    "    data = rp.read()\n",
    "    data = json.loads(data)\n",
    "# for i in data:\n",
    "# #     if i.get('month') == '201811':\n",
    "# #         print(i)\n",
    "#     if 'subflow' not in i.keys():\n",
    "#         print(i)\n",
    "df = pd.DataFrame(data)\n",
    "df.subflow = df.subflow.fillna('0')\n",
    "df[df.subflow.isnull()]"
   ]
  },
  {
   "cell_type": "code",
   "execution_count": 10,
   "metadata": {
    "ExecuteTime": {
     "end_time": "2019-01-22T08:15:08.788073Z",
     "start_time": "2019-01-22T08:15:08.780988Z"
    }
   },
   "outputs": [
    {
     "data": {
      "text/plain": [
       "10240.0"
      ]
     },
     "execution_count": 10,
     "metadata": {},
     "output_type": "execute_result"
    }
   ],
   "source": [
    "10737418240/1024/1024"
   ]
  },
  {
   "cell_type": "code",
   "execution_count": 15,
   "metadata": {
    "ExecuteTime": {
     "end_time": "2019-01-22T08:24:55.944176Z",
     "start_time": "2019-01-22T08:24:55.934373Z"
    }
   },
   "outputs": [
    {
     "data": {
      "text/plain": [
       "['2018-12-10']"
      ]
     },
     "execution_count": 15,
     "metadata": {},
     "output_type": "execute_result"
    }
   ],
   "source": [
    "import time\n",
    "import datetime\n",
    "import traceback\n",
    "import pandas as pd\n",
    "from datetime import datetime as DT\n",
    "def cut_term(term, cut_day=1, format_str=\"%Y-%m-%d\"):\n",
    "        \"\"\"\n",
    "        计算周期获取，默认7天\n",
    "        \"\"\"\n",
    "        return [(DT.strptime(term, format_str) - datetime.timedelta(days=i)).strftime(format_str) for i in range(1, cut_day+1)]\n",
    "cut_term('2018-12-11')"
   ]
  },
  {
   "cell_type": "code",
   "execution_count": 9,
   "metadata": {
    "ExecuteTime": {
     "end_time": "2019-01-22T08:15:05.449910Z",
     "start_time": "2019-01-22T08:15:05.443724Z"
    }
   },
   "outputs": [
    {
     "name": "stdout",
     "output_type": "stream",
     "text": [
      "bingo\n",
      "['483658', '15811150464', '360200', '18056723268', '18511071359', '18518410320']\n"
     ]
    }
   ],
   "source": [
    "print('bingo')\n",
    "print(list(set([u'483658', u'360200', u'15811150464', u'18518410320', u'18056723268', u'18511071359'])))"
   ]
  },
  {
   "cell_type": "code",
   "execution_count": 14,
   "metadata": {
    "ExecuteTime": {
     "end_time": "2018-12-27T10:48:21.272366Z",
     "start_time": "2018-12-27T10:48:21.265202Z"
    }
   },
   "outputs": [
    {
     "data": {
      "text/plain": [
       "-5131.010000000002"
      ]
     },
     "execution_count": 14,
     "metadata": {},
     "output_type": "execute_result"
    }
   ],
   "source": [
    "(74456.59-19886.29-59701.31)"
   ]
  },
  {
   "cell_type": "code",
   "execution_count": 3,
   "metadata": {
    "ExecuteTime": {
     "end_time": "2018-12-25T09:14:28.087850Z",
     "start_time": "2018-12-25T09:14:28.077999Z"
    }
   },
   "outputs": [
    {
     "name": "stdout",
     "output_type": "stream",
     "text": [
      "18\n"
     ]
    },
    {
     "data": {
      "text/plain": [
       "18"
      ]
     },
     "execution_count": 3,
     "metadata": {},
     "output_type": "execute_result"
    }
   ],
   "source": [
    "from functools import partial\n",
    "\n",
    "# def my_callback_with_extended_args(ch, method, properties, body, host):\n",
    "#     print json.dumps(xmltodict.parse(body.replace(\">\\n\",\">\")))\n",
    "\n",
    "# channel.basic_consume(\n",
    "#   lambda ch, method, properties, body: my_callback_with_extended_args(ch, method, properties, body, host=\"objVCE.vBlock.getHost()\"),\n",
    "#   queue='AMQPEvents',\n",
    "# #   no_ack=True)\n",
    "\n",
    "def int_2(item, base=2):\n",
    "    return int(item,2)\n",
    "\n",
    "basetwo = partial(int, base=2)\n",
    "basetwo.__doc__ = 'Convert base 2 string to an int.'\n",
    "print(int_2('10010'))\n",
    "basetwo('10010')"
   ]
  },
  {
   "cell_type": "code",
   "execution_count": 176,
   "metadata": {},
   "outputs": [],
   "source": [
    "WORK_FLOW_CFG = {\n",
    "    # 联通统一窗口\n",
    "\n",
    "\n",
    "    # 开发\n",
    "\n",
    "\n",
    "    # 正在测试\n",
    "    (u'10010', u'11','123'): (\"{('1', '1', 'send_info_pwd'):{'next': ['get_login_sms'],'sys_op': [],'status': 8,'times': 0}, ('2', '1', 'get_login_sms'):{'next': ['send_login_sms'],'sys_op': [],'status': 1,'times': 0},('3', '1', 'send_login_sms'):{'next': ['get_verify_sms'],'sys_op': [],'status': 1,'times': 0}, ('4', '2', 'get_verify_sms'):{'next': ['send_verify_sms'],'sys_op': [],'status': 1,'times': 0},('5', '2', 'send_verify_sms'):{'next': ['finish'],'sys_op': [],'status': 1,'times': 0}}\"),\n",
    "    (u'10010',): (\"{('1', '1', 'send_info_pwd'):{'next': ['get_login_sms'],'sys_op': [],'status': 8,'times': 0}, ('2', '1', 'get_login_sms'):{'next': ['send_login_sms'],'sys_op': [],'status': 1,'times': 0},('3', '1', 'send_login_sms'):{'next': ['get_verify_sms'],'sys_op': [],'status': 1,'times': 0}, ('4', '2', 'get_verify_sms'):{'next': ['send_verify_sms'],'sys_op': [],'status': 1,'times': 0},('5', '2', 'send_verify_sms'):{'next': ['finish'],'sys_op': [],'status': 1,'times': 0}}\"),\n",
    "    (u'10086', u'32'): (\"{('1','1', 'send_info_pwd'): {'next': ['get_login_sms'],'sys_op': [],'status': 8,'times': 0}, ('2','1', 'get_login_sms'): {'next': ['send_login_sms'], 'sys_op': [],'status':1,'times':0},('3','1', 'send_login_sms'): {'next': ['get_verify_sms'], 'sys_op': [],'status':1,'times':0},('4','2', 'get_verify_sms'): {'next': ['send_verify_sms'], 'sys_op': [],'status':1,'times':0},('5','2', 'send_verify_sms'): {'next': ['finish'], 'sys_op': [],'status':1,'times':0}}\"),\n",
    "\n",
    "    # 未上线\n",
    "    (u'10086', u'43'): (\"{(1, 'send_info_pwd'): {'next': ['send_sms'],'sys_op': ['get_sms'],'status':8,'times':0},(2, 'send_sms'): {'next': ['send_sms'],'sys_op': ['get_sms'],'status':0,'times':0},(3, 'send_sms'): {'next': ['finish'], 'sys_op': [],'status':0,'times':0}}\"),\n",
    "    (u'10086', u'45'): (\"{(1, 'send_info_pwd'): {'next': ['send_sms'],'sys_op': ['get_sms'],'status':8,'times':0},(2, 'send_sms'): {'next': ['send_sms'],'sys_op': ['get_sms'],'status':0,'times':0},(3, 'send_sms'): {'next': ['finish'], 'sys_op': [],'status':0,'times':0}}\"),\n",
    "    # no crawler supported case\n",
    "    u'none': (u'none', None)\n",
    "}\n",
    "carrier = '10010'\n",
    "tel_province = '11'\n",
    "if (carrier, tel_province, '123') not in WORK_FLOW_CFG and (carrier) not in WORK_FLOW_CFG:\n",
    "    print(\"bingo\")"
   ]
  },
  {
   "cell_type": "code",
   "execution_count": 171,
   "metadata": {},
   "outputs": [
    {
     "name": "stdout",
     "output_type": "stream",
     "text": [
      "200\n",
      "<!DOCTYPE html><html><head><meta charset=\"UTF-8\"><meta http-equiv=\"X-UA-Compatible\" content=\"ie=edge\"><title>北京美团网-北京美食_酒店_旅游_团购_电影_吃喝玩乐</title><meta name=\"description\" content=\"北京美团网精选北京美食餐厅,酒店预订,电影票,旅游景点,外卖订餐,北京团购信息,您可查询商家评价店铺信息。北京生活,下载美团官方APP ,吃喝玩乐1折起。\"><meta name=\"keywords\" content=\"北京美食,北京酒店,北京团购\"><meta name=\"format-detection\" content=\"telephone=no\"><meta name=\"format-detection\" content=\"address=no\"><meta name=\"lx:category\" content=\"group\"><meta name=\"lx:cid\"><meta name=\"lx:appnm\" content=\"mtpc\"><meta name=\"lx:autopv\" content=\"off\"><link rel=\"dns-prefetch\" href=\"//analytics.meituan.net\"><link rel=\"dns-prefetch\" href=\"//analytics.meituan.net\"><link rel=\"dns-prefetch\" href=\"//www.meituan.com\"><link rel=\"dns-prefetch\" href=\"//s0.meituan.net\"><link rel=\"dns-prefetch\" href=\"//s1.meituan.net\"><link rel=\"dns-prefetch\" href=\"//p0.meituan.net\"><link rel=\"dns-prefetch\" href=\"//p1.meituan.net\"><link rel=\"stylesheet\" type=\"text/css\" href=\"//s0.meituan.net/bs/fe-web-meituan/076a786/css/main.css\"><link rel=\"stylesheet\" type=\"text/css\" href=\"//s1.meituan.net/bs/fe-web-meituan/2946ee4/css/errorPage.css\"><script src=\"//s0.meituan.net/bs/fe-web-meituan/e9d9492/js/es6-shim.js\"></script><script src=\"//s0.meituan.net/bs/fe-web-meituan/c2006ad/js/lazy-img.js\"></script><script src=\"//s1.meituan.net/bs/fe-web-meituan/e9d9492/js/fetch.js\"></script><script>!(function (win, doc, ns) {\n",
      "    var cacheFunName = '_MeiTuanALogObject';\n",
      "    win[cacheFunName] = ns;\n",
      "    if (!win[ns]) {\n",
      "        var _LX = function () {\n",
      "            _LX.q.push(arguments);\n",
      "            return _LX;\n",
      "        };\n",
      "        _LX.q = _LX.q || [];\n",
      "        _LX.l = +new Date();\n",
      "        win[ns] = _LX;\n",
      "    }\n",
      "})(window, document, 'LXAnalytics');\n",
      "var valLab = null;\n",
      "var environment = null;\n",
      "//- 补充pv事件信息\n",
      "LXAnalytics('pageView', valLab, environment);\n",
      ";(function(exports, undefined){\n",
      "    /**\n",
      "    * on\n",
      "    */\n",
      "    function on(el, type, fn){\n",
      "        if(!(el instanceof Node)) throw new TypeError('`element` must be a Element');\n",
      "        if(typeof type !== 'string') throw new TypeError('`type` must be a String');\n",
      "        if(typeof fn !== 'function') throw new TypeError('`handler` must be a Function');\n",
      "        return el.addEventListener(type, fn);\n",
      "    }\n",
      "    // bind dom ready\n",
      "    on(document, 'DOMContentLoaded', function(){\n",
      "        // @docs http://lx.docs.sankuai.com/web/#_4\n",
      "        on(document, 'click', function(e){\n",
      "            var el = e.target;\n",
      "            while(el) {\n",
      "                var bid = el.getAttribute('data-bid');\n",
      "                var lab = el.getAttribute('data-lab');\n",
      "                if(bid !== null){\n",
      "                    try {\n",
      "                        LXAnalytics('moduleClick', bid, JSON.parse(lab));\n",
      "                        break;\n",
      "                    } catch (e) {\n",
      "                        console.log(e)\n",
      "                    }\n",
      "                }\n",
      "                var el = el.parentElement;\n",
      "            }\n",
      "        });\n",
      "    });\n",
      "\n",
      "})(this);</script><script src=\"//analytics.meituan.net/analytics.js\" type=\"text/javascript\" charset=\"utf-8\" async defer></script><script>!function (e, t, n) {\n",
      "    function s() {\n",
      "        var e = t.createElement(\"script\");\n",
      "        e.async = !0, e.src = \"https://s0.meituan.net/bs/js/?f=mta-js:mta.min.js\";\n",
      "        var n = t.getElementsByTagName(\"script\")[0];\n",
      "        n.parentNode.insertBefore(e, n)\n",
      "    }\n",
      "\n",
      "    \"[object String]\" === Object.prototype.toString.call(n) && (n = [n]), e.MeituanAnalyticsObject = n;\n",
      "    for (var r = 0; r < n.length; r++)!function (t) {\n",
      "        e[t] = e[t] || function () {\n",
      "                    (e[t].q = e[t].q || []).push(arguments)\n",
      "                }\n",
      "    }(n[r]);\n",
      "    if (\"complete\" === t.readyState)s(); else {\n",
      "        var i = \"addEventListener\", a = \"attachEvent\";\n",
      "        if (e[i])e[i](\"load\", s, !1); else if (e[a])e[a](\"onload\", s); else {\n",
      "            var o = e.onload;\n",
      "            e.onload = function () {\n",
      "                s(), o && o()\n",
      "            }\n",
      "        }\n",
      "    }\n",
      "}(window, document, \"mta\"), function (e, t, n) {\n",
      "    if (t && !(\"_mta\" in t)) {\n",
      "        t._mta = !0;\n",
      "        var s = e.location.protocol;\n",
      "        if (\"file:\" !== s) {\n",
      "            var r = e.location.host, i = t.prototype.open;\n",
      "            t.prototype.open = function (t, n, a, o, l) {\n",
      "                if (this._method = \"string\" == typeof t ? t.toUpperCase() : null, n) {\n",
      "                    if (0 === n.indexOf(\"http://\") || 0 === n.indexOf(\"https://\") || 0 === n.indexOf(\"//\"))this._url = n; else if (0 === n.indexOf(\"/\"))this._url = s + \"//\" + r + n; else {\n",
      "                        var h = s + \"//\" + r + e.location.pathname;\n",
      "                        h = h.substring(0, h.lastIndexOf(\"/\") + 1), this._url = h + n\n",
      "                    }\n",
      "                    var u = this._url.indexOf(\"?\");\n",
      "                    -1 !== u ? (this._searchLength = this._url.length - 1 - u, this._url = this._url.substring(0, u)) : this._searchLength = 0\n",
      "                } else this._url = null, this._searchLength = 0;\n",
      "                return this._startTime = (new Date).getTime(), i.apply(this, arguments)\n",
      "            };\n",
      "            var a = \"onreadystatechange\", o = \"addEventListener\", l = t.prototype.send;\n",
      "            t.prototype.send = function (t) {\n",
      "                function n(n, r) {\n",
      "                    if (0 !== n._url.indexOf(s + \"//frep.meituan.net/_.gif\")) {\n",
      "                        for (var i = \"browser.ajax\", a = [98, 114, 111, 119, 115, 101, 114, 46, 97, 106, 97, 120], o = 0, l = i.length; l > o; o++)if (i.charCodeAt(o) !== a[o])return;\n",
      "                        var h;\n",
      "                        if (n.response)switch (n.responseType) {\n",
      "                            case\"json\":\n",
      "                                h = JSON && JSON.stringify(n.response).length;\n",
      "                                break;\n",
      "                            case\"blob\":\n",
      "                            case\"moz-blob\":\n",
      "                                h = n.response.size;\n",
      "                                break;\n",
      "                            case\"arraybuffer\":\n",
      "                                h = n.response.byteLength;\n",
      "                            case\"document\":\n",
      "                                h = n.response.documentElement && n.response.documentElement.innerHTML && n.response.documentElement.innerHTML.length + 28;\n",
      "                                break;\n",
      "                            default:\n",
      "                                h = n.response.length\n",
      "                        }\n",
      "                        e.mta(\"send\", i, {\n",
      "                            url: n._url,\n",
      "                            method: n._method,\n",
      "                            error: !(0 === n.status.toString().indexOf(\"2\") || 304 === n.status),\n",
      "                            responseTime: (new Date).getTime() - n._startTime,\n",
      "                            requestSize: n._searchLength + (t ? t.length : 0),\n",
      "                            responseSize: h || 0\n",
      "                        })\n",
      "                    }\n",
      "                }\n",
      "\n",
      "                if (o in this) {\n",
      "                    var r = function (e) {\n",
      "                        n(this, e)\n",
      "                    };\n",
      "                    this[o](\"load\", r), this[o](\"error\", r), this[o](\"abort\", r)\n",
      "                } else {\n",
      "                    var i = this[a];\n",
      "                    this[a] = function (t) {\n",
      "                        i && i.apply(this, arguments), 4 === this.readyState && e.mta && e.mta && n(this, t)\n",
      "                    }\n",
      "                }\n",
      "                return l.apply(this, arguments)\n",
      "            }\n",
      "        }\n",
      "    }\n",
      "}(window, window.XMLHttpRequest, \"mta\");\n",
      "//- 初始化项目\n",
      "mta(\"create\", '59918eb8616ab3217c7eeaf5');\n",
      "//- 推荐设置上报地址为 HTTPS 协议，以获得更高的数据准确性，默认会和页面协议一致\n",
      "mta(\"config\", \"beaconImage\", \"https://frep.meituan.net/_.gif\");\n",
      "\n",
      "//- 设置采样率\n",
      "mta('config', 'sampleRate', 20);\n",
      "\n",
      "//- 发送页面性能指标，包括 ttfb（首字节）、domReady（可交互）、load（完全加载）等\n",
      "mta(\"send\", \"page\");</script></head><body id=\"main\"><link rel=\"stylesheet\" type=\"text/css\" href=\"//s0.meituan.net/bs/fe-web-meituan/076a786/css/com_header.css\"><header class=\"com-header\"><div class=\"header-bar\"><div class=\"header-content clearfix\"><div class=\"header-bar-position\"><span class=\"header-icon icon-header_location\"></span><span class=\"current-city\">北京</span><a class=\"change-city\" href=\"https://www.meituan.com/changecity/\">切换城市</a><div class=\"near-citys\">[<a class=\"city-guess\" href=\"https://dachangzizhixian.meituan.com\">大厂回族自治县</a><a class=\"city-guess\" href=\"https://lf.meituan.com\">廊坊</a><a class=\"city-guess\" href=\"https://guanxian.meituan.com\">固安县</a>]</div><div class=\"user-entry\"><a class=\"growth-entry user-importent\">立即登录</a><a class=\"extra-entry\">注册</a></div></div><nav class=\"header-bar-nav\"><ul class=\"header-nav-first\"><li class=\"has-child\"><a rel=\"nofollow\" href=\"https://www.meituan.com/account/userinfo/\" target=\"_blank\">我的美团<ul class=\"header-nav-my header-nav-second\"><li><a rel=\"nofollow\" href=\"https://www.meituan.com/orders/\" target=\"_blank\">我的订单</a></li><li><a rel=\"nofollow\" href=\"https://www.meituan.com/collections/\" target=\"_blank\">我的收藏</a></li><li><a rel=\"nofollow\" href=\"https://www.meituan.com/vouchers/\" target=\"_blank\">抵用券</a></li><li><a rel=\"nofollow\" href=\"https://www.meituan.com/account/settings\" target=\"_blank\">账户设置</a></li></ul></a></li><li><a href=\"https://i.meituan.com/mobile/down/meituan\" target=\"_blank\">手机APP</a></li><li class=\"has-child\">商家中心<ul class=\"header-nav-merchant header-nav-second\"><li><a rel=\"nofollow\" href=\"https://e.meituan.com/\" target=\"_blank\">登录商家中心</a></li><li><a rel=\"nofollow\" href=\"https://shouyin.meituan.com?utm_source=inner&amp;utm_medium=mtpcsjzx\">美团智能收银</a></li><li><a rel=\"nofollow\" href=\"https://ecom.meituan.com/bizsettle/settle/merchantsSettle?utm_source=mt_C_my\" target=\"_blank\">我想合作</a></li><li><a rel=\"nofollow\" href=\"https://e.meituan.com/mobile/\" target=\"_blank\">手机免费开店</a></li><li><a rel=\"nofollow\" href=\"https://daili.meituan.com/?comeFrom=mtwebMenu\" target=\"_blank\">餐饮代理商招募</a></li><li><a href=\"https://pc.meituan.com?activity_code=mtpcdh\" target=\"_blank\">商家申请开票</a></li><li><a href=\"https://paidui.meituan.com/?activity_code=168_00038141\" target=\"_blank\">免费合作美团排队</a></li></ul></li><li class=\"has-child\">网站导航<div class=\"header-nav-site header-nav-second\"><dl class=\"header-jiulv header-nav-third\"><dt>酒店旅游</dt><dd><a href=\"https://www.meituan.com/iflight/\" target=\"_blank\">国际机票</a></dd><dd><a href=\"https://www.meituan.com/train/\" target=\"_blank\">火车票</a></dd><dd><a href=\"https://phoenix.meituan.com/\" target=\"_blank\">榛果民宿</a></dd><dd><a href=\"https://hotel.meituan.com/beijing/c20036/\" target=\"_blank\">经济型酒店</a></dd><dd><a href=\"https://hotel.meituan.com/beijing/c20037/\" target=\"_blank\">主题酒店</a></dd><dd><a href=\"https://hotel.meituan.com/beijing/c20038/\" target=\"_blank\">商务酒店</a></dd><dd><a href=\"https://hotel.meituan.com/beijing/c20039/\" target=\"_blank\">公寓</a></dd><dd><a href=\"https://hotel.meituan.com/beijing/c20040/\" target=\"_blank\">豪华酒店</a></dd><dd><a href=\"https://hotel.meituan.com/beijing/c20041/\" target=\"_blank\">客栈</a></dd><dd><a href=\"https://hotel.meituan.com/beijing/c20042/\" target=\"_blank\">青年旅社</a></dd><dd><a href=\"https://hotel.meituan.com/beijing/c20043/\" target=\"_blank\">度假酒店</a></dd><dd><a href=\"https://hotel.meituan.com/beijing/c20044/\" target=\"_blank\">别墅</a></dd><dd><a href=\"https://hotel.meituan.com/beijing/c20045/\" target=\"_blank\">农家院</a></dd></dl><dl class=\"header-meishi header-nav-third\"><dt>吃美食</dt><dd><a href=\"https://bj.meituan.com/meishi/c20004/\" target=\"_blank\">烤鱼</a></dd><dd><a href=\"https://bj.meituan.com/meishi/c36/\" target=\"_blank\">特色小吃</a></dd><dd><a href=\"https://bj.meituan.com/meishi/c54/\" target=\"_blank\">烧烤</a></dd><dd><a href=\"https://bj.meituan.com/meishi/c40/\" target=\"_blank\">自助餐</a></dd><dd><a href=\"https://bj.meituan.com/meishi/c17/\" target=\"_blank\">火锅</a></dd><dd><a href=\"https://bj.meituan.com/meishi/c393/\" target=\"_blank\">代金券</a></dd></dl><dl class=\"header-movie header-nav-third\"><dt>看电影</dt><dd><a href=\"https://maoyan.com/films\" target=\"_blank\">热映电影</a></dd><dd><a href=\"https://maoyan.com/cinemas\" target=\"_blank\">热门影院</a></dd><dd><a href=\"https://maoyan.com/board\" target=\"_blank\">热映电影口碑榜</a></dd><dd><a href=\"https://maoyan.com/board/6\" target=\"_blank\">最受期待电影</a></dd><dd><a href=\"https://maoyan.com/board/1\" target=\"_blank\">国内票房榜</a></dd><dd><a href=\"https://maoyan.com/board/2\" target=\"_blank\">北美票房榜</a></dd><dd><a href=\"https://maoyan.com/board/4\" target=\"_blank\">电影排行榜</a></dd></dl><dl class=\"header-app header-nav-third\"><dt>手机应用</dt><dd><a href=\"https://i.meituan.com/mobile/down/meituan\" target=\"_blank\"><img class=\"appicon\" src=\"//s0.meituan.net/bs/fe-web-meituan/e5eeaef/img/appicons/meituan.png\" title=\"美团app\" alt=\"美团app\"></a></dd><dd><a href=\"https://waimai.meituan.com/mobile/download/default\" target=\"_blank\"><img class=\"appicon\" src=\"//s1.meituan.net/bs/fe-web-meituan/404d350/img/appicons/waimai.png\" title=\"外卖app\" alt=\"外卖app\"></a></dd><dd><a href=\"https://phoenix.meituan.com/app/\" target=\"_blank\"><img class=\"appicon\" src=\"//s0.meituan.net/bs/fe-web-meituan/404d350/img/appicons/zhenguo.png\" title=\"榛果app\" alt=\"榛果app\"></a></dd><dd><a href=\"https://www.dianping.com/events/m/index.htm\" target=\"_blank\"><img class=\"appicon\" src=\"//s1.meituan.net/bs/fe-web-meituan/404d350/img/appicons/dianping.png\" title=\"点评app\" alt=\"点评app\"></a></dd><dd><a href=\"https://maoyan.com/app\" target=\"_blank\"><img class=\"appicon\" src=\"//s1.meituan.net/bs/fe-web-meituan/404d350/img/appicons/maoyan.png\" title=\"猫眼app\" alt=\"猫眼app\"></a></dd></dl></div></li></ul></nav></div></div><div class=\"header-content clearfix\"><div class=\"header-title-module\"><div class=\"header-title\"><a href=\"//bj.meituan.com\"><img src=\"//s0.meituan.net/bs/fe-web-meituan/e5eeaef/img/logo.png\" alt=\"美团\"></a></div></div><div class=\"header-search-module\"><div class=\"header-search-block\"><input class=\"header-search-input\" type=\"text\" placeholder=\"搜索商家或地点\"><button class=\"header-search-btn\"><span class=\"header-icon icon-search\"></span></button></div><div class=\"header-search-suggest\"><div class=\"header-search-noinput\"><div class=\"header-search-history\"><h6>最近搜索</h6><span class=\"header-search-clean\">删除搜索历史</span><ul></ul></div><h6>热门搜索</h6><div class=\"header-search-hotword\"><a href=\"https://www.meituan.com/s/%E5%8C%97%E4%BA%AC%E6%95%85%E5%AE%AB%E5%8D%9A%E7%89%A9%E9%99%A2\">北京故宫博物院</a><a href=\"https://www.meituan.com/s/%E5%B0%9A%E9%9A%90%C2%B7%E6%B3%89%E9%83%BD%E5%B8%82%E7%94%9F%E6%B4%BB%E9%A6%86\">尚隐·泉都市生活馆</a><a href=\"https://www.meituan.com/s/%E6%95%85%E5%AE%AB%E7%8F%8D%E5%AE%9D%E9%A6%86\">故宫珍宝馆</a><a href=\"https://www.meituan.com/s/%E5%8C%97%E4%BA%AC%E6%AC%A2%E4%B9%90%E8%B0%B7\">北京欢乐谷</a><a href=\"https://www.meituan.com/s/%E9%9D%99%E4%B9%8B%E6%B9%96%E6%BB%91%E9%9B%AA%E5%9C%BA\">静之湖滑雪场</a><a href=\"https://www.meituan.com/s/%E5%8C%97%E4%BA%AC%E8%BF%9E%E5%8D%87%E5%95%86%E5%8A%A1%E9%85%92%E5%BA%97\">北京连升商务酒店</a><a href=\"https://www.meituan.com/s/%E6%80%80%E5%8C%97%E5%9B%BD%E9%99%85%E6%BB%91%E9%9B%AA%E5%9C%BA\">怀北国际滑雪场</a><a href=\"https://www.meituan.com/s/%E9%80%9F8%E9%85%92%E5%BA%97\">速8酒店</a></div></div><div class=\"header-search-hasinput\"><ul></ul></div></div><div class=\"header-search-hotword\"><a href=\"https://www.meituan.com/s/%E5%8C%97%E4%BA%AC%E6%95%85%E5%AE%AB%E5%8D%9A%E7%89%A9%E9%99%A2\">北京故宫博物院</a><a href=\"https://www.meituan.com/s/%E5%B0%9A%E9%9A%90%C2%B7%E6%B3%89%E9%83%BD%E5%B8%82%E7%94%9F%E6%B4%BB%E9%A6%86\">尚隐·泉都市生活馆</a><a href=\"https://www.meituan.com/s/%E6%95%85%E5%AE%AB%E7%8F%8D%E5%AE%9D%E9%A6%86\">故宫珍宝馆</a><a href=\"https://www.meituan.com/s/%E5%8C%97%E4%BA%AC%E6%AC%A2%E4%B9%90%E8%B0%B7\">北京欢乐谷</a><a href=\"https://www.meituan.com/s/%E9%9D%99%E4%B9%8B%E6%B9%96%E6%BB%91%E9%9B%AA%E5%9C%BA\">静之湖滑雪场</a><a href=\"https://www.meituan.com/s/%E5%8C%97%E4%BA%AC%E8%BF%9E%E5%8D%87%E5%95%86%E5%8A%A1%E9%85%92%E5%BA%97\">北京连升商务酒店</a><a href=\"https://www.meituan.com/s/%E6%80%80%E5%8C%97%E5%9B%BD%E9%99%85%E6%BB%91%E9%9B%AA%E5%9C%BA\">怀北国际滑雪场</a><a href=\"https://www.meituan.com/s/%E9%80%9F8%E9%85%92%E5%BA%97\">速8酒店</a></div></div></div></header><script>window.comPtData = window.comPtData || {};\n",
      "window.comPtData['header'] = {\"currentCity\":{\"id\":1,\"name\":\"北京\",\"pinyin\":\"beijing\",\"acronym\":\"bj\",\"lng\":39.9098,\"lat\":116.370609}}</script><script src=\"//s0.meituan.net/bs/fe-web-meituan/f2c6837/js/com_header.js\" defer></script>\n",
      "      <div id=\"react\"><div class=\"error-container clearfix\" data-reactroot=\"\"><div class=\"error-img\"><img src=\"//s1.meituan.net/bs/fe-web-meituan/687629f/img/not-found.png\" alt=\"\"/></div><p class=\"error-word\">抱歉，页面暂时无法访问... </p><p class=\"error-msg\">错误信息:<!-- -->服务器拒绝请求</p><a class=\"back-to-home\" href=\"https://www.meituan.com\">返回美团首页</a></div></div>\n",
      "      <script>window.AppData = {\"errorMsg\":\"403\",\"$config\":{\"mta\":{\"token\":\"59918eb8616ab3217c7eeaf5\",\"sampleRate\":20},\"host\":{\"meituan\":\"meituan.com\",\"www\":\"www.meituan.com\"},\"settingsAPI\":\"https:\\u002F\\u002Fopen.meituan.com\\u002F\",\"configData\":{\"perf\":true},\"buildservice\":{\"name\":\"fe-web-meituan\",\"root\":\"\\u002Fopt\\u002Fmeituan\\u002Fweb_meituan\",\"pipe\":{},\"host\":\"\",\"norm\":\"II\",\"mode\":\"git\",\"hash\":{\"css\\u002FantiFraud.css\":\"e87daa6\",\"css\\u002Fbranch.css\":\"e5eeaef\",\"css\\u002Fbrand.css\":\"076a786\",\"css\\u002FchangeRefund.css\":\"e87daa6\",\"css\\u002FcheckKey.css\":\"e87daa6\",\"css\\u002FcityList.css\":\"9efc639\",\"css\\u002Fcollections.css\":\"e5eeaef\",\"css\\u002Fcom_footer.css\":\"ab0d275\",\"css\\u002Fcom_header.css\":\"076a786\",\"css\\u002FcommentDetail.css\":\"e5eeaef\",\"css\\u002FcommentList.css\":\"e5eeaef\",\"css\\u002FcommonProblem.css\":\"e87daa6\",\"css\\u002Fdrawback.css\":\"e87daa6\",\"css\\u002FerrorPage.css\":\"2946ee4\",\"css\\u002FfoodSafe.css\":\"0a9bb10\",\"css\\u002Findex.css\":\"076a786\",\"css\\u002FlawDeclare.css\":\"e87daa6\",\"css\\u002Flist.css\":\"e5eeaef\",\"css\\u002Fmain.css\":\"076a786\",\"css\\u002FmtPromise.css\":\"e87daa6\",\"css\\u002Fopeninfo.css\":\"34aeb91\",\"css\\u002Forders.css\":\"e5eeaef\",\"css\\u002FphotoDetail.css\":\"e5eeaef\",\"css\\u002FphotoList.css\":\"e5eeaef\",\"css\\u002Fpoi.css\":\"e5eeaef\",\"css\\u002Fprivacy.css\":\"68cdba1\",\"css\\u002Fsearch.css\":\"e5eeaef\",\"css\\u002FserviceAgree.css\":\"e87daa6\",\"css\\u002Fsettings.css\":\"2946ee4\",\"css\\u002FshopGuarantee.css\":\"e87daa6\",\"css\\u002FstaticPage.css\":\"ad8a96a\",\"css\\u002FuserAgree.css\":\"26a1275\",\"css\\u002Fuserexinfo.css\":\"e5eeaef\",\"css\\u002Fvouchers.css\":\"2946ee4\",\"favicon.ico\":\"94bb50d\",\"font\\u002FMFShangHei-Regular-embed.css\":\"c19c6e9\",\"font\\u002FMFShangHei-Regular.css\":\"c19c6e9\",\"font\\u002FMFShangHei-Regular.eot\":\"c19c6e9\",\"font\\u002FMFShangHei-Regular.svg\":\"c19c6e9\",\"font\\u002FMFShangHei-Regular.ttf\":\"c19c6e9\",\"font\\u002FMFShangHei-Regular.woff\":\"c19c6e9\",\"font\\u002Fcol-iconfont.eot\":\"5dea7ab\",\"font\\u002Fcol-iconfont.svg\":\"5dea7ab\",\"font\\u002Fcol-iconfont.ttf\":\"5dea7ab\",\"font\\u002Fcol-iconfont.woff\":\"5dea7ab\",\"font\\u002Fheader.eot\":\"08a7466\",\"font\\u002Fheader.svg\":\"08a7466\",\"font\\u002Fheader.ttf\":\"08a7466\",\"font\\u002Fheader.woff\":\"08a7466\",\"font\\u002Fhigh-quality.eot\":\"866346d\",\"font\\u002Fhigh-quality.svg\":\"866346d\",\"font\\u002Fhigh-quality.ttf\":\"866346d\",\"font\\u002Fhigh-quality.woff\":\"866346d\",\"font\\u002Fhome-category-iconfont.eot\":\"956dea6\",\"font\\u002Fhome-category-iconfont.svg\":\"956dea6\",\"font\\u002Fhome-category-iconfont.ttf\":\"956dea6\",\"font\\u002Fhome-category-iconfont.woff\":\"956dea6\",\"font\\u002Ficon-userinfo.eot\":\"73d802b\",\"font\\u002Ficon-userinfo.svg\":\"73d802b\",\"font\\u002Ficon-userinfo.ttf\":\"73d802b\",\"font\\u002Ficon-userinfo.woff\":\"73d802b\",\"font\\u002Ficonfont.eot\":\"47fe893\",\"font\\u002Ficonfont.svg\":\"47fe893\",\"font\\u002Ficonfont.ttf\":\"47fe893\",\"font\\u002Ficonfont.woff\":\"47fe893\",\"font\\u002Fnumbers.eot\":\"1ecadbb\",\"font\\u002Fnumbers.svg\":\"1ecadbb\",\"font\\u002Fnumbers.ttf\":\"1ecadbb\",\"font\\u002Fnumbers.woff\":\"1ecadbb\",\"font\\u002Fquote.eot\":\"9ca927a\",\"font\\u002Fquote.svg\":\"9ca927a\",\"font\\u002Fquote.ttf\":\"9ca927a\",\"font\\u002Fquote.woff\":\"9ca927a\",\"img\\u002F3d.png\":\"9d1997a\",\"img\\u002Falbum-placeholder.png\":\"ad33c1f\",\"img\\u002Fappicons\\u002Fdianping.png\":\"404d350\",\"img\\u002Fappicons\\u002Fmaoyan.png\":\"404d350\",\"img\\u002Fappicons\\u002Fmeituan.png\":\"e5eeaef\",\"img\\u002Fappicons\\u002Fwaimai.png\":\"404d350\",\"img\\u002Fappicons\\u002Fzhenguo.png\":\"404d350\",\"img\\u002Favatar.jpg\":\"2d05c2b\",\"img\\u002Fbanner\\u002F1.2.jpg\":\"457b102\",\"img\\u002Fbanner\\u002F1.3.jpg\":\"457b102\",\"img\\u002Fbanner\\u002F1.4.jpg\":\"457b102\",\"img\\u002Fbanner\\u002F1.5.jpg\":\"fe1a2fc\",\"img\\u002Fbanner\\u002F1.jpg\":\"457b102\",\"img\\u002Fbanner\\u002F2.jpg\":\"457b102\",\"img\\u002Fbanner\\u002F3.jpg\":\"a3ad3db\",\"img\\u002Fbanner\\u002F4.jpg\":\"a3ad3db\",\"img\\u002Fbanner\\u002F5.jpg\":\"457b102\",\"img\\u002Fbanner\\u002F6.jpg\":\"94bb50d\",\"img\\u002Fbanner\\u002F7.png\":\"4a8f333\",\"img\\u002Fcomment-close-icon.cur\":\"7d832c1\",\"img\\u002Fcomment-close-icon.png\":\"61194eb\",\"img\\u002Fdownload-qr.png\":\"60ac9a0\",\"img\\u002Fexpiring-label.png\":\"5dea7ab\",\"img\\u002Fform\\u002Fclose.png\":\"64a089b\",\"img\\u002Fform\\u002Ffail-ico.png\":\"64a089b\",\"img\\u002Fform\\u002Fsucc-ico.png\":\"64a089b\",\"img\\u002Fhead-img.png\":\"e3064a3\",\"img\\u002Ficon-right.png\":\"d7abfe4\",\"img\\u002Ficons\\u002F16pt_16pt\\u002Fcheckbox_checked.png\":\"8e9f7b4\",\"img\\u002Ficons\\u002F16pt_16pt\\u002Fcheckbox_unchecked.png\":\"8e9f7b4\",\"img\\u002Ficons\\u002F16pt_16pt\\u002Flocation_colour.png\":\"8e9f7b4\",\"img\\u002Ficons\\u002F16pt_16pt\\u002Ftuan_icon.png\":\"8e9f7b4\",\"img\\u002Ficons\\u002F24pt_24pt\\u002Fcollect_icon.png\":\"8e9f7b4\",\"img\\u002Ficons\\u002F24pt_24pt\\u002Fcomment_icon.png\":\"8e9f7b4\",\"img\\u002Ficons\\u002F24pt_24pt\\u002Flike_colour.png\":\"8e9f7b4\",\"img\\u002Ficons\\u002F24pt_24pt\\u002Flike_gray.png\":\"8e9f7b4\",\"img\\u002Ficons\\u002F24pt_24pt\\u002Fsafe_icon.png\":\"8e9f7b4\",\"img\\u002Ficons\\u002F24pt_24pt\\u002Fweixin_icon.png\":\"8e9f7b4\",\"img\\u002Ficons\\u002F32pt_32pt\\u002Fbestcollection_icon@2x.png\":\"8e9f7b4\",\"img\\u002Ficons\\u002F32pt_32pt\\u002Fmonthlysale_icon@2x.png\":\"8e9f7b4\",\"img\\u002Ficons\\u002F32pt_32pt\\u002Foutdooor_icon@2x.png\":\"8e9f7b4\",\"img\\u002Ficons\\u002F32pt_32pt\\u002Fparking_icon@2x.png\":\"8e9f7b4\",\"img\\u002Ficons\\u002F32pt_32pt\\u002Fwifi_icon@2x.png\":\"8e9f7b4\",\"img\\u002Fimax.png\":\"25e6614\",\"img\\u002Fimax3d.png\":\"25e6614\",\"img\\u002Fleft-arrow.cur\":\"7d832c1\",\"img\\u002Fleft-arrow.png\":\"61194eb\",\"img\\u002Flevel\\u002Flevel_1.svg\":\"18645be\",\"img\\u002Flevel\\u002Flevel_2.svg\":\"18645be\",\"img\\u002Flevel\\u002Flevel_3.svg\":\"18645be\",\"img\\u002Flevel\\u002Flevel_4.svg\":\"18645be\",\"img\\u002Flevel\\u002Flevel_5.svg\":\"18645be\",\"img\\u002Flevel\\u002Flevel_6.svg\":\"18645be\",\"img\\u002Flevel\\u002Flevel_7.svg\":\"18645be\",\"img\\u002Flevel\\u002Flevel_8.svg\":\"18645be\",\"img\\u002Flocation_orange.png\":\"b96527f\",\"img\\u002Flocation_red.png\":\"b96527f\",\"img\\u002Flogo.png\":\"e5eeaef\",\"img\\u002Fnext.png\":\"029e5e0\",\"img\\u002Fnot-found.png\":\"687629f\",\"img\\u002Fright-arrow.cur\":\"7d832c1\",\"img\\u002Fright-arrow.png\":\"61194eb\",\"img\\u002Fsprites\\u002F16pt.png\":\"1afb193\",\"img\\u002Fsprites\\u002F24pt.png\":\"1afb193\",\"img\\u002Fsprites\\u002F32pt.png\":\"1afb193\",\"img\\u002Fsprites\\u002Ffooter.png\":\"26b8ec1\",\"img\\u002Fterms\\u002Fhonesty\\u002Fhonesty1.png\":\"d50d29c\",\"img\\u002Fterms\\u002Fhonesty\\u002Fhonesty2.jpg\":\"d50d29c\",\"img\\u002Fterms\\u002Fhonesty\\u002Fhonesty3.png\":\"d50d29c\",\"img\\u002Fterms\\u002Fhonesty\\u002Fhonesty4.png\":\"d50d29c\",\"img\\u002Fticket_silver.png\":\"34e713f\",\"js\\u002FantiFraud.js\":\"076a786\",\"js\\u002Fbranch.js\":\"f2c6837\",\"js\\u002Fbrand.js\":\"16ff9e0\",\"js\\u002FchangeRefund.js\":\"34aeb91\",\"js\\u002FcheckKey.js\":\"34aeb91\",\"js\\u002FcityList.js\":\"f2c6837\",\"js\\u002Fcollections.js\":\"076a786\",\"js\\u002Fcom_footer.js\":\"34aeb91\",\"js\\u002Fcom_header.js\":\"f2c6837\",\"js\\u002FcommentDetail.js\":\"f2c6837\",\"js\\u002FcommentList.js\":\"f2c6837\",\"js\\u002Fcommon.js\":\"34aeb91\",\"js\\u002FcommonProblem.js\":\"076a786\",\"js\\u002Fdom4.js\":\"d138b07\",\"js\\u002Fdrawback.js\":\"34aeb91\",\"js\\u002FerrorPage.js\":\"076a786\",\"js\\u002Fes5-sham.js\":\"d138b07\",\"js\\u002Fes5-shim.js\":\"759e638\",\"js\\u002Fes6-sham.js\":\"b34f79f\",\"js\\u002Fes6-shim.js\":\"e9d9492\",\"js\\u002Ffetch.js\":\"e9d9492\",\"js\\u002FfoodSafe.js\":\"34aeb91\",\"js\\u002Fie-shim.js\":\"7845e34\",\"js\\u002Fie8.js\":\"d138b07\",\"js\\u002Findex.js\":\"f2c6837\",\"js\\u002FlawDeclare.js\":\"34aeb91\",\"js\\u002Flazy-img.js\":\"c2006ad\",\"js\\u002Flist.js\":\"b7bad41\",\"js\\u002FmtPromise.js\":\"16ff9e0\",\"js\\u002Fopeninfo.js\":\"34aeb91\",\"js\\u002Forders.js\":\"076a786\",\"js\\u002FphotoDetail.js\":\"f2c6837\",\"js\\u002FphotoList.js\":\"f2c6837\",\"js\\u002Fpoi.js\":\"059f6e4\",\"js\\u002Fprivacy.js\":\"beb507c\",\"js\\u002Fpromise.js\":\"d138b07\",\"js\\u002Freact-dom.js\":\"d4913f8\",\"js\\u002Freact.js\":\"d4913f8\",\"js\\u002Fsearch.js\":\"b7bad41\",\"js\\u002FserviceAgree.js\":\"34aeb91\",\"js\\u002Fsettings.js\":\"076a786\",\"js\\u002FshopGuarantee.js\":\"16ff9e0\",\"js\\u002FstaticPage.js\":\"8af1233\",\"js\\u002Ftypedarray.js\":\"336c333\",\"js\\u002FuserAgree.js\":\"3ee51e2\",\"js\\u002Fuserexinfo.js\":\"f55289a\",\"js\\u002Fvouchers.js\":\"076a786\"},\"base\":\"static\"}}};</script>\n",
      "      \n",
      "        <!-- JS_DEPS_BEGIN -->\n",
      "        <!-- JS_DEPS_REACT_BEGIN -->\n",
      "        <script src=\"//s1.meituan.net/bs/fe-web-meituan/d4913f8/js/react.js\" ></script>\n",
      "        <script src=\"//s1.meituan.net/bs/fe-web-meituan/d4913f8/js/react-dom.js\" ></script>\n",
      "        <!-- JS_DEPS_REACT_END -->\n",
      "        <script src=\"//s0.meituan.net/bs/fe-web-meituan/34aeb91/js/common.js\" ></script>\n",
      "        <script src=\"//s1.meituan.net/bs/fe-web-meituan/076a786/js/errorPage.js\" ></script>\n",
      "        <!-- JS_DEPS_END -->\n",
      "        <!-- JS_APP_BOOTSTRAP_BEGIN -->\n",
      "        <script>\n",
      "        ;(function(){\n",
      "          try {\n",
      "            var app = document.getElementById('react');\n",
      "            if('default' in App) App = App[ 'default' ];\n",
      "            // https://facebook.github.io/react/docs/react-dom.html#hydrate\n",
      "            (ReactDOM.hydrate || ReactDOM.render)(\n",
      "              React.createElement(App, window.AppData), app\n",
      "            );\n",
      "          } catch (e) {\n",
      "            console.error('[Turbo#React] ', e);\n",
      "          }\n",
      "        })(this);</script>\n",
      "        <!-- JS_APP_BOOTSTRAP_END --><nav class=\"botton-nav\"><div class=\"title\">美团导航</div><dl class=\"b-n-content\"><div class=\"b-n-classification\"><dt class=\"b-n-subtitle\">热门城市</dt><div class=\"b-n-sublist\"><dd class=\"b-n-list-item\"><a href=\"https://nn.meituan.com\" title=\"南宁\" target=\"_blank\">南宁</a></dd><dd class=\"b-n-list-item\"><a href=\"https://cd.meituan.com\" title=\"成都\" target=\"_blank\">成都</a></dd><dd class=\"b-n-list-item\"><a href=\"https://sh.meituan.com\" title=\"上海\" target=\"_blank\">上海</a></dd><dd class=\"b-n-list-item\"><a href=\"https://bj.meituan.com\" title=\"北京\" target=\"_blank\">北京</a></dd><dd class=\"b-n-list-item\"><a href=\"https://hz.meituan.com\" title=\"杭州\" target=\"_blank\">杭州</a></dd><dd class=\"b-n-list-item\"><a href=\"https://wz.meituan.com\" title=\"温州\" target=\"_blank\">温州</a></dd><dd class=\"b-n-list-item\"><a href=\"https://km.meituan.com\" title=\"昆明\" target=\"_blank\">昆明</a></dd><dd class=\"b-n-list-item\"><a href=\"https://ty.meituan.com\" title=\"太原\" target=\"_blank\">太原</a></dd><dd class=\"b-n-list-item\"><a href=\"https://jn.meituan.com\" title=\"济南\" target=\"_blank\">济南</a></dd><dd class=\"b-n-list-item\"><a href=\"https://sjz.meituan.com\" title=\"石家庄\" target=\"_blank\">石家庄</a></dd><dd class=\"b-n-list-item\"><a href=\"https://fz.meituan.com\" title=\"福州\" target=\"_blank\">福州</a></dd><dd class=\"b-n-list-item\"><a href=\"https://hrb.meituan.com\" title=\"哈尔滨\" target=\"_blank\">哈尔滨</a></dd><dd class=\"b-n-list-item\"><a href=\"https://dl.meituan.com\" title=\"大连\" target=\"_blank\">大连</a></dd><dd class=\"b-n-list-item\"><a href=\"https://xm.meituan.com\" title=\"厦门\" target=\"_blank\">厦门</a></dd><dd class=\"b-n-list-item\"><a href=\"https://gz.meituan.com\" title=\"广州\" target=\"_blank\">广州</a></dd><dd class=\"b-n-list-item\"><a href=\"https://dg.meituan.com\" title=\"东莞\" target=\"_blank\">东莞</a></dd><dd class=\"b-n-list-item\"><a href=\"https://qd.meituan.com\" title=\"青岛\" target=\"_blank\">青岛</a></dd><dd class=\"b-n-list-item\"><a href=\"https://sz.meituan.com\" title=\"深圳\" target=\"_blank\">深圳</a></dd><dd class=\"b-n-list-item\"><a href=\"https://tj.meituan.com\" title=\"天津\" target=\"_blank\">天津</a></dd><dd class=\"b-n-list-item\"><a href=\"https://chs.meituan.com\" title=\"长沙\" target=\"_blank\">长沙</a></dd></div></div><div class=\"b-n-classification\"><dt class=\"b-n-subtitle\">热门分类</dt><div class=\"b-n-sublist\"><dd class=\"b-n-list-item\"><a href=\"//hotel.meituan.com\" title=\"酒店\" target=\"_blank\">酒店<span class=\"nav-promotion\">HOT</span></a></dd><dd class=\"b-n-list-item\"><a href=\"https://bj.meituan.com/meishi/\" title=\"美食\" target=\"_blank\">美食</a></dd><dd class=\"b-n-list-item\"><a href=\"https://bj.meituan.com/xiuxianyule/\" title=\"休闲娱乐\" target=\"_blank\">休闲娱乐</a></dd><dd class=\"b-n-list-item\"><a href=\"https://bj.meituan.com/yundongjianshen/\" title=\"运动健身\" target=\"_blank\">运动健身</a></dd><dd class=\"b-n-list-item\"><a href=\"https://bj.meituan.com/shenghuo/\" title=\"生活服务\" target=\"_blank\">生活服务</a></dd><dd class=\"b-n-list-item\"><a href=\"https://bj.meituan.com/shangmenfuwu/\" title=\"上门服务\" target=\"_blank\">上门服务</a></dd><dd class=\"b-n-list-item\"><a href=\"https://bj.meituan.com/wanggou/\" title=\"购物\" target=\"_blank\">购物</a></dd><dd class=\"b-n-list-item\"><a href=\"https://bj.meituan.com/shishanggou/\" title=\"时尚购\" target=\"_blank\">时尚购</a></dd><dd class=\"b-n-list-item\"><a href=\"https://bj.meituan.com/bendigouwu/\" title=\"本地购物\" target=\"_blank\">本地购物</a></dd><dd class=\"b-n-list-item\"><a href=\"https://bj.meituan.com/jiehun/\" title=\"结婚\" target=\"_blank\">结婚</a></dd><dd class=\"b-n-list-item\"><a href=\"https://bj.meituan.com/sheyingxiezhen/\" title=\"摄影写真\" target=\"_blank\">摄影写真</a></dd><dd class=\"b-n-list-item\"><a href=\"https://bj.meituan.com/yanhui/\" title=\"宴会\" target=\"_blank\">宴会</a></dd><dd class=\"b-n-list-item\"><a href=\"https://bj.meituan.com/jiankangliren/\" title=\"丽人\" target=\"_blank\">丽人</a></dd><dd class=\"b-n-list-item\"><a href=\"https://bj.meituan.com/qinzi/\" title=\"母婴亲子\" target=\"_blank\">母婴亲子</a></dd><dd class=\"b-n-list-item\"><a href=\"https://bj.meituan.com/xuexipeixun/\" title=\"学习培训\" target=\"_blank\">学习培训</a></dd><dd class=\"b-n-list-item\"><a href=\"https://bj.meituan.com/jiazhuang/\" title=\"家装\" target=\"_blank\">家装</a></dd><dd class=\"b-n-list-item\"><a href=\"https://bj.meituan.com/aiche/\" title=\"汽车服务\" target=\"_blank\">汽车服务</a></dd><dd class=\"b-n-list-item\"><a href=\"https://bj.meituan.com/yiliao/\" title=\"医疗\" target=\"_blank\">医疗</a></dd><dd class=\"b-n-list-item\"><a href=\"https://bj.meituan.com/chongwu/\" title=\"宠物\" target=\"_blank\">宠物</a></dd></div></div></dl></nav><link rel=\"stylesheet\" type=\"text/css\" href=\"//s0.meituan.net/bs/fe-web-meituan/ab0d275/css/com_footer.css\"><footer class=\"com-footer\"><div class=\"footer-content\"><div class=\"footer-link clearfix\"><div class=\"footer-column\"><dl><dt>用户帮助</dt><dd><a rel=\"nofollow\" href=\"http://www.meituan.com/help/selfservice\" target=\"_blank\">申请退款</a></dd><dd><a rel=\"nofollow\" href=\"http://www.meituan.com/help/selfservice?tab=2\" target=\"_blank\">查看美团券密码</a></dd><dd><a rel=\"nofollow\" href=\"http://www.meituan.com/help/faq\" target=\"_blank\">常见问题</a></dd><dd><a rel=\"nofollow\" href=\"http://www.meituan.com/about/terms\" target=\"_blank\">用户协议</a></dd><dd><a rel=\"nofollow\" href=\"http://www.meituan.com/about/privacy\" target=\"_blank\">隐私政策</a></dd><dd><a rel=\"nofollow\" href=\"http://www.meituan.com/about/anticheat\" target=\"_blank\">反诈骗公告</a></dd></dl><dl><dt>美团服务</dt><dd><a href=\"http://waimai.meituan.com/\" target=\"_blank\">美团外卖</a></dd><dd><a href=\"http://hotel.meituan.com/\" target=\"_blank\">美团酒店</a></dd><dd><a href=\"http://maoyan.com/\" target=\"_blank\">猫眼电影</a></dd><dd><a href=\"https://peisong.meituan.com/\" target=\"_blank\">美团配送</a></dd><dd><a href=\"https://www.mtyun.com/\" target=\"_blank\">美团云</a></dd><dd><a href=\"http://www.dianping.com/\" target=\"_blank\">大众点评</a></dd><dd><a href=\"https://phoenix.meituan.com/\" target=\"_blank\">榛果民宿</a></dd><dd><a href=\"https://mad.meituan.com\" target=\"_blank\">无人配送</a></dd></dl></div><div class=\"footer-column\"><dl><dt>商家合作</dt><dd><a rel=\"nofollow\" href=\"https://ecom.meituan.com/bizsettle/settle?utm_source=mt_C_my\" target=\"_blank\">美食商家入驻(非外卖)</a></dd><dd><a href=\"https://kd.meituan.com/\" target=\"_blank\">美团外卖开店申请</a></dd><dd><a href=\"http://shouyin.meituan.com?utm_source=inner&amp;utm_medium=mtpc\" target=\"_blank\">美团收银官网</a></dd><dd><a rel=\"nofollow\" href=\"http://page.peisong.meituan.com/apply/join\" target=\"_blank\">外卖配送加盟申请</a></dd><dd><a href=\"https://xue.meituan.com/?from=mtpc\" target=\"_blank\">美团点评餐饮学院</a></dd><dd><a rel=\"nofollow\" href=\"http://ruzhu.meituan.com/ruzhu/index.html\" target=\"_blank\">酒店商家入驻</a></dd><dd><a rel=\"nofollow\" href=\"https://i.meituan.com/awp/h5/trip/business/cooperation/index.html?client=pc\" target=\"_blank\">境内度假商家入驻</a></dd><dd><a rel=\"nofollow\" href=\"https://e.dianping.com/claimcpc/page/index?source=mt\" target=\"_blank\">综合商家入驻</a></dd><dd><a rel=\"nofollow\" href=\"https://phoenix.meituan.com/about/\" target=\"_blank\">榛果民宿房东商家入驻</a></dd><dd><a href=\"http://pc.meituan.com/?activity_code=mtpcdb\" target=\"_blank\">商家开票申请</a></dd><dd><a rel=\"nofollow\" href=\"https://h5.youzan.com/v2/feature/nALm22bkFF?dc_ps=2039811416638097413.200001\" target=\"_blank\">美团点评智能收银机</a></dd><dd><a rel=\"nofollow\" href=\"http://developer.meituan.com/\" target=\"_blank\">聚宝盆餐饮开放平台</a></dd><dd><a rel=\"nofollow\" href=\"http://smartpay.meituan.com/\" target=\"_blank\">美团智能支付</a></dd><dd><a rel=\"nofollow\" href=\"https://paidui.meituan.com/?activity_code=167_00038050\" target=\"_blank\">免费使用美团排队</a></dd><dd><a rel=\"nofollow\" href=\"https://i.meituan.com/awp/hfe/block/6c4bec785dce/11188/index.html\" target=\"_blank\">快驴进货商家合作</a></dd><dd><a rel=\"nofollow\" href=\"https://shangou.meituan.com/joinin\" target=\"_blank\">美团闪购商家入驻</a></dd></dl></div><div class=\"footer-column\"><dl><dt>代理商加盟</dt><dd><a rel=\"nofollow\" href=\"https://i.meituan.com/awp/hfe/block/4544/index.html\" target=\"_blank\">智能支付渠道加盟商招募</a></dd><dd><a rel=\"nofollow\" href=\"https://daili.meituan.com/?comeFrom=mtwebBusinesscoopd\" target=\"_blank\">到店餐饮代理商招募</a></dd><dd><a rel=\"nofollow\" href=\"http://www.dianping.com/apollo/agent/index?source=mtpcd\" target=\"_blank\">非餐饮代理商招募</a></dd><dd><a rel=\"nofollow\" href=\"http://union.meituan.com/\" target=\"_blank\">美团联盟</a></dd><dd><a rel=\"nofollow\" href=\"https://store.meituan.com/distribution/broadcast\" target=\"_blank\">美团收银招募线上分销商</a></dd><dd><a rel=\"nofollow\" href=\"https://agent.meituan.com/zhaoshang?entry=5\" target=\"_blank\">美团点评5S服务商招募</a></dd></dl><dl><dt>行业规范</dt><dd><a rel=\"nofollow\" href=\"http://www.meituan.com/about/saferule\" target=\"_blank\">美团点评餐饮安全管理办法</a></dd></dl><dl><dt>廉正举报</dt><dd><a rel=\"nofollow\" href=\"mailto:lianzheng@meituan.com\" target=\"_self\">廉政邮箱</a></dd></dl></div><div class=\"footer-column\"><dl><dt>关注美团</dt><dd><a rel=\"nofollow\" href=\"http://weibo.com/meituan\" target=\"_blank\">美团新浪微博</a></dd></dl><dl><dt>公司信息</dt><dd><a rel=\"nofollow\" href=\"https://about.meituan.com/\" target=\"_blank\">关于我们</a></dd><dd><a rel=\"nofollow\" href=\"https://about.meituan.com/investor.html\" target=\"_blank\">投资者关系</a></dd><dd><a rel=\"nofollow\" href=\"http://zhaopin.meituan.com/\" target=\"_blank\">加入我们</a></dd><dd><a rel=\"nofollow\" href=\"http://www.meituan.com/about/law\" target=\"_blank\">法律声明</a></dd><dd><a rel=\"nofollow\" href=\"http://www.meituan.com/about/bizlicense\" target=\"_blank\">商户服务协议</a></dd><dd><a rel=\"nofollow\" href=\"https://dpapp-appeal.meituan.com/#/shopCreditRegulationPC\" target=\"_blank\">商户诚信公约及管理办法</a></dd></dl></div><div class=\"footer-column\"><dl><dt>消费者服务热线</dt><dd>外卖消费者：<a rel=\"nofollow\" href=\"tel:10109777\" target=\"_blank\">10109777</a></dd><dd>猫眼消费者：<a rel=\"nofollow\" href=\"tel:10105335\" target=\"_blank\">10105335</a></dd><dd>其他消费者：<a rel=\"nofollow\" href=\"tel:10107888\" target=\"_blank\">10107888</a></dd></dl><dl><dt>商家服务热线</dt><dd>外卖&amp;餐饮商家：<a rel=\"nofollow\" href=\"tel:10105557\" target=\"_blank\">10105557</a></dd><dd>休闲娱乐、丽人、ktv、教育、结婚、亲子、家装等商家：<a rel=\"nofollow\" href=\"tel:10100107\" target=\"_blank\">10100107</a></dd></dl><dl><dt>投诉举报热线</dt><dd>违法和不良信息举报电话：<a rel=\"nofollow\" href=\"tel:4006018900\" target=\"_blank\">4006018900</a></dd><dd>举报邮箱：<a rel=\"nofollow\" href=\"mailto:tousujubao@meituan.com\" target=\"_self\">tousujubao@meituan.com</a></dd></dl><dl><dt><a rel=\"nofollow\" href=\"https://ecom.meituan.com/bizsettle/settle/merchantsSettle\" target=\"_blank\">商家自助入驻美团入口</a></dt></dl></div></div><div class=\"footer-copyright clearfix\"><div class=\"footer-copyright-left\"><p>©美团网团购 meituan.com<a href=\"http://www.beianbeian.com/beianxinxi/283f39a9-4c00-427a-97ef-3c7a9e1e0af1.html\">京ICP证070791号</a><a href=\"http://www.miitbeian.gov.cn/\">京ICP备10211739号</a><a href=\"https://www.meituan.com/about/rules\" target=\"_blank\">电子公告服务规则</a></p><p><a href=\"https://i.meituan.com/brunch/default/right\" target=\"_blank\">广播电视节目制作经营许可证（京）字第03889号</a></p></div><div class=\"footer-copyright-right\"><a href=\"http://www.beian.gov.cn/portal/registerSystemInfo?recordcode=11010502025545\" target=\"_blank\">京公网安备11010502025545号</a><div class=\"footer-copyright-cert\"><a class=\"sp-ft sp-ft--record\" href=\"https://www.meituan.com/about/openinfo\" title=\"备案信息\" target=\"_blank\">备案信息</a><a class=\"sp-ft sp-ft--knet\" href=\"http://t.knet.cn/index_new.jsp\" title=\"可信网站认证\" target=\"_blank\">可信网站</a><a class=\"sp-ft sp-ft--12315\" href=\"http://www.bj315.org/xfwq/lstd/201209/t20120910_3344.shtml?dnrpluojqxbceiqq\" title=\"12315消费争议\" target=\"_blank\">12315消费争议</a></div></div></div></div></footer></body></html>\n"
     ]
    }
   ],
   "source": [
    "import requests\n",
    "\n",
    "r = requests.get(\"https://bj.meituan.com/s/%E4%B9%A6%E6%B9%98%E9%97%A8%E5%9C%B0/\")\n",
    "print(r.status_code)\n",
    "print(r.text)"
   ]
  },
  {
   "cell_type": "code",
   "execution_count": 195,
   "metadata": {},
   "outputs": [
    {
     "data": {
      "text/plain": [
       "'KB'"
      ]
     },
     "execution_count": 195,
     "metadata": {},
     "output_type": "execute_result"
    }
   ],
   "source": [
    "'sha1' in 'md5_sha1'\n",
    "'kb'.upper()"
   ]
  },
  {
   "cell_type": "markdown",
   "metadata": {},
   "source": [
    "### 匹配手机号"
   ]
  },
  {
   "cell_type": "code",
   "execution_count": 77,
   "metadata": {},
   "outputs": [
    {
     "name": "stdout",
     "output_type": "stream",
     "text": [
      "(True, '13800138000')\n",
      "(True, '13800138000')\n",
      "(False, '')\n",
      "(False, '')\n",
      "(False, '')\n"
     ]
    }
   ],
   "source": [
    "import re\n",
    "\n",
    "def match_tel(item):\n",
    "    tmp = re.sub(r'[^\\d\\(\\)\\*]', '', item)\n",
    "    groups = re.search('^1(3[0-9]|4[56789]|5[0-35-9]|66|7[0135678]|8[0-9]|98|99)\\d{8}$', tmp)\n",
    "    if groups:\n",
    "        return True, groups.group()\n",
    "    return False, ''\n",
    "a = [\"你好：13800138000那就\", \"138-0013-8000\", \"360111198811218877\", \"解决：360111198811218877\",\"99\"]\n",
    "for i in a:\n",
    "    print(match_tel(i))"
   ]
  },
  {
   "cell_type": "code",
   "execution_count": 164,
   "metadata": {},
   "outputs": [
    {
     "name": "stdout",
     "output_type": "stream",
     "text": [
      "88397774 \n",
      " ['88397774']\n",
      "你好：13800138000那就18770098767 \n",
      " ['13800138000', '18770098767']\n",
      "138-0013-8000 \n",
      " ['13800138000']\n",
      "360111198811218877 \n",
      " []\n",
      "解决：360111198811218877 \n",
      " []\n",
      "1008611 \n",
      " []\n",
      "1795109312155980 \n",
      " ['0931-2155980']\n",
      "125930085292050000 \n",
      " ['00852-92050000']\n",
      "12583118901128803 \n",
      " ['18901128803']\n",
      "125900400493018750074791 \n",
      " ['18750074791']\n",
      "01068260630 \n",
      " ['010-68260630']\n",
      "087168260630 \n",
      " ['0871-68260630']\n",
      "01012599 \n",
      " ['010-12599']\n",
      "051512599 \n",
      " ['0515-12599']\n",
      "095510 \n",
      " ['95510']\n",
      "018901128803 \n",
      " ['18901128803']\n",
      "0018901128803 \n",
      " ['18901128803']\n",
      "008617701020875 \n",
      " ['17701020875']\n",
      "1081190501 \n",
      " ['010-81190501']\n",
      "769125909888037 \n",
      " ['125909888037']\n",
      "1011895544 \n",
      " []\n",
      "7694006595555 \n",
      " ['4006595555']\n",
      "862039195228 \n",
      " ['2039195228']\n",
      "8675782220098 \n",
      " ['75782220098']\n",
      "8618984153165 \n",
      " ['18984153165']\n",
      "864008009888 \n",
      " ['4008009888']\n",
      "68260630 \n",
      " ['68260630']\n",
      "18901128803 \n",
      " ['18901128803']\n",
      "4008009888 \n",
      " ['4008009888']\n",
      "1010**** \n",
      " ['1010****']\n",
      "(0995)18699548143 \n",
      " ['18699548143']\n",
      "(010)15001127901 \n",
      " ['15001127901']\n",
      "(010)01010086  \n",
      " ['010-10086']\n",
      "(010)95559 \n",
      " ['010-95559']\n",
      "(0891)4008089188 \n",
      " ['4008089188']\n",
      "(020)4008101688 \n",
      " ['4008101688']\n",
      "4006405258  \n",
      " ['4006405258']\n",
      "09968778888@ims.xj \n",
      " ['0996-8778888']\n",
      "04008208788 \n",
      " ['4008208788']\n"
     ]
    }
   ],
   "source": [
    "def deal_one_num(item):\n",
    "    \"\"\"\n",
    "    用于处理各种格式手机号/服务号/座机号\n",
    "    return:\n",
    "        tel: str, The formated tel\n",
    "\n",
    "    已处理格式:\n",
    "    1795109312155980 # 17951-09312155980 17951 + 区号 + 座机号\n",
    "    125930085292050000 # 12593-00852-92050000 12593 + 区号 + 座机号\n",
    "    12583118901128803 # 125831-18901128803 125831 + 手机号\n",
    "    125900400493018750074791 # 1259004004+930+18750074791  1259004004 + 930(积分编码) + 工号(手机号)\n",
    "\n",
    "    01068260630 # 010-68260630 区号（3位） + 座机号\n",
    "    087168260630 # 0871-68260630 区号（4位） + 座机号\n",
    "    01012599 # 010-12599 区号（3位） + 服务号\n",
    "    051512599 # 0515-12599 区号（4位） + 服务号\n",
    "    095510 # 0-95510 '0' + 服务号\n",
    "    018901128803 '0' + 手机号\n",
    "    0018901128803 '00' + 手机号\n",
    "    008617701020875 '0086' + 手机号\n",
    "\n",
    "    1081190501 # (0)10-81190501 区号去\"0\"\n",
    "    769125909888037 # (0)769-12590-9888037 区号去\"0\"\n",
    "    1011895544 # (0)10-11895544 暂未确认，不做处理\n",
    "    7694006595555 # (0)769-4006595555 区号去\"0\"\n",
    "\n",
    "    862039195228 # 86-020-39195228 86 + 区号（3位） + 座机号\n",
    "    8675782220098 # 86-0757-82220098 86 + 区号（4位） + 座机号\n",
    "    8618984153165 # 86-18984153165 86 + 手机号\n",
    "    864008009888 # 86-4008009888 86 + 400服务号\n",
    "\n",
    "    68260630 # 座机号\n",
    "    18901128803 # 手机号\n",
    "    4008009888 # 全国公共号码\n",
    "    1010xxxx # 新全国公共号码\n",
    "\n",
    "    (0995)18699548143 (区号)手机号\n",
    "    (010)15001127901 (区号)手机号\n",
    "    (010)01010086  (区号) + 区号 + 全国号码\n",
    "    (010)95559 (区号) + 全国号码\n",
    "    (0891)4008089188 (区号) + 全国号码\n",
    "    (020)4008101688 (区号) + 全国号码\n",
    "\n",
    "    '4006405258 ' # 各种格式带' '情况\n",
    "    09968778888@ims.xj\n",
    "    04008208788 # 0-400-8208788 0+全国服务号码\n",
    "\n",
    "    \"\"\"\n",
    "    s = re.sub(r'[^\\d\\(\\)\\*]', '', item)\n",
    "    if re.match(r'^17951|12593', s):\n",
    "        s = s[5:]\n",
    "    if re.match(r'^125831', s):\n",
    "        s = s[6:]\n",
    "    if re.match(r'^1259004004', s):\n",
    "        s = s[-11:]\n",
    "#     print(re.match(r'^[3-9][\\d]{2}([2-8][\\d]{6,7}|96[\\d]{3,10}|95[\\d]{3,14})$', s)).group()\n",
    "    if re.match(r'^\\(', s):\n",
    "        area_code, tel = re.match(r'\\((.*?)\\)(.*)', s).groups()\n",
    "        if area_code == tel[:len(area_code)]:\n",
    "            tel = tel[len(area_code):]\n",
    "        if re.match(r'^0(10|2[\\d])([2-8][\\d]{7}|96[\\d]{3,11}|95[\\d]{3,14}|1010[\\d]{4}|1[\\d]{4})$', area_code + tel):\n",
    "            s = area_code + '-' + tel\n",
    "        elif re.match(r'^0[3-9][\\d]{2}([2-8][\\d]{6,7}|96[\\d]{3,10}|95[\\d]{3,14}|1[\\d]{4})$', area_code + tel):\n",
    "            s = area_code + '-' + tel\n",
    "        else:\n",
    "            s = tel\n",
    "    elif re.match(r'^0', s):\n",
    "        if re.match(r'^0(10|2[\\d])([2-8][\\d]{7}|96[\\d]{3,11}|95[\\d]{3,14}|1010[\\d]{4}|1[\\d]{4})$', s):\n",
    "            s = s[:3] + '-' + s[3:]\n",
    "        elif re.match(r'^0(400|800|1010)', s):\n",
    "            s = s[1:]\n",
    "        elif re.match(r'^0[3-9][\\d]{2}([2-8][\\d]{6,7}|96[\\d]{3,10}|95[\\d]{3,14}|1[\\d]{4})$', s):\n",
    "            s = s[:4] + '-' + s[4:]\n",
    "        elif re.match(r'^00852\\d{8}', s):\n",
    "            s = s[:5] + '-' + s[5:]\n",
    "        elif re.match(r'^(0|00|0086)(1[358]\\d{9}|17[0135678]\\d{8})$', s):\n",
    "            s = s[-11:]\n",
    "        elif re.match(r'^(0|00)[\\d]{5}$', s):\n",
    "            s = s[1:]\n",
    "    elif re.match(r'^(86|(10|2[\\d])(400|800|1010|12590)\\d+)', s):\n",
    "        s = s[2:]\n",
    "    elif re.match(r'^(10|2[\\d])([2-8][\\d]{7}|96[\\d]{3,11}|95[\\d]{3,14})$', s):\n",
    "        s = '0' + s[:2] + '-' + s[2:]\n",
    "    elif re.match(r'^(400|800|1010)', s):\n",
    "        s = s\n",
    "    elif re.match(r'^[3-9][\\d]{2}(400|800|1010|12590)\\d+$', s):\n",
    "        s = s[3:]\n",
    "    elif re.match(r'^[3-9][\\d]{2}([2-8][\\d]{6,7}|96[\\d]{3,10}|95[\\d]{3,14})$', s):\n",
    "        s = '0' + s[:3] + '-' + s[3:]\n",
    "    elif re.search('^1(3[0-9]|4[56789]|5[0-35-9]|66|7[0135678]|8[0-9]|98|99)\\d{8}$', s):\n",
    "        s = re.search('^1(3[0-9]|4[56789]|5[0-35-9]|66|7[0135678]|8[0-9]|98|99)\\d{8}$', s).group()\n",
    "    elif re.search('^([2-8][\\d]{6,7}|96[\\d]{3,10}|95[\\d]{3,14})$',s):\n",
    "        s = re.search('^[2-8][\\d]{6,7}|96[\\d]{3,10}|95[\\d]{3,14}$',s).group()\n",
    "    elif s in ['10086','10010']:\n",
    "        s = s\n",
    "    else:\n",
    "        s = ''\n",
    "    return (True,s) if s else (False, '')\n",
    "\n",
    "def search_tel(item):\n",
    "    tel_list = []\n",
    "    for i in re.findall(r\"[\\d\\-\\(\\)\\*]+\",item):\n",
    "        flag,tel = deal_one_num(i)\n",
    "        tel_list.append(tel) if flag else None\n",
    "    return tel_list\n",
    "a = [\"88397774\", \"你好：13800138000那就18770098767\", \"138-0013-8000\", \"360111198811218877\", \"解决：360111198811218877\",\"1008611\",\n",
    "     \"1795109312155980\", \"125930085292050000\", \"12583118901128803\", \"125900400493018750074791\", \"01068260630\", \n",
    "     \"087168260630\", \"01012599\", \"051512599\", \"095510\", \"018901128803\", \"0018901128803\", \"008617701020875\", \n",
    "     \"1081190501\", \"769125909888037\", \"1011895544\", \"7694006595555\", \"862039195228\", \"8675782220098\", \"8618984153165\", \n",
    "     \"864008009888\", \"68260630\", \"18901128803\", \"4008009888\", \"1010****\", \"(0995)18699548143\", \"(010)15001127901\", \n",
    "     \"(010)01010086 \", \"(010)95559\", \"(0891)4008089188\", \"(020)4008101688\", \"4006405258 \", \"09968778888@ims.xj\", \"04008208788\"]\n",
    "# a = [\"13800-你好饿死13800138000\"]\n",
    "for i in a:\n",
    "#     i = \"{}再测试\".format(i)\n",
    "#     i = \"测试文字：{}再测试\".format(i)\n",
    "#     i = \"测试文字：{}\".format(i)\n",
    "    print(i,\"\\n\",search_tel(i))\n",
    "# deal_one_num('1008611')"
   ]
  },
  {
   "cell_type": "code",
   "execution_count": 140,
   "metadata": {},
   "outputs": [
    {
     "name": "stdout",
     "output_type": "stream",
     "text": [
      "13800\n",
      "12-3880\n"
     ]
    },
    {
     "data": {
      "text/plain": [
       "[]"
      ]
     },
     "execution_count": 140,
     "metadata": {},
     "output_type": "execute_result"
    }
   ],
   "source": [
    "# s = \"h3110 23 cat 444.4 rabbit 11 2 dog\"\n",
    "s = \"你好13800nihao12-3880\"\n",
    "# print(re.findall(r\"([一二三四五六七八九零十百千万亿]+|[\\d]+[,]*[\\d]+.[\\d]+)\",s))\n",
    "for i in re.findall(r\"[\\d\\-\\(\\)]+\",s):\n",
    "    print(i)\n",
    "\n",
    "[int(s) for s in str.split('') if s.isdigit()]"
   ]
  },
  {
   "cell_type": "code",
   "execution_count": 8,
   "metadata": {},
   "outputs": [
    {
     "data": {
      "text/plain": [
       "'0b1111'"
      ]
     },
     "execution_count": 8,
     "metadata": {},
     "output_type": "execute_result"
    }
   ],
   "source": [
    "bin(int('15'))"
   ]
  },
  {
   "cell_type": "code",
   "execution_count": 44,
   "metadata": {},
   "outputs": [
    {
     "data": {
      "text/plain": [
       "[{'1': 1}, {'1': 1}, {'1': 1}]"
      ]
     },
     "execution_count": 44,
     "metadata": {},
     "output_type": "execute_result"
    }
   ],
   "source": [
    "a = [{'1':1,'2':2},{'1':1,'2':2},{'1':1,'2':2}]\n",
    "[{k:v for k,v in i.items() if k=='1'} for i in a]"
   ]
  },
  {
   "cell_type": "code",
   "execution_count": 46,
   "metadata": {},
   "outputs": [
    {
     "data": {
      "text/plain": [
       "['201812', '201811', '201810', '201809', '201808', '201807']"
      ]
     },
     "execution_count": 46,
     "metadata": {},
     "output_type": "execute_result"
    }
   ],
   "source": [
    "def get_recent_months(mons=6, frmt=\"%Y%m\"):\n",
    "    return [(datetime.today() + relativedelta(months=-i)).strftime(frmt) for i in range(0, mons, 1)]\n",
    "get_recent_months()"
   ]
  },
  {
   "cell_type": "code",
   "execution_count": 25,
   "metadata": {},
   "outputs": [
    {
     "data": {
      "text/plain": [
       "['201812', '201811', '201810', '201809', '201808', '201807']"
      ]
     },
     "execution_count": 25,
     "metadata": {},
     "output_type": "execute_result"
    }
   ],
   "source": [
    "from datetime import datetime\n",
    "from dateutil.relativedelta import relativedelta\n",
    "[(datetime.today() + relativedelta(months=-i)).strftime(\"%Y%m\") for i in range(0, 6, 1)]"
   ]
  },
  {
   "cell_type": "markdown",
   "metadata": {},
   "source": [
    "### 获取某月最后一天"
   ]
  },
  {
   "cell_type": "code",
   "execution_count": 29,
   "metadata": {},
   "outputs": [
    {
     "data": {
      "text/plain": [
       "31"
      ]
     },
     "execution_count": 29,
     "metadata": {},
     "output_type": "execute_result"
    }
   ],
   "source": [
    "def get_last_day_month(item):\n",
    "    import calendar\n",
    "    return calendar.monthrange(int(item[:4]), int(item[4:]))[1]\n",
    "get_last_day_month('201810')"
   ]
  },
  {
   "cell_type": "markdown",
   "metadata": {},
   "source": [
    "### 获取某月首尾天数并按格式输出"
   ]
  },
  {
   "cell_type": "code",
   "execution_count": 35,
   "metadata": {},
   "outputs": [
    {
     "data": {
      "text/plain": [
       "('2018-02-01', '2018-02-28')"
      ]
     },
     "execution_count": 35,
     "metadata": {},
     "output_type": "execute_result"
    }
   ],
   "source": [
    "def get_first_last_day_month(item, in_=\"%Y%m\"):\n",
    "    tmp = datetime.strptime(item, in_)\n",
    "    fst = \"%Y-%m-01\"\n",
    "    lst = \"%Y-%m-{}\".format(calendar.monthrange(tmp.year, tmp.month)[1])\n",
    "    return (tmp.strftime(fst), tmp.strftime(lst))\n",
    "get_first_last_day_month('201802')"
   ]
  },
  {
   "cell_type": "code",
   "execution_count": 38,
   "metadata": {},
   "outputs": [
    {
     "data": {
      "text/plain": [
       "'2018-12-06'"
      ]
     },
     "execution_count": 38,
     "metadata": {},
     "output_type": "execute_result"
    }
   ],
   "source": [
    "datetime.today().strftime(\"%Y-%m-%d\")"
   ]
  },
  {
   "cell_type": "code",
   "execution_count": 53,
   "metadata": {},
   "outputs": [
    {
     "data": {
      "text/plain": [
       "254"
      ]
     },
     "execution_count": 53,
     "metadata": {},
     "output_type": "execute_result"
    }
   ],
   "source": [
    " int(''.join(['1', '0', '1']),2)\n",
    "\n",
    "bin(int('32', 10))\n",
    "'{:08b}'.format(int(32))\n",
    "int('11111110',2)"
   ]
  },
  {
   "cell_type": "code",
   "execution_count": null,
   "metadata": {},
   "outputs": [],
   "source": [
    "def pop_dict(item, key):\n",
    "    del item[key]\n",
    "    return item\n",
    "\n",
    "\n",
    "def merge_two_dicts(x, y):\n",
    "    z = x.copy()  # start with x's keys and values\n",
    "    z.update(y)  # modifies z with y's keys and values & returns None\n",
    "    return z\n",
    "\n",
    "# list of dict to dict of dict\n",
    "{i.pop('month'): i for i in cache}\n",
    "\n",
    "# list of list to list\n",
    "# https://stackoverflow.com/questions/952914/how-to-make-a-flat-list-out-of-list-of-lists"
   ]
  },
  {
   "cell_type": "code",
   "execution_count": 288,
   "metadata": {},
   "outputs": [
    {
     "data": {
      "text/plain": [
       "'20180901_1|13800138000_14,7,7,7,7,7,7,7,7,7,7,7,7,7,7,7,7,7,7,7,7,7,7,7,7,7,7,7,7,7,7,7,7,7,7,7,7'"
      ]
     },
     "execution_count": 288,
     "metadata": {},
     "output_type": "execute_result"
    }
   ],
   "source": [
    "import time\n",
    "import traceback\n",
    "from datetime import datetime\n",
    "def timestamp_to_datetime(time, f=\"%Y-%m-%d %H:%M:%S\"):\n",
    "    try:\n",
    "        if len(time) == 10:\n",
    "            return datetime.fromtimestamp(int(time)).strftime(f)\n",
    "        else:\n",
    "            return datetime.fromtimestamp(int(time)/1000).strftime(f)\n",
    "    except Exception as e:\n",
    "        print(e)\n",
    "        return None\n",
    "\n",
    "    \n",
    "class Map(dict):\n",
    "    \"\"\"\n",
    "    Example:\n",
    "    m = Map({'first_name': 'Eduardo'}, last_name='Pool', age=24, sports=['Soccer'])\n",
    "    \"\"\"\n",
    "    def __init__(self, *args, **kwargs):\n",
    "        super(Map, self).__init__(*args, **kwargs)\n",
    "        for arg in args:\n",
    "            if isinstance(arg, dict):\n",
    "                for k, v in arg.items():\n",
    "                    self[k] = v\n",
    "\n",
    "        if kwargs:\n",
    "            for k, v in kwargs.items():\n",
    "                self[k] = v\n",
    "\n",
    "    def __getattr__(self, attr):\n",
    "        return self.get(attr)\n",
    "\n",
    "    def __setattr__(self, key, value):\n",
    "        self.__setitem__(key, value)\n",
    "\n",
    "    def __setitem__(self, key, value):\n",
    "        super(Map, self).__setitem__(key, value)\n",
    "        self.__dict__.update({key: value})\n",
    "\n",
    "    def __delattr__(self, item):\n",
    "        self.__delitem__(item)\n",
    "\n",
    "    def __delitem__(self, key):\n",
    "        super(Map, self).__delitem__(key)\n",
    "        del self.__dict__[key]\n",
    "\n",
    "bc_judge_time = '2018-09-01'\n",
    "def save_rdd(item):\n",
    "    try:\n",
    "        key=\"{}_{}\".format(bc_judge_time.replace('-','') , item[1])\n",
    "        data = item[0]\n",
    "        score=[data.main_score, data.cs_latest_phone_days,data.cs_first_phone_days,data.cs_phone_numbers, data.cs_total_phone_times, data.cs_called_times, data.cs_phone_times_in_15s, data.cs_phone_times_between_15_30s,data.cs_phone_times_over_60s, data.yscs_latest_phone_days, data.yscs_first_phone_days, data.yscs_phone_numbers, data.yscs_total_phone_times, data.yscs_called_times,data.yscs_phone_times_in_15s, data.yscs_phone_times_between_15_30s, data.yscs_phone_times_over_60s, data.cs_phone_numbers_in_7_days, data.cs_called_times_in_7_days, data.yscs_phone_numbers_in_7_days, data.yscs_called_times_in_7_days, data.cs_phone_numbers_in_14_days, data.cs_called_times_in_14_days, data.yscs_phone_numbers_in_14_days, data.yscs_called_times_in_14_days,data.cs_phone_numbers_in_21_days, data.cs_called_times_in_21_days, data.yscs_phone_numbers_in_21_days, data.yscs_called_times_in_21_days, data.cs_phone_numbers_in_30_days, data.cs_called_times_in_30_days, data.yscs_phone_numbers_in_30_days, data.yscs_called_times_in_30_days, data.cs_phone_numbers_between_30_60_days, data.cs_called_times_between_30_60_days, data.yscs_phone_numbers_between_30_60_days, data.yscs_called_times_between_30_60_days]\n",
    "        value=\"{}_{}\".format(data.user_number, \",\".join([str(i) for i in score]))\n",
    "        result=\"{}|{}\".format(key,value)\n",
    "        return result\n",
    "        #return set_csf(key, value)\n",
    "    except:\n",
    "        print(timestamp_to_datetime(str(int(time.time()))))\n",
    "        msg = traceback.format_exc()\n",
    "        return \"报错信息：{}, 报错数据：{}\".format(msg, item)\n",
    "        #return None\n",
    "data = {\n",
    "    \"user_number\":'13800138000',\n",
    "    \"main_score\":'14',\n",
    "    \"cs_latest_phone_time\" : '7',\n",
    "    \"cs_first_phone_time\" : '7',\n",
    "    \"cs_latest_phone_days\" : '7',\n",
    "    \"cs_first_phone_days\" : '7',\n",
    "    \"cs_phone_numbers\" : '7',\n",
    "    \"cs_total_phone_times\" : '7',\n",
    "    \"cs_called_times\" : '7',\n",
    "    \"cs_phone_times_in_15s\" : '7',\n",
    "    \"cs_phone_times_between_15_30s\" : '7',\n",
    "    \"cs_phone_times_over_60s\" : '7',\n",
    "    \"cs_phone_numbers_in_7_days\" : '7',\n",
    "    \"cs_phone_numbers_in_14_days\" : '7',\n",
    "    \"cs_phone_numbers_in_21_days\" : '7',\n",
    "    \"cs_phone_numbers_in_30_days\" : '7',\n",
    "    \"cs_phone_numbers_between_30_60_days\" : '7',\n",
    "    \"cs_called_times_in_7_days\" : '7',\n",
    "    \"cs_called_times_in_14_days\" : '7',\n",
    "    \"cs_called_times_in_21_days\" : '7',\n",
    "    \"cs_called_times_in_30_days\" : '7',\n",
    "    \"cs_called_times_between_30_60_days\" : '7',\n",
    "    \"yscs_latest_phone_time\" : '7',\n",
    "    \"yscs_first_phone_time\" : '7',\n",
    "    \"yscs_latest_phone_days\" : '7',\n",
    "    \"yscs_first_phone_days\" : '7',\n",
    "    \"yscs_phone_numbers\" : '7',\n",
    "    \"yscs_total_phone_times\" : '7',\n",
    "    \"yscs_called_times\" : '7',\n",
    "    \"yscs_phone_times_in_15s\" : '7',\n",
    "    \"yscs_phone_times_between_15_30s\" : '7',\n",
    "    \"yscs_phone_times_over_60s\" : '7',\n",
    "    \"yscs_phone_numbers_in_7_days\" : '7',\n",
    "    \"yscs_phone_numbers_in_14_days\" : '7',\n",
    "    \"yscs_phone_numbers_in_21_days\" : '7',\n",
    "    \"yscs_phone_numbers_in_30_days\" : '7',\n",
    "    \"yscs_phone_numbers_between_30_60_days\" : '7',\n",
    "    \"yscs_called_times_in_7_days\" : '7',\n",
    "    \"yscs_called_times_in_14_days\" : '7',\n",
    "    \"yscs_called_times_in_21_days\" : '7',\n",
    "    \"yscs_called_times_in_30_days\" : '7',\n",
    "    \"yscs_called_times_between_30_60_days\" : '7',\n",
    "}\n",
    "item = [Map(data), '1']\n",
    "save_rdd(item)"
   ]
  },
  {
   "cell_type": "code",
   "execution_count": 265,
   "metadata": {},
   "outputs": [
    {
     "data": {
      "text/plain": [
       "'1'"
      ]
     },
     "execution_count": 265,
     "metadata": {},
     "output_type": "execute_result"
    }
   ],
   "source": [
    "'{}'.format('1')"
   ]
  },
  {
   "cell_type": "code",
   "execution_count": 56,
   "metadata": {},
   "outputs": [
    {
     "data": {
      "text/plain": [
       "-inf"
      ]
     },
     "execution_count": 56,
     "metadata": {},
     "output_type": "execute_result"
    }
   ],
   "source": [
    "float(\"-inf\")"
   ]
  },
  {
   "cell_type": "code",
   "execution_count": 263,
   "metadata": {},
   "outputs": [
    {
     "name": "stdout",
     "output_type": "stream",
     "text": [
      "{'1': 2} {'1': 2}\n"
     ]
    }
   ],
   "source": [
    "a ={}\n",
    "b = {}\n",
    "a['1'] = b['1'] = 2\n",
    "print(a, b)"
   ]
  },
  {
   "cell_type": "code",
   "execution_count": 274,
   "metadata": {},
   "outputs": [
    {
     "data": {
      "text/plain": [
       "{'02': {'2': 4}, '01': {'2': 4}}"
      ]
     },
     "execution_count": 274,
     "metadata": {},
     "output_type": "execute_result"
    }
   ],
   "source": [
    "a = [{'mon':'02','2':4},{'mon':'01','2':4}]\n",
    "b = {i.pop('mon'):i for i in a}\n",
    "b.get('month', {}).get('detail', {})\n",
    "b"
   ]
  },
  {
   "cell_type": "code",
   "execution_count": 197,
   "metadata": {},
   "outputs": [
    {
     "ename": "ModuleNotFoundError",
     "evalue": "No module named 'urllib2'",
     "output_type": "error",
     "traceback": [
      "\u001b[0;31m---------------------------------------------------------------------------\u001b[0m",
      "\u001b[0;31mModuleNotFoundError\u001b[0m                       Traceback (most recent call last)",
      "\u001b[0;32m<ipython-input-197-cf3d32e48d98>\u001b[0m in \u001b[0;36m<module>\u001b[0;34m()\u001b[0m\n\u001b[0;32m----> 1\u001b[0;31m \u001b[0;32mimport\u001b[0m \u001b[0murllib2\u001b[0m\u001b[0;34m\u001b[0m\u001b[0m\n\u001b[0m\u001b[1;32m      2\u001b[0m \u001b[0murl\u001b[0m \u001b[0;34m=\u001b[0m \u001b[0;34m'www.baidu.com'\u001b[0m\u001b[0;34m\u001b[0m\u001b[0m\n\u001b[1;32m      3\u001b[0m \u001b[0mreq\u001b[0m \u001b[0;34m=\u001b[0m \u001b[0murllib2\u001b[0m\u001b[0;34m.\u001b[0m\u001b[0mRequest\u001b[0m\u001b[0;34m(\u001b[0m\u001b[0murl\u001b[0m\u001b[0;34m)\u001b[0m\u001b[0;34m\u001b[0m\u001b[0m\n\u001b[1;32m      4\u001b[0m \u001b[0mresp\u001b[0m \u001b[0;34m=\u001b[0m \u001b[0murllib2\u001b[0m\u001b[0;34m.\u001b[0m\u001b[0murlopen\u001b[0m\u001b[0;34m(\u001b[0m\u001b[0mreq\u001b[0m\u001b[0;34m,\u001b[0m\u001b[0mtimeout\u001b[0m\u001b[0;34m=\u001b[0m\u001b[0;36m10\u001b[0m\u001b[0;34m)\u001b[0m\u001b[0;34m\u001b[0m\u001b[0m\n\u001b[1;32m      5\u001b[0m \u001b[0mprint\u001b[0m\u001b[0;34m(\u001b[0m\u001b[0mresp\u001b[0m\u001b[0;34m.\u001b[0m\u001b[0mgetcode\u001b[0m\u001b[0;34m(\u001b[0m\u001b[0;34m)\u001b[0m\u001b[0;34m)\u001b[0m\u001b[0;34m\u001b[0m\u001b[0m\n",
      "\u001b[0;31mModuleNotFoundError\u001b[0m: No module named 'urllib2'"
     ]
    }
   ],
   "source": [
    "import urllib2\n",
    "url = 'www.baidu.com'\n",
    "req = urllib2.Request(url)\n",
    "resp = urllib2.urlopen(req,timeout=10)\n",
    "print(resp.getcode())\n",
    "print(resp.read())\n",
    "resp.close()\n"
   ]
  },
  {
   "cell_type": "code",
   "execution_count": 39,
   "metadata": {},
   "outputs": [
    {
     "name": "stdout",
     "output_type": "stream",
     "text": [
      "1 <class 'int'> int\n",
      "xx <class 'str'> str\n",
      "[1] <class 'list'> obj\n"
     ]
    }
   ],
   "source": [
    "from functools import singledispatch\n",
    "\n",
    "@singledispatch\n",
    "def show(obj):\n",
    "    print (obj, type(obj), \"obj\")\n",
    "\n",
    "@show.register(str)\n",
    "def _(text):\n",
    "    print (text, type(text), \"str\")\n",
    "\n",
    "@show.register(int)\n",
    "def _(n):\n",
    "    print (n, type(n), \"int\")\n",
    "show(1)\n",
    "show(\"xx\")\n",
    "show([1])\n"
   ]
  },
  {
   "cell_type": "code",
   "execution_count": 47,
   "metadata": {},
   "outputs": [
    {
     "name": "stdout",
     "output_type": "stream",
     "text": [
      "{'1': '2', '2': '3', '3': '4'}\n"
     ]
    }
   ],
   "source": [
    "from functools import singledispatch\n",
    "\n",
    "@singledispatch\n",
    "def keys_to_strings(ob):\n",
    "    return str(ob)\n",
    "\n",
    "@keys_to_strings.register(dict)\n",
    "def _handle_dict(ob):\n",
    "    return {str(k): keys_to_strings(v) for k, v in ob.items()}\n",
    "\n",
    "@keys_to_strings.register(list)\n",
    "def _handle_list(ob):\n",
    "    return [keys_to_strings(v) for v in ob]\n",
    "\n",
    "a = keys_to_strings({1:2,2:3,3:4})\n",
    "print(a)"
   ]
  },
  {
   "cell_type": "code",
   "execution_count": 259,
   "metadata": {},
   "outputs": [
    {
     "ename": "SyntaxError",
     "evalue": "invalid syntax (<ipython-input-259-67f1f52ac714>, line 1)",
     "output_type": "error",
     "traceback": [
      "\u001b[0;36m  File \u001b[0;32m\"<ipython-input-259-67f1f52ac714>\"\u001b[0;36m, line \u001b[0;32m1\u001b[0m\n\u001b[0;31m    [i if i%2==0 for i in range(10)]\u001b[0m\n\u001b[0m                   ^\u001b[0m\n\u001b[0;31mSyntaxError\u001b[0m\u001b[0;31m:\u001b[0m invalid syntax\n"
     ]
    }
   ],
   "source": [
    "[i if i%2==0 for i in range(10)]"
   ]
  },
  {
   "cell_type": "code",
   "execution_count": 261,
   "metadata": {},
   "outputs": [
    {
     "data": {
      "text/plain": [
       "'0.0'"
      ]
     },
     "execution_count": 261,
     "metadata": {},
     "output_type": "execute_result"
    }
   ],
   "source": [
    "\"{:.1f}\".format(0.002)"
   ]
  },
  {
   "cell_type": "code",
   "execution_count": 49,
   "metadata": {},
   "outputs": [
    {
     "data": {
      "text/plain": [
       "['foo', {'bar': ['baz', None, 1.0, 2]}]"
      ]
     },
     "execution_count": 49,
     "metadata": {},
     "output_type": "execute_result"
    }
   ],
   "source": [
    "import json \n",
    "json.loads(json.dumps(['foo', {'bar': ('baz', None, 1.0, 2)}]))"
   ]
  },
  {
   "cell_type": "code",
   "execution_count": 34,
   "metadata": {},
   "outputs": [],
   "source": [
    "import pandas as pd\n",
    "import numpy as np\n",
    "def multi_func(functions):\n",
    "    def f(col):\n",
    "        return functions[col.name](col)\n",
    "    return f\n",
    "\n",
    "df = pd.DataFrame(np.random.random((10, 2)), columns=['A', 'B'])\n",
    "# result = df.apply(multi_func({'A': np.mean, 'B': np.sum}))\n",
    "# result\n",
    "df = df.apply(lambda x: x.map(str) if x.name in ['B', 'D'] else x)\n",
    "# select_dtypes(include=['object'])"
   ]
  },
  {
   "cell_type": "code",
   "execution_count": 56,
   "metadata": {},
   "outputs": [
    {
     "data": {
      "text/plain": [
       "'4.821701075544524'"
      ]
     },
     "execution_count": 56,
     "metadata": {},
     "output_type": "execute_result"
    }
   ],
   "source": [
    "df.A.sum().astype('str')"
   ]
  },
  {
   "cell_type": "code",
   "execution_count": 290,
   "metadata": {},
   "outputs": [],
   "source": [
    "for i in []:\n",
    "    print(i)"
   ]
  },
  {
   "cell_type": "code",
   "execution_count": 292,
   "metadata": {},
   "outputs": [
    {
     "data": {
      "text/plain": [
       "[23]"
      ]
     },
     "execution_count": 292,
     "metadata": {},
     "output_type": "execute_result"
    }
   ],
   "source": [
    "list(set([1,23,3])- set([1,3]))"
   ]
  },
  {
   "cell_type": "code",
   "execution_count": 21,
   "metadata": {},
   "outputs": [
    {
     "name": "stdout",
     "output_type": "stream",
     "text": [
      "   Min  Max Rule\n",
      "0   50  150    A\n",
      "1   50  150    B\n"
     ]
    },
    {
     "ename": "ValueError",
     "evalue": "operands could not be broadcast together with shapes (4,) (2,) ",
     "output_type": "error",
     "traceback": [
      "\u001b[0;31m---------------------------------------------------------------------------\u001b[0m",
      "\u001b[0;31mTypeError\u001b[0m                                 Traceback (most recent call last)",
      "\u001b[0;32m~/anaconda3/lib/python3.7/site-packages/pandas/core/ops.py\u001b[0m in \u001b[0;36mna_op\u001b[0;34m(x, y)\u001b[0m\n\u001b[1;32m   1496\u001b[0m         \u001b[0;32mtry\u001b[0m\u001b[0;34m:\u001b[0m\u001b[0;34m\u001b[0m\u001b[0m\n\u001b[0;32m-> 1497\u001b[0;31m             \u001b[0mresult\u001b[0m \u001b[0;34m=\u001b[0m \u001b[0mexpressions\u001b[0m\u001b[0;34m.\u001b[0m\u001b[0mevaluate\u001b[0m\u001b[0;34m(\u001b[0m\u001b[0mop\u001b[0m\u001b[0;34m,\u001b[0m \u001b[0mstr_rep\u001b[0m\u001b[0;34m,\u001b[0m \u001b[0mx\u001b[0m\u001b[0;34m,\u001b[0m \u001b[0my\u001b[0m\u001b[0;34m,\u001b[0m \u001b[0;34m**\u001b[0m\u001b[0meval_kwargs\u001b[0m\u001b[0;34m)\u001b[0m\u001b[0;34m\u001b[0m\u001b[0m\n\u001b[0m\u001b[1;32m   1498\u001b[0m         \u001b[0;32mexcept\u001b[0m \u001b[0mTypeError\u001b[0m\u001b[0;34m:\u001b[0m\u001b[0;34m\u001b[0m\u001b[0m\n",
      "\u001b[0;32m~/anaconda3/lib/python3.7/site-packages/pandas/core/computation/expressions.py\u001b[0m in \u001b[0;36mevaluate\u001b[0;34m(op, op_str, a, b, use_numexpr, **eval_kwargs)\u001b[0m\n\u001b[1;32m    204\u001b[0m     \u001b[0;32mif\u001b[0m \u001b[0muse_numexpr\u001b[0m\u001b[0;34m:\u001b[0m\u001b[0;34m\u001b[0m\u001b[0m\n\u001b[0;32m--> 205\u001b[0;31m         \u001b[0;32mreturn\u001b[0m \u001b[0m_evaluate\u001b[0m\u001b[0;34m(\u001b[0m\u001b[0mop\u001b[0m\u001b[0;34m,\u001b[0m \u001b[0mop_str\u001b[0m\u001b[0;34m,\u001b[0m \u001b[0ma\u001b[0m\u001b[0;34m,\u001b[0m \u001b[0mb\u001b[0m\u001b[0;34m,\u001b[0m \u001b[0;34m**\u001b[0m\u001b[0meval_kwargs\u001b[0m\u001b[0;34m)\u001b[0m\u001b[0;34m\u001b[0m\u001b[0m\n\u001b[0m\u001b[1;32m    206\u001b[0m     \u001b[0;32mreturn\u001b[0m \u001b[0m_evaluate_standard\u001b[0m\u001b[0;34m(\u001b[0m\u001b[0mop\u001b[0m\u001b[0;34m,\u001b[0m \u001b[0mop_str\u001b[0m\u001b[0;34m,\u001b[0m \u001b[0ma\u001b[0m\u001b[0;34m,\u001b[0m \u001b[0mb\u001b[0m\u001b[0;34m)\u001b[0m\u001b[0;34m\u001b[0m\u001b[0m\n",
      "\u001b[0;32m~/anaconda3/lib/python3.7/site-packages/pandas/core/computation/expressions.py\u001b[0m in \u001b[0;36m_evaluate_numexpr\u001b[0;34m(op, op_str, a, b, truediv, reversed, **eval_kwargs)\u001b[0m\n\u001b[1;32m    119\u001b[0m     \u001b[0;32mif\u001b[0m \u001b[0mresult\u001b[0m \u001b[0;32mis\u001b[0m \u001b[0;32mNone\u001b[0m\u001b[0;34m:\u001b[0m\u001b[0;34m\u001b[0m\u001b[0m\n\u001b[0;32m--> 120\u001b[0;31m         \u001b[0mresult\u001b[0m \u001b[0;34m=\u001b[0m \u001b[0m_evaluate_standard\u001b[0m\u001b[0;34m(\u001b[0m\u001b[0mop\u001b[0m\u001b[0;34m,\u001b[0m \u001b[0mop_str\u001b[0m\u001b[0;34m,\u001b[0m \u001b[0ma\u001b[0m\u001b[0;34m,\u001b[0m \u001b[0mb\u001b[0m\u001b[0;34m)\u001b[0m\u001b[0;34m\u001b[0m\u001b[0m\n\u001b[0m\u001b[1;32m    121\u001b[0m \u001b[0;34m\u001b[0m\u001b[0m\n",
      "\u001b[0;32m~/anaconda3/lib/python3.7/site-packages/pandas/core/computation/expressions.py\u001b[0m in \u001b[0;36m_evaluate_standard\u001b[0;34m(op, op_str, a, b, **eval_kwargs)\u001b[0m\n\u001b[1;32m     64\u001b[0m     \u001b[0;32mwith\u001b[0m \u001b[0mnp\u001b[0m\u001b[0;34m.\u001b[0m\u001b[0merrstate\u001b[0m\u001b[0;34m(\u001b[0m\u001b[0mall\u001b[0m\u001b[0;34m=\u001b[0m\u001b[0;34m'ignore'\u001b[0m\u001b[0;34m)\u001b[0m\u001b[0;34m:\u001b[0m\u001b[0;34m\u001b[0m\u001b[0m\n\u001b[0;32m---> 65\u001b[0;31m         \u001b[0;32mreturn\u001b[0m \u001b[0mop\u001b[0m\u001b[0;34m(\u001b[0m\u001b[0ma\u001b[0m\u001b[0;34m,\u001b[0m \u001b[0mb\u001b[0m\u001b[0;34m)\u001b[0m\u001b[0;34m\u001b[0m\u001b[0m\n\u001b[0m\u001b[1;32m     66\u001b[0m \u001b[0;34m\u001b[0m\u001b[0m\n",
      "\u001b[0;31mTypeError\u001b[0m: unsupported operand type(s) for *: 'int' and 'type'",
      "\nDuring handling of the above exception, another exception occurred:\n",
      "\u001b[0;31mValueError\u001b[0m                                Traceback (most recent call last)",
      "\u001b[0;32m<ipython-input-21-9ab798d69ee6>\u001b[0m in \u001b[0;36m<module>\u001b[0;34m()\u001b[0m\n\u001b[1;32m     11\u001b[0m \u001b[0;31m# multiply selected columns by factors\u001b[0m\u001b[0;34m\u001b[0m\u001b[0;34m\u001b[0m\u001b[0m\n\u001b[1;32m     12\u001b[0m \u001b[0mcols\u001b[0m \u001b[0;34m=\u001b[0m \u001b[0;34m[\u001b[0m\u001b[0;34m'Min'\u001b[0m\u001b[0;34m,\u001b[0m \u001b[0;34m'Max'\u001b[0m\u001b[0;34m]\u001b[0m\u001b[0;34m\u001b[0m\u001b[0m\n\u001b[0;32m---> 13\u001b[0;31m \u001b[0mdf\u001b[0m\u001b[0;34m[\u001b[0m\u001b[0mcols\u001b[0m\u001b[0;34m]\u001b[0m \u001b[0;34m=\u001b[0m \u001b[0mdf\u001b[0m\u001b[0;34m[\u001b[0m\u001b[0mcols\u001b[0m\u001b[0;34m]\u001b[0m\u001b[0;34m.\u001b[0m\u001b[0mmultiply\u001b[0m\u001b[0;34m(\u001b[0m\u001b[0mfactors\u001b[0m\u001b[0;34m,\u001b[0m \u001b[0maxis\u001b[0m\u001b[0;34m=\u001b[0m\u001b[0;36m0\u001b[0m\u001b[0;34m)\u001b[0m\u001b[0;34m\u001b[0m\u001b[0m\n\u001b[0m\u001b[1;32m     14\u001b[0m \u001b[0;34m\u001b[0m\u001b[0m\n\u001b[1;32m     15\u001b[0m \u001b[0mprint\u001b[0m\u001b[0;34m(\u001b[0m\u001b[0mdf\u001b[0m\u001b[0;34m)\u001b[0m\u001b[0;34m\u001b[0m\u001b[0m\n",
      "\u001b[0;32m~/anaconda3/lib/python3.7/site-packages/pandas/core/ops.py\u001b[0m in \u001b[0;36mf\u001b[0;34m(self, other, axis, level, fill_value)\u001b[0m\n\u001b[1;32m   1552\u001b[0m             return _combine_series_frame(self, other, na_op,\n\u001b[1;32m   1553\u001b[0m                                          \u001b[0mfill_value\u001b[0m\u001b[0;34m=\u001b[0m\u001b[0mfill_value\u001b[0m\u001b[0;34m,\u001b[0m \u001b[0maxis\u001b[0m\u001b[0;34m=\u001b[0m\u001b[0maxis\u001b[0m\u001b[0;34m,\u001b[0m\u001b[0;34m\u001b[0m\u001b[0m\n\u001b[0;32m-> 1554\u001b[0;31m                                          level=level, try_cast=True)\n\u001b[0m\u001b[1;32m   1555\u001b[0m         \u001b[0;32melse\u001b[0m\u001b[0;34m:\u001b[0m\u001b[0;34m\u001b[0m\u001b[0m\n\u001b[1;32m   1556\u001b[0m             \u001b[0;32mif\u001b[0m \u001b[0mfill_value\u001b[0m \u001b[0;32mis\u001b[0m \u001b[0;32mnot\u001b[0m \u001b[0;32mNone\u001b[0m\u001b[0;34m:\u001b[0m\u001b[0;34m\u001b[0m\u001b[0m\n",
      "\u001b[0;32m~/anaconda3/lib/python3.7/site-packages/pandas/core/ops.py\u001b[0m in \u001b[0;36m_combine_series_frame\u001b[0;34m(self, other, func, fill_value, axis, level, try_cast)\u001b[0m\n\u001b[1;32m   1422\u001b[0m         \u001b[0maxis\u001b[0m \u001b[0;34m=\u001b[0m \u001b[0mself\u001b[0m\u001b[0;34m.\u001b[0m\u001b[0m_get_axis_number\u001b[0m\u001b[0;34m(\u001b[0m\u001b[0maxis\u001b[0m\u001b[0;34m)\u001b[0m\u001b[0;34m\u001b[0m\u001b[0m\n\u001b[1;32m   1423\u001b[0m         \u001b[0;32mif\u001b[0m \u001b[0maxis\u001b[0m \u001b[0;34m==\u001b[0m \u001b[0;36m0\u001b[0m\u001b[0;34m:\u001b[0m\u001b[0;34m\u001b[0m\u001b[0m\n\u001b[0;32m-> 1424\u001b[0;31m             \u001b[0;32mreturn\u001b[0m \u001b[0mself\u001b[0m\u001b[0;34m.\u001b[0m\u001b[0m_combine_match_index\u001b[0m\u001b[0;34m(\u001b[0m\u001b[0mother\u001b[0m\u001b[0;34m,\u001b[0m \u001b[0mfunc\u001b[0m\u001b[0;34m,\u001b[0m \u001b[0mlevel\u001b[0m\u001b[0;34m=\u001b[0m\u001b[0mlevel\u001b[0m\u001b[0;34m)\u001b[0m\u001b[0;34m\u001b[0m\u001b[0m\n\u001b[0m\u001b[1;32m   1425\u001b[0m         \u001b[0;32melse\u001b[0m\u001b[0;34m:\u001b[0m\u001b[0;34m\u001b[0m\u001b[0m\n\u001b[1;32m   1426\u001b[0m             return self._combine_match_columns(other, func, level=level,\n",
      "\u001b[0;32m~/anaconda3/lib/python3.7/site-packages/pandas/core/frame.py\u001b[0m in \u001b[0;36m_combine_match_index\u001b[0;34m(self, other, func, level)\u001b[0m\n\u001b[1;32m   4760\u001b[0m         left, right = self.align(other, join='outer', axis=0, level=level,\n\u001b[1;32m   4761\u001b[0m                                  copy=False)\n\u001b[0;32m-> 4762\u001b[0;31m         \u001b[0mnew_data\u001b[0m \u001b[0;34m=\u001b[0m \u001b[0mfunc\u001b[0m\u001b[0;34m(\u001b[0m\u001b[0mleft\u001b[0m\u001b[0;34m.\u001b[0m\u001b[0mvalues\u001b[0m\u001b[0;34m.\u001b[0m\u001b[0mT\u001b[0m\u001b[0;34m,\u001b[0m \u001b[0mright\u001b[0m\u001b[0;34m.\u001b[0m\u001b[0mvalues\u001b[0m\u001b[0;34m)\u001b[0m\u001b[0;34m.\u001b[0m\u001b[0mT\u001b[0m\u001b[0;34m\u001b[0m\u001b[0m\n\u001b[0m\u001b[1;32m   4763\u001b[0m         return self._constructor(new_data,\n\u001b[1;32m   4764\u001b[0m                                  \u001b[0mindex\u001b[0m\u001b[0;34m=\u001b[0m\u001b[0mleft\u001b[0m\u001b[0;34m.\u001b[0m\u001b[0mindex\u001b[0m\u001b[0;34m,\u001b[0m \u001b[0mcolumns\u001b[0m\u001b[0;34m=\u001b[0m\u001b[0mself\u001b[0m\u001b[0;34m.\u001b[0m\u001b[0mcolumns\u001b[0m\u001b[0;34m,\u001b[0m\u001b[0;34m\u001b[0m\u001b[0m\n",
      "\u001b[0;32m~/anaconda3/lib/python3.7/site-packages/pandas/core/ops.py\u001b[0m in \u001b[0;36mna_op\u001b[0;34m(x, y)\u001b[0m\n\u001b[1;32m   1502\u001b[0m                 \u001b[0mresult\u001b[0m \u001b[0;34m=\u001b[0m \u001b[0mnp\u001b[0m\u001b[0;34m.\u001b[0m\u001b[0mempty\u001b[0m\u001b[0;34m(\u001b[0m\u001b[0mx\u001b[0m\u001b[0;34m.\u001b[0m\u001b[0msize\u001b[0m\u001b[0;34m,\u001b[0m \u001b[0mdtype\u001b[0m\u001b[0;34m=\u001b[0m\u001b[0mdtype\u001b[0m\u001b[0;34m)\u001b[0m\u001b[0;34m\u001b[0m\u001b[0m\n\u001b[1;32m   1503\u001b[0m                 \u001b[0myrav\u001b[0m \u001b[0;34m=\u001b[0m \u001b[0my\u001b[0m\u001b[0;34m.\u001b[0m\u001b[0mravel\u001b[0m\u001b[0;34m(\u001b[0m\u001b[0;34m)\u001b[0m\u001b[0;34m\u001b[0m\u001b[0m\n\u001b[0;32m-> 1504\u001b[0;31m                 \u001b[0mmask\u001b[0m \u001b[0;34m=\u001b[0m \u001b[0mnotna\u001b[0m\u001b[0;34m(\u001b[0m\u001b[0mxrav\u001b[0m\u001b[0;34m)\u001b[0m \u001b[0;34m&\u001b[0m \u001b[0mnotna\u001b[0m\u001b[0;34m(\u001b[0m\u001b[0myrav\u001b[0m\u001b[0;34m)\u001b[0m\u001b[0;34m\u001b[0m\u001b[0m\n\u001b[0m\u001b[1;32m   1505\u001b[0m                 \u001b[0mxrav\u001b[0m \u001b[0;34m=\u001b[0m \u001b[0mxrav\u001b[0m\u001b[0;34m[\u001b[0m\u001b[0mmask\u001b[0m\u001b[0;34m]\u001b[0m\u001b[0;34m\u001b[0m\u001b[0m\n\u001b[1;32m   1506\u001b[0m \u001b[0;34m\u001b[0m\u001b[0m\n",
      "\u001b[0;31mValueError\u001b[0m: operands could not be broadcast together with shapes (4,) (2,) "
     ]
    }
   ],
   "source": [
    "df = pd.DataFrame([[50, 150, 'A'],\n",
    "                   [50, 150, 'B']],\n",
    "                  columns=['Min', 'Max', 'Rule'])\n",
    "print(df)\n",
    "# define dictionary mapping rule to factor\n",
    "factors_map = {'A': str, 'B': str}\n",
    "\n",
    "# create series of factors mapped from Rule\n",
    "factors = df['Rule'].map(factors_map).fillna(1)\n",
    "\n",
    "# multiply selected columns by factors\n",
    "cols = ['Min', 'Max']\n",
    "df[cols] = df[cols].multiply(factors, axis=0)\n",
    "\n",
    "print(df)"
   ]
  },
  {
   "cell_type": "code",
   "execution_count": 68,
   "metadata": {},
   "outputs": [
    {
     "name": "stdout",
     "output_type": "stream",
     "text": [
      "['**为', '*']\n",
      "{'为', '*', '\\n'}\n",
      "*\n",
      "*\n",
      "为\n",
      "*\n"
     ]
    }
   ],
   "source": [
    "\n",
    "print(a.split())\n",
    "''.join(a.split())\n",
    "print(set(list(a)))\n",
    "for i in ''.join(a.split()):\n",
    "    print(i)"
   ]
  },
  {
   "cell_type": "code",
   "execution_count": 105,
   "metadata": {},
   "outputs": [
    {
     "data": {
      "text/plain": [
       "'王明'"
      ]
     },
     "execution_count": 105,
     "metadata": {},
     "output_type": "execute_result"
    }
   ],
   "source": [
    "import itertools \n",
    "a =\"王明明\"\n",
    "\"\".join(([i[0] for i in itertools.groupby(\"\".join(a.split()))]))"
   ]
  },
  {
   "cell_type": "code",
   "execution_count": 144,
   "metadata": {},
   "outputs": [
    {
     "name": "stdout",
     "output_type": "stream",
     "text": [
      "['王', '伟']\n"
     ]
    }
   ],
   "source": []
  },
  {
   "cell_type": "markdown",
   "metadata": {},
   "source": [
    "### 正则split&字符串split\n",
    "> 正则split优点：一次能处理多个，更灵活，能保留分割符；\n",
    "\n",
    "> 字符串split优点：简单好用"
   ]
  },
  {
   "cell_type": "code",
   "execution_count": 179,
   "metadata": {},
   "outputs": [
    {
     "name": "stdout",
     "output_type": "stream",
     "text": [
      "['大']\n",
      "[1]\n",
      "大\n",
      "['王', '锤']\n",
      "['*', '*']\n",
      "['王', '大', '锤']\n",
      "['*', '大', '*']\n"
     ]
    }
   ],
   "source": [
    "a =\"王大锤\"\n",
    "b = \"*大*\"\n",
    "import re\n",
    "pat = u\"([\\u4e00-\\u9fff]+)\"\n",
    "pattern = re.compile(pat)\n",
    "results = pattern.findall(b)\n",
    "print(results)\n",
    "print([a.find(i) for i in results])\n",
    "\n",
    "for i in results:\n",
    "    print(i)\n",
    "    print(a.split(i))\n",
    "    print(b.split(i))\n",
    "#     print(re.split(r'(;|,|\\s)\\s*', b))    \n",
    "    print(re.split(\"({})\".format(i), a))    \n",
    "    print(re.split(\"({})\".format(i), b))"
   ]
  },
  {
   "cell_type": "markdown",
   "metadata": {},
   "source": [
    "### 字符串清洗：邻位去重&去所有空格"
   ]
  },
  {
   "cell_type": "code",
   "execution_count": 119,
   "metadata": {},
   "outputs": [
    {
     "data": {
      "text/plain": [
       "'测试'"
      ]
     },
     "execution_count": 119,
     "metadata": {},
     "output_type": "execute_result"
    }
   ],
   "source": [
    "import itertools\n",
    "data = \"测测  试试试\"\n",
    "\"\".join(([i[0] for i in itertools.groupby(\"\".join(data.split()))]))"
   ]
  },
  {
   "cell_type": "markdown",
   "metadata": {},
   "source": [
    "### 列表（list）去除所有指定元素"
   ]
  },
  {
   "cell_type": "code",
   "execution_count": 178,
   "metadata": {},
   "outputs": [
    {
     "name": "stdout",
     "output_type": "stream",
     "text": [
      "[0, 23, 234, 89, '', 0, 35, 9]\n",
      "[0, 23, 234, 89, '', 0, 35, 9]\n",
      "[0, 23, 234, 89, '', 0, 35, 9]\n",
      "[0, 23, 234, 89, '', 0, 35, 9]\n",
      "[23, 234, 89, 35, 9]\n",
      "[23, 234, 89, 35, 9]\n",
      "725 ns ± 88.7 ns per loop (mean ± std. dev. of 7 runs, 1000000 loops each)\n",
      "1.18 µs ± 17.3 ns per loop (mean ± std. dev. of 7 runs, 100000 loops each)\n",
      "1.28 µs ± 81.5 ns per loop (mean ± std. dev. of 7 runs, 1000000 loops each)\n",
      "1.34 µs ± 83.3 ns per loop (mean ± std. dev. of 7 runs, 1000000 loops each)\n",
      "222 ns ± 11.7 ns per loop (mean ± std. dev. of 7 runs, 10000000 loops each)\n",
      "462 ns ± 72.8 ns per loop (mean ± std. dev. of 7 runs, 1000000 loops each)\n"
     ]
    }
   ],
   "source": [
    "from operator import is_not\n",
    "from functools import partial\n",
    "L = [0, 23, 234, 89, '', 0, 35, 9]\n",
    "print([i for i in L if i not in [None]])\n",
    "print(list(filter(partial(is_not, None), L)))\n",
    "print(list(filter(partial(is_not, bool), L)))\n",
    "print(list(filter(partial(is_not, len), L)))\n",
    "print(list(filter(lambda item: item, L)))\n",
    "print(list(filter(None, L)))\n",
    "\n",
    "# 测试\n",
    "%timeit [i for i in L if i not in [None]]\n",
    "%timeit list(filter(partial(is_not, None), L))\n",
    "%timeit list(filter(partial(is_not, bool), L))\n",
    "%timeit list(filter(partial(is_not, len), L))\n",
    "%timeit filter(lambda item: item, L)\n",
    "%timeit list(filter(None, L))"
   ]
  },
  {
   "cell_type": "markdown",
   "metadata": {},
   "source": [
    "### 姓名模糊匹配算法\n",
    "> 关键点：使用相同字符做切片，根据切片结果，进行匹配（split）"
   ]
  },
  {
   "cell_type": "code",
   "execution_count": 17,
   "metadata": {
    "ExecuteTime": {
     "end_time": "2019-01-30T02:48:06.504683Z",
     "start_time": "2019-01-30T02:48:06.483222Z"
    }
   },
   "outputs": [
    {
     "name": "stdout",
     "output_type": "stream",
     "text": [
      "赵*斌 赵紫斌\n",
      "3\n",
      "李** 李方雪\n",
      "3\n",
      "罗* 罗进\n",
      "3\n",
      "何** 何林波\n",
      "3\n",
      "周** 周星\n",
      "3\n",
      "凌** 凌超\n",
      "3\n",
      "*国平 吴俊杰\n",
      "2\n",
      "*浩 蔡业浩\n",
      "3\n",
      "*立* 王立军\n",
      "3\n",
      "倪** 倪钦钦\n",
      "3\n",
      "**官 黄旭官\n",
      "3\n",
      "xx燕 李小燕\n",
      "3\n",
      "xx长 贺长\n",
      "3\n",
      "瞿xx 瞿宏平\n",
      "3\n",
      "x俊 吴俊\n",
      "3\n",
      "x贤** 魏贤刚\n",
      "3\n",
      "**昌 程文昌\n",
      "3\n",
      "蔺刚龙 蔺刚龙\n",
      "1\n",
      "王保林 王保林\n",
      "1\n",
      "伍贤军 伍贤军\n",
      "1\n",
      "陈孝顺 陈孝顺\n",
      "1\n",
      "赵丹 赵丹\n",
      "1\n",
      "石才 石义才\n",
      "2\n",
      "傅海良 刘海良\n",
      "2\n",
      "伊希 希锋\n",
      "2\n",
      "彭百凌 陈碧婷\n",
      "2\n",
      "杨勇 郝华丽\n",
      "2\n",
      "*雪* 杨雪\n",
      "2\n",
      "*戴** 戴森杰\n",
      "2\n",
      "赵斌* 赵紫斌\n",
      "2\n",
      "*志* 王志刚\n",
      "3\n",
      "** 邓君\n",
      "0\n",
      " 刘学智\n",
      "0\n"
     ]
    }
   ],
   "source": [
    "import re\n",
    "list_ = [(\"赵紫斌\", \"赵*斌\"), (\"李方雪\", \"李**\"), (\"罗进\", \"罗*\"), (\"何林波\", \"何**\"), (\"周星\", \"周**\"), (\"凌超\", \"凌**\"),\n",
    "         (\"吴俊杰\", \"*国平\"), (\"蔡业浩\", \"*浩\"), (\"王立军\", \"*立*\"), (\"倪钦钦\", \"倪**\"), (\"黄旭官\", \"**官\"), \n",
    "         (\"李小燕\", \"xx燕\"), (\"贺长\", \"xx长\"), (\"瞿宏平\", \"瞿xx\"), (\"吴俊\", \"x俊\"), (\"魏贤刚\", \"x贤**\"), (\"程文昌\", \"**昌\"), \n",
    "         (\"蔺刚龙\", \"蔺刚龙\"), (\"王保林\", \"王保林\"), (\"伍贤军\", \"伍贤军\"), (\"陈孝顺\", \"陈孝顺\"), (\"赵丹\", \"赵丹\"), \n",
    "         (\"石义才\", \"石才\"), (\"刘海良\", \"傅海良\"), (\"希锋\", \"伊希\"), (\"陈碧婷\", \"彭百凌\"), (\"郝华丽\", \"杨勇\"),\n",
    "         (\"杨雪\", \"*雪*\"), (\"戴森杰\", \"*戴**\"), (\"赵紫斌\", \"赵斌*\"), (\"王志刚\", \"*志*\"), \n",
    "         (\"邓君\", \"**\"), (\"刘学智\", \"\")]\n",
    "\n",
    "def judge_name(data, judge_data):\n",
    "    \"\"\"\n",
    "    0--无法匹配；\n",
    "    1--匹配一致；\n",
    "    2--匹配不一致；\n",
    "    3--模糊匹配一致\n",
    "    \"\"\"\n",
    "    pat = u\"([\\u4e00-\\u9fff]+)\"\n",
    "    if not data or data == u'运营商未透露' or not judge_data:\n",
    "        return 0\n",
    "    # if len(data) != len(judge_data):\n",
    "    #     return 2\n",
    "    pattern = re.compile(pat)\n",
    "    results = pattern.findall(data)\n",
    "    if not results:\n",
    "        return 0\n",
    "    ret = [len(list(filter(None, data.split(i)))) == len(list(\n",
    "        filter(None, judge_data.split(i)))) for i in results if (i in judge_data)]\n",
    "    if not ret or False in ret:\n",
    "        return 2\n",
    "    if '*' in data or 'x' in data:\n",
    "        return 3\n",
    "    return 1\n",
    "\n",
    "judge_name(u\"吴**俊*杰\",u\"吴俊杰\")\n",
    "\n",
    "for i in list_:\n",
    "    print(i[1],i[0])\n",
    "    print(judge_name(i[1], i[0]))"
   ]
  },
  {
   "cell_type": "code",
   "execution_count": 37,
   "metadata": {
    "ExecuteTime": {
     "end_time": "2019-01-30T03:17:08.599595Z",
     "start_time": "2019-01-30T03:17:08.591912Z"
    }
   },
   "outputs": [
    {
     "name": "stdout",
     "output_type": "stream",
     "text": [
      "b'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'\n"
     ]
    }
   ],
   "source": [
    "with open('ing1.png', 'rb') as wp:\n",
    "    a = wp.read()\n",
    "# print(a)\n",
    "import base64\n",
    "print(base64.b64encode(a))"
   ]
  },
  {
   "cell_type": "code",
   "execution_count": null,
   "metadata": {},
   "outputs": [],
   "source": []
  }
 ],
 "metadata": {
  "kernelspec": {
   "display_name": "Python 3",
   "language": "python",
   "name": "python3"
  },
  "language_info": {
   "codemirror_mode": {
    "name": "ipython",
    "version": 3
   },
   "file_extension": ".py",
   "mimetype": "text/x-python",
   "name": "python",
   "nbconvert_exporter": "python",
   "pygments_lexer": "ipython3",
   "version": "3.7.0"
  },
  "toc": {
   "base_numbering": 1,
   "nav_menu": {},
   "number_sections": true,
   "sideBar": true,
   "skip_h1_title": false,
   "title_cell": "Table of Contents",
   "title_sidebar": "Contents",
   "toc_cell": false,
   "toc_position": {},
   "toc_section_display": true,
   "toc_window_display": false
  },
  "varInspector": {
   "cols": {
    "lenName": 16,
    "lenType": 16,
    "lenVar": 40
   },
   "kernels_config": {
    "python": {
     "delete_cmd_postfix": "",
     "delete_cmd_prefix": "del ",
     "library": "var_list.py",
     "varRefreshCmd": "print(var_dic_list())"
    },
    "r": {
     "delete_cmd_postfix": ") ",
     "delete_cmd_prefix": "rm(",
     "library": "var_list.r",
     "varRefreshCmd": "cat(var_dic_list()) "
    }
   },
   "types_to_exclude": [
    "module",
    "function",
    "builtin_function_or_method",
    "instance",
    "_Feature"
   ],
   "window_display": false
  }
 },
 "nbformat": 4,
 "nbformat_minor": 2
}
