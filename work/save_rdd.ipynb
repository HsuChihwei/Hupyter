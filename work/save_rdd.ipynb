{
 "cells": [
  {
   "cell_type": "markdown",
   "metadata": {},
   "source": [
    "### 待测模块"
   ]
  },
  {
   "cell_type": "code",
   "execution_count": 1,
   "metadata": {},
   "outputs": [],
   "source": [
    "import time\n",
    "import traceback\n",
    "from datetime import datetime\n",
    "\n",
    "def timestamp_to_datetime(time, f=\"%Y-%m-%d %H:%M:%S\"):\n",
    "    try:\n",
    "        if len(time) == 10:\n",
    "            return datetime.fromtimestamp(int(time)).strftime(f)\n",
    "        else:\n",
    "            return datetime.fromtimestamp(int(time)/1000).strftime(f)\n",
    "    except Exception as e:\n",
    "        print(e)\n",
    "        return None\n",
    "\n",
    "def save_rdd(item):\n",
    "    try:\n",
    "        key=\"{}_{}\".format(bc_judge_time.value.replace('-','') , item[1])\n",
    "        data = item[0]\n",
    "        score=[data.main_score, data.cs_latest_phone_days,data.cs_first_phone_days,data.cs_phone_numbers, data.cs_total_phone_times, data.cs_called_times, data.cs_phone_times_in_15s, data.cs_phone_times_between_15_30s,data.cs_phone_times_over_60s, data.yscs_latest_phone_days, data.yscs_first_phone_days, data.yscs_phone_numbers, data.yscs_total_phone_times, data.yscs_called_times,data.yscs_phone_times_in_15s, data.yscs_phone_times_between_15_30s, data.yscs_phone_times_over_60s, data.cs_phone_numbers_in_7_days, data.cs_called_times_in_7_days, data.yscs_phone_numbers_in_7_days, data.yscs_called_times_in_7_days, data.cs_phone_numbers_in_14_days, data.cs_called_times_in_14_days, data.yscs_phone_numbers_in_14_days, data.yscs_called_times_in_14_days,data.cs_phone_numbers_in_21_days, data.cs_called_times_in_21_days, data.yscs_phone_numbers_in_21_days, data.yscs_called_times_in_21_days, data.cs_phone_numbers_in_30_days, data.cs_called_times_in_30_days, data.yscs_phone_numbers_in_30_days, data.yscs_called_times_in_30_days, data.cs_phone_numbers_between_30_60_days, data.cs_called_times_between_30_60_days, data.yscs_phone_numbers_between_30_60_days, data.yscs_called_times_between_30_60_days]\n",
    "        value=\"{}_{}\".format(data.user_number, \",\".join([str(i) for i in score]))\n",
    "        result=\"{}|{}\".format(key,value)\n",
    "        return result\n",
    "        #return set_csf(key, value)\n",
    "    except:\n",
    "        print(timestamp_to_datetime(str(int(time.time()))))\n",
    "        msg = traceback.format_exc()\n",
    "        return \"报错信息：{}, 报错数据：{}\".format(msg, item)\n",
    "        #return None\n"
   ]
  },
  {
   "cell_type": "markdown",
   "metadata": {},
   "source": [
    "### 组建输入参数"
   ]
  },
  {
   "cell_type": "code",
   "execution_count": 4,
   "metadata": {},
   "outputs": [],
   "source": [
    "class Map(dict):\n",
    "    \"\"\"\n",
    "    Example:\n",
    "    m = Map({'first_name': 'Eduardo'}, last_name='Pool', age=24, sports=['Soccer'])\n",
    "    \"\"\"\n",
    "    def __init__(self, *args, **kwargs):\n",
    "        super(Map, self).__init__(*args, **kwargs)\n",
    "        for arg in args:\n",
    "            if isinstance(arg, dict):\n",
    "                for k, v in arg.items():\n",
    "                    self[k] = v\n",
    "\n",
    "        if kwargs:\n",
    "            for k, v in kwargs.items():\n",
    "                self[k] = v\n",
    "\n",
    "    def __getattr__(self, attr):\n",
    "        return self.get(attr)\n",
    "\n",
    "    def __setattr__(self, key, value):\n",
    "        self.__setitem__(key, value)\n",
    "\n",
    "    def __setitem__(self, key, value):\n",
    "        super(Map, self).__setitem__(key, value)\n",
    "        self.__dict__.update({key: value})\n",
    "\n",
    "    def __delattr__(self, item):\n",
    "        self.__delitem__(item)\n",
    "\n",
    "    def __delitem__(self, key):\n",
    "        super(Map, self).__delitem__(key)\n",
    "        del self.__dict__[key]\n",
    "\n",
    "data = {\n",
    "    \"user_number\":'13800138000',\n",
    "    \"main_score\":'14',\n",
    "    \"cs_latest_phone_time\" : '7',\n",
    "    \"cs_first_phone_time\" : '7',\n",
    "    \"cs_latest_phone_days\" : '7',\n",
    "    \"cs_first_phone_days\" : '7',\n",
    "    \"cs_phone_numbers\" : '7',\n",
    "    \"yscs_phone_numbers_in_21_days\" : '7',\n",
    "    \"yscs_phone_numbers_in_30_days\" : '7',\n",
    "    \"cs_total_phone_times\" : '7',\n",
    "    \"cs_called_times\" : '7',\n",
    "    \"cs_phone_times_in_15s\" : '7',\n",
    "    \"cs_phone_times_between_15_30s\" : '7',\n",
    "    \"cs_phone_times_over_60s\" : '7',\n",
    "    \"cs_phone_numbers_in_7_days\" : '7',\n",
    "    \"cs_phone_numbers_in_14_days\" : '7',\n",
    "    \"cs_phone_numbers_in_21_days\" : '7',\n",
    "    \"yscs_called_times_in_14_days\" : '7',\n",
    "    \"yscs_called_times_in_21_days\" : '7',\n",
    "    \"yscs_called_times_in_30_days\" : '7',\n",
    "    \"yscs_called_times_between_30_60_days\" : '7',\n",
    "    \"cs_phone_numbers_between_30_60_days\" : '7',\n",
    "    \"cs_called_times_in_7_days\" : '7',\n",
    "    \"cs_called_times_in_14_days\" : '7',\n",
    "    \"cs_called_times_in_21_days\" : '7',\n",
    "    \"cs_called_times_in_30_days\" : '7',\n",
    "    \"cs_called_times_between_30_60_days\" : '7',\n",
    "    \"yscs_latest_phone_time\" : '7',\n",
    "    \"yscs_first_phone_time\" : '7',\n",
    "    \"yscs_latest_phone_days\" : '7',\n",
    "    \"yscs_first_phone_days\" : '7',\n",
    "    \"yscs_phone_numbers\" : '7',\n",
    "    \"yscs_total_phone_times\" : '7',\n",
    "    \"yscs_called_times\" : '7',\n",
    "    \"yscs_phone_times_in_15s\" : '7',\n",
    "    \"yscs_phone_times_between_15_30s\" : '7',\n",
    "    \"yscs_phone_times_over_60s\" : '7',\n",
    "    \"yscs_phone_numbers_in_7_days\" : '7',\n",
    "    \"yscs_phone_numbers_in_14_days\" : '7',\n",
    "    \"yscs_phone_numbers_between_30_60_days\" : '7',\n",
    "    \"cs_phone_numbers_in_30_days\" : '7',\n",
    "    \"yscs_called_times_in_7_days\" : '7'\n",
    "}\n",
    "item = [Map(data), '1']\n",
    "bc_judge_time =Map({'value': '2018-09-01'})"
   ]
  },
  {
   "cell_type": "markdown",
   "metadata": {},
   "source": [
    "### 测试save_rdd耗时"
   ]
  },
  {
   "cell_type": "code",
   "execution_count": 6,
   "metadata": {},
   "outputs": [
    {
     "name": "stdout",
     "output_type": "stream",
     "text": [
      "9.54 µs ± 733 ns per loop (mean ± std. dev. of 7 runs, 100000 loops each)\n"
     ]
    }
   ],
   "source": [
    "%timeit save_rdd(item) # 测试100000次"
   ]
  }
 ],
 "metadata": {
  "kernelspec": {
   "display_name": "Python 3",
   "language": "python",
   "name": "python3"
  },
  "language_info": {
   "codemirror_mode": {
    "name": "ipython",
    "version": 3
   },
   "file_extension": ".py",
   "mimetype": "text/x-python",
   "name": "python",
   "nbconvert_exporter": "python",
   "pygments_lexer": "ipython3",
   "version": "3.7.0"
  }
 },
 "nbformat": 4,
 "nbformat_minor": 2
}
