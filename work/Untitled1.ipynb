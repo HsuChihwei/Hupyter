{
 "cells": [
  {
   "cell_type": "code",
   "execution_count": 1,
   "metadata": {
    "ExecuteTime": {
     "end_time": "2019-03-04T01:50:00.763729Z",
     "start_time": "2019-03-04T01:50:00.748666Z"
    }
   },
   "outputs": [
    {
     "data": {
      "text/plain": [
       "[[0, 1, 2, 3, 4, 5, 6, 7], [8, 9]]"
      ]
     },
     "execution_count": 1,
     "metadata": {},
     "output_type": "execute_result"
    }
   ],
   "source": [
    "l = [ i for i in range(10)]\n",
    "n=8\n",
    "[l[i:i + n] for i in range(0, len(l), n)]"
   ]
  },
  {
   "cell_type": "code",
   "execution_count": 2,
   "metadata": {},
   "outputs": [
    {
     "data": {
      "text/plain": [
       "59264398"
      ]
     },
     "execution_count": 2,
     "metadata": {},
     "output_type": "execute_result"
    }
   ],
   "source": [
    "\n",
    "# life 54,201,246 2514379  56715625  2557027  59272652\n",
    "# yellow 50,364,895  3242870  53607765  4526369 58134134\n",
    "# bkwd 46,065,625 2974236 49039851  643928 49683779\n",
    "56707371\n",
    "48863651\n",
    "\n",
    "49507579\n",
    "59264398"
   ]
  },
  {
   "cell_type": "code",
   "execution_count": 21,
   "metadata": {
    "ExecuteTime": {
     "end_time": "2019-03-07T08:07:55.080430Z",
     "start_time": "2019-03-07T08:07:55.073871Z"
    }
   },
   "outputs": [
    {
     "data": {
      "text/plain": [
       "0.19262214492753624"
      ]
     },
     "execution_count": 21,
     "metadata": {},
     "output_type": "execute_result"
    }
   ],
   "source": [
    "3322732/(17250000)"
   ]
  },
  {
   "cell_type": "code",
   "execution_count": 25,
   "metadata": {},
   "outputs": [
    {
     "data": {
      "text/plain": [
       "125.71428571428571"
      ]
     },
     "execution_count": 25,
     "metadata": {},
     "output_type": "execute_result"
    }
   ],
   "source": [
    "55*3600/2800 + 55"
   ]
  },
  {
   "cell_type": "code",
   "execution_count": 4,
   "metadata": {
    "ExecuteTime": {
     "end_time": "2019-03-06T01:34:54.989568Z",
     "start_time": "2019-03-06T01:34:54.982940Z"
    }
   },
   "outputs": [
    {
     "data": {
      "text/plain": [
       "49683779"
      ]
     },
     "execution_count": 4,
     "metadata": {},
     "output_type": "execute_result"
    }
   ],
   "source": [
    "54201246+2514379+2557027\n",
    "53607765+4526369\n",
    "49039851+643928"
   ]
  },
  {
   "cell_type": "code",
   "execution_count": 5,
   "metadata": {
    "ExecuteTime": {
     "end_time": "2019-03-04T03:41:21.044063Z",
     "start_time": "2019-03-04T03:41:21.036691Z"
    }
   },
   "outputs": [
    {
     "data": {
      "text/plain": [
       "53607765"
      ]
     },
     "execution_count": 5,
     "metadata": {},
     "output_type": "execute_result"
    }
   ],
   "source": [
    "48863651-46065625\n",
    "56707371-54201246\n",
    "3242870+50364895 "
   ]
  },
  {
   "cell_type": "code",
   "execution_count": 6,
   "metadata": {
    "ExecuteTime": {
     "start_time": "2019-03-04T06:02:56.876Z"
    }
   },
   "outputs": [
    {
     "ename": "MemoryError",
     "evalue": "",
     "output_type": "error",
     "traceback": [
      "\u001b[0;31m---------------------------------------------------------------------------\u001b[0m",
      "\u001b[0;31mMemoryError\u001b[0m                               Traceback (most recent call last)",
      "\u001b[0;32m<ipython-input-6-53b23c47ab46>\u001b[0m in \u001b[0;36m<module>\u001b[0;34m\u001b[0m\n\u001b[1;32m     15\u001b[0m        \u001b[0;32myield\u001b[0m \u001b[0mchunk\u001b[0m\u001b[0;34m\u001b[0m\u001b[0;34m\u001b[0m\u001b[0m\n\u001b[1;32m     16\u001b[0m \u001b[0;34m\u001b[0m\u001b[0m\n\u001b[0;32m---> 17\u001b[0;31m \u001b[0;34m[\u001b[0m\u001b[0mi\u001b[0m \u001b[0;32mfor\u001b[0m \u001b[0mi\u001b[0m \u001b[0;32min\u001b[0m \u001b[0mgrouper\u001b[0m\u001b[0;34m(\u001b[0m\u001b[0;34m'ABCDEFG'\u001b[0m\u001b[0;34m,\u001b[0m \u001b[0;36m3\u001b[0m\u001b[0;34m)\u001b[0m\u001b[0;34m]\u001b[0m\u001b[0;34m\u001b[0m\u001b[0;34m\u001b[0m\u001b[0m\n\u001b[0m",
      "\u001b[0;32m<ipython-input-6-53b23c47ab46>\u001b[0m in \u001b[0;36m<listcomp>\u001b[0;34m(.0)\u001b[0m\n\u001b[1;32m     15\u001b[0m        \u001b[0;32myield\u001b[0m \u001b[0mchunk\u001b[0m\u001b[0;34m\u001b[0m\u001b[0;34m\u001b[0m\u001b[0m\n\u001b[1;32m     16\u001b[0m \u001b[0;34m\u001b[0m\u001b[0m\n\u001b[0;32m---> 17\u001b[0;31m \u001b[0;34m[\u001b[0m\u001b[0mi\u001b[0m \u001b[0;32mfor\u001b[0m \u001b[0mi\u001b[0m \u001b[0;32min\u001b[0m \u001b[0mgrouper\u001b[0m\u001b[0;34m(\u001b[0m\u001b[0;34m'ABCDEFG'\u001b[0m\u001b[0;34m,\u001b[0m \u001b[0;36m3\u001b[0m\u001b[0;34m)\u001b[0m\u001b[0;34m]\u001b[0m\u001b[0;34m\u001b[0m\u001b[0;34m\u001b[0m\u001b[0m\n\u001b[0m",
      "\u001b[0;31mMemoryError\u001b[0m: "
     ]
    }
   ],
   "source": [
    "import itertools\n",
    "from itertools import zip_longest\n",
    "def grouper(iterable, n, fillvalue=None):\n",
    "    \"Collect data into fixed-length chunks or blocks\"\n",
    "    # grouper('ABCDEFG', 3, 'x') --> ABC DEF Gxx\"\n",
    "    args = [iter(iterable)] * n\n",
    "    return zip_longest(*args, fillvalue=fillvalue)\n",
    "\n",
    "def grouper(iterable, n):\n",
    "    it = iter(iterable)\n",
    "    while True:\n",
    "       chunk = itertools.islice(it, n)\n",
    "       if not chunk:\n",
    "           return\n",
    "       yield chunk\n",
    "\n",
    "[i for i in grouper('ABCDEFG', 3)]"
   ]
  },
  {
   "cell_type": "code",
   "execution_count": 7,
   "metadata": {},
   "outputs": [
    {
     "ename": "SyntaxError",
     "evalue": "Missing parentheses in call to 'print'. Did you mean print('bingo')? (<ipython-input-7-17bbf7cebeca>, line 2)",
     "output_type": "error",
     "traceback": [
      "\u001b[0;36m  File \u001b[0;32m\"<ipython-input-7-17bbf7cebeca>\"\u001b[0;36m, line \u001b[0;32m2\u001b[0m\n\u001b[0;31m    print 'bingo'\u001b[0m\n\u001b[0m                ^\u001b[0m\n\u001b[0;31mSyntaxError\u001b[0m\u001b[0;31m:\u001b[0m Missing parentheses in call to 'print'. Did you mean print('bingo')?\n"
     ]
    }
   ],
   "source": [
    "# 50,364,895 \n",
    "print 'bingo'"
   ]
  },
  {
   "cell_type": "code",
   "execution_count": 8,
   "metadata": {
    "ExecuteTime": {
     "end_time": "2019-03-04T07:44:50.285136Z",
     "start_time": "2019-03-04T07:44:50.275568Z"
    }
   },
   "outputs": [
    {
     "data": {
      "text/plain": [
       "[[0, 1], [2, 3], [4, 5], [6, 7], [8, 9]]"
      ]
     },
     "execution_count": 8,
     "metadata": {},
     "output_type": "execute_result"
    }
   ],
   "source": [
    "from itertools import chain, islice\n",
    "\n",
    "\n",
    "def chunks(iterable, size=10000):\n",
    "    \"\"\"\n",
    "    已知长度\n",
    "    \"\"\"\n",
    "    return [iterable[i:i + size] for i in range(0, len(iterable), size)]\n",
    "#     iterator = iter(iterable)\n",
    "#     for first in iterator:\n",
    "#         yield chain([first], islice(iterator, size - 1))\n",
    "\n",
    "def grouper(iterable, size=10000):\n",
    "    \"\"\"\n",
    "    未知长度\n",
    "    \"\"\"\n",
    "    it = iter(iterable)\n",
    "    while True:\n",
    "        chunk = list(islice(it, size))\n",
    "        if not chunk:\n",
    "            return\n",
    "        yield chunk\n",
    "\n",
    "[i for i in grouper([i for i in range(10)],size=2)]"
   ]
  },
  {
   "cell_type": "code",
   "execution_count": null,
   "metadata": {},
   "outputs": [],
   "source": [
    "# 数据维度(行，列):\n",
    "# (6, 6)\n",
    "# 数据格式:\n",
    "# id int64\n",
    "# date datetime64[ns]\n",
    "# city object\n",
    "# category object\n",
    "# age int64\n",
    "# price float64\n",
    "# dtype: object\n",
    "# 列名称:\n",
    "# Index(['id', 'date', 'city', 'category', 'age', 'price'], dtype='object')"
   ]
  },
  {
   "cell_type": "code",
   "execution_count": 9,
   "metadata": {},
   "outputs": [
    {
     "data": {
      "text/plain": [
       "['s']"
      ]
     },
     "execution_count": 9,
     "metadata": {},
     "output_type": "execute_result"
    }
   ],
   "source": [
    "list(filter(None, set(['','s']))) if [''] else []"
   ]
  },
  {
   "cell_type": "code",
   "execution_count": null,
   "metadata": {},
   "outputs": [],
   "source": [
    "import time\n",
    "time.strftime(\"%Y%m%d%H%M%S\", time.localtime(int(time.time())))"
   ]
  },
  {
   "cell_type": "code",
   "execution_count": null,
   "metadata": {},
   "outputs": [],
   "source": [
    "\"123\".split(';')"
   ]
  },
  {
   "cell_type": "code",
   "execution_count": 26,
   "metadata": {},
   "outputs": [
    {
     "name": "stdout",
     "output_type": "stream",
     "text": [
      "Looking in indexes: http://mirrors.aliyun.com/pypi/simple/\n",
      "Collecting pyhanlp\n",
      "Collecting jpype1 (from pyhanlp)\n",
      "\u001b[?25l  Downloading http://mirrors.aliyun.com/pypi/packages/c4/4b/60a3e63d51714d4d7ef1b1efdf84315d118a0a80a5b085bb52a7e2428cdc/JPype1-0.6.3.tar.gz (168kB)\n",
      "\u001b[K    100% |████████████████████████████████| 174kB 11.5MB/s \n",
      "\u001b[?25hBuilding wheels for collected packages: jpype1\n",
      "  Building wheel for jpype1 (setup.py) ... \u001b[?25ldone\n",
      "\u001b[?25h  Stored in directory: /root/.cache/pip/wheels/55/42/ec/29c70fd389adabba81737bfcbad9151e6fc9006826c3e7fa22\n",
      "Successfully built jpype1\n",
      "Installing collected packages: jpype1, pyhanlp\n",
      "Successfully installed jpype1-0.6.3 pyhanlp-0.1.45\n"
     ]
    }
   ],
   "source": [
    "!pip install pyhanlp"
   ]
  },
  {
   "cell_type": "code",
   "execution_count": null,
   "metadata": {},
   "outputs": [],
   "source": [
    "from bson.objectid import ObjectId\n"
   ]
  },
  {
   "cell_type": "code",
   "execution_count": null,
   "metadata": {},
   "outputs": [],
   "source": [
    "def get_all_sid_no_time(conn, db, _id='', id_='', st_time='', end_time='', limits=10000):\n",
    "    id_tmp = {}\n",
    "    if _id:\n",
    "        id_tmp['$gt'] = _id\n",
    "    if id_:\n",
    "        id_tmp['$lte'] = id_\n",
    "\n",
    "    time_tmp = {}\n",
    "    if st_time:\n",
    "        time_tmp['$gte'] = st_time\n",
    "    if end_time:\n",
    "        time_tmp['$lte'] = end_time\n",
    "\n",
    "    sql = {'_id': id_tmp} if id_tmp else {}\n",
    "    if time_tmp:\n",
    "        sql.update({'time':time_tmp})\n",
    "    return sql\n",
    "\n",
    "get_all_sid_no_time('conn', 'db', _id='123', id_='345', st_time='2018', end_time='2019', limits=100)"
   ]
  },
  {
   "cell_type": "code",
   "execution_count": null,
   "metadata": {},
   "outputs": [],
   "source": [
    "import requests, uuid\n",
    "query_header = {\n",
    "            \"Accept\": \"text/html,application/xhtml+xml,application/xml;q=0.9,image/webp,image/apng,*/*;q=0.8,application/signed-exchange;v=b3\",\n",
    "            \"Accept-Encoding\": \"gzip, deflate, br\",\n",
    "            \"Accept-Language\": \"zh-CN,zh;q=0.9,en;q=0.8\",\n",
    "            \"Connection\": \"keep-alive\",\n",
    "            \"Host\": \"www.amap.com\",\n",
    "            \"Upgrade-Insecure-Requests\": \"1\",\n",
    "            \"User-Agent\": \"Mozilla/5.0 (Windows NT 10.0; Win64; x64) AppleWebKit/537.36 (KHTML, like Gecko) Chrome/73.0.3683.103 Safari/537.36\"\n",
    "        }\n",
    "# 后期可以根据实际情形微\n",
    "cookies_str = f\"guid={str(uuid.uuid4())[4:23]}\"\n",
    "ip = requests.get('http://47.110.64.229:5010/get').text\n",
    "proxy={\n",
    "    \"http\": \"http://{}\".format(ip),\n",
    "    \"https\": \"http://{}\".format(ip)\n",
    "}\n",
    "print(proxy)\n",
    "r = requests.get('https://www.amap.com/service/poiInfo?query_type=TQUERY&pagesize=20&pagenum={}&city={}&keywords={}'.format(1, '', '肯德基'),proxies=proxy)\n",
    "print(r.status_code, r.text)"
   ]
  },
  {
   "cell_type": "code",
   "execution_count": null,
   "metadata": {},
   "outputs": [],
   "source": [
    "!pip install requests\n"
   ]
  },
  {
   "cell_type": "code",
   "execution_count": 1,
   "metadata": {},
   "outputs": [
    {
     "data": {
      "text/plain": [
       "0.025235294117647057"
      ]
     },
     "execution_count": 1,
     "metadata": {},
     "output_type": "execute_result"
    }
   ],
   "source": [
    "193050/7650000"
   ]
  },
  {
   "cell_type": "code",
   "execution_count": 11,
   "metadata": {},
   "outputs": [
    {
     "name": "stdout",
     "output_type": "stream",
     "text": [
      "\n",
      "{\"rgv587_flag\": \"sm\", \"url\": \"/service/poiInfo/_____tmd_____/punish?x5secdata=5e0c8e1365474455070961b803bd560607b52cabf5960afff39b64ce58073f78f095b6a70f415eb80daf000cedba5ead38d9a2a0ac48b428a68cd31d3048050015ffd60f48a95c19dbd6de3a68e082d35151e037d30b894fa1b9f0617640df860a901a36bd6d324642091753f1253ec47fad7705c7bf26a7ef1aa109e380a6201473b51f675167474e98a8e5b54cd64e833bac0324e1227b53ce85eabea39753743c66edfed131864a5491345ebb1bf3e0496fd369fe90d5a5cb0968745f3629178efae499285026a691b1bbcbe6d41c0894711f8886981925a9d1b1f6c255fbfaf2d7b61663b3676a64d7b83cba6f8c28151d64f960ed4defa80534c4d506c9d8920280fc50fa46a9cc0bcaa685477b55a0d44cf476a595985ea90466f2c916165dd37aa6138b58f4ee6dfa387d87301434d87caf04a59720e4c6cea7300d81f2f18e6756705a2756b39ff629e9fab0dc6310665f1e7418a9919ef4ff26a7faac62b8c07ac9734d6799e4f8b11e11a59dab80f89293688707c3aec5d53b80ede4be22176de4a5cd6f92fe03138e4567101f27195fab15e9890f102e2ae62062bc6f0aa32c18a81f0d580f0533dfcba614b3e7c6aab9342caa43ed93d30843a6847549629d396dc3c63682f50294cee4ccb5c9e19cc225025c21ad719f6f2900b636d0b4a90492a3d8d1871951a59ee2b8942a5b5a8dd4f8f128b4471aacf52463380abff69b69baf9e435df888ed333af51fe12bf27e9d1ee08f52125500ce00a93440ed0f3c0e28ca56b1e218b57c7cc712927e0ed37ee2b90ce56c6ff613eafd5701786ef448148b53cf33a43355595d56faaf5078602706a1c800be80ffa4a973880b42de9f03870f6a7edcaf4e3a14bf4001c099ee66996cc7f1ff67241aa6302e2e6140d69fa4acfb731d48ec7f6369a05f3a2f7d9bdb05a55be392c428c8e64b214e29272c2151be27a235ec2c413bc2e0301352f23005b2cb57a6198d3f9e5c44cdaa1347282bdcc0813520d7f778cb561179c09b27d71d61637990aab570034bcc3f82cda2fb36536ba0f785d6369275702e49c6251047485f09192e14834ef2d6392f5f6916c540abaed83e08b9a988300a620655a1749931c83ba&x5step=2\"}\n"
     ]
    }
   ],
   "source": [
    "import requests\n",
    "\n",
    "url = \"https://www.amap.com/service/poiInfo\"\n",
    "\n",
    "querystring = {\"query_type\":\"TQUERY\",\"pagesize\":\"20\",\"pagenum\":\"1\",\"qii\":\"true\",\"cluster_state\":\"5\",\"need_utd\":\"true\",\"utd_sceneid\":\"1000\",\"div\":\"PC1000\",\"addr_poi_merge\":\"true\",\"is_classify\":\"true\",\"zoom\":\"14\",\"city\":\"110000\",\"geoobj\":\"116.438829|39.883656|116.480385|39.93614\",\"keywords\":\"麦当劳\"}\n",
    "\n",
    "headers = {\n",
    "    'accept': \"*/*\",\n",
    "    'accept-encoding': \"gzip, deflate, br\",\n",
    "    'accept-language': \"zh-CN,zh;q=0.9,en;q=0.8\",\n",
    "    'amapuuid': \"73541667-d519-4a5b-904c-cbbec8576692\",\n",
    "    'connection': \"keep-alive\",\n",
    "    'cookie': \"guid=7cfe-6b69-fc66-bfa8;\",\n",
    "    'host': \"www.amap.com\",\n",
    "    'referer': \"https://www.amap.com/search?query=%E9%BA%A6%E5%BD%93%E5%8A%B3&city=110000&geoobj=116.438829%7C39.883656%7C116.480385%7C39.93614&zoom=14\",\n",
    "    'user-agent': \"Mozilla/5.0 (Windows NT 10.0; Win64; x64) AppleWebKit/537.36 (KHTML, like Gecko) Chrome/73.0.3683.103 Safari/537.36\",\n",
    "    'x-csrf-token': \"null\",\n",
    "    'x-requested-with': \"XMLHttpRequest\",\n",
    "    'cache-control': \"no-cache\",\n",
    "    'postman-token': \"42f943ac-58b3-01a8-b957-f8b9389b7af3\"\n",
    "    }\n",
    "\n",
    "response = requests.request(\"GET\", url, headers=headers, params=querystring)\n",
    "\n",
    "print(response.text)"
   ]
  },
  {
   "cell_type": "code",
   "execution_count": null,
   "metadata": {},
   "outputs": [],
   "source": []
  }
 ],
 "metadata": {
  "kernelspec": {
   "display_name": "py37",
   "language": "python",
   "name": "py37"
  },
  "language_info": {
   "codemirror_mode": {
    "name": "ipython",
    "version": 3
   },
   "file_extension": ".py",
   "mimetype": "text/x-python",
   "name": "python",
   "nbconvert_exporter": "python",
   "pygments_lexer": "ipython3",
   "version": "3.7.3"
  },
  "toc": {
   "base_numbering": 1,
   "nav_menu": {},
   "number_sections": true,
   "sideBar": true,
   "skip_h1_title": false,
   "title_cell": "Table of Contents",
   "title_sidebar": "Contents",
   "toc_cell": false,
   "toc_position": {},
   "toc_section_display": true,
   "toc_window_display": false
  },
  "varInspector": {
   "cols": {
    "lenName": 16,
    "lenType": 16,
    "lenVar": 40
   },
   "kernels_config": {
    "python": {
     "delete_cmd_postfix": "",
     "delete_cmd_prefix": "del ",
     "library": "var_list.py",
     "varRefreshCmd": "print(var_dic_list())"
    },
    "r": {
     "delete_cmd_postfix": ") ",
     "delete_cmd_prefix": "rm(",
     "library": "var_list.r",
     "varRefreshCmd": "cat(var_dic_list()) "
    }
   },
   "types_to_exclude": [
    "module",
    "function",
    "builtin_function_or_method",
    "instance",
    "_Feature"
   ],
   "window_display": false
  }
 },
 "nbformat": 4,
 "nbformat_minor": 2
}
