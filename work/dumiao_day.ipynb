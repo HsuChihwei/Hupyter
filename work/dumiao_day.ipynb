{
 "cells": [
  {
   "cell_type": "code",
   "execution_count": 1,
   "metadata": {},
   "outputs": [],
   "source": [
    "import findspark\n",
    "findspark.init()"
   ]
  },
  {
   "cell_type": "code",
   "execution_count": 2,
   "metadata": {},
   "outputs": [],
   "source": [
    "from pyspark import SparkContext, SparkConf\n",
    "from pyspark.sql import HiveContext, Row\n",
    "conf = SparkConf().setAppName(\"chihweihsu\").setMaster(\"local[*]\")\n",
    "sc = SparkContext(conf=conf)\n",
    "sqlContext = HiveContext(sc)"
   ]
  },
  {
   "cell_type": "code",
   "execution_count": null,
   "metadata": {},
   "outputs": [],
   "source": [
    "from pyspark.sql import Row\n",
    "data = sc.parallelize([(\"18679196770\",0,1,45.3,4,\"3:12\"),\\\n",
    "                       (\"18679196771\",3,2,45.3,14,\"5:18\"),\\\n",
    "                       (\"18679196772\",5,0,45.3,34,\"3:22\"),\\\n",
    "                       (\"18679196773\",6,4,45.3,44,\"7:12\"),\\\n",
    "                       (\"18679196774\",8,8,45.3,54,\"0:11\"),\\\n",
    "                       (\"18679196775\",9,9,45.3,64,\"1:13\"),\\\n",
    "                       (\"18679196776\",2,2,45.3,74,\"2:19\"),\\\n",
    "                       (\"18679196777\",1,5,45.3,84,\"6:27\"),\\\n",
    "                       (\"18679196778\",5,3,45.3,94,\"2:18\")]).map(lambda x: (x[0], x[1:]))\n",
    "print data.collect()\n",
    "wp = data.partitionBy(8,lambda k: int(k)%8)\n",
    "print wp.collect()\n",
    "print wp.map(lambda t: t[0]).collect()\n",
    "print wp.glom().collect()"
   ]
  },
  {
   "cell_type": "code",
   "execution_count": 3,
   "metadata": {},
   "outputs": [
    {
     "name": "stdout",
     "output_type": "stream",
     "text": [
      "['18679196770|0,0,0,0,0,0,0,0,0|1_10,2_9,3_6,0_18,0_7,0_9,1_19,0_8,1_9', '18679196771|0,1,1,0,None,1,1,0,0|1_10,2_9,3_6,0_18,0_7,0_9,1_19,0_8,1_9', '18679196772|0,1,0,0,0,1,1,0,0|1_10,2_9,3_6,0_18,0_7,0_9,1_19,0_8,1_9', '18679196773|0,1,1,0,0,0,0,0,0|1_10,2_9,3_6,0_18,0_7,0_9,1_19,0_8,1_9']\n",
      "['18679196770|12.3|None', '18679196771|230|24', '18679196772|None|4']\n",
      "['18679196770|None', '18679196772|1', '18679196773|15']\n"
     ]
    }
   ],
   "source": [
    "# data1 = sc.parallelize(\"18679196770|0,1,1,0,0,1,0,0,0|1_10,2_9,3_6,0_18,0_7,0_9,1_19,0_8,1_9\") # F1,F5\n",
    "# data2 = sc.parallelize(\"18679196770|12.3|24\") # F3,F4\n",
    "# data3 = sc.parallelize([\"18679196770|34\"]) # F2\n",
    "# print data3.collect()\n",
    "# data3.alias('a').join(df2.alias('b'),col('b.id') == col('a.id')).select([col('a.'+xx) for xx in a.columns] + [col('b.other1'),col('b.other2')])\n",
    "# data.map()\n",
    "a = sc.parallelize([\"18679196770|0,0,0,0,0,0,0,0,0|1_10,2_9,3_6,0_18,0_7,0_9,1_19,0_8,1_9\", \\\n",
    "                    \"18679196771|0,1,1,0,None,1,1,0,0|1_10,2_9,3_6,0_18,0_7,0_9,1_19,0_8,1_9\", \\\n",
    "                    \"18679196772|0,1,0,0,0,1,1,0,0|1_10,2_9,3_6,0_18,0_7,0_9,1_19,0_8,1_9\", \\\n",
    "                    \"18679196773|0,1,1,0,0,0,0,0,0|1_10,2_9,3_6,0_18,0_7,0_9,1_19,0_8,1_9\" \\\n",
    "                   ])\n",
    "a.saveAsTextFile('./hdfs/dumiao/callLog')\n",
    "print a.collect()\n",
    "b = sc.parallelize([\"18679196770|12.3|None\",\"18679196771|230|24\", \"18679196772|None|4\"])\n",
    "b.saveAsTextFile('./hdfs/dumiao/userInfo')\n",
    "print b.collect()\n",
    "c = sc.parallelize([\"18679196770|None\",\"18679196772|1\", \"18679196773|15\"])\n",
    "c.saveAsTextFile('./hdfs/dumiao/cuishou')\n",
    "print c.collect()\n",
    "# b = sc.parallelize([['p1', 'a'], ['p2', 'b'], ['p3', 'c']]).toDF([\"other\", \"b_id\"])\n",
    "\n",
    "# c = a.join(b, a.tel == b.tel).drop(b.tel)"
   ]
  },
  {
   "cell_type": "code",
   "execution_count": 14,
   "metadata": {},
   "outputs": [],
   "source": [
    "import itertools\n",
    "\n",
    "def deal_call(item):\n",
    "    item = item.split('|')\n",
    "    max_blank = max([len(list(v)) for k,v in itertools.groupby(item[1].split(',')) if k == '0'])\n",
    "    tmp = [ int(j)  for i in item[2].split(',') for j in i.split('_')]\n",
    "    call_pct = \"{:.2f}\".format(sum(tmp[::2])*1.0/sum(tmp[1::2]))\n",
    "    return (item[0], (max_blank, call_pct))\n",
    "\n",
    "def deal_info(item):\n",
    "    tmp = item.split('|')\n",
    "    return (tmp[0],(tmp[1] if tmp[1] != 'None' else None,tmp[2] if tmp[2] != 'None' else None))\n",
    "\n",
    "def deal_cuishou(item):\n",
    "    tmp = item.split(\"|\")\n",
    "    return (tmp[0], tmp[1] if tmp[1] != 'None' else None)\n",
    "\n",
    "df_15 = sc.textFile(\"./hdfs/dumiao/callLog\").map(deal_call).persist()\n",
    "df_34 = sc.textFile(\"./hdfs/dumiao/userInfo\").map(deal_info).persist()\n",
    "df_2 = sc.textFile(\"./hdfs/dumiao/cuishou\").map(deal_cuishou).persist()\n",
    "bc_cuishou = sc.broadcast(df_2.collectAsMap())\n",
    "# print df_15.collect(), df_34.collect(), df_2.collectAsMap()"
   ]
  },
  {
   "cell_type": "code",
   "execution_count": 24,
   "metadata": {},
   "outputs": [
    {
     "name": "stdout",
     "output_type": "stream",
     "text": [
      "[(u'18679196772', (3, 1.0, -8887.0, 4.0, 0.08)), (u'18679196773', (6, 15.0, -8887.0, -8887.0, 0.08)), (u'18679196770', (9, -8887.0, 12.3, -8887.0, 0.08)), (u'18679196771', (2, -8887.0, 230.0, 24.0, 0.08))]\n"
     ]
    }
   ],
   "source": [
    "\n",
    "def deal_all(item):\n",
    "    \"\"\"\n",
    "    (u'18679196772', ((3, '0.08'), (u'12.3', u'24')))\n",
    "    (u'18679196773', ((3, '0.08'), None))\n",
    "    \"\"\"\n",
    "    tel = item[0]\n",
    "    max_blank = item[1][0][0] if item[1][0] and item[1][0][0] else -8887\n",
    "    call_pct = item[1][0][1] if item[1][0] and item[1][0][1] else -8887\n",
    "    bill_fee = item[1][1][0] if item[1][1] and item[1][1][0]  else -8887\n",
    "    innet_months = item[1][1][1] if item[1][1] and item[1][1][1] else -8887\n",
    "    cuishou_nums =  bc_cuishou.value.get(tel, -8887)\n",
    "    cuishou_nums = cuishou_nums if cuishou_nums else -8887\n",
    "#     return (tel,max_blank, cuishou_nums, bill_fee, innet_months, call_pct)\n",
    "    return (tel, (max_blank, float(cuishou_nums), float(bill_fee), float(innet_months), float(call_pct)))\n",
    "df = df_15.fullOuterJoin(df_34).map(deal_all).persist()\n",
    "print df.collect()"
   ]
  },
  {
   "cell_type": "code",
   "execution_count": 25,
   "metadata": {},
   "outputs": [
    {
     "data": {
      "text/plain": [
       "[(u'18679196772', 444),\n",
       " (u'18679196773', 428),\n",
       " (u'18679196770', 496),\n",
       " (u'18679196771', 643)]"
      ]
     },
     "execution_count": 25,
     "metadata": {},
     "output_type": "execute_result"
    }
   ],
   "source": [
    "import bisect\n",
    "RATING_RULES = [\n",
    "    ([-8887, 1, 2, 7], [-17, 25, 17, -25, -50]),  # hd_maxofflinedaysin3months\n",
    "    ([1], [23, -53]),  # dhb_callTelTotalNumCollHist\n",
    "    ([-8887, 30, 55, 118], [-25, -8, 15, 30, 88]),  # dinner_rent_fee\n",
    "    ([-8887, 15, 25, 40, 52, 72], [-9, -69, -25, -17, -1, 31, 42]),  # innet_months\n",
    "    ([-8887, 0.01, 0.02, 0.03, 0.05], [-18, 27, 11, -21, -24, -63]),  # hd_contactearlymorningrate\n",
    "]\n",
    "\n",
    "def cul(item):\n",
    "    score_total = 603\n",
    "    for n,i in enumerate(RATING_RULES):\n",
    "        idx = bisect.bisect_left(i[0], item[1][n])\n",
    "        score_total += i[1][idx]\n",
    "    return (item[0], score_total)\n",
    "\n",
    "df.map(cul).collect()"
   ]
  },
  {
   "cell_type": "code",
   "execution_count": null,
   "metadata": {},
   "outputs": [],
   "source": [
    "import itertools\n",
    "import time\n",
    "\n",
    "t = time.time()\n",
    "a = \"18679196770|0,1,1,0,0,1,0,0,0|1_10,2_9,3_6,0_18,0_7,0_9,1_19,0_8,1_9\"\n",
    "a = a.split('|')\n",
    "b = max([len(list(v)) for k,v in itertools.groupby(a[1].split(',')) if k == '0'])\n",
    "c = [ int(j)  for i in a[2].split(',') for j in i.split('_')]\n",
    "c = \"{:.2f}\".format(sum(c[::2])*1.0/sum(c[1::2]))\n",
    "print time.time()-t\n",
    "print a[0],b,c\n"
   ]
  },
  {
   "cell_type": "code",
   "execution_count": null,
   "metadata": {},
   "outputs": [],
   "source": [
    "print [[y for y in range(x, x+3)] for x in [1, 4, 7]]"
   ]
  },
  {
   "cell_type": "code",
   "execution_count": null,
   "metadata": {},
   "outputs": [],
   "source": [
    "import pandas as pd\n",
    "left = pd.DataFrame({'key': ['foo', 'bar'], 'val': [1, 2]}).set_index('key')\n",
    "right = pd.DataFrame({'key': ['foo', 'bar'], 'val': [4, 5]}).set_index('key')\n",
    "print left, right\n",
    "left.join(right, lsuffix='_l', rsuffix='_r')"
   ]
  },
  {
   "cell_type": "code",
   "execution_count": null,
   "metadata": {},
   "outputs": [],
   "source": [
    "# 保存数据\n",
    "# wp.saveAsTextFile('./hdfs/dumiao/') # rdd\n",
    "# wp.toDF().write.save('/target/path/', format='parquet', mode='append') # dataframe\n",
    "wp.saveAsPickleFile('./hdfs/dumiao/1', 3)\n"
   ]
  },
  {
   "cell_type": "code",
   "execution_count": null,
   "metadata": {},
   "outputs": [],
   "source": [
    "# 读取数据\n",
    "# df = sc.textFile(\"./hdfs/dumiao/1\")\n",
    "df = sc.pickleFile(\"./hdfs/dumiao/1\", 5)\n",
    "# print df\n",
    "print df.collect()\n",
    "\n",
    "df.map(lambda x: (x[0],x[1][1:])).collect()\n"
   ]
  },
  {
   "cell_type": "code",
   "execution_count": null,
   "metadata": {},
   "outputs": [],
   "source": [
    "import random\n",
    "import time\n",
    "import itertools\n",
    "\n",
    "random.seed(0)\n",
    "a = [ '1' if random.random()>0.4 else ' ' for i in range(100)]\n",
    "print a, ''.join(a)\n",
    "print [len(x) for x in ''.join(a).split()]\n",
    "t = time.time()\n",
    "print max([len(x) for x in ''.join(a).split()])\n",
    "print time.time()-t\n",
    "\n",
    "t = time.time()\n",
    "print max([len(list(v)) for k,v in itertools.groupby(a)])\n",
    "print time.time()-t\n"
   ]
  },
  {
   "cell_type": "code",
   "execution_count": null,
   "metadata": {},
   "outputs": [],
   "source": [
    "a = '22'\n",
    "print a or None"
   ]
  },
  {
   "cell_type": "code",
   "execution_count": null,
   "metadata": {},
   "outputs": [],
   "source": [
    "import time,math,bisect\n",
    "RATING_RULES = [\n",
    "    ([-8887, 1, 2, 7], [-17, 25, 17, -25, -50]),  # hd_maxofflinedaysin3months\n",
    "    ([1], [23, -53]),  # dhb_callTelTotalNumCollHist\n",
    "    ([-8887, 30, 55, 118], [-25, -8, 15, 30, 88]),  # dinner_rent_fee\n",
    "    ([-8887, 15, 25, 40, 52, 72], [-9, -69, -25, -17, -1, 31, 42]),  # innet_months\n",
    "    ([-8887, 0.01, 0.02, 0.03, 0.05], [-18, 27, 11, -21, -24, -63]),  # hd_contactearlymorningrate\n",
    "]\n",
    "\n",
    "def cul(item):\n",
    "    score_total = 603\n",
    "    for n,i in enumerate(RATING_RULES):\n",
    "        idx = bisect.bisect_left(i[0], item[1][n])\n",
    "        score_total += i[1][idx]\n",
    "    return (item[0], score_total)\n",
    "\n",
    "cul((u'18679196772', (3.0, 24.0, 12.3, 24.0, 0.08)))"
   ]
  },
  {
   "cell_type": "code",
   "execution_count": null,
   "metadata": {},
   "outputs": [],
   "source": [
    "bisect.bisect_left([1], -0)\n"
   ]
  },
  {
   "cell_type": "code",
   "execution_count": 11,
   "metadata": {},
   "outputs": [
    {
     "name": "stdout",
     "output_type": "stream",
     "text": [
      "None\n"
     ]
    }
   ],
   "source": [
    "a = 0\n",
    "b = a if a else None\n",
    "print b"
   ]
  },
  {
   "cell_type": "code",
   "execution_count": 26,
   "metadata": {},
   "outputs": [
    {
     "data": {
      "text/plain": [
       "['03504ABC4C12A13081753F891D8BC6AC841EDE06', '0,0,']"
      ]
     },
     "execution_count": 26,
     "metadata": {},
     "output_type": "execute_result"
    }
   ],
   "source": [
    "\"03504ABC4C12A13081753F891D8BC6AC841EDE06|0,0,\".split(\"|\")"
   ]
  },
  {
   "cell_type": "code",
   "execution_count": 29,
   "metadata": {},
   "outputs": [
    {
     "data": {
      "text/plain": [
       "'./dumiao'"
      ]
     },
     "execution_count": 29,
     "metadata": {},
     "output_type": "execute_result"
    }
   ],
   "source": [
    "import os\n",
    "os.path.basename('./dumiao/info')\n",
    "os.path.dirname('./dumiao/info')"
   ]
  },
  {
   "cell_type": "code",
   "execution_count": 2,
   "metadata": {},
   "outputs": [
    {
     "name": "stdout",
     "output_type": "stream",
     "text": [
      "['2018-10-08']\n"
     ]
    }
   ],
   "source": [
    "import datetime\n",
    "from datetime import datetime as DT\n",
    "def cut_term(term, cut_day=1, format_str=\"%Y-%m-%d\"):\n",
    "        \"\"\"\n",
    "        计算周期获取，默认7天\n",
    "        \"\"\"\n",
    "        return [(DT.strptime(term, format_str) - datetime.timedelta(days=i)).strftime(format_str) for i in xrange(1, cut_day+1)]\n",
    "\n",
    "print cut_term('2018-10-09')"
   ]
  },
  {
   "cell_type": "code",
   "execution_count": null,
   "metadata": {},
   "outputs": [],
   "source": []
  }
 ],
 "metadata": {
  "kernelspec": {
   "display_name": "py27",
   "language": "python",
   "name": "py27"
  },
  "language_info": {
   "codemirror_mode": {
    "name": "ipython",
    "version": 2
   },
   "file_extension": ".py",
   "mimetype": "text/x-python",
   "name": "python",
   "nbconvert_exporter": "python",
   "pygments_lexer": "ipython2",
   "version": "2.7.14"
  }
 },
 "nbformat": 4,
 "nbformat_minor": 2
}
