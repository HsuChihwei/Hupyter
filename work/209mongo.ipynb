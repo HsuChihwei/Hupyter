{
 "cells": [
  {
   "cell_type": "markdown",
   "metadata": {},
   "source": [
    "### 静默度数据统计"
   ]
  },
  {
   "cell_type": "code",
   "execution_count": 1,
   "metadata": {},
   "outputs": [
    {
     "name": "stdout",
     "output_type": "stream",
     "text": [
      "[u'SID05509b2c38fa89e1f6457b2b1d73fa4d', u'SID2f8dd56188b04f5391a3ea75fe9bc9a1', u'SID6901c3218f77af3d6afeee60a1250720']\n"
     ]
    }
   ],
   "source": [
    "from mongo_cli import db,MODE\n",
    "sid_info = db[\"sid_info\"]\n",
    "res = sid_info.find({'status':0}).sort(\"_id\",-1).limit(3)\n",
    "sid_list = [x.get('sid') for x in res]\n",
    "print sid_list"
   ]
  },
  {
   "cell_type": "code",
   "execution_count": 28,
   "metadata": {},
   "outputs": [
    {
     "name": "stdout",
     "output_type": "stream",
     "text": [
      "[u'SID076bbd3a3fe07ecc43271c3c3906acef', u'SID30ccdbc529ddd7bb154c8c66310d1348', u'SIDafe8ee8a26cf42a96359dfa448d17c6b', u'SID8afab2556cf341c5712f1d288e6dd773', u'SID2b7f21e200f29d5e5ebb12782c623c4e', u'SIDc9cc376c875437ff8334d42249cf1d67', u'SIDb39fb2834f9c490e0d898a67c804e671', u'SID86fc0ed834a8bed3a95335ff6231b787', u'SIDabe912ba00be8a2f339ae4da159d0721', u'SID5d8834c0c9b6685dbaa4ee5fd84360fb']\n"
     ]
    }
   ],
   "source": [
    "res = db['moxie_call_log'].find({}).limit(10)\n",
    "# res = db['moxie_call_log'].find({}).sort(\"_id\", -1).limit(10)\n",
    "sid_list = [i.get('sid') for i in res]\n",
    "print sid_list"
   ]
  },
  {
   "cell_type": "markdown",
   "metadata": {},
   "source": [
    "### 提取数据&加工基础数据"
   ]
  },
  {
   "cell_type": "code",
   "execution_count": 30,
   "metadata": {},
   "outputs": [],
   "source": [
    "# 提取数据\n",
    "import json\n",
    "res = db['moxie_call_log'].find({},{'sid':1,'_id':0}).sort(\"_id\", -1)\n",
    "sid_list = [i.get('sid') for i in res]\n",
    "with open('jinmo.sid','w') as fp:\n",
    "    json.dump(sid_list, fp, indent=4, sort_keys=True)\n"
   ]
  },
  {
   "cell_type": "code",
   "execution_count": 3,
   "metadata": {},
   "outputs": [
    {
     "name": "stdout",
     "output_type": "stream",
     "text": [
      "61265\n"
     ]
    }
   ],
   "source": [
    "import json\n",
    "# 加载待处理sid\n",
    "with open(\"jinmo.sid\", 'r') as rp:\n",
    "    sidList = json.loads(rp.read())\n",
    "print len(sidList)\n",
    "    \n",
    "from blank_cul import CulBlankTime\n",
    "CulBlankTime().deal_blank(sidList[0])"
   ]
  },
  {
   "cell_type": "code",
   "execution_count": 7,
   "metadata": {},
   "outputs": [],
   "source": [
    "import time\n",
    "import calendar\n",
    "import bisect\n",
    "\n",
    "from dateutil.relativedelta import relativedelta\n",
    "from dateutil.rrule import rrule, MONTHLY\n",
    "from datetime import datetime\n",
    "\n",
    "\n",
    "# def reset_date_start(date_x, month):\n",
    "#     date_x = date_x + relativedelta(months=month)\n",
    "#     date_x = \"%d-%02d-01 00:00:00\"%(date_x.year, date_x.month)\n",
    "#     return datetime.strptime(date_x, \"%Y-%m-%d %H:%M:%S\")\n",
    "\n",
    "# def reset_date_end(date_y, month):\n",
    "#     date_y = date_y + relativedelta(months=month)\n",
    "#     date_y_days = calendar.monthrange(date_y.year, date_y.month)[1]\n",
    "#     date_y = \"%d-%02d-%02d 23:59:59\"%(date_y.year, date_y.month, date_y_days)\n",
    "#     return datetime.strptime(date_y, \"%Y-%m-%d %H:%M:%S\")\n",
    "\n",
    "BLANK_DEGREE_MAP = {\n",
    "    'blank_times_count_30': ([0, 1, 2, float('inf')], [0,1,2,3], 0.3), #0.3\n",
    "    'blank_times_count_90': ([1, 3, 6, float('inf')], [0,1,2,3], 0.25), #0.25\n",
    "    'blank_times_count_180': ([1, 5, 12, float('inf')], [0,1,2,3], 0.15), #0.15\n",
    "    'blank_times_count_max': ([120, 240, 480, float('inf')], [0,1,2,3], 0.3) #0.3\n",
    "}\n",
    "\n",
    "RESULT_MAPPING = ([0, 1, 2, 3], [0,1,2,3])\n",
    "\n",
    "import time\n",
    "# 时间字符串转时间戳（datetimeStr to timestamp）\n",
    "def dateStrToTimestamp(str_, frmt='%Y-%m-%d %H:%M:%S'):\n",
    "#     return time.mktime(datetime.strptime(str_, frmt).timetuple())\n",
    "    return time.mktime(time.strptime(str_, frmt))\n",
    "\n",
    "def cut_months(term, nums=3, frmt=\"%Y%m\"):\n",
    "    return [(datetime.strptime(term, frmt) - relativedelta(months=i)).strftime(frmt) for i in xrange(0, nums)]\n",
    "\n",
    "class CulBlankTime(object):\n",
    "\n",
    "    def __init__(self):\n",
    "        self.count_30 = 0\n",
    "        self.count_90 = 0\n",
    "        self.count_180 = 0\n",
    "        self.lenth = 0\n",
    "        self.max_start = ''\n",
    "        self.blank_times_list = []\n",
    "        self.times = []\n",
    "        self.open_date = \"\"\n",
    "        self.last_time = \"\"\n",
    "        self.missing_list = []\n",
    "        \n",
    "    def _get_data(self, sid):\n",
    "        data = db['moxie_call_log'].find_one({'sid':sid})\n",
    "        calls = [dateStrToTimestamp(j.get('time')) for i in data['calls'] for j in i.get('items')]  # 2018-10-31 10:42:05\n",
    "        smses = [dateStrToTimestamp(j.get('time')) for i in data['smses'] for j in i.get('items')]  # 2018-10-31 10:42:05\n",
    "        nets = [dateStrToTimestamp(j.get('time')) for i in data['nets'] for j in i.get('items')]  # 2018-10-31 10:42:05\n",
    "        self.times = calls + smses + nets\n",
    "        open_date = data.get(\"open_time\", \"\") # 2015-06-08\n",
    "        self.open_date = dateStrToTimestamp(open_date, frmt=\"%Y-%m-%d\") if open_date else \"\"\n",
    "        self.missing_list =[k for k,v in data.get(\"month_info\").get(\"month_list\").iteritems() if v == -1]\n",
    "        last_time = data.get(\"last_modify_time\", \"\")\n",
    "        self.last_time = dateStrToTimestamp(last_time) if last_time else float(int(time.time()))\n",
    "#         return times, open_date, missing_list\n",
    "\n",
    "    def deal_blank(self, sid):\n",
    "        self._get_data(sid)\n",
    "        blank_ret = self.times\n",
    "        open_date = self.open_date\n",
    "        # 添加最近时间\n",
    "        blank_ret.append(self.last_time)\n",
    "        # 处理有开卡日期情况\n",
    "        if open_date not in ['', u'运营商未透露']:\n",
    "            query_date = datetime.today() + relativedelta(months=-5)\n",
    "            query_month = query_date.strftime(\"%Y%m\")\n",
    "            first_month = query_date.strftime('%Y-%m-01 00:00:00')\n",
    "            time_first = time.mktime(time.strptime(first_month, \"%Y-%m-%d %H:%M:%S\"))\n",
    "            if float(open_date) > time_first:\n",
    "                time_first = float(open_date)\n",
    "            else:\n",
    "                # 处理首月缺失情况，以第一条记录所在月份为第一月\n",
    "                if query_month in self.missing_list:\n",
    "                    query_date = datetime.fromtimestamp(blank_ret[0])\n",
    "                    first_month = query_date.strftime('%Y-%m-01 00:00:00')\n",
    "                    time_first = time.mktime(time.strptime(first_month, \"%Y-%m-%d %H:%M:%S\"))\n",
    "            blank_ret.append(time_first)\n",
    "#         lens = (len(blank_ret),len(set(blank_ret)))\n",
    "        reduce(self.count_times, sorted(set(blank_ret)))\n",
    "        \n",
    "        # 计算静默度\n",
    "        cul_data = {\n",
    "            \"blank_times_count_30\": str(self.count_30),\n",
    "            \"blank_times_count_90\": str(self.count_90),\n",
    "            \"blank_times_count_180\": str(self.count_180),\n",
    "            \"blank_times_count_max\": \"{:.2f}\".format(self.lenth),\n",
    "        }\n",
    "#         blank_times_degree = self._cul_blank_degree(cul_data)\n",
    "        return {'sid':sid, 'data':cul_data}\n",
    "\n",
    "    def _cul_blank_degree(self, data):\n",
    "        score_total = 0\n",
    "        for k, v in BLANK_DEGREE_MAP.items():\n",
    "            idx = bisect.bisect_left(v[0], int(float(data[k])))\n",
    "            score_total += v[1][idx]*v[2]\n",
    "        idx_result = bisect.bisect_left(RESULT_MAPPING[0], score_total)\n",
    "        return RESULT_MAPPING[1][idx_result]\n",
    "    \n",
    "    def reset_date_start(self, date_x, flag):\n",
    "        if flag:\n",
    "            date_x = date_x + relativedelta(months=1)\n",
    "            if date_x.strftime(\"%Y%m\") not in self.missing_list:\n",
    "                return date_x.replace(day=1,hour=0,minute=0,second=0)\n",
    "            else:\n",
    "                return self.reset_date_start(date_x, flag)\n",
    "        else:\n",
    "            date_x = date_x + relativedelta(months=-1)\n",
    "            if date_x.strftime(\"%Y%m\") not in self.missing_list:\n",
    "                date_x = date_x + relativedelta(months=1)\n",
    "                return date_x.replace(day=1,hour=0,minute=0,second=0)\n",
    "            else:\n",
    "                return self.reset_date_start(date_x, flag)\n",
    "        \n",
    "    def count_times(self, x, y):\n",
    "        \"\"\"\n",
    "        计数缄默时间\n",
    "        \"\"\"\n",
    "#         lenth_day = int((y-x)/86400)\n",
    "        # 当月&近3月\n",
    "        local_mon = datetime.now().strftime(\"%Y%m\")\n",
    "        recent_3m = cut_months(local_mon)\n",
    "        date_x = datetime.fromtimestamp(x)\n",
    "        date_y = datetime.fromtimestamp(y)\n",
    "        month_x = date_x.strftime(\"%Y%m\")\n",
    "        month_y = date_y.strftime(\"%Y%m\")\n",
    "#         print date_x,date_y\n",
    "        lenth_day = date_y - date_x\n",
    "        common_list = []\n",
    "        #处理日期在缺失列表内\n",
    "        if self.missing_list:\n",
    "            # 处理边界数据\n",
    "            if month_x in self.missing_list and month_y in self.missing_list:\n",
    "                date_x = self.reset_date_start(date_x, 0)\n",
    "                date_y = self.reset_date_start(date_y, 1)\n",
    "            elif month_x in self.missing_list:\n",
    "                date_x = self.reset_date_start(date_x, 1)\n",
    "            elif month_y in self.missing_list:\n",
    "                date_y = self.reset_date_start(date_y, 0)\n",
    "            lenth_day = date_y - date_x\n",
    "#             print date_x, date_y\n",
    "            # 组建判定月份\n",
    "            dates = [dt.strftime(\"%Y%m\") for dt in rrule(freq=MONTHLY, dtstart=date_x, bymonthday=-1).between(date_x, date_y)]\n",
    "#             print 'dates', dates\n",
    "            # 如判断月份为当月，list增加当月\n",
    "            if date_y.month == datetime.now().month and local_mon not in dates:\n",
    "                dates.append(local_mon)\n",
    "            # 获取需减去月份\n",
    "            common_list = list(set.intersection(set(dates),set(self.missing_list)))\n",
    "#             print 'common_list', common_list\n",
    "            # 重新生成静默天数\n",
    "            if local_mon in common_list:\n",
    "                common_list.remove(local_mon)\n",
    "                remove_day = date_y - datetime.strptime(local_mon,'%Y%m')\n",
    "                lenth_day -= remove_day\n",
    "        blank_day = lenth_day.days\n",
    "        remain_hours = float(lenth_day.seconds*1.0/3600)\n",
    "        blank_day -= sum([calendar.monthrange(int(query_date[:4]), int(query_date[-2:]))[1] for query_date in common_list if query_date ])\n",
    "#         print 'blank_day', blank_day\n",
    "        if blank_day >= 3:\n",
    "            lenth_hour = blank_day*24 + remain_hours\n",
    "            blank_tuple = (str(int(time.mktime(date_x.timetuple()))), str(\n",
    "                int(time.mktime(date_y.timetuple()))), \"{:.2f}\".format(lenth_hour))\n",
    "            self.blank_times_list.insert(0, blank_tuple)\n",
    "            if x > self.last_time - 2592000:\n",
    "                self.count_30+=1\n",
    "            if x > self.last_time - 7776000:\n",
    "                self.count_90+=1\n",
    "#             if month_x == local_mon:\n",
    "#                 self.count_30+=1\n",
    "#             if month_x in recent_3m:\n",
    "#                 self.count_90+=1\n",
    "            self.count_180+=1\n",
    "            if lenth_hour > self.lenth:\n",
    "                self.lenth = lenth_hour\n",
    "                self.max_start = str(int(time.mktime(date_x.timetuple())))\n",
    "        return y\n",
    "\n",
    "n = 100\n",
    "tmp_list = []\n",
    "for idx, sid in enumerate(sidList[:10000]):\n",
    "    with open('blank_result_0.json', 'w') as wpt:\n",
    "        tmp_list.append(CulBlankTime().deal_blank(sid))\n",
    "        if idx>= n and idx%n==0:\n",
    "            with open('blank_result_0_tmp.json', 'w') as wp:\n",
    "                json.dump(tmp_list, wp)\n",
    "        json.dump(tmp_list, wpt)\n",
    "        \n",
    "# from multiprocessing.pool import Pool\n",
    "# # from multiprocessing.dummy import Pool\n",
    "# p = Pool(8)\n",
    "# # parts = [sid_list[i::n] for i in xrange(n)]\n",
    "# c = CulBlankTime()\n",
    "# result = p.map(c.deal_blank,sid_list[:10])    \n",
    "# p.close()\n",
    "# p.join()\n",
    "# with open('blank_result_pool.json', 'w') as wpt:\n",
    "#     json.dump(result, wpt)"
   ]
  },
  {
   "cell_type": "code",
   "execution_count": 85,
   "metadata": {},
   "outputs": [
    {
     "name": "stdout",
     "output_type": "stream",
     "text": [
      "[[0, 1, 2, 3, 4, 5, 6, 7], [8, 9, 10, 11, 12, 13, 14, 15], [16, 17, 18, 19, 20, 21, 22, 23], [24, 25, 26, 27, 28, 29, 30, 31], [32, 33, 34, 35, 36, 37, 38, 39], [40, 41, 42, 43, 44, 45, 46, 47], [48, 49, 50, 51, 52, 53, 54, 55], [56, 57, 58, 59, 60, 61, 62, 63], [64, 65, 66, 67, 68, 69, 70, 71], [72, 73, 74, 75, 76, 77, 78, 79], [80, 81, 82, 83, 84, 85, 86, 87], [88, 89, 90, 91, 92, 93, 94, 95], [96, 97, 98, 99]]\n"
     ]
    },
    {
     "data": {
      "text/plain": [
       "[[0, 8, 16, 24, 32, 40, 48, 56, 64, 72, 80, 88, 96],\n",
       " [1, 9, 17, 25, 33, 41, 49, 57, 65, 73, 81, 89, 97],\n",
       " [2, 10, 18, 26, 34, 42, 50, 58, 66, 74, 82, 90, 98],\n",
       " [3, 11, 19, 27, 35, 43, 51, 59, 67, 75, 83, 91, 99],\n",
       " [4, 12, 20, 28, 36, 44, 52, 60, 68, 76, 84, 92],\n",
       " [5, 13, 21, 29, 37, 45, 53, 61, 69, 77, 85, 93],\n",
       " [6, 14, 22, 30, 38, 46, 54, 62, 70, 78, 86, 94],\n",
       " [7, 15, 23, 31, 39, 47, 55, 63, 71, 79, 87, 95]]"
      ]
     },
     "execution_count": 85,
     "metadata": {},
     "output_type": "execute_result"
    }
   ],
   "source": [
    "l = [i for i in xrange(100)]\n",
    "n = 8\n",
    "print [l[i:i + n] for i in xrange(0, len(l), n)]\n",
    "\n",
    "[l[i::n] for i in xrange(n)]"
   ]
  },
  {
   "cell_type": "markdown",
   "metadata": {},
   "source": [
    "### 计算静默度"
   ]
  },
  {
   "cell_type": "code",
   "execution_count": null,
   "metadata": {},
   "outputs": [],
   "source": [
    "BLANK_DEGREE_MAP = {\n",
    "    'blank_times_count_30': ([0, 1, 2, float('inf')], [0,1,2,3], 0.3), #0.3\n",
    "    'blank_times_count_90': ([1, 3, 6, float('inf')], [0,1,2,3], 0.25), #0.25\n",
    "    'blank_times_count_180': ([1, 5, 12, float('inf')], [0,1,2,3], 0.15), #0.15\n",
    "    'blank_times_count_max': ([5, 10, 20, float('inf')], [0,1,2,3], 0.3) #0.3\n",
    "}\n",
    "\n",
    "RESULT_MAPPING = [0, 1, 2, 3]\n",
    "\n",
    "def cul_blank_degree(data):\n",
    "        score_total = 0\n",
    "        for k, v in BLANK_DEGREE_MAP.items():\n",
    "            idx = bisect.bisect_left(v[0], int(float(data[k])))\n",
    "            score_total += v[1][idx]*v[2]\n",
    "        return score_total\n",
    "    \n",
    "\"\"\"\n",
    "\n",
    "# 评分规则\n",
    "RATING_RULES = [\n",
    "    ([-8887, 1, 2, 7], [-17, 25, 17, -25, -50]),  # hd_maxofflinedaysin3months\n",
    "    ([1], [23, -53]),  # dhb_callTelTotalNumCollHist\n",
    "    ([-8887, 30, 55, 118], [-25, -8, 15, 30, 88]),  # dinner_rent_fee\n",
    "    ([-8887, 15, 25, 40, 52, 72], [-9, -69, -25, -17, -1, 31, 42]),  # innet_months\n",
    "    ([-8887, 0.01, 0.02, 0.03, 0.05], [-18, 27, 11, -21, -24, -63]),  # hd_contactearlymorningrate\n",
    "]\n",
    "\n",
    "def cul(item):\n",
    "    score_total = 603\n",
    "    for n,i in enumerate(RATING_RULES):\n",
    "        idx = bisect.bisect_left(i[0], item[1][n])\n",
    "        score_total += i[1][idx]\n",
    "    return score_total\n",
    "\n",
    "\"\"\"\n",
    "    \n",
    "# 计算静默度\n",
    "cul_data = {\n",
    "    \"blank_times_count_30\": str(self.count_30),\n",
    "    \"blank_times_count_90\": str(self.count_90),\n",
    "    \"blank_times_count_180\": str(self.count_180),\n",
    "    \"blank_times_count_max\": \"{:.2f}\".format(self.lenth),\n",
    "}\n",
    "\n",
    "blank_times_degree = cul_blank_degree(cul_data)"
   ]
  },
  {
   "cell_type": "code",
   "execution_count": 71,
   "metadata": {},
   "outputs": [
    {
     "data": {
      "text/plain": [
       "3"
      ]
     },
     "execution_count": 71,
     "metadata": {},
     "output_type": "execute_result"
    }
   ],
   "source": [
    "3%4\n"
   ]
  },
  {
   "cell_type": "code",
   "execution_count": 3,
   "metadata": {},
   "outputs": [
    {
     "data": {
      "text/plain": [
       "['0', '1', '2', '3', '4', '5', '6', '7', '8', '9']"
      ]
     },
     "execution_count": 3,
     "metadata": {},
     "output_type": "execute_result"
    }
   ],
   "source": [
    "map(str, [i for i in xrange(10)])"
   ]
  }
 ],
 "metadata": {
  "kernelspec": {
   "display_name": "py27",
   "language": "python",
   "name": "py27"
  },
  "language_info": {
   "codemirror_mode": {
    "name": "ipython",
    "version": 2
   },
   "file_extension": ".py",
   "mimetype": "text/x-python",
   "name": "python",
   "nbconvert_exporter": "python",
   "pygments_lexer": "ipython2",
   "version": "2.7.14"
  }
 },
 "nbformat": 4,
 "nbformat_minor": 2
}
