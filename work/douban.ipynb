{
 "cells": [
  {
   "cell_type": "markdown",
   "metadata": {},
   "source": [
    "### 检查&安装模块"
   ]
  },
  {
   "cell_type": "code",
   "execution_count": null,
   "metadata": {},
   "outputs": [],
   "source": [
    "# !pip list\n",
    "# !pip show pymongo\n",
    "# !pip install package_name==version #安装工具包\n",
    "# !pip install package_name --upgrade #更新工具包\n",
    "!pip install fake_useragent"
   ]
  },
  {
   "cell_type": "markdown",
   "metadata": {},
   "source": [
    "### 导入数据库"
   ]
  },
  {
   "cell_type": "code",
   "execution_count": null,
   "metadata": {},
   "outputs": [],
   "source": [
    "from mongo_cli import db_dev as db\n",
    "hsu = db[\"hsu\"]\n",
    "res = hsu.find({'status':0}).sort(\"_id\",-1).limit(3)\n",
    "sid_list = [x.get('sid') for x in res]\n",
    "print(sid_list)"
   ]
  },
  {
   "cell_type": "markdown",
   "metadata": {},
   "source": [
    "### 路由分析"
   ]
  },
  {
   "cell_type": "code",
   "execution_count": null,
   "metadata": {},
   "outputs": [],
   "source": [
    "# 结构分析\n",
    "\"\"\"\n",
    "https://movie.douban.com/j/search_subjects?type=tv&tag=韩剧&sort=rank&page_limit=20&page_start=20\n",
    "https://movie.douban.com/j/search_subjects?type=tv&tag=英剧&sort=rank&page_limit=20&page_start=400\n",
    "tv 热门/美剧/英剧/韩剧/日剧/国产剧/港剧/日本动画/综艺/纪录片\n",
    "https://movie.douban.com/j/search_subjects?type=movie&tag=%E6%AC%A7%E7%BE%8E&sort=rank&page_limit=20&page_start=0\n",
    "movie 热门  最新  经典  可播放  豆瓣高分  冷门佳片  华语  欧美  韩国  日本  动作 喜剧  爱情  科幻  悬疑  恐怖  文艺\n",
    "\n",
    "{\n",
    "  \"subjects\": [\n",
    "    {\n",
    "      \"rate\": \"9.7\",\n",
    "      \"cover_x\": 500,\n",
    "      \"title\": \"大明王朝1566\",\n",
    "      \"url\": \"https://movie.douban.com/subject/2210001/\",\n",
    "      \"playable\": true,\n",
    "      \"cover\": \"https://img1.doubanio.com/view/photo/s_ratio_poster/public/p2444453078.webp\",\n",
    "      \"id\": \"2210001\",\n",
    "      \"cover_y\": 700,\n",
    "      \"is_new\": false\n",
    "    },\n",
    "\"\"\""
   ]
  },
  {
   "cell_type": "markdown",
   "metadata": {},
   "source": [
    "### 导包"
   ]
  },
  {
   "cell_type": "code",
   "execution_count": 73,
   "metadata": {},
   "outputs": [],
   "source": [
    "import re\n",
    "import requests\n",
    "import json\n",
    "import random\n",
    "import traceback\n",
    "from lxml import etree\n",
    "\n",
    "from fake_useragent import UserAgent\n",
    "from requests.packages.urllib3.exceptions import InsecureRequestWarning\n",
    "requests.packages.urllib3.disable_warnings(InsecureRequestWarning)"
   ]
  },
  {
   "cell_type": "markdown",
   "metadata": {},
   "source": [
    "### 公共模块"
   ]
  },
  {
   "cell_type": "code",
   "execution_count": 72,
   "metadata": {},
   "outputs": [],
   "source": [
    "PROXIES_POOL = [\n",
    "    'squidsz01.dianhua.cn',\n",
    "    'squidsz02.dianhua.cn',\n",
    "    'squidsz03.dianhua.cn',\n",
    "    'squidsz04.dianhua.cn',\n",
    "    'squidsz05.dianhua.cn',\n",
    "    'squidsz06.dianhua.cn',\n",
    "    'squidsz07.dianhua.cn',\n",
    "    'squidsz08.dianhua.cn',\n",
    "    'squidsz09.dianhua.cn',\n",
    "    'squidsz10.dianhua.cn',\n",
    "]\n",
    "\n",
    "max_tries = 3\n",
    "time_out = 20\n",
    "\n",
    "def random_proxies():\n",
    "    proxies = None\n",
    "    if PROXIES_POOL:\n",
    "        try:\n",
    "            IP = random.choice(PROXIES_POOL)\n",
    "            proxies = {\n",
    "                \"http\": \"http://{ip}:{port}\".format(ip=IP, port=8080),\n",
    "                \"https\": \"http://{ip}:{port}\".format(ip=IP, port=8080)\n",
    "            }\n",
    "        except:\n",
    "            return proxies\n",
    "    return proxies\n",
    "\n",
    "def deal_request(method, url, headers=None, data=None, params=None, cookies=None):\n",
    "    session = requests.Session()\n",
    "    session.headers.update({\"User-Agent\":UserAgent().chrome})\n",
    "    session.proxies.update(random_proxies())\n",
    "#     print(session.proxies)\n",
    "    for _ in range(max_tries):\n",
    "        try:\n",
    "            if method == \"post\":\n",
    "                return session.post(url, headers=headers, data=data, params=params,\n",
    "                                    #proxies=proxies, \n",
    "                                    cookies=cookies, \n",
    "                                    allow_redirects=True, verify=False, timeout=time_out)\n",
    "            elif method == \"get\":\n",
    "                return session.get(url, headers=headers, params=params,\n",
    "                                   #proxies=proxies,\n",
    "                                   stream=True,\n",
    "                                   cookies=cookies, \n",
    "                                   allow_redirects=True, verify=False, timeout=time_out)\n",
    "        except (requests.ConnectionError, requests.Timeout):\n",
    "            error = traceback.format_exc()\n",
    "            msg = u\"运营商官网错误,请求失败:{}\".format(error)\n",
    "            print(msg)\n",
    "            continue\n",
    "        except:\n",
    "            error = traceback.format_exc()\n",
    "            msg = u\"遇到未知错误,请求失败:{}\".format(error)\n",
    "            msg_dict = {\n",
    "                'msg':msg,\n",
    "                'method':method,\n",
    "                'url': url,\n",
    "                'headers': headers,\n",
    "                'data': data,\n",
    "                'params': params,\n",
    "                'proxies': proxies\n",
    "            }\n",
    "            raise msg_dict\n",
    "    else:\n",
    "        msg_dict = {\n",
    "            'msg':msg,\n",
    "            'method':method,\n",
    "            'url': url,\n",
    "            'headers': headers,\n",
    "            'data': data,\n",
    "            'params': params,\n",
    "            'proxies': self.proxies\n",
    "        }\n",
    "        raise msg_dict\n",
    "\n",
    "def post(url, headers=None, data=None, params=None, cookies=None):\n",
    "    return deal_request('post', url, headers=headers, data=data, params=params, cookies=cookies)\n",
    "\n",
    "def get(url, headers=None, params=None, cookies=None):\n",
    "    return deal_request('get', url, headers=headers, params=params, cookies=cookies)\n"
   ]
  },
  {
   "cell_type": "markdown",
   "metadata": {},
   "source": [
    "### 检查代理&UA使用情况"
   ]
  },
  {
   "cell_type": "code",
   "execution_count": 79,
   "metadata": {},
   "outputs": [
    {
     "name": "stdout",
     "output_type": "stream",
     "text": [
      "\r\n",
      "\r\n",
      "{\"rgv587_flag\":\"sm\",\"url\":\"https://login.taobao.com/member/login.jhtml?style=mini&from=sm&full_redirect=false&redirectURL=http%3a%2f%2frate.taobao.com/feedRateList.htm/_____tmd_____/punish%3fx5secdata=5e0c8e1365474455070961b803bd560607b52cabf5960afff39b64ce58073f7844a8dd94c89edef01763e7bda2153e72b3cd95a333f87ac5f6b549e857d928307bf3fd8381b0cf846dca6234fbaf10bc77b99fcb1ba2eeec835ece334a00d33d8de558990b51a94454a308719ae637b507e8eed4b79d54b22ab681b565fd4455fd18164a32ef91d6c13e43760837bb8b23d59fe344f7687f024908904d745f44ba626cc1d2f3a369547dcfe46442163f1331473ca903699d7ed69bb307a0ad9618c3c748ed00d72f6d6f0b5c29c41377264d7a167c0b37cbca29241a2ab5c9070aa108b6b72dbeca910999ec587efd9ad10328165050f1d1a68aedfc913e2c635fb2baefb62c5a97c3f01215fddfbd8074416dfefbeef8a3a6988d4239a9bf2d77a24be6ec432e06e961436700320a89ac62b8c07ac9734d6799e4f8b11e11a59dab80f89293688707c3aec5d53b80ed975b013c6fad960df313a9c9aea91878a96e1895f9d9f1344cb5c80a4a6c72581e8553dc1f220d787060963ca76c593ae16852c052af527827fdb8d24e0c8c05513baba3ef50517177e00d4d346858295868de3726ed71bffd7c2ab0707bcbffd442933a57e108109ecec26e236a1f741e0e26afada95671ddb73324d193cb03417ca02702aa47d3caf659b674b13c0414a69f0fadf786762c42a08bfbe6c7de%26x5step=100\"}\n",
      "{'Accept-Encoding': 'gzip, deflate', 'User-Agent': 'Mozilla/5.0 (Windows NT 6.1) AppleWebKit/537.36 (KHTML, like Gecko) Chrome/28.0.1468.0 Safari/537.36', 'Accept': '*/*', 'Connection': 'keep-alive'}\n"
     ]
    },
    {
     "ename": "AttributeError",
     "evalue": "'NoneType' object has no attribute 'sock'",
     "output_type": "error",
     "traceback": [
      "\u001b[1;31m---------------------------------------------------------------------------\u001b[0m",
      "\u001b[1;31mAttributeError\u001b[0m                            Traceback (most recent call last)",
      "\u001b[1;32m<ipython-input-79-a01030037057>\u001b[0m in \u001b[0;36m<module>\u001b[1;34m()\u001b[0m\n\u001b[0;32m      5\u001b[0m \u001b[0mprint\u001b[0m\u001b[1;33m(\u001b[0m\u001b[0mresp\u001b[0m\u001b[1;33m.\u001b[0m\u001b[0mrequest\u001b[0m\u001b[1;33m.\u001b[0m\u001b[0mheaders\u001b[0m\u001b[1;33m)\u001b[0m\u001b[1;33m\u001b[0m\u001b[0m\n\u001b[0;32m      6\u001b[0m \u001b[1;31m# 查看对方ip\u001b[0m\u001b[1;33m\u001b[0m\u001b[1;33m\u001b[0m\u001b[0m\n\u001b[1;32m----> 7\u001b[1;33m \u001b[0mprint\u001b[0m\u001b[1;33m(\u001b[0m\u001b[0mresp\u001b[0m\u001b[1;33m.\u001b[0m\u001b[0mraw\u001b[0m\u001b[1;33m.\u001b[0m\u001b[0m_connection\u001b[0m\u001b[1;33m.\u001b[0m\u001b[0msock\u001b[0m\u001b[1;33m.\u001b[0m\u001b[0msocket\u001b[0m\u001b[1;33m.\u001b[0m\u001b[0mgetsockname\u001b[0m\u001b[1;33m(\u001b[0m\u001b[1;33m)\u001b[0m\u001b[1;33m)\u001b[0m\u001b[1;33m\u001b[0m\u001b[0m\n\u001b[0m\u001b[0;32m      8\u001b[0m \u001b[1;31m# 查看自己使用的ip\u001b[0m\u001b[1;33m\u001b[0m\u001b[1;33m\u001b[0m\u001b[0m\n\u001b[0;32m      9\u001b[0m \u001b[0mresp\u001b[0m\u001b[1;33m.\u001b[0m\u001b[0mjson\u001b[0m\u001b[1;33m(\u001b[0m\u001b[1;33m)\u001b[0m\u001b[1;33m\u001b[0m\u001b[0m\n",
      "\u001b[1;31mAttributeError\u001b[0m: 'NoneType' object has no attribute 'sock'"
     ]
    }
   ],
   "source": [
    "url = \"http://rate.taobao.com/feedRateList.htm?auctionNumId=574096941560&currentPageNum=1&pageSize=20/\"\n",
    "resp = get(url)\n",
    "print(resp.text) \n",
    "# 查看请求头\n",
    "print(resp.request.headers)\n",
    "# 查看对方ip\n",
    "print(resp.raw._connection.sock.socket.getsockname())\n",
    "# 查看自己使用的ip\n",
    "resp.json()"
   ]
  },
  {
   "cell_type": "code",
   "execution_count": null,
   "metadata": {},
   "outputs": [],
   "source": [
    "def get_a_page(url):\n",
    "    resp = get(url).json().get(\"subjects\", [])\n",
    "    if not resp:\n",
    "        return []\n",
    "    return [{'title' : item.get('title'),\n",
    "             'rate'  : item.get('rate'),\n",
    "             'url'   : item.get('url'),\n",
    "             'cover' : item.get('cover'),\n",
    "             'id'    : item.get('id') } for item in resp]\n",
    "    \n",
    "def add_items(items):\n",
    "    url = items.get('url')\n",
    "    resp = get(url)\n",
    "#     print(resp.text)\n",
    "#     print(re.match('<script type=\"application/ld+json\">(.*?)</script>',resp.text))\n",
    "    et = etree.HTML(resp.text)\n",
    "#     print(et.xpath('//*[@id=\"info\"]/span[2]/span[@class=\"attrs\"]/a/text()'))\n",
    "    data = {\n",
    "        'director':et.xpath('//*[@id=\"info\"]/span[1]/span[@class=\"attrs\"]/a/text()'),\n",
    "        'scenarist':et.xpath('//*[@id=\"info\"]/span[2]/span[@class=\"attrs\"]/a/text()'),\n",
    "        'actor':et.xpath('//*[@id=\"info\"]/span[3]/span[@class=\"attrs\"]/a/text()'),\n",
    "    }\n",
    "    return dict(items,**data)\n",
    "\n",
    "url = \"https://movie.douban.com/j/search_subjects?type=tv&tag=韩剧&sort=rank&page_limit=20&page_start=20\"\n",
    "resp = get_a_page(url)\n",
    "data = [add_items(i) for i in resp]"
   ]
  },
  {
   "cell_type": "code",
   "execution_count": 59,
   "metadata": {},
   "outputs": [
    {
     "ename": "NameError",
     "evalue": "name 'data' is not defined",
     "output_type": "error",
     "traceback": [
      "\u001b[1;31m---------------------------------------------------------------------------\u001b[0m",
      "\u001b[1;31mNameError\u001b[0m                                 Traceback (most recent call last)",
      "\u001b[1;32m<ipython-input-59-dbd883db58b7>\u001b[0m in \u001b[0;36m<module>\u001b[1;34m()\u001b[0m\n\u001b[1;32m----> 1\u001b[1;33m \u001b[0mprint\u001b[0m\u001b[1;33m(\u001b[0m\u001b[0mdata\u001b[0m\u001b[1;33m)\u001b[0m\u001b[1;33m\u001b[0m\u001b[0m\n\u001b[0m",
      "\u001b[1;31mNameError\u001b[0m: name 'data' is not defined"
     ]
    }
   ],
   "source": [
    "print(data)"
   ]
  },
  {
   "cell_type": "code",
   "execution_count": null,
   "metadata": {},
   "outputs": [],
   "source": []
  },
  {
   "cell_type": "markdown",
   "metadata": {},
   "source": [
    "### pandas隐藏BUG\n",
    "> 当一组元素的值的数量是一致的时候，自动将列表转化为元组"
   ]
  },
  {
   "cell_type": "code",
   "execution_count": 63,
   "metadata": {},
   "outputs": [
    {
     "data": {
      "text/html": [
       "<div>\n",
       "<style scoped>\n",
       "    .dataframe tbody tr th:only-of-type {\n",
       "        vertical-align: middle;\n",
       "    }\n",
       "\n",
       "    .dataframe tbody tr th {\n",
       "        vertical-align: top;\n",
       "    }\n",
       "\n",
       "    .dataframe thead th {\n",
       "        text-align: right;\n",
       "    }\n",
       "</style>\n",
       "<table border=\"1\" class=\"dataframe\">\n",
       "  <thead>\n",
       "    <tr style=\"text-align: right;\">\n",
       "      <th></th>\n",
       "      <th>z</th>\n",
       "      <th>p</th>\n",
       "      <th>v</th>\n",
       "      <th>b</th>\n",
       "      <th>c</th>\n",
       "      <th>d</th>\n",
       "      <th>q</th>\n",
       "    </tr>\n",
       "  </thead>\n",
       "  <tbody>\n",
       "    <tr>\n",
       "      <th>0</th>\n",
       "      <td>1</td>\n",
       "      <td>[]</td>\n",
       "      <td>[1, 2]</td>\n",
       "      <td>(1,)</td>\n",
       "      <td>()</td>\n",
       "      <td>(1, 2)</td>\n",
       "      <td>[1, 2]</td>\n",
       "    </tr>\n",
       "    <tr>\n",
       "      <th>1</th>\n",
       "      <td>2</td>\n",
       "      <td>[1]</td>\n",
       "      <td>[1]</td>\n",
       "      <td>(1,)</td>\n",
       "      <td>()</td>\n",
       "      <td>(1, 2)</td>\n",
       "      <td>[1, 2]</td>\n",
       "    </tr>\n",
       "    <tr>\n",
       "      <th>2</th>\n",
       "      <td>1</td>\n",
       "      <td>[1]</td>\n",
       "      <td>[1]</td>\n",
       "      <td>(1,)</td>\n",
       "      <td>()</td>\n",
       "      <td>(1, 2)</td>\n",
       "      <td>[1, 2]</td>\n",
       "    </tr>\n",
       "    <tr>\n",
       "      <th>3</th>\n",
       "      <td>2</td>\n",
       "      <td>[1]</td>\n",
       "      <td>[1]</td>\n",
       "      <td>(1,)</td>\n",
       "      <td>()</td>\n",
       "      <td>(1, 2)</td>\n",
       "      <td>[1, 2]</td>\n",
       "    </tr>\n",
       "    <tr>\n",
       "      <th>4</th>\n",
       "      <td>1</td>\n",
       "      <td>[1]</td>\n",
       "      <td>[1]</td>\n",
       "      <td>(1,)</td>\n",
       "      <td>()</td>\n",
       "      <td>(1, 2)</td>\n",
       "      <td>[1, 2]</td>\n",
       "    </tr>\n",
       "  </tbody>\n",
       "</table>\n",
       "</div>"
      ],
      "text/plain": [
       "   z    p       v     b   c       d       q\n",
       "0  1   []  [1, 2]  (1,)  ()  (1, 2)  [1, 2]\n",
       "1  2  [1]     [1]  (1,)  ()  (1, 2)  [1, 2]\n",
       "2  1  [1]     [1]  (1,)  ()  (1, 2)  [1, 2]\n",
       "3  2  [1]     [1]  (1,)  ()  (1, 2)  [1, 2]\n",
       "4  1  [1]     [1]  (1,)  ()  (1, 2)  [1, 2]"
      ]
     },
     "execution_count": 63,
     "metadata": {},
     "output_type": "execute_result"
    }
   ],
   "source": [
    "import pandas as pd\n",
    "a = pd.DataFrame()\n",
    "a['z'] = [1,2, 1, 2,1]\n",
    "a['p'] = ([],[1],[1],[1],[1])\n",
    "a['v'] = ([1,2],[1],[1],[1],[1])\n",
    "a['b'] = (['1'],[1],[1],['1'],[1])\n",
    "a['c'] = ([],[],[],[],[])\n",
    "a['d'] = ([1,2],[1,2],[1,2],[1,2],[1,2])\n",
    "a['q'] = [[1,2],[1,2],[1,2],[1,2],[1,2]]\n",
    "a"
   ]
  },
  {
   "cell_type": "code",
   "execution_count": 69,
   "metadata": {},
   "outputs": [
    {
     "name": "stdout",
     "output_type": "stream",
     "text": [
      "[(1, 4), (2, 5), (3, 6)]\n",
      "[(1, 4), (2, 5), (3, 6)]\n",
      "[(1, 2, 3), (4, 5, 6)]\n"
     ]
    }
   ],
   "source": [
    "a = [1,2,3]\n",
    "b = [4,5,6]\n",
    "c = [4,5,6,7,8]\n",
    "print(list(zip(a,b)))         # 打包为元组的列表\n",
    "print(list(zip(a,c)))         # 元素个数与最短的列表一致\n",
    "print(list(zip(*zip(a,b))))   # 与 zip 相反，*zip 可理解为解压，返回二维矩阵式"
   ]
  },
  {
   "cell_type": "code",
   "execution_count": 70,
   "metadata": {},
   "outputs": [
    {
     "data": {
      "text/plain": [
       "'\\r\\n\\r\\n{\"rgv587_flag\":\"sm\",\"url\":\"https://login.taobao.com/member/login.jhtml?style=mini&from=sm&full_redirect=false&redirectURL=http%3a%2f%2frate.taobao.com/feedRateList.htm/_____tmd_____/punish%3fx5secdata=5e0c8e1365474455070961b803bd560607b52cabf5960afff39b64ce58073f7844a8dd94c89edef01763e7bda2153e72b3cd95a333f87ac5f6b549e857d928307bf3fd8381b0cf846dca6234fbaf10bc77b99fcb1ba2eeec835ece334a00d33d8de558990b51a94454a308719ae637b59d74b781c9f437af72e3284ec4e64f576f873d3fe064fae5559369674b93155c5f7889dc13a1a50660f5d6ddf442abaaba626cc1d2f3a369547dcfe46442163f1331473ca903699d7ed69bb307a0ad9618c3c748ed00d72f6d6f0b5c29c41377264d7a167c0b37cbca29241a2ab5c9070aa108b6b72dbeca910999ec587efd9ad10328165050f1d1a68aedfc913e2c635fb2baefb62c5a97c3f01215fddfbd8074416dfefbeef8a3a6988d4239a9bf2d77a24be6ec432e06e961436700320a89ac62b8c07ac9734d6799e4f8b11e11a59dab80f89293688707c3aec5d53b80ed975b013c6fad960df313a9c9aea91878a96e1895f9d9f1344cb5c80a4a6c72581e8553dc1f220d787060963ca76c593ae16852c052af527827fdb8d24e0c8c05aa2e7b3c61e4bec420af166aadf8667e5868de3726ed71bffd7c2ab0707bcbffd442933a57e108109ecec26e236a1f7477b25b1b02a5bacf4c0bc9c43a5d70292979a433536b8fd50b45d7f8c2fb0e518d495ab7349fa00f1d7c27970b7712ee%26x5step=100\"}'"
      ]
     },
     "execution_count": 70,
     "metadata": {},
     "output_type": "execute_result"
    }
   ],
   "source": [
    "import requests\n",
    "from fake_useragent import UserAgent\n",
    "requests.get('',headers={\"User-Agent\":UserAgent().chrome}).text"
   ]
  }
 ],
 "metadata": {
  "kernelspec": {
   "display_name": "Python 3",
   "language": "python",
   "name": "python3"
  },
  "language_info": {
   "codemirror_mode": {
    "name": "ipython",
    "version": 3
   },
   "file_extension": ".py",
   "mimetype": "text/x-python",
   "name": "python",
   "nbconvert_exporter": "python",
   "pygments_lexer": "ipython3",
   "version": "3.5.4"
  }
 },
 "nbformat": 4,
 "nbformat_minor": 2
}
