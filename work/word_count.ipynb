{
 "cells": [
  {
   "cell_type": "code",
   "execution_count": 2,
   "metadata": {},
   "outputs": [
    {
     "name": "stdout",
     "output_type": "stream",
     "text": [
      "sys.version_info(major=2, minor=7, micro=14, releaselevel='final', serial=0)\n"
     ]
    }
   ],
   "source": [
    "# 初始化spark环境\n",
    "import findspark\n",
    "findspark.init()\n",
    "import sys\n",
    "print(sys.version_info)"
   ]
  },
  {
   "cell_type": "code",
   "execution_count": 3,
   "metadata": {},
   "outputs": [],
   "source": [
    "from pyspark import SparkContext\n",
    "from pyspark import SparkConf"
   ]
  },
  {
   "cell_type": "code",
   "execution_count": 5,
   "metadata": {},
   "outputs": [],
   "source": [
    "# 创建Spark对应此应用程序的配置，必须设置应用名称，必须设置运行模式， \n",
    "# local[*] 本地测试用的模式，中括号内指的线程数，*代表满负载执行\n",
    "# local 等价于 local[1]\n",
    "conf = SparkConf().setAppName(\"chihweihsu\").setMaster(\"local[*]\") \n",
    "#创建Spark上下文环境，接收的参数通常是SparkConf\n",
    "sc = SparkContext(conf=conf)"
   ]
  },
  {
   "cell_type": "code",
   "execution_count": 11,
   "metadata": {},
   "outputs": [
    {
     "name": "stdout",
     "output_type": "stream",
     "text": [
      "ParallelCollectionRDD[5] at parallelize at PythonRDD.scala:423\n"
     ]
    }
   ],
   "source": [
    "# data 在Python解释器中\n",
    "data = [\"I love huzhiqin\", \"I love liuyifei\", \"I love liangyongqi\"]\n",
    "# 把 data 并行化变成了RDD（弹性分布式数据集）\n",
    "#RDD分布式存在Spark集群中\n",
    "rdd = sc.parallelize(data)\n",
    "print rdd"
   ]
  },
  {
   "cell_type": "code",
   "execution_count": 13,
   "metadata": {},
   "outputs": [
    {
     "data": {
      "text/plain": [
       "[['I', 'love', 'huzhiqin'],\n",
       " ['I', 'love', 'liuyifei'],\n",
       " ['I', 'love', 'liangyongqi']]"
      ]
     },
     "execution_count": 13,
     "metadata": {},
     "output_type": "execute_result"
    }
   ],
   "source": [
    "rdd.map(lambda sen: sen.split()).collect()"
   ]
  },
  {
   "cell_type": "code",
   "execution_count": 19,
   "metadata": {},
   "outputs": [
    {
     "data": {
      "text/plain": [
       "['I', 'love', 'huzhiqin', 'I', 'love', 'liuyifei', 'I', 'love', 'liangyongqi']"
      ]
     },
     "execution_count": 19,
     "metadata": {},
     "output_type": "execute_result"
    }
   ],
   "source": [
    "# flatmap = flat（集合中元素扁平化） + map\n",
    "# 先map，再flat压扁\n",
    "rdd.flatMap(lambda sen: sen.split()).collect()"
   ]
  },
  {
   "cell_type": "code",
   "execution_count": 17,
   "metadata": {},
   "outputs": [
    {
     "data": {
      "text/plain": [
       "[('I', 1),\n",
       " ('love', 1),\n",
       " ('huzhiqin', 1),\n",
       " ('I', 1),\n",
       " ('love', 1),\n",
       " ('liuyifei', 1),\n",
       " ('I', 1),\n",
       " ('love', 1),\n",
       " ('liangyongqi', 1)]"
      ]
     },
     "execution_count": 17,
     "metadata": {},
     "output_type": "execute_result"
    }
   ],
   "source": [
    "rdd.flatMap(lambda sen: sen.split()).map(lambda word: (word, 1)).collect()"
   ]
  },
  {
   "cell_type": "code",
   "execution_count": 26,
   "metadata": {},
   "outputs": [
    {
     "data": {
      "text/plain": [
       "[('I', <pyspark.resultiterable.ResultIterable at 0x8cce320>),\n",
       " ('love', <pyspark.resultiterable.ResultIterable at 0x8cce438>),\n",
       " ('liuyifei', <pyspark.resultiterable.ResultIterable at 0x8cce128>),\n",
       " ('huzhiqin', <pyspark.resultiterable.ResultIterable at 0x8ccebe0>),\n",
       " ('liangyongqi', <pyspark.resultiterable.ResultIterable at 0x8cce828>)]"
      ]
     },
     "execution_count": 26,
     "metadata": {},
     "output_type": "execute_result"
    }
   ],
   "source": [
    "rdd.flatMap(lambda sen: sen.split()).map(lambda word: (word, 1)).groupByKey().collect()"
   ]
  },
  {
   "cell_type": "code",
   "execution_count": 27,
   "metadata": {},
   "outputs": [
    {
     "data": {
      "text/plain": [
       "[('I', [1, 1, 1]),\n",
       " ('love', [1, 1, 1]),\n",
       " ('liuyifei', [1]),\n",
       " ('huzhiqin', [1]),\n",
       " ('liangyongqi', [1])]"
      ]
     },
     "execution_count": 27,
     "metadata": {},
     "output_type": "execute_result"
    }
   ],
   "source": [
    "rdd.flatMap(lambda sen: sen.split()).map(lambda word: (word, 1)).groupByKey().mapValues(list).collect()"
   ]
  },
  {
   "cell_type": "code",
   "execution_count": 28,
   "metadata": {},
   "outputs": [
    {
     "data": {
      "text/plain": [
       "[('I', 3), ('love', 3), ('liuyifei', 1), ('huzhiqin', 1), ('liangyongqi', 1)]"
      ]
     },
     "execution_count": 28,
     "metadata": {},
     "output_type": "execute_result"
    }
   ],
   "source": [
    "# reduceByKey = reduce + groupByKey\n",
    "# 先执行groupByKey（按照键分组）， 再执行reduce（按照匿名函数聚合运算）\n",
    "# collect（将运算结果从Spark端拉回Python解释器中）\n",
    "rdd.flatMap(lambda sen: sen.split()).map(lambda word: (word, 1)).reduceByKey(lambda x,y: x+y).collect()"
   ]
  },
  {
   "cell_type": "code",
   "execution_count": null,
   "metadata": {},
   "outputs": [],
   "source": []
  }
 ],
 "metadata": {
  "kernelspec": {
   "display_name": "py27",
   "language": "python",
   "name": "py27"
  },
  "language_info": {
   "codemirror_mode": {
    "name": "ipython",
    "version": 2
   },
   "file_extension": ".py",
   "mimetype": "text/x-python",
   "name": "python",
   "nbconvert_exporter": "python",
   "pygments_lexer": "ipython2",
   "version": "2.7.14"
  }
 },
 "nbformat": 4,
 "nbformat_minor": 2
}
