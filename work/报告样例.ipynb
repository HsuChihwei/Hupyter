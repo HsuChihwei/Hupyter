{
 "cells": [
  {
   "cell_type": "code",
   "execution_count": 10,
   "metadata": {},
   "outputs": [
    {
     "name": "stdout",
     "output_type": "stream",
     "text": [
      "['SID9e07f43176a044ca9b2e9caa58b40ec2', 'SID17a5ddd38e8ed52c2da8ce05220ba87b', 'SID77aefb47bb16acad0fdb24d95dd008a0']\n"
     ]
    }
   ],
   "source": [
    "from mongo_cli import db,MODE,db_dev\n",
    "sid_info = db[\"sid_info\"]\n",
    "res = sid_info.find({'status':0}).sort(\"_id\",-1).limit(3)\n",
    "sid_list = [x.get('sid') for x in res]\n",
    "print(sid_list)"
   ]
  },
  {
   "cell_type": "code",
   "execution_count": 31,
   "metadata": {},
   "outputs": [
    {
     "name": "stdout",
     "output_type": "stream",
     "text": [
      "['SIDffcef201be64453f82beedfa86067113', 'SIDc3d62a1a217c49cb9bf9bdd587d6726e', 'SID1b888921cf6f4d6468509e2e8d9706b1', 'SID46fc8ba682af430bb9ad2f3d778fb3e3']\n",
      "正在插入：SIDffcef201be64453f82beedfa86067113\n",
      "new_sid:SID62732998a51945b79f3649dafbfb14a9\n"
     ]
    },
    {
     "name": "stderr",
     "output_type": "stream",
     "text": [
      "C:\\Users\\Yulore\\AppData\\Local\\conda\\conda\\envs\\py35\\lib\\site-packages\\ipykernel_launcher.py:107: DeprecationWarning: update is deprecated. Use replace_one, update_one or update_many instead.\n",
      "C:\\Users\\Yulore\\AppData\\Local\\conda\\conda\\envs\\py35\\lib\\site-packages\\ipykernel_launcher.py:113: DeprecationWarning: update is deprecated. Use replace_one, update_one or update_many instead.\n",
      "C:\\Users\\Yulore\\AppData\\Local\\conda\\conda\\envs\\py35\\lib\\site-packages\\ipykernel_launcher.py:114: DeprecationWarning: update is deprecated. Use replace_one, update_one or update_many instead.\n"
     ]
    },
    {
     "name": "stdout",
     "output_type": "stream",
     "text": [
      "完成插入\n",
      "正在插入：SIDc3d62a1a217c49cb9bf9bdd587d6726e\n",
      "new_sid:SIDd0580442255d4f2ba23da09b3842795a\n",
      "完成插入\n",
      "正在插入：SID1b888921cf6f4d6468509e2e8d9706b1\n",
      "new_sid:SIDcdd940c508344280bca04a6e8207627e\n",
      "完成插入\n",
      "正在插入：SID46fc8ba682af430bb9ad2f3d778fb3e3\n",
      "new_sid:SIDfe07dd0a9f4e4b158fa19d6d53145f89\n",
      "完成插入\n"
     ]
    }
   ],
   "source": [
    "import pandas as pd\n",
    "import uuid\n",
    "import json\n",
    "def df_to_dict(df):\n",
    "        \"\"\"不保留index\"\"\"\n",
    "        value = df.values.tolist()\n",
    "        title = df.columns.tolist()\n",
    "        return [ dict(zip(title,i)) for i in value]\n",
    "\n",
    "def out_rpt_sid_info():\n",
    "    sid_info = db[\"sid_info\"]\n",
    "    report = db[\"report\"]\n",
    "    #cmcc = sid_info.find({'status': 0, 'tel_info.flow_type': '10086', 'status_report':0},{'sid':1, '_id':0}).sort(\"_id\", -1).limit(10)\n",
    "    #cucc = sid_info.find({'status': 0, 'tel_info.flow_type': '10010', 'status_report':0},{'sid':1, '_id':0}).sort(\"_id\", -1).limit(10)\n",
    "    #ctcc = sid_info.find({'status': 0, 'tel_info.flow_type': '10000', 'status_report':0},{'sid':1, '_id':0}).sort(\"_id\", -1).limit(10)\n",
    "    #sid_list = [x.get('sid') for x in list(cmcc)+list(cucc)+list(ctcc)]\n",
    "    sid_list = []\n",
    "    #for i in ['移动', '联通', '电信']:\n",
    "    for i in ['电信']:\n",
    "        for j,k in enumerate([1,1,1,1]):\n",
    "            tmp = db['report'].find({'cuishou_risk_detection.detection_result':j, \n",
    "#                                      'call_behavior.number_used.telecom': i, \n",
    "                                     'call_log_group_by_tel':{'$exists':True},\n",
    "                                     'user_info.conclusion_of_3_elements_check':{'$exists':False},\n",
    "                                     '$where':'this.call_log_group_by_tel.length<350'}).sort(\"_id\", -1).limit(k)\n",
    "            sid_list += list(tmp)\n",
    "#         print(sid_list)\n",
    "    sid_list = [x.get('sid') for x in sid_list]\n",
    "    #sid_list = [\"SID2bb40e2382f34cfc92f5d8324ac063d8\", \"SIDdd621b2b90de4e7591961c46e8b42798\", \"SIDcc8e21db1f1147788af63845a427e8a8\", \"SIDe50dc7a46a8f4f32ad010ac03a1e9dad\", \"SID93ab6d123a394e0cadc39f790d5622aa\"]\n",
    "    print(sid_list)\n",
    "    pat_tel = lambda x: x[:-4]+'*'*len(x[-4:]) if len(x)>5 else '*'*len(x)\n",
    "    pat_mix = lambda x: x[:1] + '*'*len(x[1:]) if (x and '运营商' not in x) else '***'\n",
    "    pat_open_date = lambda x: str(int(float(x))-86400*30*3) if (x and '运营商' not in x) else '运营商未透露'\n",
    "    for i in sid_list:\n",
    "        print('正在插入：{}'.format(i))\n",
    "        sid_info = db[\"sid_info\"].find_one({'sid':i},{'_id':0, 'job_id':0})\n",
    "        phone = db[\"phone\"].find_one({'sid':i},{'_id':0})\n",
    "        report = db['report'].find_one({'sid':i},{'_id':0})\n",
    "        # 处理sid_info\n",
    "        sid_info['cid'] = '1'\n",
    "        sid = 'SID{}'.format(uuid.uuid4()).replace('-', '') \n",
    "        sid_info['sid'] = sid\n",
    "        print('new_sid:{}'.format(sid))\n",
    "        # 处理phone\n",
    "        phone['sid'] = sid\n",
    "        phone['tel'] = pat_tel(phone.get('tel'))\n",
    "        info = phone.get('info')\n",
    "        open_date = pat_open_date(str(info.get('open_date')))\n",
    "        phone['info']['full_name'] = pat_mix(info.get('full_name'))\n",
    "        phone['info']['id_card'] = pat_mix(info.get('id_card'))\n",
    "        phone['info']['open_date'] = open_date\n",
    "        phone['info']['address'] = pat_mix(info.get('address'))\n",
    "        calls = pd.DataFrame(phone.get('calls'))\n",
    "        calls['tel'] = calls['tel'].map(pat_tel)\n",
    "        calls['call_tel'] = calls['call_tel'].map(pat_tel)\n",
    "        phone['calls'] = df_to_dict(calls)\n",
    "        smses = pd.DataFrame(phone.get('smses'))\n",
    "        smses['peer_number'] = smses['peer_number'].map(pat_tel) if not smses.empty else []\n",
    "        phone['smses'] = df_to_dict(smses)        \n",
    "        # 处理report\n",
    "        tel_info = report.get('tel_info')\n",
    "        if tel_info:\n",
    "            report['tel_info']['full_name'] = pat_mix(tel_info.get('full_name'))\n",
    "            report['tel_info']['id_card'] = pat_mix(tel_info.get('id_card'))\n",
    "            report['tel_info']['open_date'] = open_date\n",
    "            report['tel_info']['innet_months'] = str(int(tel_info.get('innet_months'))+3) if ('运营商' not in tel_info.get('innet_months')) else '运营商未透露'\n",
    "            report['tel_info']['address'] = pat_mix(tel_info.get('address'))\n",
    "            report['tel_info']['tel'] = pat_tel(tel_info.get('tel'))\n",
    "        user_info = report.get('user_info')\n",
    "        if  user_info:\n",
    "            report['user_info']['user_idcard'] = pat_mix(user_info.get('user_idcard'))\n",
    "            report['user_info']['user_address'] = pat_mix(user_info.get('user_address'))\n",
    "            report['user_info']['user_name'] = pat_mix(user_info.get('user_name'))\n",
    "        if user_info.get('user_tel'):\n",
    "            report['user_info']['user_tel'] = pat_mix(user_info.get('user_tel'))\n",
    "        call_by_tel = report.get('call_log_group_by_tel')\n",
    "        if call_by_tel:\n",
    "            [ i.update({'format_tel':pat_tel(i.get('format_tel'))}) for i in call_by_tel]\n",
    "            report['call_log_group_by_tel'] = call_by_tel\n",
    "        contact = report.get('calls_sa_by_major_contact')\n",
    "        if contact:\n",
    "            [ i.update({'format_tel':pat_tel(i.get('format_tel'))}) for i in contact]\n",
    "            report['calls_sa_by_major_contact'] = contact\n",
    "        call_by_length = report.get('calls_sa_by_length')\n",
    "        if call_by_length:\n",
    "            [ i.update({'format_tel':pat_tel(i.get('format_tel'))}) for i in call_by_length]\n",
    "            report['calls_sa_by_length'] = call_by_length\n",
    "        call_by_times = report.get('calls_sa_by_times')\n",
    "        if call_by_times:\n",
    "            [ i.update({'format_tel':pat_tel(i.get('format_tel'))}) for i in call_by_times]\n",
    "            report['calls_sa_by_times'] = call_by_times\n",
    "        mergency_contact = report.get('mergency_contact')\n",
    "        if mergency_contact:\n",
    "            [ i.update({'format_tel':pat_tel(i.get('format_tel')),'contact_name':pat_mix(i.get('contact_name'))}) for i in mergency_contact]\n",
    "            report['mergency_contact'] = mergency_contact\n",
    "        call_behavior = report.get('call_behavior')\n",
    "        if call_behavior:\n",
    "            report['call_behavior']['number_used']['open_date'] = pat_open_date(str(call_behavior.get('number_used').get('open_date')))\n",
    "            number_tags = call_behavior.get('number_tags')\n",
    "            if number_tags:\n",
    "                [ i.update({'tel':pat_tel(i.get('tel'))}) for i in number_tags]\n",
    "                report['call_behavior']['number_tags'] = number_tags\n",
    "        report['sid']=sid\n",
    "        db_dev['report'].delete_many({'sid':sid})\n",
    "        db_dev['call_log'].delete_many({'sid':sid})\n",
    "        db_dev['sid_info'].delete_many({'sid':sid})\n",
    "        db_dev['sid_info'].update({'sid':sid},sid_info, upsert=True)\n",
    "        \n",
    "        with open('files/{}_phone.json'.format(sid), 'w') as fp:\n",
    "            json.dump(phone, fp, indent=4, sort_keys=True)\n",
    "        with open('files/{}_rpt.json'.format(sid), 'w') as fp:\n",
    "            json.dump(report, fp, indent=4, sort_keys=True)\n",
    "        db_dev['phone'].update({'sid':sid}, phone, upsert=True)\n",
    "        db_dev['report'].update({'sid':sid},report, upsert=True)\n",
    "        print(\"完成插入\")\n",
    "\n",
    "out_rpt_sid_info()"
   ]
  }
 ],
 "metadata": {
  "kernelspec": {
   "display_name": "Python 3",
   "language": "python",
   "name": "python3"
  },
  "language_info": {
   "codemirror_mode": {
    "name": "ipython",
    "version": 3
   },
   "file_extension": ".py",
   "mimetype": "text/x-python",
   "name": "python",
   "nbconvert_exporter": "python",
   "pygments_lexer": "ipython3",
   "version": "3.5.4"
  }
 },
 "nbformat": 4,
 "nbformat_minor": 2
}
