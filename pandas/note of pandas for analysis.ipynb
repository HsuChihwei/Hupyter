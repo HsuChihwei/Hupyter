{
 "cells": [
  {
   "cell_type": "code",
   "execution_count": 80,
   "metadata": {},
   "outputs": [
    {
     "name": "stdout",
     "output_type": "stream",
     "text": [
      "{0: 0.4902316917836144, 1: -1.631995785804436, 2: 0.8144026140238444, 3: -0.5752637228813342, 4: 0.5165964537774327, 5: -0.48070348985278333, 6: 0.1246333853855588}\n"
     ]
    }
   ],
   "source": [
    "from numpy.random import randn\n",
    "data = {i : randn() for i in range(7)}\n",
    "print data"
   ]
  },
  {
   "cell_type": "markdown",
   "metadata": {},
   "source": [
    "#### 使用（?）可获取对象的基本信息"
   ]
  },
  {
   "cell_type": "code",
   "execution_count": 81,
   "metadata": {},
   "outputs": [],
   "source": [
    "b = [1, 2, 3]\n",
    "b?"
   ]
  },
  {
   "cell_type": "code",
   "execution_count": 82,
   "metadata": {},
   "outputs": [],
   "source": [
    "def add_numbers(a, b):\n",
    " \"\"\"\n",
    " Add two numbers together\n",
    " Returns\n",
    " -------\n",
    " the_sum : type of arguments\n",
    " \"\"\"\n",
    " return a + b\n",
    "\n",
    "add_numbers?"
   ]
  },
  {
   "cell_type": "markdown",
   "metadata": {},
   "source": [
    "#### 使用（??）可获取对象的基本信息及源码（有的话）"
   ]
  },
  {
   "cell_type": "code",
   "execution_count": 83,
   "metadata": {},
   "outputs": [],
   "source": [
    "add_numbers??"
   ]
  },
  {
   "cell_type": "markdown",
   "metadata": {},
   "source": [
    "#### 使用（?）还能模糊匹配出所有符合通配符表达式（*）的对象"
   ]
  },
  {
   "cell_type": "code",
   "execution_count": 84,
   "metadata": {},
   "outputs": [],
   "source": [
    "import numpy as np\n",
    "np.*load*?"
   ]
  },
  {
   "cell_type": "markdown",
   "metadata": {},
   "source": [
    "#### 使用（%run）可以执行py文件，like：`%run ipython_script_test.py`"
   ]
  },
  {
   "cell_type": "code",
   "execution_count": 85,
   "metadata": {},
   "outputs": [
    {
     "data": {
      "text/plain": [
       "7.5"
      ]
     },
     "execution_count": 85,
     "metadata": {},
     "output_type": "execute_result"
    },
    {
     "data": {
      "text/plain": [
       "<matplotlib.figure.Figure at 0x4defed0>"
      ]
     },
     "metadata": {},
     "output_type": "display_data"
    }
   ],
   "source": [
    "%run ipython_script_test.py\n",
    "c"
   ]
  },
  {
   "cell_type": "code",
   "execution_count": 86,
   "metadata": {},
   "outputs": [
    {
     "data": {
      "text/plain": [
       "1.4666666666666666"
      ]
     },
     "execution_count": 86,
     "metadata": {},
     "output_type": "execute_result"
    }
   ],
   "source": [
    "result"
   ]
  },
  {
   "cell_type": "markdown",
   "metadata": {},
   "source": [
    "#### 使用（%load）可以将文件导入code cell ，like: `%load ipython_script_test.py`"
   ]
  },
  {
   "cell_type": "code",
   "execution_count": 87,
   "metadata": {},
   "outputs": [],
   "source": [
    "# %load ipython_script_test.py\n",
    "def f(x, y, z):\n",
    " return (x + y) / z\n",
    "a = 5\n",
    "b = 6\n",
    "c = 7.5\n",
    "result = f(a, b, c)\n"
   ]
  },
  {
   "cell_type": "markdown",
   "metadata": {},
   "source": [
    "#### 在Ipython中，使用（%paste or %cpaste）可以一次复制一段代码，然后执行（paste直接执行，cpaste更好，有提示，可以检查代码并及时推出）"
   ]
  },
  {
   "cell_type": "markdown",
   "metadata": {},
   "source": [
    "### Keyboard of Ipython\n",
    "|Command| Description|\n",
    "|---|---|\n",
    "|Ctrl-P or up-arrow | Search backward in command history for commands starting with currently entered text|\n",
    "|Ctrl-N or down-arrow | Search forward in command history for commands starting with currently entered text|\n",
    "|Ctrl-R | Readline-style reverse history search (partial matching)|\n",
    "|Ctrl-Shift-V | Paste text from clipboard|\n",
    "|Ctrl-C | Interrupt currently executing code|\n",
    "|Ctrl-A | Move cursor to beginning of line|\n",
    "|Ctrl-E | Move cursor to end of line|\n",
    "|Ctrl-K | Delete text from cursor until end of line|\n",
    "|Ctrl-U | Discard all text on current line|\n",
    "|Ctrl-F | Move cursor forward one character|\n",
    "|Ctrl-B | Move cursor back one character|\n",
    "|Ctrl-L | Clear screen|"
   ]
  },
  {
   "cell_type": "markdown",
   "metadata": {},
   "source": [
    "#### 使用（%timeit）可以计算代码执行所花的时间"
   ]
  },
  {
   "cell_type": "code",
   "execution_count": 88,
   "metadata": {},
   "outputs": [
    {
     "name": "stdout",
     "output_type": "stream",
     "text": [
      "The slowest run took 62.06 times longer than the fastest. This could mean that an intermediate result is being cached.\n",
      "1000 loops, best of 3: 217 µs per loop\n"
     ]
    }
   ],
   "source": [
    "import numpy as np\n",
    "a = np.random.randn(100,100)\n",
    "%timeit np.dot(a,a)"
   ]
  },
  {
   "cell_type": "markdown",
   "metadata": {},
   "source": [
    "#### magic method(%xxxx)也能使用（?）查询用法，like:`%debug?`"
   ]
  },
  {
   "cell_type": "markdown",
   "metadata": {},
   "source": [
    "#### 使用（%pwd）可以查询当前路径，部分magic method 能当对象使用，like:`foo = %pwd`"
   ]
  },
  {
   "cell_type": "code",
   "execution_count": 89,
   "metadata": {},
   "outputs": [
    {
     "data": {
      "text/plain": [
       "u'/home/xuzhiwei/.jupyter/pandas'"
      ]
     },
     "execution_count": 89,
     "metadata": {},
     "output_type": "execute_result"
    }
   ],
   "source": [
    "%pwd"
   ]
  },
  {
   "cell_type": "code",
   "execution_count": 90,
   "metadata": {},
   "outputs": [
    {
     "data": {
      "text/plain": [
       "u'/home/xuzhiwei/.jupyter/pandas'"
      ]
     },
     "execution_count": 90,
     "metadata": {},
     "output_type": "execute_result"
    }
   ],
   "source": [
    "foo = %pwd\n",
    "foo"
   ]
  },
  {
   "cell_type": "markdown",
   "metadata": {},
   "source": [
    "#### 使用（%magic or %quickref）能查到所有magic method"
   ]
  },
  {
   "cell_type": "markdown",
   "metadata": {},
   "source": [
    "#### 常用magic method\n",
    "|Command|Description|\n",
    "|---|---|\n",
    "|%quickref | Display the IPython Quick Reference Card|\n",
    "|%magic | Display detailed documentation for all of the available magic commands|\n",
    "|%debug | Enter the interactive debugger at the bottom of the last exception traceback|\n",
    "|%hist | Print command input (and optionally output) history|\n",
    "|%pdb | Automatically enter debugger after any exception|\n",
    "|%paste | Execute preformatted Python code from clipboard|\n",
    "|%cpaste | Open a special prompt for manually pasting Python code to be executed|\n",
    "|%reset | Delete all variables/names defined in interactive namespace|\n",
    "|%page OBJECT | Pretty-print the object and display it through a pager|\n",
    "|%run script.py | Run a Python script inside IPython|\n",
    "|%prun statement | Execute statement with cProfile and report the profiler output|\n",
    "|%time statement | Report the execution time of a single statement|\n",
    "|%timeit statement | Run a statement multiple times to compute an ensemble average execution time; useful for timing code with very short execution time|\n",
    "|%who, %who_ls, %whos | Display variables defined in interactive namespace, with varying levels of information/verbosity|\n",
    "|%xdel variable | Delete a variable and attempt to clear any references to the object in the IPython internals|"
   ]
  },
  {
   "cell_type": "code",
   "execution_count": 91,
   "metadata": {},
   "outputs": [
    {
     "data": {
      "text/plain": [
       "[<matplotlib.lines.Line2D at 0x52b8d50>]"
      ]
     },
     "execution_count": 91,
     "metadata": {},
     "output_type": "execute_result"
    },
    {
     "data": {
      "image/png": "[encoded data removed]",
      "text/plain": [
       "<matplotlib.figure.Figure at 0x3b14290>"
      ]
     },
     "metadata": {},
     "output_type": "display_data"
    }
   ],
   "source": [
    "%matplotlib inline\n",
    "import matplotlib.pyplot as plt\n",
    "plt.plot(np.random.randn(50).cumsum())"
   ]
  },
  {
   "cell_type": "markdown",
   "metadata": {},
   "source": [
    "#### 参数传值传引，Python中除了一些基本的数字、string类型为传值，其余带结构的如dict、list、object and so on 都是传引用（reference）"
   ]
  },
  {
   "cell_type": "code",
   "execution_count": 92,
   "metadata": {},
   "outputs": [
    {
     "data": {
      "text/plain": [
       "[1, 2, 3, 4]"
      ]
     },
     "execution_count": 92,
     "metadata": {},
     "output_type": "execute_result"
    }
   ],
   "source": [
    "def append_element(some_list, element):\n",
    "    some_list.append(element)\n",
    "data = [1,2,3]\n",
    "append_element(data, 4)\n",
    "data"
   ]
  },
  {
   "cell_type": "markdown",
   "metadata": {},
   "source": [
    "#### Python 是动态引用，但是，它是有类型的，类型存在对象自己的内部，变量的类型能随引用的对象随时发生变化，变量就是一个对象的“name”，也仅仅只是一个“name”，现在我是dict，马上我就能变成list，类型一直在对象内部，不变的；所以说它是“Dynamic references，strong types”"
   ]
  },
  {
   "cell_type": "code",
   "execution_count": 93,
   "metadata": {},
   "outputs": [
    {
     "name": "stdout",
     "output_type": "stream",
     "text": [
      "<type 'int'>\n",
      "<type 'str'>\n",
      "<type 'int'>\n",
      "<type 'str'>\n"
     ]
    }
   ],
   "source": [
    "a = 5\n",
    "print type(a)\n",
    "a = 'foo'\n",
    "print type(a)\n",
    "print type(5)\n",
    "print type('foo')"
   ]
  },
  {
   "cell_type": "markdown",
   "metadata": {},
   "source": [
    "#### 可以使用（isinstance）判断一个对象的类型，like：`isinstance(5, int)`"
   ]
  },
  {
   "cell_type": "code",
   "execution_count": 94,
   "metadata": {},
   "outputs": [
    {
     "name": "stdout",
     "output_type": "stream",
     "text": [
      "True\n",
      "True\n",
      "True\n"
     ]
    }
   ],
   "source": [
    "a=5\n",
    "print isinstance(a, int)\n",
    "a = 5; b = 4.5\n",
    "print isinstance(a, (int, float))\n",
    "print isinstance(b, (int, float))"
   ]
  },
  {
   "cell_type": "code",
   "execution_count": 95,
   "metadata": {},
   "outputs": [
    {
     "data": {
      "text/plain": [
       "<function split>"
      ]
     },
     "execution_count": 95,
     "metadata": {},
     "output_type": "execute_result"
    }
   ],
   "source": [
    "a = 'foo'\n",
    "getattr(a, 'split')"
   ]
  },
  {
   "cell_type": "code",
   "execution_count": 96,
   "metadata": {},
   "outputs": [
    {
     "name": "stdout",
     "output_type": "stream",
     "text": [
      "26254519291092456596965462913230729701102721\n",
      "7.243 6.78e-05\n",
      "1\n",
      "1\n"
     ]
    }
   ],
   "source": [
    "ival = 17239871\n",
    "print ival ** 6\n",
    "fval = 7.243\n",
    "fval2 = 6.78e-5\n",
    "print fval, fval2\n",
    "print 3/2\n",
    "print 3//2"
   ]
  },
  {
   "cell_type": "markdown",
   "metadata": {},
   "source": [
    "#### `is`和`==` 区别：\n",
    "> `is`: 比对象；找门牌号；判断两个量（变量、常量）的指针是否相等；`for reference equality. Use it when you would like to know if two references refer to the same object.`；`if two variables point to the same object.`；\n",
    "\n",
    "> `==`：比值；先找门牌号，再找门内的值；判断两个量（变量、常量）的内存单元是否相等；`for value equality. Use it when you would like to know if two objects have the same value.`；`if the objects referred to by the variables are equal.`；\n",
    "\n",
    "> - `is`执行速度快于`==`（多了一步）；\n",
    "\n",
    "> - 指针相等值一定相等，值相等指针不一定相等；\n",
    "\n",
    "> - Python对象有三种属性：id、value、type，不同对象实例的id一定不同，可以把id看做是和内存地址一一对应的；而value只是检查两个变量的内容是否相等；\n",
    "\n",
    "> - Python 缓存范围：[-5, 256]；此范围的int 为单例模式，只有一个实例；\n",
    "\n",
    "> - Python 中None是唯一的；\n",
    "\n",
    "> - `==`由`__eq__()`方法决定，`__eq__()`方法可以自定义，`is`不可以被定制；\n",
    "\n",
    "> - python intern机制：值相同的字符串对象只会保留一份，共用，只有包含下划线、数字、字母的字符串才会采用intern机制；\n",
    "\n",
    "> - 拼接多字符串的时候不建议用`+`而用join()；\n",
    "\n",
    "> - Python 定义方法，一般都是传引用，而不是传值；\n",
    "\n",
    "> - 使用intern()可以显式对任何字符串进行intern；"
   ]
  },
  {
   "cell_type": "code",
   "execution_count": 97,
   "metadata": {},
   "outputs": [
    {
     "name": "stdout",
     "output_type": "stream",
     "text": [
      "True\n",
      "True\n",
      "True\n",
      "False\n",
      "True\n"
     ]
    }
   ],
   "source": [
    "a = [1, 2, 3]\n",
    "b = a\n",
    "c = list(a) # list create a new Python list(a copy)\n",
    "print a is b\n",
    "print a is not c\n",
    "print a == c\n",
    "b = a[:] # a new copy\n",
    "print b is a\n",
    "print b == a"
   ]
  },
  {
   "cell_type": "code",
   "execution_count": 98,
   "metadata": {},
   "outputs": [
    {
     "name": "stdout",
     "output_type": "stream",
     "text": [
      "False\n",
      "True\n",
      "86744384\n",
      "87007744\n"
     ]
    }
   ],
   "source": [
    "foo = [1]\n",
    "bar = [1]\n",
    "print foo is bar # foo、bar不是同一个对象，两个引用，指向不同的地址空间，而内容是相等的；\n",
    "print foo == bar # foo、bar的值相等\n",
    "print id(foo)\n",
    "print id(bar)"
   ]
  },
  {
   "cell_type": "code",
   "execution_count": 99,
   "metadata": {},
   "outputs": [
    {
     "name": "stdout",
     "output_type": "stream",
     "text": [
      "False\n",
      "True\n",
      "False\n",
      "True\n",
      "True\n",
      "False\n"
     ]
    }
   ],
   "source": [
    "# python 内存管理，缓存[-5, 256]的对象\n",
    "foo = 257\n",
    "print foo is 257\n",
    "foo = 256\n",
    "print foo is 256\n",
    "bar = -6\n",
    "print bar is -6\n",
    "bar = -5\n",
    "print bar is -5\n",
    "print -5 is -6 + 1\n",
    "print -6 is -7 + 1"
   ]
  },
  {
   "cell_type": "code",
   "execution_count": 100,
   "metadata": {},
   "outputs": [
    {
     "name": "stdout",
     "output_type": "stream",
     "text": [
      "True\n",
      "True\n"
     ]
    }
   ],
   "source": [
    "print None is None # 永远为True\n",
    "print None == None "
   ]
  },
  {
   "cell_type": "code",
   "execution_count": 101,
   "metadata": {},
   "outputs": [
    {
     "name": "stdout",
     "output_type": "stream",
     "text": [
      "True\n",
      "False\n"
     ]
    }
   ],
   "source": [
    "class Foo(object):\n",
    "    def __eq__(self, other): # 自定义__eq__方法，固定返回True\n",
    "        return True\n",
    "f = Foo()\n",
    "print f == None # `==`右侧为任何值，结果均为True\n",
    "print f is None"
   ]
  },
  {
   "cell_type": "code",
   "execution_count": 102,
   "metadata": {},
   "outputs": [
    {
     "name": "stdout",
     "output_type": "stream",
     "text": [
      "True\n",
      "True\n",
      "True\n",
      "True\n",
      "False\n",
      "True\n",
      "86858656 86857936\n",
      "False\n",
      "True\n",
      "False True\n",
      "87008248 87008968\n",
      "True\n",
      "True\n",
      "True\n",
      "False\n",
      "True\n",
      "86858464 86949160 86858944\n"
     ]
    }
   ],
   "source": [
    "# intern机制\n",
    "a = b = \"str\"\n",
    "print a is b\n",
    "print a == b\n",
    "a = \"good_\"\n",
    "b = \"good_\"\n",
    "print a is b\n",
    "print a == b\n",
    "# &不属于intern范围内，不采用intern机制\n",
    "a = \"good&\"\n",
    "b = \"good&\"\n",
    "print a is b\n",
    "print a == b\n",
    "print id(a),id(b)\n",
    "# list,turple, dict, set等数据结构都是另开存储单元, 也没有intern机制\n",
    "a = []\n",
    "b = []\n",
    "print a is b\n",
    "print a == b\n",
    "print [] is [], [] == []\n",
    "print id(a),id(b)\n",
    "# intern 机制,b是运算结果\"str\"存入存储单元，结果与a变量相同，被intern了；\n",
    "a = \"str\"\n",
    "b = \"st\" + \"r\"\n",
    "print a is b\n",
    "print a == b\n",
    "print \"str\" is \"st\"+\"r\"\n",
    "# 比较之前，a,b已经定义好并分配了存储单元，所以指针一定是不同的\n",
    "a = \"good\"\n",
    "b = \"goo\"\n",
    "print a is b + \"d\"\n",
    "print a == b + \"d\"\n",
    "print id(a),id(b),id(b+\"d\")"
   ]
  },
  {
   "cell_type": "code",
   "execution_count": 103,
   "metadata": {},
   "outputs": [
    {
     "name": "stdout",
     "output_type": "stream",
     "text": [
      "nan\n",
      "False\n",
      "True\n",
      "inf\n",
      "True\n",
      "True\n"
     ]
    }
   ],
   "source": [
    "# 特例：nan是数字中的空NAN，inf是数字中的无穷大，他们在内存中占用固定的存储单元\n",
    "a = float(\"nan\")\n",
    "print a\n",
    "print a == a\n",
    "print a is a\n",
    "b = float('inf')\n",
    "print b\n",
    "print b == b\n",
    "print b is b"
   ]
  },
  {
   "cell_type": "code",
   "execution_count": 104,
   "metadata": {},
   "outputs": [
    {
     "name": "stdout",
     "output_type": "stream",
     "text": [
      "hello world!\n"
     ]
    }
   ],
   "source": [
    "# join()是先计算出所有字符串的长度，然后一一拷贝，只new一次对象， 分配一次内存。\n",
    "# `+`如果我们用N个string进行拼接，则我们需要进行N-1次的内存访问和内存搬运\n",
    "a = \"\".join([\"hello\", \" \", \"world\", \"!\"])\n",
    "print a"
   ]
  },
  {
   "cell_type": "code",
   "execution_count": 105,
   "metadata": {},
   "outputs": [
    {
     "name": "stdout",
     "output_type": "stream",
     "text": [
      "84278168\n",
      "84278168\n"
     ]
    }
   ],
   "source": [
    "# 门牌号是一致的，方法里传的是引用不是传值\n",
    "a = \"go&\" # 有&，不会被intern\n",
    "print id(a)\n",
    "def out(a):\n",
    "    print id(a)\n",
    "    \n",
    "out(a)"
   ]
  },
  {
   "cell_type": "code",
   "execution_count": 106,
   "metadata": {},
   "outputs": [
    {
     "name": "stdout",
     "output_type": "stream",
     "text": [
      "True\n",
      "True\n"
     ]
    }
   ],
   "source": [
    "# intern()\n",
    "a = intern('good&')\n",
    "b = intern('good&')\n",
    "print a is b\n",
    "print a == b"
   ]
  },
  {
   "cell_type": "markdown",
   "metadata": {},
   "source": [
    "#### 多行`string`中的换行符（`line breaks`）：在`\"\"\"`之后、每行结束均有一个换行符"
   ]
  },
  {
   "cell_type": "code",
   "execution_count": 107,
   "metadata": {},
   "outputs": [
    {
     "data": {
      "text/plain": [
       "3"
      ]
     },
     "execution_count": 107,
     "metadata": {},
     "output_type": "execute_result"
    }
   ],
   "source": [
    "# 这个例子中换行符有3个，共占4行\n",
    "c=\"\"\"\n",
    "This is a longer string that\n",
    "spans multiple lines\n",
    "\"\"\"\n",
    "c.count('\\n')"
   ]
  },
  {
   "cell_type": "markdown",
   "metadata": {},
   "source": [
    "#### `string`其实是一个Unicode字符的数组，所以，可以当作`list`、`tuple`等来对待，如：切片（slicing）"
   ]
  },
  {
   "cell_type": "code",
   "execution_count": 108,
   "metadata": {},
   "outputs": [
    {
     "name": "stdout",
     "output_type": "stream",
     "text": [
      "['P', 'y', 't', 'h', 'o', 'n']\n",
      "Pyt\n"
     ]
    }
   ],
   "source": [
    "s = \"Python\"\n",
    "print list(s)\n",
    "print s[:3] # this can be called slicing"
   ]
  },
  {
   "cell_type": "markdown",
   "metadata": {},
   "source": [
    "#### 转义字符（escape character）：使用`\\`(backslash)，如：`\\n`"
   ]
  },
  {
   "cell_type": "code",
   "execution_count": 109,
   "metadata": {},
   "outputs": [
    {
     "name": "stdout",
     "output_type": "stream",
     "text": [
      "12\\34\n"
     ]
    }
   ],
   "source": [
    "s = '12\\\\34'\n",
    "print(s)"
   ]
  },
  {
   "cell_type": "markdown",
   "metadata": {},
   "source": [
    "#### 批量转义（`r''`）：在字符串前面添加`r`"
   ]
  },
  {
   "cell_type": "code",
   "execution_count": 110,
   "metadata": {},
   "outputs": [
    {
     "data": {
      "text/plain": [
       "'this\\\\has\\\\no\\\\special\\\\characters'"
      ]
     },
     "execution_count": 110,
     "metadata": {},
     "output_type": "execute_result"
    }
   ],
   "source": [
    "s = r'this\\has\\no\\special\\characters'\n",
    "s"
   ]
  },
  {
   "cell_type": "markdown",
   "metadata": {},
   "source": [
    "#### 字符串格式化（`format`）"
   ]
  },
  {
   "cell_type": "code",
   "execution_count": 111,
   "metadata": {},
   "outputs": [
    {
     "data": {
      "text/plain": [
       "'4.56 Argentine Pesos are worth US$1'"
      ]
     },
     "execution_count": 111,
     "metadata": {},
     "output_type": "execute_result"
    }
   ],
   "source": [
    "template = '{0:.2f} {1:s} are worth US${2:d}'.format(4.5560, 'Argentine Pesos', 1)\n",
    "template"
   ]
  },
  {
   "cell_type": "markdown",
   "metadata": {},
   "source": [
    "#### 类型转换（`Type casting`）"
   ]
  },
  {
   "cell_type": "code",
   "execution_count": 112,
   "metadata": {},
   "outputs": [
    {
     "name": "stdout",
     "output_type": "stream",
     "text": [
      "3.1415926 <type 'float'>\n",
      "3\n",
      "True\n",
      "False\n"
     ]
    }
   ],
   "source": [
    "s = '3.1415926'\n",
    "fval = float(s)\n",
    "print fval, type(fval)\n",
    "print int(fval)\n",
    "print bool(fval)\n",
    "print bool(0)"
   ]
  },
  {
   "cell_type": "markdown",
   "metadata": {},
   "source": [
    "#### `None`不仅仅是一个关键字，而且是`NoneType`的唯一实例\n",
    "> - 一个`function`如果没有返回值，默认返回`None`；\n",
    "> - `None`经常作为一个`function`的默认值； "
   ]
  },
  {
   "cell_type": "code",
   "execution_count": 113,
   "metadata": {},
   "outputs": [
    {
     "name": "stdout",
     "output_type": "stream",
     "text": [
      "True\n",
      "True\n",
      "7 35\n",
      "<type 'NoneType'>\n"
     ]
    }
   ],
   "source": [
    "a = None\n",
    "print a is None\n",
    "b = 5\n",
    "print b is not None\n",
    "\n",
    "def add_and_maybe_multiply(a, b, c=None):\n",
    "    result = a + b\n",
    "    if c is not None:\n",
    "        result = result * c\n",
    "    return result\n",
    "\n",
    "print add_and_maybe_multiply(3,4), add_and_maybe_multiply(3, 4, 5)\n",
    "\n",
    "print type(None)"
   ]
  },
  {
   "cell_type": "markdown",
   "metadata": {},
   "source": [
    "#### 日期及时间\n",
    "> - In Python ,内建模块`datetime`，有三种类型：`datetime`、`date`、`time`；\n",
    "> - `datetime`转`string`，用`strftime`；`string`转`datetime`用`strptime`；"
   ]
  },
  {
   "cell_type": "code",
   "execution_count": 114,
   "metadata": {},
   "outputs": [
    {
     "name": "stdout",
     "output_type": "stream",
     "text": [
      "29 30\n"
     ]
    },
    {
     "data": {
      "text/plain": [
       "datetime.date(2011, 10, 29)"
      ]
     },
     "execution_count": 114,
     "metadata": {},
     "output_type": "execute_result"
    }
   ],
   "source": [
    "from datetime import datetime, date, time\n",
    "dt = datetime(2011, 10, 29, 20, 30, 21)\n",
    "print dt.day, dt.minute\n",
    "dt.date()"
   ]
  },
  {
   "cell_type": "code",
   "execution_count": 115,
   "metadata": {},
   "outputs": [
    {
     "data": {
      "text/plain": [
       "datetime.time(20, 30, 21)"
      ]
     },
     "execution_count": 115,
     "metadata": {},
     "output_type": "execute_result"
    }
   ],
   "source": [
    "dt.time()"
   ]
  },
  {
   "cell_type": "code",
   "execution_count": 116,
   "metadata": {},
   "outputs": [
    {
     "name": "stdout",
     "output_type": "stream",
     "text": [
      "10/29/2011 20:30\n"
     ]
    },
    {
     "data": {
      "text/plain": [
       "datetime.datetime(2009, 10, 31, 0, 0)"
      ]
     },
     "execution_count": 116,
     "metadata": {},
     "output_type": "execute_result"
    }
   ],
   "source": [
    "print dt.strftime('%m/%d/%Y %H:%M')\n",
    "datetime.strptime('20091031', '%Y%m%d')"
   ]
  },
  {
   "cell_type": "code",
   "execution_count": 117,
   "metadata": {},
   "outputs": [
    {
     "data": {
      "text/plain": [
       "datetime.datetime(2011, 10, 29, 20, 0)"
      ]
     },
     "execution_count": 117,
     "metadata": {},
     "output_type": "execute_result"
    }
   ],
   "source": [
    "dt.replace(minute=0, second=0)"
   ]
  },
  {
   "cell_type": "code",
   "execution_count": 118,
   "metadata": {},
   "outputs": [
    {
     "name": "stdout",
     "output_type": "stream",
     "text": [
      "<type 'datetime.timedelta'>\n"
     ]
    },
    {
     "data": {
      "text/plain": [
       "datetime.timedelta(17, 7179)"
      ]
     },
     "execution_count": 118,
     "metadata": {},
     "output_type": "execute_result"
    }
   ],
   "source": [
    "dt2 = datetime(2011, 11, 15, 22, 30)\n",
    "delta = dt2 -dt\n",
    "print type(delta)\n",
    "delta"
   ]
  },
  {
   "cell_type": "code",
   "execution_count": 119,
   "metadata": {},
   "outputs": [
    {
     "data": {
      "text/plain": [
       "datetime.datetime(2011, 10, 29, 20, 30, 21)"
      ]
     },
     "execution_count": 119,
     "metadata": {},
     "output_type": "execute_result"
    }
   ],
   "source": [
    "dt"
   ]
  },
  {
   "cell_type": "code",
   "execution_count": 120,
   "metadata": {},
   "outputs": [
    {
     "data": {
      "text/plain": [
       "datetime.datetime(2011, 11, 15, 22, 30)"
      ]
     },
     "execution_count": 120,
     "metadata": {},
     "output_type": "execute_result"
    }
   ],
   "source": [
    "dt + delta"
   ]
  },
  {
   "cell_type": "markdown",
   "metadata": {},
   "source": [
    "#### 对于`and`，`or`：从左往右进行评估，成功就返回，不在往后执行"
   ]
  },
  {
   "cell_type": "code",
   "execution_count": 121,
   "metadata": {},
   "outputs": [
    {
     "name": "stdout",
     "output_type": "stream",
     "text": [
      "bingo\n"
     ]
    }
   ],
   "source": [
    "a = 5; b = 7; c = 8; d = 4\n",
    "if a < b or c > d:  # `c > d` 永远不会执行，因为前面第一个比较就成功了\n",
    "    print 'bingo'"
   ]
  },
  {
   "cell_type": "markdown",
   "metadata": {},
   "source": [
    "#### `for`循环：\n",
    "> - `continue`:跳过本次循环；\n",
    "> - `break`:跳过本层循环（最内部的一层）；\n",
    "> - 如果循环体元素为序列（tuple、list），可以直接展开；"
   ]
  },
  {
   "cell_type": "code",
   "execution_count": 122,
   "metadata": {},
   "outputs": [],
   "source": [
    "iterator = [(1, 3, 5),[1, 3, 5]]\n",
    "for a, b, c in iterator:\n",
    "    # do something\n",
    "    pass"
   ]
  },
  {
   "cell_type": "markdown",
   "metadata": {},
   "source": [
    "#### 三元表达式（Ternary expressions），like：`value = true-expr if condition else false-expr`"
   ]
  },
  {
   "cell_type": "code",
   "execution_count": 123,
   "metadata": {},
   "outputs": [
    {
     "data": {
      "text/plain": [
       "'Non-negative'"
      ]
     },
     "execution_count": 123,
     "metadata": {},
     "output_type": "execute_result"
    }
   ],
   "source": [
    "x = 5\n",
    "'Non-negative' if x >= 0 else 'Negative'"
   ]
  },
  {
   "cell_type": "code",
   "execution_count": 124,
   "metadata": {},
   "outputs": [
    {
     "name": "stdout",
     "output_type": "stream",
     "text": [
      "83622800\n"
     ]
    },
    {
     "data": {
      "text/plain": [
       "81613240"
      ]
     },
     "execution_count": 124,
     "metadata": {},
     "output_type": "execute_result"
    }
   ],
   "source": [
    "('foo', 'bar') * 4\n",
    "print id(('foo', 'bar') * 4)\n",
    "id(('foo', 'bar'))"
   ]
  },
  {
   "cell_type": "markdown",
   "metadata": {},
   "source": [
    "#### 元组（Unpacking tuples）: Python 会对元组进行解操作，方便变量交换、迭代，还可以用在函数返回多值的情况"
   ]
  },
  {
   "cell_type": "code",
   "execution_count": 125,
   "metadata": {},
   "outputs": [
    {
     "name": "stdout",
     "output_type": "stream",
     "text": [
      "4 5 6\n",
      "4 5 6 7\n",
      "2 1\n",
      "a=1, b=2, c=3\n",
      "a=4, b=5, c=6\n",
      "a=7, b=8, c=9\n",
      "5\n"
     ]
    }
   ],
   "source": [
    "tup = (4,5,6)\n",
    "a, b, c =tup\n",
    "print a, b, c\n",
    "tup = 4,5,(6,7)\n",
    "a,b,(c,d) =tup\n",
    "print a,b,c,d \n",
    "a,b = 1,2\n",
    "b,a = a,b\n",
    "print a,b\n",
    "seq = [(1,2,3),(4,5,6),(7,8,9)]\n",
    "for a,b,c in seq:\n",
    "    print 'a={0}, b={1}, c={2}'.format(a,b,c)\n",
    "\n",
    "# values = 1,2,3,4,5\n",
    "# print values, type(values)\n",
    "# a,b, *rest = values # available in Python 3.x  # rest 没有任何意义，可以用`_`替换\n",
    "# print values, a, b, rest\n",
    "\n",
    "# Ignore a value when unpacking\n",
    "x, _, y = (1, 2, 3) # x = 1, y = 3 \n",
    "# Ignore the multiple values. It is called \"Extended Unpacking\" which is available in only Python 3.x\n",
    "# x, *_, y = (1, 2, 3, 4, 5) # x = 1, y = 5  \n",
    "# Ignore the index\n",
    "for _ in range(10):     \n",
    "    #do_something()\n",
    "    pass\n",
    "# Ignore a value of specific location\n",
    "for each, _, val in seq:\n",
    "    #do_something()\n",
    "    pass\n",
    "\n",
    "a = (1, 2, 3, 2, 2, 2, 5, 3, 2)\n",
    "print a.count(2) # 统计元组中元素出现的次数"
   ]
  },
  {
   "cell_type": "markdown",
   "metadata": {},
   "source": [
    "#### 列表（list）：\n",
    "> - `append`: 列表最后追加元素；\n",
    "> - `insert`: 指定位置添加元素，位置：[0,len(list)]；\n",
    "> - `pop`: 抛出并返回指定位置的元素，默认最后一个；\n",
    "> - `remove`: 删除列表中被删元素第一次出现的那个元素；\n",
    "> - `insert`比`append`慢：因为`insert`需要内部移动元素给新元素；\n",
    "> - 判断一个`list`是否包含一个值比在`dict`、`set`中要慢很多：因为`list`中是线性搜索，而`dict`、`set`是依靠哈希表（`hash tables`）实现的;\n",
    "> - `extend`: 合并列表，将两个列表合并（也可以使用`+`，但是会消费更多，因为会创建新`list`，并复制对象，所以，`a large list`使用`extend`更好）所以：\n",
    "\n",
    "```python\n",
    "everything = []\n",
    "for chunk in list_of_lists:\n",
    "    everything.extend(chunk)\n",
    "    \n",
    "everything = []\n",
    "for chunk in list_of_lists:\n",
    "    everything = everything + chunk\n",
    "# 上面会比下面的快\n",
    "```"
   ]
  },
  {
   "cell_type": "code",
   "execution_count": 126,
   "metadata": {},
   "outputs": [
    {
     "name": "stdout",
     "output_type": "stream",
     "text": [
      "None\n",
      "['foo', 'peekaboo', 'baz', 'dwarf']\n",
      "None\n",
      "['foo', 'red', 'peekaboo', 'baz', 'dwarf']\n",
      "peekaboo\n",
      "['foo', 'red', 'baz', 'dwarf']\n",
      "dwarf\n",
      "['foo', 'red', 'baz']\n",
      "None\n",
      "['foo', 'red', 'baz', 'foo']\n",
      "None\n",
      "['red', 'baz', 'foo']\n",
      "None\n",
      "['red', 'baz', 'foo', 3, 4, (7, 9)]\n"
     ]
    }
   ],
   "source": [
    "b_list = ['foo', 'peekaboo', 'baz']\n",
    "print b_list.append('dwarf')\n",
    "print b_list\n",
    "print b_list.insert(1, 'red')\n",
    "print b_list\n",
    "print b_list.pop(2)\n",
    "print b_list\n",
    "print b_list.pop()\n",
    "print b_list\n",
    "print b_list.append('foo')\n",
    "print b_list\n",
    "print b_list.remove('foo')\n",
    "print b_list\n",
    "print b_list.extend([3, 4, (7, 9)])\n",
    "print b_list"
   ]
  },
  {
   "cell_type": "markdown",
   "metadata": {},
   "source": [
    "#### `list` 中的`sort`与`sorted`：\n",
    "> - `sort`: 给列表本身进行排序，创建新对象；\n",
    "> - `sorted`: 给列表排序，创建新对象，能给任何数列类型排序（`list`, `string`）；"
   ]
  },
  {
   "cell_type": "code",
   "execution_count": 127,
   "metadata": {},
   "outputs": [
    {
     "name": "stdout",
     "output_type": "stream",
     "text": [
      "[7, 4, 5, 6, 1] 86838160 None [1, 4, 5, 6, 7] 86838160\n",
      "['saw', 'small', 'He', 'foxes', 'six'] 86820552 None ['He', 'saw', 'six', 'small', 'foxes'] 86820552\n",
      "[0, 1, 2, 2, 3, 6, 7]\n",
      "[' ', 'a', 'c', 'e', 'e', 'h', 'o', 'r', 'r', 's']\n"
     ]
    }
   ],
   "source": [
    "a = [7, 4, 5, 6, 1]\n",
    "print a, id(a), a.sort(), a, id(a)\n",
    "b = ['saw', 'small', 'He', 'foxes', 'six']\n",
    "print b, id(b), b.sort(key=len), b, id(b)\n",
    "print sorted([7, 1, 2, 6, 0, 3, 2])\n",
    "print sorted('horse race')"
   ]
  },
  {
   "cell_type": "markdown",
   "metadata": {},
   "source": [
    "#### `list`中的`bisect`:\n",
    "> - `bisect`模块：内建模块，执行二进位搜索并将值插入一个已排序list；\n",
    "> - `bisect.bisect`: 找到元素按顺序需要插入的位置；\n",
    "> - `bisect.insort`: 将值插入那个位置；\n",
    "> - `bisect`不检查这个list是否是已排序的，插入也能成功但不保证能得到正确的结果；"
   ]
  },
  {
   "cell_type": "code",
   "execution_count": 128,
   "metadata": {},
   "outputs": [
    {
     "name": "stdout",
     "output_type": "stream",
     "text": [
      "4\n",
      "6\n",
      "6\n",
      "[1, 2, 2, 2, 3, 4, 6, 7]\n",
      "2\n",
      "[5, 3, 6, 7, 9, 1]\n"
     ]
    }
   ],
   "source": [
    "import bisect\n",
    "c = [1, 2, 2, 2, 3, 4, 7]\n",
    "print bisect.bisect(c, 2)\n",
    "print bisect.bisect(c, 5)\n",
    "print bisect.bisect(c, 6)\n",
    "bisect.insort(c, 6)\n",
    "print c\n",
    "d = [5, 3, 7, 9, 1]\n",
    "print bisect.bisect(d, 6)\n",
    "bisect.insort(d, 6)\n",
    "print d"
   ]
  },
  {
   "cell_type": "markdown",
   "metadata": {},
   "source": [
    "#### `list`中的`slicing`: 切片、复制、挑选、反转"
   ]
  },
  {
   "cell_type": "code",
   "execution_count": 129,
   "metadata": {},
   "outputs": [
    {
     "name": "stdout",
     "output_type": "stream",
     "text": [
      "[2, 3, 7, 5]\n",
      "[7, 2, 3, 6, 3, 5, 6, 0, 1]\n",
      "[7, 2, 3, 6, 3]\n",
      "[6, 3, 5, 6, 0, 1]\n",
      "[5, 6, 0, 1]\n",
      "[6, 3, 5, 6]\n",
      "[7, 3, 3, 6, 1]\n",
      "[1, 0, 6, 5, 3, 6, 3, 2, 7]\n"
     ]
    }
   ],
   "source": [
    "seq = [7, 2, 3, 7, 5, 6, 0, 1]\n",
    "print seq[1:5]\n",
    "seq[3:4] = [6, 3]\n",
    "print seq\n",
    "print seq[:5]\n",
    "print seq[3:]\n",
    "print seq[-4:]\n",
    "print seq[-6:-2]\n",
    "print seq[::2]\n",
    "print seq[::-1]"
   ]
  },
  {
   "cell_type": "markdown",
   "metadata": {},
   "source": [
    "#### `enumerate`: 用在循环遍历时，返回当前索引：\n",
    "```python\n",
    "for i, value in enumerate(collection):\n",
    "    # do something with value\n",
    "    pass\n",
    "```"
   ]
  },
  {
   "cell_type": "code",
   "execution_count": 130,
   "metadata": {},
   "outputs": [
    {
     "name": "stdout",
     "output_type": "stream",
     "text": [
      "0 foo\n",
      "1 bar\n",
      "2 baz\n"
     ]
    }
   ],
   "source": [
    "collection = ['foo', 'bar', 'baz']\n",
    "for i, value in enumerate(collection):\n",
    "    # do something with value\n",
    "    print i, value"
   ]
  }
 ],
 "metadata": {
  "kernelspec": {
   "display_name": "Python 2",
   "language": "python",
   "name": "python2"
  },
  "language_info": {
   "codemirror_mode": {
    "name": "ipython",
    "version": 2
   },
   "file_extension": ".py",
   "mimetype": "text/x-python",
   "name": "python",
   "nbconvert_exporter": "python",
   "pygments_lexer": "ipython2",
   "version": "2.7.5"
  }
 },
 "nbformat": 4,
 "nbformat_minor": 2
}
